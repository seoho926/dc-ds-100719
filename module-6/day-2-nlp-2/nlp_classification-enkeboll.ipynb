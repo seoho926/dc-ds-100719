{
 "cells": [
  {
   "cell_type": "code",
   "execution_count": 8,
   "metadata": {},
   "outputs": [],
   "source": [
    "import re\n",
    "import time\n",
    "\n",
    "import numpy as np\n",
    "import pandas as pd\n",
    "import requests"
   ]
  },
  {
   "cell_type": "code",
   "execution_count": 9,
   "metadata": {},
   "outputs": [],
   "source": [
    "# !pip3 install progressbar2\n",
    "from progressbar import progressbar"
   ]
  },
  {
   "cell_type": "markdown",
   "metadata": {},
   "source": [
    "## Scraping"
   ]
  },
  {
   "cell_type": "markdown",
   "metadata": {},
   "source": [
    "### Scraping Functions"
   ]
  },
  {
   "cell_type": "code",
   "execution_count": 10,
   "metadata": {},
   "outputs": [],
   "source": [
    "# function to scrape reddit page (takes a reddit .json url)\n",
    "# returns posts \n",
    "\n",
    "def scraper_bike(url):\n",
    "    headers = {'User-Agent' : 'override this bad boy!'}\n",
    "    posts = []\n",
    "    after = {}\n",
    "\n",
    "    for page in progressbar(range(40)):\n",
    "        params = {'after': after}\n",
    "        pagepull = requests.get(url=url, params=params, headers=headers)\n",
    "        page_dict = pagepull.json()\n",
    "        posts.extend(page_dict['data']['children'])\n",
    "        after = page_dict['data']['after']\n",
    "        time.sleep(.2)\n",
    "        \n",
    "    return posts"
   ]
  },
  {
   "cell_type": "code",
   "execution_count": 11,
   "metadata": {},
   "outputs": [],
   "source": [
    "# function to convert posts to DataFrame - won't allow duplicate posts since unique id 'name' is set as index\n",
    "# Extract: name (as index) and subreddit, selftext, title (as columns)\n",
    "\n",
    "def posts_to_df(post_list):\n",
    "    i = 0\n",
    "    post_dict = {}\n",
    "    \n",
    "    for post in post_list:\n",
    "        ind = post_list[i]['data']\n",
    "        post_dict[ind['name']] = [ind['subreddit'], ind['title'], ind['selftext']]\n",
    "        i += 1\n",
    "\n",
    "    df_name = pd.DataFrame(post_dict)\n",
    "    df_name = df_name.T\n",
    "    df_name.columns = ['subreddit', 'title', 'selftext']\n",
    "    \n",
    "    return df_name"
   ]
  },
  {
   "cell_type": "code",
   "execution_count": 12,
   "metadata": {},
   "outputs": [],
   "source": [
    "# takes scraper function and url - outputs dataframe\n",
    "\n",
    "def scrape_to_df(scrape_func, url):\n",
    "    \n",
    "    return posts_to_df(scrape_func(url))"
   ]
  },
  {
   "cell_type": "code",
   "execution_count": 13,
   "metadata": {},
   "outputs": [],
   "source": [
    "#### If you want to scrape repeatedly over time and add to a csv\n",
    "# scrape, import csv, concat, drop duplicate, and output to csv\n",
    "# takes in scraper function, url, csv filename to import, csv filename to output\n",
    "# Outputs - Concatenated DataFrame as csv\n",
    "\n",
    "def scrape_add(scrape_func, url, import_file, export_file):\n",
    "    scrape_df = posts_to_df(scrape_func(url))\n",
    "    imported_df = pd.read_csv(import_file, index_col = 'Unnamed: 0')\n",
    "    concat_df = pd.concat([imported_df, scrape_df])\n",
    "    concat_df = concat_df[~concat_df.index.duplicated(keep='first')]\n",
    "    concat_df.to_csv(export_file)"
   ]
  },
  {
   "cell_type": "markdown",
   "metadata": {},
   "source": [
    "### Run Scrape"
   ]
  },
  {
   "cell_type": "code",
   "execution_count": 14,
   "metadata": {},
   "outputs": [
    {
     "name": "stderr",
     "output_type": "stream",
     "text": [
      "100% (40 of 40) |########################| Elapsed Time: 0:00:22 Time:  0:00:22\n",
      "100% (40 of 40) |########################| Elapsed Time: 0:00:21 Time:  0:00:21\n"
     ]
    }
   ],
   "source": [
    "# You can also put in any 2 subreddits in as the URL and get results for those\n",
    "\n",
    "nfltest = scrape_to_df(scraper_bike, 'https://www.reddit.com/r/nfl.json')\n",
    "nbatest = scrape_to_df(scraper_bike, 'https://www.reddit.com/r/nba.json')"
   ]
  },
  {
   "cell_type": "code",
   "execution_count": 15,
   "metadata": {},
   "outputs": [
    {
     "name": "stderr",
     "output_type": "stream",
     "text": [
      "100% (40 of 40) |########################| Elapsed Time: 0:00:22 Time:  0:00:22\n",
      "100% (40 of 40) |########################| Elapsed Time: 0:00:20 Time:  0:00:20\n"
     ]
    }
   ],
   "source": [
    "politics_test = scrape_to_df(scraper_bike, 'https://www.reddit.com/r/politics.json')\n",
    "conservative_test = scrape_to_df(scraper_bike, 'https://www.reddit.com/r/conservative.json')"
   ]
  },
  {
   "cell_type": "code",
   "execution_count": 16,
   "metadata": {},
   "outputs": [
    {
     "data": {
      "text/plain": [
       "(786, 3)"
      ]
     },
     "execution_count": 16,
     "metadata": {},
     "output_type": "execute_result"
    }
   ],
   "source": [
    "nbatest.shape"
   ]
  },
  {
   "cell_type": "code",
   "execution_count": 17,
   "metadata": {},
   "outputs": [
    {
     "data": {
      "text/plain": [
       "(942, 3)"
      ]
     },
     "execution_count": 17,
     "metadata": {},
     "output_type": "execute_result"
    }
   ],
   "source": [
    "nfltest.shape"
   ]
  },
  {
   "cell_type": "code",
   "execution_count": 20,
   "metadata": {},
   "outputs": [
    {
     "data": {
      "text/html": [
       "<div>\n",
       "<style scoped>\n",
       "    .dataframe tbody tr th:only-of-type {\n",
       "        vertical-align: middle;\n",
       "    }\n",
       "\n",
       "    .dataframe tbody tr th {\n",
       "        vertical-align: top;\n",
       "    }\n",
       "\n",
       "    .dataframe thead th {\n",
       "        text-align: right;\n",
       "    }\n",
       "</style>\n",
       "<table border=\"1\" class=\"dataframe\">\n",
       "  <thead>\n",
       "    <tr style=\"text-align: right;\">\n",
       "      <th></th>\n",
       "      <th>subreddit</th>\n",
       "      <th>title</th>\n",
       "      <th>selftext</th>\n",
       "    </tr>\n",
       "  </thead>\n",
       "  <tbody>\n",
       "    <tr>\n",
       "      <th>t3_ei5he6</th>\n",
       "      <td>nfl</td>\n",
       "      <td>Talko Tuesday</td>\n",
       "      <td>Welcome to today's open thread, where /r/nfl u...</td>\n",
       "    </tr>\n",
       "    <tr>\n",
       "      <th>t3_ehwkan</th>\n",
       "      <td>nfl</td>\n",
       "      <td>/r/NFL Best Of 2019 Nomination Thread</td>\n",
       "      <td>#2019 has been a great year for football, so l...</td>\n",
       "    </tr>\n",
       "    <tr>\n",
       "      <th>t3_ei32ez</th>\n",
       "      <td>nfl</td>\n",
       "      <td>[Silver] The Ron Rivera deal is done. He has r...</td>\n",
       "      <td></td>\n",
       "    </tr>\n",
       "    <tr>\n",
       "      <th>t3_ei2x87</th>\n",
       "      <td>nfl</td>\n",
       "      <td>[Schefter] Giants are expected to interview fo...</td>\n",
       "      <td></td>\n",
       "    </tr>\n",
       "    <tr>\n",
       "      <th>t3_ei7htz</th>\n",
       "      <td>nfl</td>\n",
       "      <td>[Schefter]John Dorsey is out as the Browns’ GM...</td>\n",
       "      <td></td>\n",
       "    </tr>\n",
       "  </tbody>\n",
       "</table>\n",
       "</div>"
      ],
      "text/plain": [
       "          subreddit                                              title  \\\n",
       "t3_ei5he6       nfl                                      Talko Tuesday   \n",
       "t3_ehwkan       nfl              /r/NFL Best Of 2019 Nomination Thread   \n",
       "t3_ei32ez       nfl  [Silver] The Ron Rivera deal is done. He has r...   \n",
       "t3_ei2x87       nfl  [Schefter] Giants are expected to interview fo...   \n",
       "t3_ei7htz       nfl  [Schefter]John Dorsey is out as the Browns’ GM...   \n",
       "\n",
       "                                                    selftext  \n",
       "t3_ei5he6  Welcome to today's open thread, where /r/nfl u...  \n",
       "t3_ehwkan  #2019 has been a great year for football, so l...  \n",
       "t3_ei32ez                                                     \n",
       "t3_ei2x87                                                     \n",
       "t3_ei7htz                                                     "
      ]
     },
     "execution_count": 20,
     "metadata": {},
     "output_type": "execute_result"
    }
   ],
   "source": [
    "nfltest.head()"
   ]
  },
  {
   "cell_type": "markdown",
   "metadata": {},
   "source": [
    "##### These scrape_add functions add to already built csvs"
   ]
  },
  {
   "cell_type": "code",
   "execution_count": null,
   "metadata": {},
   "outputs": [],
   "source": [
    "# scrape_add(scraper_bike, 'https://www.reddit.com/r/CollegeBasketball/new.json', 'NCAA_Posts_Update2.csv', 'NCAA_Posts_Update3.csv')\n",
    "# scrape_add(scraper_bike, 'https://www.reddit.com/r/AskScience/new.json', 'AskSci_Posts_Update2.csv', 'AskSci_Posts_Update3.csv')\n",
    "# scrape_add(scraper_bike, 'https://www.reddit.com/r/nba/new.json', 'NBA_Posts_Update2.csv', 'NBA_Posts_Update3.csv')\n",
    "# scrape_add(scraper_bike, 'https://www.reddit.com/r/nfl/new.json', 'NFL_Posts_Update2.csv', 'NFL_Posts_Update3.csv')"
   ]
  },
  {
   "cell_type": "markdown",
   "metadata": {},
   "source": [
    "### Data Cleaning / Preprocessing"
   ]
  },
  {
   "cell_type": "code",
   "execution_count": 21,
   "metadata": {},
   "outputs": [],
   "source": [
    "import nltk\n",
    "from nltk.stem import WordNetLemmatizer\n",
    "from nltk.tokenize import RegexpTokenizer, sent_tokenize\n",
    "from nltk.corpus import stopwords\n",
    "from sklearn.feature_extraction.text import CountVectorizer, TfidfVectorizer\n",
    "\n",
    "pd.set_option('max_colwidth', 300)"
   ]
  },
  {
   "cell_type": "code",
   "execution_count": 22,
   "metadata": {},
   "outputs": [],
   "source": [
    "# drop column\n",
    "\n",
    "nfltest = nfltest.drop(columns='selftext')\n",
    "nbatest = nbatest.drop(columns='selftext')"
   ]
  },
  {
   "cell_type": "code",
   "execution_count": 23,
   "metadata": {},
   "outputs": [],
   "source": [
    "# merge subreddit data\n",
    "\n",
    "train = pd.concat([nfltest, nbatest])"
   ]
  },
  {
   "cell_type": "code",
   "execution_count": 25,
   "metadata": {},
   "outputs": [
    {
     "data": {
      "text/html": [
       "<div>\n",
       "<style scoped>\n",
       "    .dataframe tbody tr th:only-of-type {\n",
       "        vertical-align: middle;\n",
       "    }\n",
       "\n",
       "    .dataframe tbody tr th {\n",
       "        vertical-align: top;\n",
       "    }\n",
       "\n",
       "    .dataframe thead th {\n",
       "        text-align: right;\n",
       "    }\n",
       "</style>\n",
       "<table border=\"1\" class=\"dataframe\">\n",
       "  <thead>\n",
       "    <tr style=\"text-align: right;\">\n",
       "      <th></th>\n",
       "      <th>subreddit</th>\n",
       "      <th>title</th>\n",
       "    </tr>\n",
       "  </thead>\n",
       "  <tbody>\n",
       "    <tr>\n",
       "      <th>t3_egpz42</th>\n",
       "      <td>nba</td>\n",
       "      <td>NBA Decade Awards of Reddittors - What's your opinion?</td>\n",
       "    </tr>\n",
       "    <tr>\n",
       "      <th>t3_egogrx</th>\n",
       "      <td>nba</td>\n",
       "      <td>Embiid leads the Sixers in FT%</td>\n",
       "    </tr>\n",
       "    <tr>\n",
       "      <th>t3_egmt2s</th>\n",
       "      <td>nba</td>\n",
       "      <td>Six Heat players have scored 25 or more points multiple times this season</td>\n",
       "    </tr>\n",
       "    <tr>\n",
       "      <th>t3_eglnq6</th>\n",
       "      <td>nba</td>\n",
       "      <td>The Tale of 2011 Dirk</td>\n",
       "    </tr>\n",
       "    <tr>\n",
       "      <th>t3_ei88id</th>\n",
       "      <td>nba</td>\n",
       "      <td>Is Giannis pulling away from everyone else in the MVP race?</td>\n",
       "    </tr>\n",
       "  </tbody>\n",
       "</table>\n",
       "</div>"
      ],
      "text/plain": [
       "          subreddit  \\\n",
       "t3_egpz42       nba   \n",
       "t3_egogrx       nba   \n",
       "t3_egmt2s       nba   \n",
       "t3_eglnq6       nba   \n",
       "t3_ei88id       nba   \n",
       "\n",
       "                                                                               title  \n",
       "t3_egpz42                     NBA Decade Awards of Reddittors - What's your opinion?  \n",
       "t3_egogrx                                             Embiid leads the Sixers in FT%  \n",
       "t3_egmt2s  Six Heat players have scored 25 or more points multiple times this season  \n",
       "t3_eglnq6                                                      The Tale of 2011 Dirk  \n",
       "t3_ei88id                Is Giannis pulling away from everyone else in the MVP race?  "
      ]
     },
     "execution_count": 25,
     "metadata": {},
     "output_type": "execute_result"
    }
   ],
   "source": [
    "train.tail()"
   ]
  },
  {
   "cell_type": "markdown",
   "metadata": {},
   "source": [
    "##### Tokenize (grab only word characters)"
   ]
  },
  {
   "cell_type": "code",
   "execution_count": 32,
   "metadata": {},
   "outputs": [],
   "source": [
    "word_tokenizer = RegexpTokenizer(r'\\w+')"
   ]
  },
  {
   "cell_type": "code",
   "execution_count": 33,
   "metadata": {},
   "outputs": [],
   "source": [
    "train['title'] = train['title'].map(lambda x: word_tokenizer.tokenize(x.lower()))"
   ]
  },
  {
   "cell_type": "code",
   "execution_count": 34,
   "metadata": {},
   "outputs": [],
   "source": [
    "# rejoin list of tokenized words into single string for each row\n",
    "\n",
    "train['title'] = train['title'].map(lambda x: ' '.join(x))"
   ]
  },
  {
   "cell_type": "code",
   "execution_count": 36,
   "metadata": {},
   "outputs": [
    {
     "data": {
      "text/html": [
       "<div>\n",
       "<style scoped>\n",
       "    .dataframe tbody tr th:only-of-type {\n",
       "        vertical-align: middle;\n",
       "    }\n",
       "\n",
       "    .dataframe tbody tr th {\n",
       "        vertical-align: top;\n",
       "    }\n",
       "\n",
       "    .dataframe thead th {\n",
       "        text-align: right;\n",
       "    }\n",
       "</style>\n",
       "<table border=\"1\" class=\"dataframe\">\n",
       "  <thead>\n",
       "    <tr style=\"text-align: right;\">\n",
       "      <th></th>\n",
       "      <th>subreddit</th>\n",
       "      <th>title</th>\n",
       "    </tr>\n",
       "  </thead>\n",
       "  <tbody>\n",
       "    <tr>\n",
       "      <th>t3_ei5he6</th>\n",
       "      <td>nfl</td>\n",
       "      <td>talko tuesday</td>\n",
       "    </tr>\n",
       "    <tr>\n",
       "      <th>t3_ehwkan</th>\n",
       "      <td>nfl</td>\n",
       "      <td>r nfl best of 2019 nomination thread</td>\n",
       "    </tr>\n",
       "    <tr>\n",
       "      <th>t3_ei32ez</th>\n",
       "      <td>nfl</td>\n",
       "      <td>silver the ron rivera deal is done he has reached an agreement to become the new coach of the redskins according to a source familiar with negotiations aroundthenfl nflnetwork</td>\n",
       "    </tr>\n",
       "    <tr>\n",
       "      <th>t3_ei2x87</th>\n",
       "      <td>nfl</td>\n",
       "      <td>schefter giants are expected to interview former packers head coach mike mccarthy this weekend per source</td>\n",
       "    </tr>\n",
       "    <tr>\n",
       "      <th>t3_ei7htz</th>\n",
       "      <td>nfl</td>\n",
       "      <td>schefter john dorsey is out as the browns gm per source two sides couldn t come to an agreement on a future re structure of the organization</td>\n",
       "    </tr>\n",
       "  </tbody>\n",
       "</table>\n",
       "</div>"
      ],
      "text/plain": [
       "          subreddit  \\\n",
       "t3_ei5he6       nfl   \n",
       "t3_ehwkan       nfl   \n",
       "t3_ei32ez       nfl   \n",
       "t3_ei2x87       nfl   \n",
       "t3_ei7htz       nfl   \n",
       "\n",
       "                                                                                                                                                                                     title  \n",
       "t3_ei5he6                                                                                                                                                                    talko tuesday  \n",
       "t3_ehwkan                                                                                                                                             r nfl best of 2019 nomination thread  \n",
       "t3_ei32ez  silver the ron rivera deal is done he has reached an agreement to become the new coach of the redskins according to a source familiar with negotiations aroundthenfl nflnetwork  \n",
       "t3_ei2x87                                                                        schefter giants are expected to interview former packers head coach mike mccarthy this weekend per source  \n",
       "t3_ei7htz                                     schefter john dorsey is out as the browns gm per source two sides couldn t come to an agreement on a future re structure of the organization  "
      ]
     },
     "execution_count": 36,
     "metadata": {},
     "output_type": "execute_result"
    }
   ],
   "source": [
    "train.head()"
   ]
  },
  {
   "cell_type": "markdown",
   "metadata": {},
   "source": [
    "### Train test split and converting series to list of strings then to array"
   ]
  },
  {
   "cell_type": "code",
   "execution_count": 37,
   "metadata": {},
   "outputs": [],
   "source": [
    "X = train[['title']]\n",
    "y = train['subreddit']"
   ]
  },
  {
   "cell_type": "code",
   "execution_count": 38,
   "metadata": {},
   "outputs": [],
   "source": [
    "from sklearn.model_selection import train_test_split\n",
    "\n",
    "X_train, X_test, y_train, y_test = train_test_split(X,\n",
    "                                                    y,\n",
    "                                                    test_size=.25,\n",
    "                                                    random_state=42,\n",
    "                                                    stratify=y)"
   ]
  },
  {
   "cell_type": "code",
   "execution_count": 44,
   "metadata": {},
   "outputs": [
    {
     "data": {
      "text/plain": [
       "nfl    0.545139\n",
       "nba    0.454861\n",
       "Name: subreddit, dtype: float64"
      ]
     },
     "execution_count": 44,
     "metadata": {},
     "output_type": "execute_result"
    }
   ],
   "source": [
    "# baseline is\n",
    "\n",
    "y.value_counts(normalize=True)"
   ]
  },
  {
   "cell_type": "code",
   "execution_count": 45,
   "metadata": {},
   "outputs": [],
   "source": [
    "# create our training data list - this is a list of strings, with each string being a post title\n",
    "\n",
    "clean_train_data = []\n",
    "\n",
    "for traindata in X_train['title']:\n",
    "    clean_train_data.append(traindata)"
   ]
  },
  {
   "cell_type": "code",
   "execution_count": 46,
   "metadata": {},
   "outputs": [
    {
     "data": {
      "text/plain": [
       "1296"
      ]
     },
     "execution_count": 46,
     "metadata": {},
     "output_type": "execute_result"
    }
   ],
   "source": [
    "len(clean_train_data)"
   ]
  },
  {
   "cell_type": "code",
   "execution_count": 47,
   "metadata": {},
   "outputs": [],
   "source": [
    "# create test data list\n",
    "\n",
    "clean_test_data = []\n",
    "\n",
    "for testdata in X_test['title']:\n",
    "    clean_test_data.append(testdata)"
   ]
  },
  {
   "cell_type": "code",
   "execution_count": 48,
   "metadata": {},
   "outputs": [
    {
     "data": {
      "text/plain": [
       "432"
      ]
     },
     "execution_count": 48,
     "metadata": {},
     "output_type": "execute_result"
    }
   ],
   "source": [
    "len(clean_test_data)"
   ]
  },
  {
   "cell_type": "markdown",
   "metadata": {},
   "source": [
    "### Count Vectorizer"
   ]
  },
  {
   "cell_type": "code",
   "execution_count": 50,
   "metadata": {},
   "outputs": [],
   "source": [
    "# instantiate our CountVectorizer. This counts the number of appearances of all the words in our training data and\n",
    "# eliminates common english stop words. 5000 max features works well for our purposes (tested various numbers). Our\n",
    "# data is already preprocessed and tokenized manually earlier. ngram_range is 1,3, although all or nearly all our\n",
    "# features are single words\n",
    "\n",
    "vectorizer = CountVectorizer(analyzer=\"word\",\n",
    "                             tokenizer=None,\n",
    "                             preprocessor=None,\n",
    "                             stop_words='english',\n",
    "                             max_features=5000,\n",
    "                             ngram_range=(1, 3))"
   ]
  },
  {
   "cell_type": "code",
   "execution_count": 51,
   "metadata": {},
   "outputs": [],
   "source": [
    "# fit our training data and test data lists to our count_vectorizer\n",
    "\n",
    "train_data_features = vectorizer.fit_transform(clean_train_data)\n",
    "\n",
    "test_data_features = vectorizer.transform(clean_test_data)"
   ]
  },
  {
   "cell_type": "code",
   "execution_count": 52,
   "metadata": {},
   "outputs": [],
   "source": [
    "# convert to array\n",
    "\n",
    "train_data_features = train_data_features.toarray()"
   ]
  },
  {
   "cell_type": "code",
   "execution_count": 53,
   "metadata": {},
   "outputs": [
    {
     "data": {
      "text/plain": [
       "array([[0, 0, 0, ..., 0, 0, 0],\n",
       "       [0, 0, 0, ..., 0, 0, 0],\n",
       "       [0, 0, 0, ..., 0, 0, 0],\n",
       "       ...,\n",
       "       [0, 0, 0, ..., 0, 0, 0],\n",
       "       [0, 0, 0, ..., 0, 0, 0],\n",
       "       [0, 0, 0, ..., 0, 0, 0]], dtype=int64)"
      ]
     },
     "execution_count": 53,
     "metadata": {},
     "output_type": "execute_result"
    }
   ],
   "source": [
    "train_data_features[:10]"
   ]
  },
  {
   "cell_type": "code",
   "execution_count": 54,
   "metadata": {},
   "outputs": [
    {
     "data": {
      "text/plain": [
       "((1296, 5000), (432, 5000))"
      ]
     },
     "execution_count": 54,
     "metadata": {},
     "output_type": "execute_result"
    }
   ],
   "source": [
    "# check shapes\n",
    "\n",
    "train_data_features.shape, test_data_features.shape"
   ]
  },
  {
   "cell_type": "code",
   "execution_count": 55,
   "metadata": {
    "scrolled": true
   },
   "outputs": [],
   "source": [
    "# I wanted check that the features corpus was as expected - removed print statement for readability\n",
    "\n",
    "vocab = vectorizer.get_feature_names()"
   ]
  },
  {
   "cell_type": "code",
   "execution_count": 57,
   "metadata": {
    "scrolled": true
   },
   "outputs": [
    {
     "data": {
      "text/plain": [
       "['ap male athlete',\n",
       " 'apg',\n",
       " 'appear',\n",
       " 'appearance',\n",
       " 'aren',\n",
       " 'arguably',\n",
       " 'arguably ol',\n",
       " 'arguably ol darnell',\n",
       " 'argument',\n",
       " 'arians',\n",
       " 'arians asked',\n",
       " 'ask',\n",
       " 'asked',\n",
       " 'asked drew',\n",
       " 'asked drew lock',\n",
       " 'asking',\n",
       " 'ass',\n",
       " 'assist',\n",
       " 'assistant',\n",
       " 'assistant special',\n",
       " 'assistant special teams',\n",
       " 'assists',\n",
       " 'assists rebounds',\n",
       " 'assists steals',\n",
       " 'assuming',\n",
       " 'asts',\n",
       " 'athlete',\n",
       " 'athletes',\n",
       " 'athletes decade',\n",
       " 'atlanta',\n",
       " 'atlanta hawks',\n",
       " 'atlanta hawks 27',\n",
       " 'attempt',\n",
       " 'attempts',\n",
       " 'attempts game',\n",
       " 'auman',\n",
       " 'austin',\n",
       " 'available',\n",
       " 'average',\n",
       " 'average 200',\n",
       " 'averaged',\n",
       " 'averaged 20',\n",
       " 'averaging',\n",
       " 'awards',\n",
       " 'aware',\n",
       " 'away',\n",
       " 'away making',\n",
       " 'away making playoffs',\n",
       " 'awkwardly',\n",
       " 'azcardinals',\n",
       " 'backs',\n",
       " 'backup',\n",
       " 'backup season',\n",
       " 'bad',\n",
       " 'baker',\n",
       " 'baker mayfield',\n",
       " 'baldwin',\n",
       " 'ball',\n",
       " 'baltimore',\n",
       " 'baltimore ravens',\n",
       " 'bam',\n",
       " 'bam adebayo',\n",
       " 'barkley',\n",
       " 'barrett',\n",
       " 'barring',\n",
       " 'based',\n",
       " 'basically',\n",
       " 'basket',\n",
       " 'basketball',\n",
       " 'basketball reference',\n",
       " 'bay',\n",
       " 'bay buccaneers',\n",
       " 'bay buccaneers pick',\n",
       " 'bay packers',\n",
       " 'baylor',\n",
       " 'baylor hc',\n",
       " 'baylor hc matt',\n",
       " 'baylor matt',\n",
       " 'baylor matt rhule',\n",
       " 'bears',\n",
       " 'beat',\n",
       " 'beating',\n",
       " 'belichick',\n",
       " 'believe',\n",
       " 'believes',\n",
       " 'bell',\n",
       " 'belongs',\n",
       " 'ben',\n",
       " 'ben simmons',\n",
       " 'bench',\n",
       " 'bengal',\n",
       " 'bengals',\n",
       " 'best',\n",
       " 'best fit',\n",
       " 'best player',\n",
       " 'best record',\n",
       " 'best season',\n",
       " 'best season years',\n",
       " 'bet',\n",
       " 'better']"
      ]
     },
     "execution_count": 57,
     "metadata": {},
     "output_type": "execute_result"
    }
   ],
   "source": [
    "vocab[400:500]"
   ]
  },
  {
   "cell_type": "markdown",
   "metadata": {},
   "source": [
    "## MODELING"
   ]
  },
  {
   "cell_type": "markdown",
   "metadata": {},
   "source": [
    "### Logistic Regression"
   ]
  },
  {
   "cell_type": "code",
   "execution_count": 61,
   "metadata": {},
   "outputs": [],
   "source": [
    "from sklearn.linear_model import LogisticRegression"
   ]
  },
  {
   "cell_type": "code",
   "execution_count": 62,
   "metadata": {},
   "outputs": [],
   "source": [
    "# fit logistic regression model\n",
    "\n",
    "lr = LogisticRegression(penalty='l2')"
   ]
  },
  {
   "cell_type": "code",
   "execution_count": 63,
   "metadata": {},
   "outputs": [
    {
     "data": {
      "text/plain": [
       "((1296, 5000), (1296,))"
      ]
     },
     "execution_count": 63,
     "metadata": {},
     "output_type": "execute_result"
    }
   ],
   "source": [
    "# shape check\n",
    "\n",
    "train_data_features.shape, y_train.shape"
   ]
  },
  {
   "cell_type": "code",
   "execution_count": 64,
   "metadata": {},
   "outputs": [
    {
     "name": "stderr",
     "output_type": "stream",
     "text": [
      "/usr/local/lib/python3.7/site-packages/sklearn/linear_model/logistic.py:432: FutureWarning: Default solver will be changed to 'lbfgs' in 0.22. Specify a solver to silence this warning.\n",
      "  FutureWarning)\n"
     ]
    },
    {
     "data": {
      "text/plain": [
       "LogisticRegression(C=1.0, class_weight=None, dual=False, fit_intercept=True,\n",
       "                   intercept_scaling=1, l1_ratio=None, max_iter=100,\n",
       "                   multi_class='warn', n_jobs=None, penalty='l2',\n",
       "                   random_state=None, solver='warn', tol=0.0001, verbose=0,\n",
       "                   warm_start=False)"
      ]
     },
     "execution_count": 64,
     "metadata": {},
     "output_type": "execute_result"
    }
   ],
   "source": [
    "lr.fit(train_data_features, y_train)"
   ]
  },
  {
   "cell_type": "code",
   "execution_count": 65,
   "metadata": {},
   "outputs": [
    {
     "data": {
      "text/plain": [
       "0.9953703703703703"
      ]
     },
     "execution_count": 65,
     "metadata": {},
     "output_type": "execute_result"
    }
   ],
   "source": [
    "lr.score(train_data_features, y_train)"
   ]
  },
  {
   "cell_type": "code",
   "execution_count": 66,
   "metadata": {},
   "outputs": [
    {
     "data": {
      "text/plain": [
       "0.9560185185185185"
      ]
     },
     "execution_count": 66,
     "metadata": {},
     "output_type": "execute_result"
    }
   ],
   "source": [
    "lr.score(test_data_features, y_test)"
   ]
  },
  {
   "cell_type": "markdown",
   "metadata": {},
   "source": [
    "### Feature comparison"
   ]
  },
  {
   "cell_type": "markdown",
   "metadata": {},
   "source": [
    "Creates a dataframe that matches features to coefficients"
   ]
  },
  {
   "cell_type": "code",
   "execution_count": 67,
   "metadata": {},
   "outputs": [],
   "source": [
    "coef_list = lr.coef_.tolist()"
   ]
  },
  {
   "cell_type": "code",
   "execution_count": 68,
   "metadata": {},
   "outputs": [],
   "source": [
    "coef_list = coef_list[0]"
   ]
  },
  {
   "cell_type": "code",
   "execution_count": 69,
   "metadata": {},
   "outputs": [],
   "source": [
    "coef_df = pd.DataFrame({'features': vectorizer.get_feature_names(),\n",
    "                        'coefs': coef_list})"
   ]
  },
  {
   "cell_type": "code",
   "execution_count": 70,
   "metadata": {
    "scrolled": true
   },
   "outputs": [
    {
     "data": {
      "text/html": [
       "<div>\n",
       "<style scoped>\n",
       "    .dataframe tbody tr th:only-of-type {\n",
       "        vertical-align: middle;\n",
       "    }\n",
       "\n",
       "    .dataframe tbody tr th {\n",
       "        vertical-align: top;\n",
       "    }\n",
       "\n",
       "    .dataframe thead th {\n",
       "        text-align: right;\n",
       "    }\n",
       "</style>\n",
       "<table border=\"1\" class=\"dataframe\">\n",
       "  <thead>\n",
       "    <tr style=\"text-align: right;\">\n",
       "      <th></th>\n",
       "      <th>features</th>\n",
       "      <th>coefs</th>\n",
       "    </tr>\n",
       "  </thead>\n",
       "  <tbody>\n",
       "    <tr>\n",
       "      <th>2583</th>\n",
       "      <td>nba</td>\n",
       "      <td>-2.501418</td>\n",
       "    </tr>\n",
       "    <tr>\n",
       "      <th>1419</th>\n",
       "      <td>heat</td>\n",
       "      <td>-1.324256</td>\n",
       "    </tr>\n",
       "    <tr>\n",
       "      <th>1383</th>\n",
       "      <td>harden</td>\n",
       "      <td>-1.233706</td>\n",
       "    </tr>\n",
       "    <tr>\n",
       "      <th>4845</th>\n",
       "      <td>warriors</td>\n",
       "      <td>-1.204540</td>\n",
       "    </tr>\n",
       "    <tr>\n",
       "      <th>1790</th>\n",
       "      <td>lebron</td>\n",
       "      <td>-1.130271</td>\n",
       "    </tr>\n",
       "    <tr>\n",
       "      <th>1678</th>\n",
       "      <td>kat</td>\n",
       "      <td>-1.087548</td>\n",
       "    </tr>\n",
       "    <tr>\n",
       "      <th>2011</th>\n",
       "      <td>luka</td>\n",
       "      <td>-1.055085</td>\n",
       "    </tr>\n",
       "    <tr>\n",
       "      <th>2697</th>\n",
       "      <td>okc</td>\n",
       "      <td>-0.942138</td>\n",
       "    </tr>\n",
       "    <tr>\n",
       "      <th>4538</th>\n",
       "      <td>suns</td>\n",
       "      <td>-0.901788</td>\n",
       "    </tr>\n",
       "    <tr>\n",
       "      <th>1742</th>\n",
       "      <td>lakers</td>\n",
       "      <td>-0.834941</td>\n",
       "    </tr>\n",
       "    <tr>\n",
       "      <th>588</th>\n",
       "      <td>bucks</td>\n",
       "      <td>-0.823851</td>\n",
       "    </tr>\n",
       "    <tr>\n",
       "      <th>3022</th>\n",
       "      <td>points</td>\n",
       "      <td>-0.819967</td>\n",
       "    </tr>\n",
       "    <tr>\n",
       "      <th>1460</th>\n",
       "      <td>highlights</td>\n",
       "      <td>-0.810143</td>\n",
       "    </tr>\n",
       "    <tr>\n",
       "      <th>709</th>\n",
       "      <td>clippers</td>\n",
       "      <td>-0.806415</td>\n",
       "    </tr>\n",
       "    <tr>\n",
       "      <th>468</th>\n",
       "      <td>basketball</td>\n",
       "      <td>-0.797561</td>\n",
       "    </tr>\n",
       "    <tr>\n",
       "      <th>1705</th>\n",
       "      <td>kings</td>\n",
       "      <td>-0.793864</td>\n",
       "    </tr>\n",
       "    <tr>\n",
       "      <th>1392</th>\n",
       "      <td>hawks</td>\n",
       "      <td>-0.781979</td>\n",
       "    </tr>\n",
       "    <tr>\n",
       "      <th>4717</th>\n",
       "      <td>tonight</td>\n",
       "      <td>-0.761686</td>\n",
       "    </tr>\n",
       "    <tr>\n",
       "      <th>1719</th>\n",
       "      <td>knicks</td>\n",
       "      <td>-0.722951</td>\n",
       "    </tr>\n",
       "    <tr>\n",
       "      <th>648</th>\n",
       "      <td>celtics</td>\n",
       "      <td>-0.722103</td>\n",
       "    </tr>\n",
       "    <tr>\n",
       "      <th>4390</th>\n",
       "      <td>shooting</td>\n",
       "      <td>-0.698541</td>\n",
       "    </tr>\n",
       "    <tr>\n",
       "      <th>4482</th>\n",
       "      <td>star</td>\n",
       "      <td>-0.697686</td>\n",
       "    </tr>\n",
       "    <tr>\n",
       "      <th>1583</th>\n",
       "      <td>james</td>\n",
       "      <td>-0.696904</td>\n",
       "    </tr>\n",
       "    <tr>\n",
       "      <th>1681</th>\n",
       "      <td>kawhi</td>\n",
       "      <td>-0.689080</td>\n",
       "    </tr>\n",
       "    <tr>\n",
       "      <th>500</th>\n",
       "      <td>beverley</td>\n",
       "      <td>-0.685569</td>\n",
       "    </tr>\n",
       "    <tr>\n",
       "      <th>1010</th>\n",
       "      <td>draymond</td>\n",
       "      <td>-0.674518</td>\n",
       "    </tr>\n",
       "    <tr>\n",
       "      <th>116</th>\n",
       "      <td>2010</td>\n",
       "      <td>-0.671681</td>\n",
       "    </tr>\n",
       "    <tr>\n",
       "      <th>818</th>\n",
       "      <td>curry</td>\n",
       "      <td>-0.647298</td>\n",
       "    </tr>\n",
       "    <tr>\n",
       "      <th>442</th>\n",
       "      <td>averaging</td>\n",
       "      <td>-0.636161</td>\n",
       "    </tr>\n",
       "    <tr>\n",
       "      <th>2392</th>\n",
       "      <td>milwaukee</td>\n",
       "      <td>-0.621698</td>\n",
       "    </tr>\n",
       "    <tr>\n",
       "      <th>...</th>\n",
       "      <td>...</td>\n",
       "      <td>...</td>\n",
       "    </tr>\n",
       "    <tr>\n",
       "      <th>4284</th>\n",
       "      <td>said</td>\n",
       "      <td>0.776048</td>\n",
       "    </tr>\n",
       "    <tr>\n",
       "      <th>1141</th>\n",
       "      <td>field</td>\n",
       "      <td>0.776554</td>\n",
       "    </tr>\n",
       "    <tr>\n",
       "      <th>2738</th>\n",
       "      <td>packers</td>\n",
       "      <td>0.781464</td>\n",
       "    </tr>\n",
       "    <tr>\n",
       "      <th>1147</th>\n",
       "      <td>final</td>\n",
       "      <td>0.782308</td>\n",
       "    </tr>\n",
       "    <tr>\n",
       "      <th>3930</th>\n",
       "      <td>redskins</td>\n",
       "      <td>0.797661</td>\n",
       "    </tr>\n",
       "    <tr>\n",
       "      <th>4226</th>\n",
       "      <td>rookie</td>\n",
       "      <td>0.806292</td>\n",
       "    </tr>\n",
       "    <tr>\n",
       "      <th>4811</th>\n",
       "      <td>value</td>\n",
       "      <td>0.822659</td>\n",
       "    </tr>\n",
       "    <tr>\n",
       "      <th>4940</th>\n",
       "      <td>yard</td>\n",
       "      <td>0.846928</td>\n",
       "    </tr>\n",
       "    <tr>\n",
       "      <th>3667</th>\n",
       "      <td>raiders</td>\n",
       "      <td>0.866752</td>\n",
       "    </tr>\n",
       "    <tr>\n",
       "      <th>2623</th>\n",
       "      <td>nfc</td>\n",
       "      <td>0.885730</td>\n",
       "    </tr>\n",
       "    <tr>\n",
       "      <th>1618</th>\n",
       "      <td>jets</td>\n",
       "      <td>0.908214</td>\n",
       "    </tr>\n",
       "    <tr>\n",
       "      <th>4730</th>\n",
       "      <td>touchdown</td>\n",
       "      <td>0.925373</td>\n",
       "    </tr>\n",
       "    <tr>\n",
       "      <th>4309</th>\n",
       "      <td>says</td>\n",
       "      <td>0.927996</td>\n",
       "    </tr>\n",
       "    <tr>\n",
       "      <th>977</th>\n",
       "      <td>dolphins</td>\n",
       "      <td>0.932563</td>\n",
       "    </tr>\n",
       "    <tr>\n",
       "      <th>4204</th>\n",
       "      <td>rivera</td>\n",
       "      <td>0.951591</td>\n",
       "    </tr>\n",
       "    <tr>\n",
       "      <th>964</th>\n",
       "      <td>division</td>\n",
       "      <td>0.955757</td>\n",
       "    </tr>\n",
       "    <tr>\n",
       "      <th>129</th>\n",
       "      <td>2019</td>\n",
       "      <td>1.035750</td>\n",
       "    </tr>\n",
       "    <tr>\n",
       "      <th>1293</th>\n",
       "      <td>giants</td>\n",
       "      <td>1.050483</td>\n",
       "    </tr>\n",
       "    <tr>\n",
       "      <th>231</th>\n",
       "      <td>49ers</td>\n",
       "      <td>1.117598</td>\n",
       "    </tr>\n",
       "    <tr>\n",
       "      <th>4286</th>\n",
       "      <td>saints</td>\n",
       "      <td>1.134169</td>\n",
       "    </tr>\n",
       "    <tr>\n",
       "      <th>2784</th>\n",
       "      <td>patriots</td>\n",
       "      <td>1.145346</td>\n",
       "    </tr>\n",
       "    <tr>\n",
       "      <th>4335</th>\n",
       "      <td>seahawks</td>\n",
       "      <td>1.147357</td>\n",
       "    </tr>\n",
       "    <tr>\n",
       "      <th>794</th>\n",
       "      <td>cowboys</td>\n",
       "      <td>1.176717</td>\n",
       "    </tr>\n",
       "    <tr>\n",
       "      <th>1030</th>\n",
       "      <td>eagles</td>\n",
       "      <td>1.182941</td>\n",
       "    </tr>\n",
       "    <tr>\n",
       "      <th>563</th>\n",
       "      <td>broncos</td>\n",
       "      <td>1.188067</td>\n",
       "    </tr>\n",
       "    <tr>\n",
       "      <th>4577</th>\n",
       "      <td>td</td>\n",
       "      <td>1.197835</td>\n",
       "    </tr>\n",
       "    <tr>\n",
       "      <th>3535</th>\n",
       "      <td>qb</td>\n",
       "      <td>1.235008</td>\n",
       "    </tr>\n",
       "    <tr>\n",
       "      <th>4943</th>\n",
       "      <td>yards</td>\n",
       "      <td>1.265141</td>\n",
       "    </tr>\n",
       "    <tr>\n",
       "      <th>571</th>\n",
       "      <td>browns</td>\n",
       "      <td>1.379034</td>\n",
       "    </tr>\n",
       "    <tr>\n",
       "      <th>2629</th>\n",
       "      <td>nfl</td>\n",
       "      <td>2.358574</td>\n",
       "    </tr>\n",
       "  </tbody>\n",
       "</table>\n",
       "<p>5000 rows × 2 columns</p>\n",
       "</div>"
      ],
      "text/plain": [
       "        features     coefs\n",
       "2583         nba -2.501418\n",
       "1419        heat -1.324256\n",
       "1383      harden -1.233706\n",
       "4845    warriors -1.204540\n",
       "1790      lebron -1.130271\n",
       "1678         kat -1.087548\n",
       "2011        luka -1.055085\n",
       "2697         okc -0.942138\n",
       "4538        suns -0.901788\n",
       "1742      lakers -0.834941\n",
       "588        bucks -0.823851\n",
       "3022      points -0.819967\n",
       "1460  highlights -0.810143\n",
       "709     clippers -0.806415\n",
       "468   basketball -0.797561\n",
       "1705       kings -0.793864\n",
       "1392       hawks -0.781979\n",
       "4717     tonight -0.761686\n",
       "1719      knicks -0.722951\n",
       "648      celtics -0.722103\n",
       "4390    shooting -0.698541\n",
       "4482        star -0.697686\n",
       "1583       james -0.696904\n",
       "1681       kawhi -0.689080\n",
       "500     beverley -0.685569\n",
       "1010    draymond -0.674518\n",
       "116         2010 -0.671681\n",
       "818        curry -0.647298\n",
       "442    averaging -0.636161\n",
       "2392   milwaukee -0.621698\n",
       "...          ...       ...\n",
       "4284        said  0.776048\n",
       "1141       field  0.776554\n",
       "2738     packers  0.781464\n",
       "1147       final  0.782308\n",
       "3930    redskins  0.797661\n",
       "4226      rookie  0.806292\n",
       "4811       value  0.822659\n",
       "4940        yard  0.846928\n",
       "3667     raiders  0.866752\n",
       "2623         nfc  0.885730\n",
       "1618        jets  0.908214\n",
       "4730   touchdown  0.925373\n",
       "4309        says  0.927996\n",
       "977     dolphins  0.932563\n",
       "4204      rivera  0.951591\n",
       "964     division  0.955757\n",
       "129         2019  1.035750\n",
       "1293      giants  1.050483\n",
       "231        49ers  1.117598\n",
       "4286      saints  1.134169\n",
       "2784    patriots  1.145346\n",
       "4335    seahawks  1.147357\n",
       "794      cowboys  1.176717\n",
       "1030      eagles  1.182941\n",
       "563      broncos  1.188067\n",
       "4577          td  1.197835\n",
       "3535          qb  1.235008\n",
       "4943       yards  1.265141\n",
       "571       browns  1.379034\n",
       "2629         nfl  2.358574\n",
       "\n",
       "[5000 rows x 2 columns]"
      ]
     },
     "execution_count": 70,
     "metadata": {},
     "output_type": "execute_result"
    }
   ],
   "source": [
    "coef_df.sort_values(by = ['coefs'])"
   ]
  },
  {
   "cell_type": "markdown",
   "metadata": {},
   "source": [
    "### Let's throw out these unfair words and rerun"
   ]
  },
  {
   "cell_type": "code",
   "execution_count": 71,
   "metadata": {},
   "outputs": [],
   "source": [
    "stopwords = set(stopwords.words('english'))\n",
    "\n",
    "extra_stopwords = ['nba', 'basketball', 'football', 'nfl']\n",
    "\n",
    "stopwords.update(extra_stopwords)"
   ]
  },
  {
   "cell_type": "code",
   "execution_count": 72,
   "metadata": {},
   "outputs": [
    {
     "data": {
      "text/plain": [
       "((1296, 5000), (432, 5000))"
      ]
     },
     "execution_count": 72,
     "metadata": {},
     "output_type": "execute_result"
    }
   ],
   "source": [
    "vectorizer = CountVectorizer(analyzer = \"word\",\n",
    "                             tokenizer = None,\n",
    "                             preprocessor = None,\n",
    "                             stop_words = stopwords,\n",
    "                             max_features = 5000,\n",
    "                             ngram_range = (1, 3))\n",
    "\n",
    "train_data_features = vectorizer.fit_transform(clean_train_data)\n",
    "\n",
    "test_data_features = vectorizer.transform(clean_test_data)\n",
    "\n",
    "train_data_features = train_data_features.toarray()\n",
    "\n",
    "train_data_features.shape, test_data_features.shape"
   ]
  },
  {
   "cell_type": "code",
   "execution_count": 73,
   "metadata": {},
   "outputs": [
    {
     "name": "stderr",
     "output_type": "stream",
     "text": [
      "/usr/local/lib/python3.7/site-packages/sklearn/linear_model/logistic.py:432: FutureWarning: Default solver will be changed to 'lbfgs' in 0.22. Specify a solver to silence this warning.\n",
      "  FutureWarning)\n"
     ]
    },
    {
     "data": {
      "text/plain": [
       "LogisticRegression(C=1.0, class_weight=None, dual=False, fit_intercept=True,\n",
       "                   intercept_scaling=1, l1_ratio=None, max_iter=100,\n",
       "                   multi_class='warn', n_jobs=None, penalty='l2',\n",
       "                   random_state=None, solver='warn', tol=0.0001, verbose=0,\n",
       "                   warm_start=False)"
      ]
     },
     "execution_count": 73,
     "metadata": {},
     "output_type": "execute_result"
    }
   ],
   "source": [
    "lr.fit(train_data_features, y_train)"
   ]
  },
  {
   "cell_type": "code",
   "execution_count": 74,
   "metadata": {},
   "outputs": [
    {
     "data": {
      "text/plain": [
       "0.9915123456790124"
      ]
     },
     "execution_count": 74,
     "metadata": {},
     "output_type": "execute_result"
    }
   ],
   "source": [
    "lr.score(train_data_features, y_train)"
   ]
  },
  {
   "cell_type": "code",
   "execution_count": 75,
   "metadata": {},
   "outputs": [
    {
     "data": {
      "text/plain": [
       "0.9421296296296297"
      ]
     },
     "execution_count": 75,
     "metadata": {},
     "output_type": "execute_result"
    }
   ],
   "source": [
    "lr.score(test_data_features, y_test)"
   ]
  },
  {
   "cell_type": "code",
   "execution_count": 76,
   "metadata": {
    "scrolled": true
   },
   "outputs": [
    {
     "data": {
      "text/html": [
       "<div>\n",
       "<style scoped>\n",
       "    .dataframe tbody tr th:only-of-type {\n",
       "        vertical-align: middle;\n",
       "    }\n",
       "\n",
       "    .dataframe tbody tr th {\n",
       "        vertical-align: top;\n",
       "    }\n",
       "\n",
       "    .dataframe thead th {\n",
       "        text-align: right;\n",
       "    }\n",
       "</style>\n",
       "<table border=\"1\" class=\"dataframe\">\n",
       "  <thead>\n",
       "    <tr style=\"text-align: right;\">\n",
       "      <th></th>\n",
       "      <th>features</th>\n",
       "      <th>coefs</th>\n",
       "    </tr>\n",
       "  </thead>\n",
       "  <tbody>\n",
       "    <tr>\n",
       "      <th>1490</th>\n",
       "      <td>heat</td>\n",
       "      <td>-1.405777</td>\n",
       "    </tr>\n",
       "    <tr>\n",
       "      <th>4825</th>\n",
       "      <td>warriors</td>\n",
       "      <td>-1.238436</td>\n",
       "    </tr>\n",
       "    <tr>\n",
       "      <th>1456</th>\n",
       "      <td>harden</td>\n",
       "      <td>-1.180648</td>\n",
       "    </tr>\n",
       "    <tr>\n",
       "      <th>1879</th>\n",
       "      <td>lebron</td>\n",
       "      <td>-1.131791</td>\n",
       "    </tr>\n",
       "    <tr>\n",
       "      <th>2092</th>\n",
       "      <td>luka</td>\n",
       "      <td>-1.101842</td>\n",
       "    </tr>\n",
       "    <tr>\n",
       "      <th>1749</th>\n",
       "      <td>kat</td>\n",
       "      <td>-1.066598</td>\n",
       "    </tr>\n",
       "    <tr>\n",
       "      <th>2710</th>\n",
       "      <td>okc</td>\n",
       "      <td>-0.956601</td>\n",
       "    </tr>\n",
       "    <tr>\n",
       "      <th>2934</th>\n",
       "      <td>points</td>\n",
       "      <td>-0.909744</td>\n",
       "    </tr>\n",
       "    <tr>\n",
       "      <th>1776</th>\n",
       "      <td>kings</td>\n",
       "      <td>-0.870408</td>\n",
       "    </tr>\n",
       "    <tr>\n",
       "      <th>4674</th>\n",
       "      <td>tonight</td>\n",
       "      <td>-0.856530</td>\n",
       "    </tr>\n",
       "    <tr>\n",
       "      <th>4483</th>\n",
       "      <td>suns</td>\n",
       "      <td>-0.856233</td>\n",
       "    </tr>\n",
       "    <tr>\n",
       "      <th>615</th>\n",
       "      <td>bucks</td>\n",
       "      <td>-0.832808</td>\n",
       "    </tr>\n",
       "    <tr>\n",
       "      <th>4911</th>\n",
       "      <td>would</td>\n",
       "      <td>-0.809716</td>\n",
       "    </tr>\n",
       "    <tr>\n",
       "      <th>1812</th>\n",
       "      <td>lakers</td>\n",
       "      <td>-0.804379</td>\n",
       "    </tr>\n",
       "    <tr>\n",
       "      <th>1656</th>\n",
       "      <td>james</td>\n",
       "      <td>-0.737158</td>\n",
       "    </tr>\n",
       "    <tr>\n",
       "      <th>1531</th>\n",
       "      <td>highlights</td>\n",
       "      <td>-0.735251</td>\n",
       "    </tr>\n",
       "    <tr>\n",
       "      <th>116</th>\n",
       "      <td>2010</td>\n",
       "      <td>-0.730759</td>\n",
       "    </tr>\n",
       "    <tr>\n",
       "      <th>1790</th>\n",
       "      <td>knicks</td>\n",
       "      <td>-0.730569</td>\n",
       "    </tr>\n",
       "    <tr>\n",
       "      <th>738</th>\n",
       "      <td>clippers</td>\n",
       "      <td>-0.730397</td>\n",
       "    </tr>\n",
       "    <tr>\n",
       "      <th>621</th>\n",
       "      <td>bulls</td>\n",
       "      <td>-0.721969</td>\n",
       "    </tr>\n",
       "    <tr>\n",
       "      <th>4316</th>\n",
       "      <td>shooting</td>\n",
       "      <td>-0.718810</td>\n",
       "    </tr>\n",
       "    <tr>\n",
       "      <th>4423</th>\n",
       "      <td>star</td>\n",
       "      <td>-0.717753</td>\n",
       "    </tr>\n",
       "    <tr>\n",
       "      <th>1463</th>\n",
       "      <td>hawks</td>\n",
       "      <td>-0.677894</td>\n",
       "    </tr>\n",
       "    <tr>\n",
       "      <th>2820</th>\n",
       "      <td>paul</td>\n",
       "      <td>-0.675037</td>\n",
       "    </tr>\n",
       "    <tr>\n",
       "      <th>459</th>\n",
       "      <td>averaging</td>\n",
       "      <td>-0.667573</td>\n",
       "    </tr>\n",
       "    <tr>\n",
       "      <th>677</th>\n",
       "      <td>celtics</td>\n",
       "      <td>-0.667496</td>\n",
       "    </tr>\n",
       "    <tr>\n",
       "      <th>1025</th>\n",
       "      <td>draymond</td>\n",
       "      <td>-0.658172</td>\n",
       "    </tr>\n",
       "    <tr>\n",
       "      <th>910</th>\n",
       "      <td>december</td>\n",
       "      <td>-0.652830</td>\n",
       "    </tr>\n",
       "    <tr>\n",
       "      <th>848</th>\n",
       "      <td>curry</td>\n",
       "      <td>-0.639477</td>\n",
       "    </tr>\n",
       "    <tr>\n",
       "      <th>1752</th>\n",
       "      <td>kawhi</td>\n",
       "      <td>-0.637148</td>\n",
       "    </tr>\n",
       "    <tr>\n",
       "      <th>...</th>\n",
       "      <td>...</td>\n",
       "      <td>...</td>\n",
       "    </tr>\n",
       "    <tr>\n",
       "      <th>3799</th>\n",
       "      <td>redskins</td>\n",
       "      <td>0.794627</td>\n",
       "    </tr>\n",
       "    <tr>\n",
       "      <th>4206</th>\n",
       "      <td>said</td>\n",
       "      <td>0.796787</td>\n",
       "    </tr>\n",
       "    <tr>\n",
       "      <th>4146</th>\n",
       "      <td>rookie</td>\n",
       "      <td>0.799056</td>\n",
       "    </tr>\n",
       "    <tr>\n",
       "      <th>4488</th>\n",
       "      <td>super</td>\n",
       "      <td>0.802283</td>\n",
       "    </tr>\n",
       "    <tr>\n",
       "      <th>1700</th>\n",
       "      <td>joe</td>\n",
       "      <td>0.816246</td>\n",
       "    </tr>\n",
       "    <tr>\n",
       "      <th>4936</th>\n",
       "      <td>yard</td>\n",
       "      <td>0.830283</td>\n",
       "    </tr>\n",
       "    <tr>\n",
       "      <th>2768</th>\n",
       "      <td>packers</td>\n",
       "      <td>0.831656</td>\n",
       "    </tr>\n",
       "    <tr>\n",
       "      <th>2649</th>\n",
       "      <td>nfc</td>\n",
       "      <td>0.874496</td>\n",
       "    </tr>\n",
       "    <tr>\n",
       "      <th>989</th>\n",
       "      <td>division</td>\n",
       "      <td>0.880575</td>\n",
       "    </tr>\n",
       "    <tr>\n",
       "      <th>2921</th>\n",
       "      <td>playoffs</td>\n",
       "      <td>0.881701</td>\n",
       "    </tr>\n",
       "    <tr>\n",
       "      <th>1173</th>\n",
       "      <td>final</td>\n",
       "      <td>0.920227</td>\n",
       "    </tr>\n",
       "    <tr>\n",
       "      <th>1690</th>\n",
       "      <td>jets</td>\n",
       "      <td>0.926064</td>\n",
       "    </tr>\n",
       "    <tr>\n",
       "      <th>4701</th>\n",
       "      <td>touchdown</td>\n",
       "      <td>0.928318</td>\n",
       "    </tr>\n",
       "    <tr>\n",
       "      <th>3655</th>\n",
       "      <td>raiders</td>\n",
       "      <td>0.948088</td>\n",
       "    </tr>\n",
       "    <tr>\n",
       "      <th>996</th>\n",
       "      <td>dolphins</td>\n",
       "      <td>0.967443</td>\n",
       "    </tr>\n",
       "    <tr>\n",
       "      <th>4231</th>\n",
       "      <td>says</td>\n",
       "      <td>0.972055</td>\n",
       "    </tr>\n",
       "    <tr>\n",
       "      <th>4124</th>\n",
       "      <td>rivera</td>\n",
       "      <td>0.999634</td>\n",
       "    </tr>\n",
       "    <tr>\n",
       "      <th>1362</th>\n",
       "      <td>giants</td>\n",
       "      <td>1.086434</td>\n",
       "    </tr>\n",
       "    <tr>\n",
       "      <th>4526</th>\n",
       "      <td>td</td>\n",
       "      <td>1.128442</td>\n",
       "    </tr>\n",
       "    <tr>\n",
       "      <th>232</th>\n",
       "      <td>49ers</td>\n",
       "      <td>1.156002</td>\n",
       "    </tr>\n",
       "    <tr>\n",
       "      <th>590</th>\n",
       "      <td>broncos</td>\n",
       "      <td>1.158935</td>\n",
       "    </tr>\n",
       "    <tr>\n",
       "      <th>4256</th>\n",
       "      <td>seahawks</td>\n",
       "      <td>1.173355</td>\n",
       "    </tr>\n",
       "    <tr>\n",
       "      <th>4208</th>\n",
       "      <td>saints</td>\n",
       "      <td>1.203060</td>\n",
       "    </tr>\n",
       "    <tr>\n",
       "      <th>824</th>\n",
       "      <td>cowboys</td>\n",
       "      <td>1.214360</td>\n",
       "    </tr>\n",
       "    <tr>\n",
       "      <th>1045</th>\n",
       "      <td>eagles</td>\n",
       "      <td>1.233136</td>\n",
       "    </tr>\n",
       "    <tr>\n",
       "      <th>4939</th>\n",
       "      <td>yards</td>\n",
       "      <td>1.261218</td>\n",
       "    </tr>\n",
       "    <tr>\n",
       "      <th>2816</th>\n",
       "      <td>patriots</td>\n",
       "      <td>1.270482</td>\n",
       "    </tr>\n",
       "    <tr>\n",
       "      <th>130</th>\n",
       "      <td>2019</td>\n",
       "      <td>1.279714</td>\n",
       "    </tr>\n",
       "    <tr>\n",
       "      <th>3446</th>\n",
       "      <td>qb</td>\n",
       "      <td>1.347414</td>\n",
       "    </tr>\n",
       "    <tr>\n",
       "      <th>599</th>\n",
       "      <td>browns</td>\n",
       "      <td>1.378746</td>\n",
       "    </tr>\n",
       "  </tbody>\n",
       "</table>\n",
       "<p>5000 rows × 2 columns</p>\n",
       "</div>"
      ],
      "text/plain": [
       "        features     coefs\n",
       "1490        heat -1.405777\n",
       "4825    warriors -1.238436\n",
       "1456      harden -1.180648\n",
       "1879      lebron -1.131791\n",
       "2092        luka -1.101842\n",
       "1749         kat -1.066598\n",
       "2710         okc -0.956601\n",
       "2934      points -0.909744\n",
       "1776       kings -0.870408\n",
       "4674     tonight -0.856530\n",
       "4483        suns -0.856233\n",
       "615        bucks -0.832808\n",
       "4911       would -0.809716\n",
       "1812      lakers -0.804379\n",
       "1656       james -0.737158\n",
       "1531  highlights -0.735251\n",
       "116         2010 -0.730759\n",
       "1790      knicks -0.730569\n",
       "738     clippers -0.730397\n",
       "621        bulls -0.721969\n",
       "4316    shooting -0.718810\n",
       "4423        star -0.717753\n",
       "1463       hawks -0.677894\n",
       "2820        paul -0.675037\n",
       "459    averaging -0.667573\n",
       "677      celtics -0.667496\n",
       "1025    draymond -0.658172\n",
       "910     december -0.652830\n",
       "848        curry -0.639477\n",
       "1752       kawhi -0.637148\n",
       "...          ...       ...\n",
       "3799    redskins  0.794627\n",
       "4206        said  0.796787\n",
       "4146      rookie  0.799056\n",
       "4488       super  0.802283\n",
       "1700         joe  0.816246\n",
       "4936        yard  0.830283\n",
       "2768     packers  0.831656\n",
       "2649         nfc  0.874496\n",
       "989     division  0.880575\n",
       "2921    playoffs  0.881701\n",
       "1173       final  0.920227\n",
       "1690        jets  0.926064\n",
       "4701   touchdown  0.928318\n",
       "3655     raiders  0.948088\n",
       "996     dolphins  0.967443\n",
       "4231        says  0.972055\n",
       "4124      rivera  0.999634\n",
       "1362      giants  1.086434\n",
       "4526          td  1.128442\n",
       "232        49ers  1.156002\n",
       "590      broncos  1.158935\n",
       "4256    seahawks  1.173355\n",
       "4208      saints  1.203060\n",
       "824      cowboys  1.214360\n",
       "1045      eagles  1.233136\n",
       "4939       yards  1.261218\n",
       "2816    patriots  1.270482\n",
       "130         2019  1.279714\n",
       "3446          qb  1.347414\n",
       "599       browns  1.378746\n",
       "\n",
       "[5000 rows x 2 columns]"
      ]
     },
     "execution_count": 76,
     "metadata": {},
     "output_type": "execute_result"
    }
   ],
   "source": [
    "coef_list = lr.coef_.tolist()\n",
    "coef_list = coef_list[0]\n",
    "\n",
    "coef_df = pd.DataFrame({'features' : vectorizer.get_feature_names(),\n",
    "                       'coefs' : coef_list})\n",
    "\n",
    "coef_df.sort_values(by = ['coefs'])"
   ]
  },
  {
   "cell_type": "markdown",
   "metadata": {},
   "source": [
    "### Decision Tree"
   ]
  },
  {
   "cell_type": "code",
   "execution_count": 77,
   "metadata": {},
   "outputs": [],
   "source": [
    "from sklearn.tree import DecisionTreeClassifier"
   ]
  },
  {
   "cell_type": "code",
   "execution_count": 78,
   "metadata": {},
   "outputs": [],
   "source": [
    "tree = DecisionTreeClassifier()"
   ]
  },
  {
   "cell_type": "code",
   "execution_count": 79,
   "metadata": {},
   "outputs": [
    {
     "data": {
      "text/plain": [
       "DecisionTreeClassifier(class_weight=None, criterion='gini', max_depth=None,\n",
       "                       max_features=None, max_leaf_nodes=None,\n",
       "                       min_impurity_decrease=0.0, min_impurity_split=None,\n",
       "                       min_samples_leaf=1, min_samples_split=2,\n",
       "                       min_weight_fraction_leaf=0.0, presort=False,\n",
       "                       random_state=None, splitter='best')"
      ]
     },
     "execution_count": 79,
     "metadata": {},
     "output_type": "execute_result"
    }
   ],
   "source": [
    "tree.fit(train_data_features, y_train)"
   ]
  },
  {
   "cell_type": "code",
   "execution_count": 80,
   "metadata": {},
   "outputs": [
    {
     "data": {
      "text/plain": [
       "0.9992283950617284"
      ]
     },
     "execution_count": 80,
     "metadata": {},
     "output_type": "execute_result"
    }
   ],
   "source": [
    "tree.score(train_data_features, y_train)"
   ]
  },
  {
   "cell_type": "code",
   "execution_count": 81,
   "metadata": {},
   "outputs": [
    {
     "data": {
      "text/plain": [
       "0.7893518518518519"
      ]
     },
     "execution_count": 81,
     "metadata": {},
     "output_type": "execute_result"
    }
   ],
   "source": [
    "tree.score(test_data_features, y_test)"
   ]
  },
  {
   "cell_type": "markdown",
   "metadata": {},
   "source": [
    "### Random Forest"
   ]
  },
  {
   "cell_type": "code",
   "execution_count": 82,
   "metadata": {},
   "outputs": [],
   "source": [
    "from sklearn.ensemble import RandomForestClassifier"
   ]
  },
  {
   "cell_type": "code",
   "execution_count": 87,
   "metadata": {},
   "outputs": [],
   "source": [
    "forest = RandomForestClassifier(n_estimators=1000)"
   ]
  },
  {
   "cell_type": "code",
   "execution_count": 88,
   "metadata": {},
   "outputs": [
    {
     "data": {
      "text/plain": [
       "RandomForestClassifier(bootstrap=True, class_weight=None, criterion='gini',\n",
       "                       max_depth=None, max_features='auto', max_leaf_nodes=None,\n",
       "                       min_impurity_decrease=0.0, min_impurity_split=None,\n",
       "                       min_samples_leaf=1, min_samples_split=2,\n",
       "                       min_weight_fraction_leaf=0.0, n_estimators=1000,\n",
       "                       n_jobs=None, oob_score=False, random_state=None,\n",
       "                       verbose=0, warm_start=False)"
      ]
     },
     "execution_count": 88,
     "metadata": {},
     "output_type": "execute_result"
    }
   ],
   "source": [
    "forest.fit(train_data_features, y_train)"
   ]
  },
  {
   "cell_type": "code",
   "execution_count": 89,
   "metadata": {},
   "outputs": [
    {
     "data": {
      "text/plain": [
       "0.9992283950617284"
      ]
     },
     "execution_count": 89,
     "metadata": {},
     "output_type": "execute_result"
    }
   ],
   "source": [
    "forest.score(train_data_features, y_train)"
   ]
  },
  {
   "cell_type": "code",
   "execution_count": 90,
   "metadata": {},
   "outputs": [
    {
     "data": {
      "text/plain": [
       "0.8888888888888888"
      ]
     },
     "execution_count": 90,
     "metadata": {},
     "output_type": "execute_result"
    }
   ],
   "source": [
    "forest.score(test_data_features, y_test)"
   ]
  },
  {
   "cell_type": "markdown",
   "metadata": {},
   "source": [
    "###  Matrix on Logistic Regression"
   ]
  },
  {
   "cell_type": "code",
   "execution_count": 91,
   "metadata": {},
   "outputs": [],
   "source": [
    "from sklearn.metrics import confusion_matrix"
   ]
  },
  {
   "cell_type": "code",
   "execution_count": 92,
   "metadata": {},
   "outputs": [],
   "source": [
    "y_pred = lr.predict(test_data_features)"
   ]
  },
  {
   "cell_type": "code",
   "execution_count": 93,
   "metadata": {},
   "outputs": [],
   "source": [
    "cm = confusion_matrix(y_test, y_pred)"
   ]
  },
  {
   "cell_type": "code",
   "execution_count": 94,
   "metadata": {},
   "outputs": [],
   "source": [
    "cm_df = pd.DataFrame(cm,\n",
    "                    columns=['predict_neg', 'predict_pos'],\n",
    "                    index = ['actual_neg', 'actual_pos'])"
   ]
  },
  {
   "cell_type": "code",
   "execution_count": 95,
   "metadata": {},
   "outputs": [
    {
     "data": {
      "text/html": [
       "<div>\n",
       "<style scoped>\n",
       "    .dataframe tbody tr th:only-of-type {\n",
       "        vertical-align: middle;\n",
       "    }\n",
       "\n",
       "    .dataframe tbody tr th {\n",
       "        vertical-align: top;\n",
       "    }\n",
       "\n",
       "    .dataframe thead th {\n",
       "        text-align: right;\n",
       "    }\n",
       "</style>\n",
       "<table border=\"1\" class=\"dataframe\">\n",
       "  <thead>\n",
       "    <tr style=\"text-align: right;\">\n",
       "      <th></th>\n",
       "      <th>predict_neg</th>\n",
       "      <th>predict_pos</th>\n",
       "    </tr>\n",
       "  </thead>\n",
       "  <tbody>\n",
       "    <tr>\n",
       "      <th>actual_neg</th>\n",
       "      <td>189</td>\n",
       "      <td>8</td>\n",
       "    </tr>\n",
       "    <tr>\n",
       "      <th>actual_pos</th>\n",
       "      <td>17</td>\n",
       "      <td>218</td>\n",
       "    </tr>\n",
       "  </tbody>\n",
       "</table>\n",
       "</div>"
      ],
      "text/plain": [
       "            predict_neg  predict_pos\n",
       "actual_neg          189            8\n",
       "actual_pos           17          218"
      ]
     },
     "execution_count": 95,
     "metadata": {},
     "output_type": "execute_result"
    }
   ],
   "source": [
    "cm_df"
   ]
  },
  {
   "cell_type": "markdown",
   "metadata": {},
   "source": [
    "## Checking where our model failed"
   ]
  },
  {
   "cell_type": "code",
   "execution_count": 96,
   "metadata": {},
   "outputs": [],
   "source": [
    "comparison_df = pd.DataFrame({'y_actual': y_test,\n",
    "                              'y_predicted': y_pred})"
   ]
  },
  {
   "cell_type": "code",
   "execution_count": 97,
   "metadata": {},
   "outputs": [],
   "source": [
    "mismatch_df = comparison_df[comparison_df['y_actual'] != comparison_df['y_predicted']]"
   ]
  },
  {
   "cell_type": "code",
   "execution_count": 98,
   "metadata": {},
   "outputs": [
    {
     "name": "stderr",
     "output_type": "stream",
     "text": [
      "/usr/local/lib/python3.7/site-packages/ipykernel_launcher.py:1: FutureWarning: Sorting because non-concatenation axis is not aligned. A future version\n",
      "of pandas will change to not sort by default.\n",
      "\n",
      "To accept the future behavior, pass 'sort=False'.\n",
      "\n",
      "To retain the current behavior and silence the warning, pass 'sort=True'.\n",
      "\n",
      "  \"\"\"Entry point for launching an IPython kernel.\n"
     ]
    }
   ],
   "source": [
    "mismatch2_df = pd.concat([mismatch_df, X_test], axis = 1)"
   ]
  },
  {
   "cell_type": "code",
   "execution_count": 99,
   "metadata": {},
   "outputs": [],
   "source": [
    "# All incorrect predictions with titles\n",
    "\n",
    "mismatches = mismatch2_df.dropna()"
   ]
  },
  {
   "cell_type": "code",
   "execution_count": 100,
   "metadata": {
    "scrolled": true
   },
   "outputs": [
    {
     "data": {
      "text/html": [
       "<div>\n",
       "<style scoped>\n",
       "    .dataframe tbody tr th:only-of-type {\n",
       "        vertical-align: middle;\n",
       "    }\n",
       "\n",
       "    .dataframe tbody tr th {\n",
       "        vertical-align: top;\n",
       "    }\n",
       "\n",
       "    .dataframe thead th {\n",
       "        text-align: right;\n",
       "    }\n",
       "</style>\n",
       "<table border=\"1\" class=\"dataframe\">\n",
       "  <thead>\n",
       "    <tr style=\"text-align: right;\">\n",
       "      <th></th>\n",
       "      <th>y_actual</th>\n",
       "      <th>y_predicted</th>\n",
       "      <th>title</th>\n",
       "    </tr>\n",
       "  </thead>\n",
       "  <tbody>\n",
       "    <tr>\n",
       "      <th>t3_egvgl9</th>\n",
       "      <td>nba</td>\n",
       "      <td>nfl</td>\n",
       "      <td>charania the nuggets has been open to discussing deals around young talents malik beasley and juancho hernangomez but have asked for a high value ahead of the february trade deadline according to sources both turned down extensions this past summer</td>\n",
       "    </tr>\n",
       "    <tr>\n",
       "      <th>t3_ehboan</th>\n",
       "      <td>nfl</td>\n",
       "      <td>nba</td>\n",
       "      <td>highlight tavon wilson called for unnecessary roughness</td>\n",
       "    </tr>\n",
       "    <tr>\n",
       "      <th>t3_ehc6su</th>\n",
       "      <td>nba</td>\n",
       "      <td>nfl</td>\n",
       "      <td>aside from the 2015 16 season what is the best nba season in nba history</td>\n",
       "    </tr>\n",
       "    <tr>\n",
       "      <th>t3_ehgzu1</th>\n",
       "      <td>nfl</td>\n",
       "      <td>nba</td>\n",
       "      <td>siciliano so game 256 comes down to one play</td>\n",
       "    </tr>\n",
       "    <tr>\n",
       "      <th>t3_ehiiue</th>\n",
       "      <td>nfl</td>\n",
       "      <td>nba</td>\n",
       "      <td>nfl draft order top 20 set</td>\n",
       "    </tr>\n",
       "    <tr>\n",
       "      <th>t3_ehlj3x</th>\n",
       "      <td>nfl</td>\n",
       "      <td>nba</td>\n",
       "      <td>which playoff game s will romo cast</td>\n",
       "    </tr>\n",
       "    <tr>\n",
       "      <th>t3_ehm1xy</th>\n",
       "      <td>nfl</td>\n",
       "      <td>nba</td>\n",
       "      <td>fans of the 8 teams playing this weekend how does everyone feel about their first round matchup</td>\n",
       "    </tr>\n",
       "    <tr>\n",
       "      <th>t3_ehnm3w</th>\n",
       "      <td>nfl</td>\n",
       "      <td>nba</td>\n",
       "      <td>jackson xavien howard arrest details</td>\n",
       "    </tr>\n",
       "    <tr>\n",
       "      <th>t3_ehnwvg</th>\n",
       "      <td>nfl</td>\n",
       "      <td>nba</td>\n",
       "      <td>person tre boston on cam newton the rest of those boys are playing to 40 but they got o lines why does cam get to have just average lines get beat up amp the rest of these guys have healthy o lines and get the same treatment as aw man these guys can play til they re 40 with ease</td>\n",
       "    </tr>\n",
       "    <tr>\n",
       "      <th>t3_ehpy1s</th>\n",
       "      <td>nba</td>\n",
       "      <td>nfl</td>\n",
       "      <td>stupid question why did the lakers sign cousins to a one year contract</td>\n",
       "    </tr>\n",
       "    <tr>\n",
       "      <th>t3_ehqbt5</th>\n",
       "      <td>nba</td>\n",
       "      <td>nfl</td>\n",
       "      <td>official r nba power rankings 5 12 30 2019 last ranking of the decade edition</td>\n",
       "    </tr>\n",
       "    <tr>\n",
       "      <th>t3_ehr9ma</th>\n",
       "      <td>nfl</td>\n",
       "      <td>nba</td>\n",
       "      <td>2010s in review the top 10 stat leaders over the decade</td>\n",
       "    </tr>\n",
       "    <tr>\n",
       "      <th>t3_ehrs31</th>\n",
       "      <td>nfl</td>\n",
       "      <td>nba</td>\n",
       "      <td>what are the nfl s most expensive seats</td>\n",
       "    </tr>\n",
       "    <tr>\n",
       "      <th>t3_ehrygk</th>\n",
       "      <td>nba</td>\n",
       "      <td>nfl</td>\n",
       "      <td>john wall rehab update dunking basketballs</td>\n",
       "    </tr>\n",
       "    <tr>\n",
       "      <th>t3_ehsttx</th>\n",
       "      <td>nba</td>\n",
       "      <td>nfl</td>\n",
       "      <td>what is hayward s value on the market</td>\n",
       "    </tr>\n",
       "    <tr>\n",
       "      <th>t3_ehtrhb</th>\n",
       "      <td>nfl</td>\n",
       "      <td>nba</td>\n",
       "      <td>if you re an eagles fan and can get one injured player back for the seattle game who would it be</td>\n",
       "    </tr>\n",
       "    <tr>\n",
       "      <th>t3_ehuiic</th>\n",
       "      <td>nba</td>\n",
       "      <td>nfl</td>\n",
       "      <td>schlecht steven adams said on the lowe post that he was disappointed in kd for not reaching out to him or his teammates before after he left when asked if he s talked to him since adams replied not at all i sent him a message on facebook but i don t think he uses facebook</td>\n",
       "    </tr>\n",
       "    <tr>\n",
       "      <th>t3_ehupzl</th>\n",
       "      <td>nfl</td>\n",
       "      <td>nba</td>\n",
       "      <td>where do good new head coaches come from</td>\n",
       "    </tr>\n",
       "    <tr>\n",
       "      <th>t3_ehx3ii</th>\n",
       "      <td>nfl</td>\n",
       "      <td>nba</td>\n",
       "      <td>why is the epa of a successfully recovered onside kick 0</td>\n",
       "    </tr>\n",
       "    <tr>\n",
       "      <th>t3_ehyxn4</th>\n",
       "      <td>nba</td>\n",
       "      <td>nfl</td>\n",
       "      <td>must see playoff games</td>\n",
       "    </tr>\n",
       "    <tr>\n",
       "      <th>t3_ei36pa</th>\n",
       "      <td>nfl</td>\n",
       "      <td>nba</td>\n",
       "      <td>this week s top r nfl highlight s</td>\n",
       "    </tr>\n",
       "    <tr>\n",
       "      <th>t3_ei51ap</th>\n",
       "      <td>nfl</td>\n",
       "      <td>nba</td>\n",
       "      <td>who will have better career devin singletary or david montgomery</td>\n",
       "    </tr>\n",
       "    <tr>\n",
       "      <th>t3_ei5he6</th>\n",
       "      <td>nfl</td>\n",
       "      <td>nba</td>\n",
       "      <td>talko tuesday</td>\n",
       "    </tr>\n",
       "    <tr>\n",
       "      <th>t3_ei7c16</th>\n",
       "      <td>nfl</td>\n",
       "      <td>nba</td>\n",
       "      <td>kremenjas rams got 25 4m in cap space currently they ll have 54 1m if they make these moves release eric weddle saves 4 25m restructure jared goff frees 16 8m trade todd gurley saves 4 65m extend jalen ramsey frees roughly 3m at least 3 4 should be easy to do</td>\n",
       "    </tr>\n",
       "    <tr>\n",
       "      <th>t3_ei82kw</th>\n",
       "      <td>nfl</td>\n",
       "      <td>nba</td>\n",
       "      <td>big ben approaching significant date in elbow rehab</td>\n",
       "    </tr>\n",
       "  </tbody>\n",
       "</table>\n",
       "</div>"
      ],
      "text/plain": [
       "          y_actual y_predicted  \\\n",
       "t3_egvgl9      nba         nfl   \n",
       "t3_ehboan      nfl         nba   \n",
       "t3_ehc6su      nba         nfl   \n",
       "t3_ehgzu1      nfl         nba   \n",
       "t3_ehiiue      nfl         nba   \n",
       "t3_ehlj3x      nfl         nba   \n",
       "t3_ehm1xy      nfl         nba   \n",
       "t3_ehnm3w      nfl         nba   \n",
       "t3_ehnwvg      nfl         nba   \n",
       "t3_ehpy1s      nba         nfl   \n",
       "t3_ehqbt5      nba         nfl   \n",
       "t3_ehr9ma      nfl         nba   \n",
       "t3_ehrs31      nfl         nba   \n",
       "t3_ehrygk      nba         nfl   \n",
       "t3_ehsttx      nba         nfl   \n",
       "t3_ehtrhb      nfl         nba   \n",
       "t3_ehuiic      nba         nfl   \n",
       "t3_ehupzl      nfl         nba   \n",
       "t3_ehx3ii      nfl         nba   \n",
       "t3_ehyxn4      nba         nfl   \n",
       "t3_ei36pa      nfl         nba   \n",
       "t3_ei51ap      nfl         nba   \n",
       "t3_ei5he6      nfl         nba   \n",
       "t3_ei7c16      nfl         nba   \n",
       "t3_ei82kw      nfl         nba   \n",
       "\n",
       "                                                                                                                                                                                                                                                                                             title  \n",
       "t3_egvgl9                                 charania the nuggets has been open to discussing deals around young talents malik beasley and juancho hernangomez but have asked for a high value ahead of the february trade deadline according to sources both turned down extensions this past summer  \n",
       "t3_ehboan                                                                                                                                                                                                                                  highlight tavon wilson called for unnecessary roughness  \n",
       "t3_ehc6su                                                                                                                                                                                                                 aside from the 2015 16 season what is the best nba season in nba history  \n",
       "t3_ehgzu1                                                                                                                                                                                                                                             siciliano so game 256 comes down to one play  \n",
       "t3_ehiiue                                                                                                                                                                                                                                                               nfl draft order top 20 set  \n",
       "t3_ehlj3x                                                                                                                                                                                                                                                      which playoff game s will romo cast  \n",
       "t3_ehm1xy                                                                                                                                                                                          fans of the 8 teams playing this weekend how does everyone feel about their first round matchup  \n",
       "t3_ehnm3w                                                                                                                                                                                                                                                     jackson xavien howard arrest details  \n",
       "t3_ehnwvg  person tre boston on cam newton the rest of those boys are playing to 40 but they got o lines why does cam get to have just average lines get beat up amp the rest of these guys have healthy o lines and get the same treatment as aw man these guys can play til they re 40 with ease  \n",
       "t3_ehpy1s                                                                                                                                                                                                                   stupid question why did the lakers sign cousins to a one year contract  \n",
       "t3_ehqbt5                                                                                                                                                                                                            official r nba power rankings 5 12 30 2019 last ranking of the decade edition  \n",
       "t3_ehr9ma                                                                                                                                                                                                                                  2010s in review the top 10 stat leaders over the decade  \n",
       "t3_ehrs31                                                                                                                                                                                                                                                  what are the nfl s most expensive seats  \n",
       "t3_ehrygk                                                                                                                                                                                                                                               john wall rehab update dunking basketballs  \n",
       "t3_ehsttx                                                                                                                                                                                                                                                    what is hayward s value on the market  \n",
       "t3_ehtrhb                                                                                                                                                                                         if you re an eagles fan and can get one injured player back for the seattle game who would it be  \n",
       "t3_ehuiic         schlecht steven adams said on the lowe post that he was disappointed in kd for not reaching out to him or his teammates before after he left when asked if he s talked to him since adams replied not at all i sent him a message on facebook but i don t think he uses facebook  \n",
       "t3_ehupzl                                                                                                                                                                                                                                                 where do good new head coaches come from  \n",
       "t3_ehx3ii                                                                                                                                                                                                                                 why is the epa of a successfully recovered onside kick 0  \n",
       "t3_ehyxn4                                                                                                                                                                                                                                                                   must see playoff games  \n",
       "t3_ei36pa                                                                                                                                                                                                                                                        this week s top r nfl highlight s  \n",
       "t3_ei51ap                                                                                                                                                                                                                         who will have better career devin singletary or david montgomery  \n",
       "t3_ei5he6                                                                                                                                                                                                                                                                            talko tuesday  \n",
       "t3_ei7c16                      kremenjas rams got 25 4m in cap space currently they ll have 54 1m if they make these moves release eric weddle saves 4 25m restructure jared goff frees 16 8m trade todd gurley saves 4 65m extend jalen ramsey frees roughly 3m at least 3 4 should be easy to do  \n",
       "t3_ei82kw                                                                                                                                                                                                                                      big ben approaching significant date in elbow rehab  "
      ]
     },
     "execution_count": 100,
     "metadata": {},
     "output_type": "execute_result"
    }
   ],
   "source": [
    "mismatches"
   ]
  },
  {
   "cell_type": "markdown",
   "metadata": {},
   "source": [
    "### Let's try TF-IDF"
   ]
  },
  {
   "cell_type": "markdown",
   "metadata": {},
   "source": [
    "Term Frequency / Inverse Document Frequency\n",
    "\n",
    "TF(w) = (Number of times term w appears in a document) / (Total number of terms in the document)\n",
    "\n",
    "IDF(w) = log_e(Total number of documents / Number of documents with term w in it)"
   ]
  },
  {
   "cell_type": "code",
   "execution_count": 103,
   "metadata": {},
   "outputs": [],
   "source": [
    "tfidf_vec = TfidfVectorizer(analyzer=\"word\",\n",
    "                            tokenizer=None,\n",
    "                            preprocessor=None,\n",
    "                            stop_words=stopwords,\n",
    "                            max_features=5000,\n",
    "                            ngram_range=(1, 3))"
   ]
  },
  {
   "cell_type": "code",
   "execution_count": 104,
   "metadata": {},
   "outputs": [
    {
     "data": {
      "text/plain": [
       "((1296, 5000), (432, 5000))"
      ]
     },
     "execution_count": 104,
     "metadata": {},
     "output_type": "execute_result"
    }
   ],
   "source": [
    "train_data_features = tfidf_vec.fit_transform(clean_train_data)\n",
    "\n",
    "test_data_features = tfidf_vec.transform(clean_test_data)\n",
    "\n",
    "train_data_features = train_data_features.toarray()\n",
    "\n",
    "train_data_features.shape, test_data_features.shape"
   ]
  },
  {
   "cell_type": "code",
   "execution_count": 105,
   "metadata": {},
   "outputs": [
    {
     "name": "stderr",
     "output_type": "stream",
     "text": [
      "/usr/local/lib/python3.7/site-packages/sklearn/linear_model/logistic.py:432: FutureWarning: Default solver will be changed to 'lbfgs' in 0.22. Specify a solver to silence this warning.\n",
      "  FutureWarning)\n"
     ]
    },
    {
     "data": {
      "text/plain": [
       "LogisticRegression(C=1.0, class_weight=None, dual=False, fit_intercept=True,\n",
       "                   intercept_scaling=1, l1_ratio=None, max_iter=100,\n",
       "                   multi_class='warn', n_jobs=None, penalty='l2',\n",
       "                   random_state=None, solver='warn', tol=0.0001, verbose=0,\n",
       "                   warm_start=False)"
      ]
     },
     "execution_count": 105,
     "metadata": {},
     "output_type": "execute_result"
    }
   ],
   "source": [
    "lr.fit(train_data_features, y_train)"
   ]
  },
  {
   "cell_type": "code",
   "execution_count": 106,
   "metadata": {},
   "outputs": [
    {
     "data": {
      "text/plain": [
       "0.9776234567901234"
      ]
     },
     "execution_count": 106,
     "metadata": {},
     "output_type": "execute_result"
    }
   ],
   "source": [
    "lr.score(train_data_features, y_train)"
   ]
  },
  {
   "cell_type": "code",
   "execution_count": 107,
   "metadata": {},
   "outputs": [
    {
     "data": {
      "text/plain": [
       "0.8958333333333334"
      ]
     },
     "execution_count": 107,
     "metadata": {},
     "output_type": "execute_result"
    }
   ],
   "source": [
    "lr.score(test_data_features, y_test)"
   ]
  },
  {
   "cell_type": "markdown",
   "metadata": {},
   "source": [
    "### Let's try on some other subreddits"
   ]
  },
  {
   "cell_type": "code",
   "execution_count": 108,
   "metadata": {},
   "outputs": [],
   "source": [
    "train = pd.concat([politics_test, conservative_test])"
   ]
  },
  {
   "cell_type": "code",
   "execution_count": 109,
   "metadata": {},
   "outputs": [],
   "source": [
    "X = train[['title']]\n",
    "y = train['subreddit']"
   ]
  },
  {
   "cell_type": "code",
   "execution_count": 110,
   "metadata": {},
   "outputs": [],
   "source": [
    "# politics_test = scrape_to_df(scraper_bike, 'https://www.reddit.com/r/politics.json')\n",
    "# conservative_test = scrape_to_df(scraper_bike, 'https://www.reddit.com/r/conservative.json')"
   ]
  },
  {
   "cell_type": "code",
   "execution_count": 111,
   "metadata": {},
   "outputs": [],
   "source": [
    "X_train, X_test, y_train, y_test = train_test_split(X, y, random_state = 42, stratify = y)"
   ]
  },
  {
   "cell_type": "code",
   "execution_count": 112,
   "metadata": {},
   "outputs": [],
   "source": [
    "politics_test = politics_test.drop(columns='selftext')\n",
    "conservative_test = conservative_test.drop(columns='selftext')\n",
    "\n",
    "train = pd.concat([politics_test, conservative_test])\n",
    "tokenizer = RegexpTokenizer(r'\\w+')\n",
    "\n",
    "train['title'] = train['title'].map(lambda x: tokenizer.tokenize(x.lower()))\n",
    "train['title'] = train['title'].map(lambda x: ' '.join(x))"
   ]
  },
  {
   "cell_type": "code",
   "execution_count": 113,
   "metadata": {},
   "outputs": [],
   "source": [
    "# create our training data list - this is a list of strings, with each string being a post title\n",
    "\n",
    "clean_train_data = []\n",
    "\n",
    "for traindata in X_train['title']:\n",
    "    clean_train_data.append(traindata)\n",
    "    \n",
    "    \n",
    "# create test data list\n",
    "\n",
    "clean_test_data = []\n",
    "\n",
    "for testdata in X_test['title']:\n",
    "    clean_test_data.append(testdata)"
   ]
  },
  {
   "cell_type": "code",
   "execution_count": 114,
   "metadata": {},
   "outputs": [],
   "source": [
    "vectorizer = CountVectorizer(analyzer=\"word\",\n",
    "                             tokenizer=None,\n",
    "                             preprocessor=None,\n",
    "                             stop_words='english',\n",
    "                             max_features=5000,\n",
    "                             ngram_range=(1, 3))\n",
    "\n",
    "train_data_features = vectorizer.fit_transform(clean_train_data)\n",
    "\n",
    "test_data_features = vectorizer.transform(clean_test_data)\n",
    "\n",
    "train_data_features = train_data_features.toarray()\n",
    "\n",
    "train_data_features.shape, test_data_features.shape\n",
    "\n",
    "vocab = vectorizer.get_feature_names()"
   ]
  },
  {
   "cell_type": "markdown",
   "metadata": {},
   "source": [
    "### Modeling"
   ]
  },
  {
   "cell_type": "code",
   "execution_count": 115,
   "metadata": {},
   "outputs": [],
   "source": [
    "lr = LogisticRegression(penalty = 'l2')"
   ]
  },
  {
   "cell_type": "code",
   "execution_count": 116,
   "metadata": {},
   "outputs": [
    {
     "data": {
      "text/plain": [
       "((1342, 5000), (1342,))"
      ]
     },
     "execution_count": 116,
     "metadata": {},
     "output_type": "execute_result"
    }
   ],
   "source": [
    "train_data_features.shape, y_train.shape"
   ]
  },
  {
   "cell_type": "code",
   "execution_count": 117,
   "metadata": {},
   "outputs": [
    {
     "name": "stderr",
     "output_type": "stream",
     "text": [
      "/usr/local/lib/python3.7/site-packages/sklearn/linear_model/logistic.py:432: FutureWarning: Default solver will be changed to 'lbfgs' in 0.22. Specify a solver to silence this warning.\n",
      "  FutureWarning)\n"
     ]
    },
    {
     "data": {
      "text/plain": [
       "0.9791356184798807"
      ]
     },
     "execution_count": 117,
     "metadata": {},
     "output_type": "execute_result"
    }
   ],
   "source": [
    "lr.fit(train_data_features, y_train)\n",
    "\n",
    "lr.score(train_data_features, y_train)"
   ]
  },
  {
   "cell_type": "code",
   "execution_count": 118,
   "metadata": {},
   "outputs": [
    {
     "data": {
      "text/plain": [
       "0.7589285714285714"
      ]
     },
     "execution_count": 118,
     "metadata": {},
     "output_type": "execute_result"
    }
   ],
   "source": [
    "lr.score(test_data_features, y_test)"
   ]
  },
  {
   "cell_type": "code",
   "execution_count": 119,
   "metadata": {},
   "outputs": [],
   "source": [
    "coef_list = lr.coef_.tolist()\n",
    "\n",
    "coef_list = coef_list[0]"
   ]
  },
  {
   "cell_type": "code",
   "execution_count": 120,
   "metadata": {
    "scrolled": true
   },
   "outputs": [
    {
     "data": {
      "text/html": [
       "<div>\n",
       "<style scoped>\n",
       "    .dataframe tbody tr th:only-of-type {\n",
       "        vertical-align: middle;\n",
       "    }\n",
       "\n",
       "    .dataframe tbody tr th {\n",
       "        vertical-align: top;\n",
       "    }\n",
       "\n",
       "    .dataframe thead th {\n",
       "        text-align: right;\n",
       "    }\n",
       "</style>\n",
       "<table border=\"1\" class=\"dataframe\">\n",
       "  <thead>\n",
       "    <tr style=\"text-align: right;\">\n",
       "      <th></th>\n",
       "      <th>features</th>\n",
       "      <th>coefs</th>\n",
       "    </tr>\n",
       "  </thead>\n",
       "  <tbody>\n",
       "    <tr>\n",
       "      <th>434</th>\n",
       "      <td>christmas</td>\n",
       "      <td>-1.587226</td>\n",
       "    </tr>\n",
       "    <tr>\n",
       "      <th>475</th>\n",
       "      <td>cnn</td>\n",
       "      <td>-1.035872</td>\n",
       "    </tr>\n",
       "    <tr>\n",
       "      <th>1773</th>\n",
       "      <td>media</td>\n",
       "      <td>-1.002236</td>\n",
       "    </tr>\n",
       "    <tr>\n",
       "      <th>1289</th>\n",
       "      <td>judges</td>\n",
       "      <td>-0.968403</td>\n",
       "    </tr>\n",
       "    <tr>\n",
       "      <th>1363</th>\n",
       "      <td>left</td>\n",
       "      <td>-0.897656</td>\n",
       "    </tr>\n",
       "    <tr>\n",
       "      <th>2588</th>\n",
       "      <td>pelosi</td>\n",
       "      <td>-0.858753</td>\n",
       "    </tr>\n",
       "    <tr>\n",
       "      <th>2209</th>\n",
       "      <td>ny</td>\n",
       "      <td>-0.833268</td>\n",
       "    </tr>\n",
       "    <tr>\n",
       "      <th>1169</th>\n",
       "      <td>impeached</td>\n",
       "      <td>-0.823107</td>\n",
       "    </tr>\n",
       "    <tr>\n",
       "      <th>4054</th>\n",
       "      <td>reveals</td>\n",
       "      <td>-0.821288</td>\n",
       "    </tr>\n",
       "    <tr>\n",
       "      <th>1141</th>\n",
       "      <td>hunter</td>\n",
       "      <td>-0.815906</td>\n",
       "    </tr>\n",
       "    <tr>\n",
       "      <th>993</th>\n",
       "      <td>global</td>\n",
       "      <td>-0.813550</td>\n",
       "    </tr>\n",
       "    <tr>\n",
       "      <th>164</th>\n",
       "      <td>anti trump</td>\n",
       "      <td>-0.807136</td>\n",
       "    </tr>\n",
       "    <tr>\n",
       "      <th>280</th>\n",
       "      <td>blame</td>\n",
       "      <td>-0.797419</td>\n",
       "    </tr>\n",
       "    <tr>\n",
       "      <th>4557</th>\n",
       "      <td>trump supporters</td>\n",
       "      <td>-0.789966</td>\n",
       "    </tr>\n",
       "    <tr>\n",
       "      <th>1068</th>\n",
       "      <td>hate</td>\n",
       "      <td>-0.777644</td>\n",
       "    </tr>\n",
       "    <tr>\n",
       "      <th>862</th>\n",
       "      <td>fbi</td>\n",
       "      <td>-0.773762</td>\n",
       "    </tr>\n",
       "    <tr>\n",
       "      <th>2652</th>\n",
       "      <td>poll trump</td>\n",
       "      <td>-0.734948</td>\n",
       "    </tr>\n",
       "    <tr>\n",
       "      <th>29</th>\n",
       "      <td>2020 trump</td>\n",
       "      <td>-0.716056</td>\n",
       "    </tr>\n",
       "    <tr>\n",
       "      <th>334</th>\n",
       "      <td>brother</td>\n",
       "      <td>-0.713256</td>\n",
       "    </tr>\n",
       "    <tr>\n",
       "      <th>1142</th>\n",
       "      <td>hunter biden</td>\n",
       "      <td>-0.711794</td>\n",
       "    </tr>\n",
       "    <tr>\n",
       "      <th>4424</th>\n",
       "      <td>thing</td>\n",
       "      <td>-0.701847</td>\n",
       "    </tr>\n",
       "    <tr>\n",
       "      <th>4020</th>\n",
       "      <td>required</td>\n",
       "      <td>-0.696269</td>\n",
       "    </tr>\n",
       "    <tr>\n",
       "      <th>670</th>\n",
       "      <td>dems</td>\n",
       "      <td>-0.691552</td>\n",
       "    </tr>\n",
       "    <tr>\n",
       "      <th>165</th>\n",
       "      <td>aoc</td>\n",
       "      <td>-0.663548</td>\n",
       "    </tr>\n",
       "    <tr>\n",
       "      <th>4282</th>\n",
       "      <td>soros</td>\n",
       "      <td>-0.662228</td>\n",
       "    </tr>\n",
       "    <tr>\n",
       "      <th>4674</th>\n",
       "      <td>vs</td>\n",
       "      <td>-0.641544</td>\n",
       "    </tr>\n",
       "    <tr>\n",
       "      <th>4804</th>\n",
       "      <td>working class</td>\n",
       "      <td>-0.632477</td>\n",
       "    </tr>\n",
       "    <tr>\n",
       "      <th>4173</th>\n",
       "      <td>seats</td>\n",
       "      <td>-0.618964</td>\n",
       "    </tr>\n",
       "    <tr>\n",
       "      <th>3185</th>\n",
       "      <td>protest</td>\n",
       "      <td>-0.615989</td>\n",
       "    </tr>\n",
       "    <tr>\n",
       "      <th>926</th>\n",
       "      <td>free</td>\n",
       "      <td>-0.613951</td>\n",
       "    </tr>\n",
       "    <tr>\n",
       "      <th>...</th>\n",
       "      <td>...</td>\n",
       "      <td>...</td>\n",
       "    </tr>\n",
       "    <tr>\n",
       "      <th>557</th>\n",
       "      <td>corruption</td>\n",
       "      <td>0.814087</td>\n",
       "    </tr>\n",
       "    <tr>\n",
       "      <th>4108</th>\n",
       "      <td>safety</td>\n",
       "      <td>0.818797</td>\n",
       "    </tr>\n",
       "    <tr>\n",
       "      <th>1340</th>\n",
       "      <td>laws</td>\n",
       "      <td>0.820056</td>\n",
       "    </tr>\n",
       "    <tr>\n",
       "      <th>4112</th>\n",
       "      <td>salute</td>\n",
       "      <td>0.829535</td>\n",
       "    </tr>\n",
       "    <tr>\n",
       "      <th>899</th>\n",
       "      <td>florida</td>\n",
       "      <td>0.832046</td>\n",
       "    </tr>\n",
       "    <tr>\n",
       "      <th>4206</th>\n",
       "      <td>senator</td>\n",
       "      <td>0.833281</td>\n",
       "    </tr>\n",
       "    <tr>\n",
       "      <th>1239</th>\n",
       "      <td>issue</td>\n",
       "      <td>0.849072</td>\n",
       "    </tr>\n",
       "    <tr>\n",
       "      <th>306</th>\n",
       "      <td>bolton</td>\n",
       "      <td>0.849298</td>\n",
       "    </tr>\n",
       "    <tr>\n",
       "      <th>3008</th>\n",
       "      <td>privacy</td>\n",
       "      <td>0.862879</td>\n",
       "    </tr>\n",
       "    <tr>\n",
       "      <th>1378</th>\n",
       "      <td>lewis</td>\n",
       "      <td>0.870775</td>\n",
       "    </tr>\n",
       "    <tr>\n",
       "      <th>1270</th>\n",
       "      <td>john lewis</td>\n",
       "      <td>0.870775</td>\n",
       "    </tr>\n",
       "    <tr>\n",
       "      <th>3310</th>\n",
       "      <td>putin</td>\n",
       "      <td>0.882440</td>\n",
       "    </tr>\n",
       "    <tr>\n",
       "      <th>1009</th>\n",
       "      <td>gop</td>\n",
       "      <td>0.887663</td>\n",
       "    </tr>\n",
       "    <tr>\n",
       "      <th>368</th>\n",
       "      <td>care</td>\n",
       "      <td>0.891690</td>\n",
       "    </tr>\n",
       "    <tr>\n",
       "      <th>72</th>\n",
       "      <td>administration</td>\n",
       "      <td>0.897415</td>\n",
       "    </tr>\n",
       "    <tr>\n",
       "      <th>4714</th>\n",
       "      <td>ways</td>\n",
       "      <td>0.949755</td>\n",
       "    </tr>\n",
       "    <tr>\n",
       "      <th>4465</th>\n",
       "      <td>track</td>\n",
       "      <td>0.949818</td>\n",
       "    </tr>\n",
       "    <tr>\n",
       "      <th>4071</th>\n",
       "      <td>rights</td>\n",
       "      <td>0.951664</td>\n",
       "    </tr>\n",
       "    <tr>\n",
       "      <th>1228</th>\n",
       "      <td>iraq</td>\n",
       "      <td>0.978675</td>\n",
       "    </tr>\n",
       "    <tr>\n",
       "      <th>2642</th>\n",
       "      <td>political</td>\n",
       "      <td>1.025705</td>\n",
       "    </tr>\n",
       "    <tr>\n",
       "      <th>880</th>\n",
       "      <td>fight</td>\n",
       "      <td>1.029725</td>\n",
       "    </tr>\n",
       "    <tr>\n",
       "      <th>547</th>\n",
       "      <td>control</td>\n",
       "      <td>1.034155</td>\n",
       "    </tr>\n",
       "    <tr>\n",
       "      <th>4907</th>\n",
       "      <td>year</td>\n",
       "      <td>1.080141</td>\n",
       "    </tr>\n",
       "    <tr>\n",
       "      <th>2656</th>\n",
       "      <td>pompeo</td>\n",
       "      <td>1.088612</td>\n",
       "    </tr>\n",
       "    <tr>\n",
       "      <th>4014</th>\n",
       "      <td>republicans</td>\n",
       "      <td>1.142556</td>\n",
       "    </tr>\n",
       "    <tr>\n",
       "      <th>4902</th>\n",
       "      <td>yang</td>\n",
       "      <td>1.175097</td>\n",
       "    </tr>\n",
       "    <tr>\n",
       "      <th>4593</th>\n",
       "      <td>ukraine</td>\n",
       "      <td>1.374470</td>\n",
       "    </tr>\n",
       "    <tr>\n",
       "      <th>4493</th>\n",
       "      <td>trump</td>\n",
       "      <td>1.385168</td>\n",
       "    </tr>\n",
       "    <tr>\n",
       "      <th>985</th>\n",
       "      <td>giuliani</td>\n",
       "      <td>1.636602</td>\n",
       "    </tr>\n",
       "    <tr>\n",
       "      <th>4116</th>\n",
       "      <td>sanders</td>\n",
       "      <td>1.998935</td>\n",
       "    </tr>\n",
       "  </tbody>\n",
       "</table>\n",
       "<p>5000 rows × 2 columns</p>\n",
       "</div>"
      ],
      "text/plain": [
       "              features     coefs\n",
       "434          christmas -1.587226\n",
       "475                cnn -1.035872\n",
       "1773             media -1.002236\n",
       "1289            judges -0.968403\n",
       "1363              left -0.897656\n",
       "2588            pelosi -0.858753\n",
       "2209                ny -0.833268\n",
       "1169         impeached -0.823107\n",
       "4054           reveals -0.821288\n",
       "1141            hunter -0.815906\n",
       "993             global -0.813550\n",
       "164         anti trump -0.807136\n",
       "280              blame -0.797419\n",
       "4557  trump supporters -0.789966\n",
       "1068              hate -0.777644\n",
       "862                fbi -0.773762\n",
       "2652        poll trump -0.734948\n",
       "29          2020 trump -0.716056\n",
       "334            brother -0.713256\n",
       "1142      hunter biden -0.711794\n",
       "4424             thing -0.701847\n",
       "4020          required -0.696269\n",
       "670               dems -0.691552\n",
       "165                aoc -0.663548\n",
       "4282             soros -0.662228\n",
       "4674                vs -0.641544\n",
       "4804     working class -0.632477\n",
       "4173             seats -0.618964\n",
       "3185           protest -0.615989\n",
       "926               free -0.613951\n",
       "...                ...       ...\n",
       "557         corruption  0.814087\n",
       "4108            safety  0.818797\n",
       "1340              laws  0.820056\n",
       "4112            salute  0.829535\n",
       "899            florida  0.832046\n",
       "4206           senator  0.833281\n",
       "1239             issue  0.849072\n",
       "306             bolton  0.849298\n",
       "3008           privacy  0.862879\n",
       "1378             lewis  0.870775\n",
       "1270        john lewis  0.870775\n",
       "3310             putin  0.882440\n",
       "1009               gop  0.887663\n",
       "368               care  0.891690\n",
       "72      administration  0.897415\n",
       "4714              ways  0.949755\n",
       "4465             track  0.949818\n",
       "4071            rights  0.951664\n",
       "1228              iraq  0.978675\n",
       "2642         political  1.025705\n",
       "880              fight  1.029725\n",
       "547            control  1.034155\n",
       "4907              year  1.080141\n",
       "2656            pompeo  1.088612\n",
       "4014       republicans  1.142556\n",
       "4902              yang  1.175097\n",
       "4593           ukraine  1.374470\n",
       "4493             trump  1.385168\n",
       "985           giuliani  1.636602\n",
       "4116           sanders  1.998935\n",
       "\n",
       "[5000 rows x 2 columns]"
      ]
     },
     "execution_count": 120,
     "metadata": {},
     "output_type": "execute_result"
    }
   ],
   "source": [
    "coef_df = pd.DataFrame({'features' : vectorizer.get_feature_names(),\n",
    "                       'coefs' : coef_list})\n",
    "\n",
    "coef_df.sort_values(by = ['coefs'])"
   ]
  },
  {
   "cell_type": "markdown",
   "metadata": {},
   "source": [
    "# Understanding word vectors"
   ]
  },
  {
   "cell_type": "markdown",
   "metadata": {},
   "source": [
    "... for, like, actual poets. By [Allison Parrish](http://www.decontextualize.com/)\n",
    "\n",
    "\n",
    "## Why word vectors?\n",
    "\n",
    "Poetry is, at its core, the art of identifying and manipulating linguistic similarity. I have discovered a truly marvelous proof of this, which this notebook is too narrow to contain. (By which I mean: I will elaborate on this some other time)"
   ]
  },
  {
   "cell_type": "markdown",
   "metadata": {},
   "source": [
    "## Animal similarity and simple linear algebra\n",
    "\n",
    "We'll begin by considering a small subset of English: words for animals. Our task is to be able to write computer programs to find similarities among these words and the creatures they designate. To do this, we might start by making a spreadsheet of some animals and their characteristics. For example:\n",
    "\n",
    "![Animal spreadsheet](http://static.decontextualize.com/snaps/animal-spreadsheet.png)\n",
    "\n",
    "This spreadsheet associates a handful of animals with two numbers: their cuteness and their size, both in a range from zero to one hundred. (The values themselves are simply based on my own judgment. Your taste in cuteness and evaluation of size may differ significantly from mine. As with all data, these data are simply a mirror reflection of the person who collected them.)\n",
    "\n",
    "These values give us everything we need to make determinations about which animals are similar (at least, similar in the properties that we've included in the data). Try to answer the following question: Which animal is most similar to a capybara? You could go through the values one by one and do the math to make that evaluation, but visualizing the data as points in 2-dimensional space makes finding the answer very intuitive:\n",
    "\n",
    "![Animal space](http://static.decontextualize.com/snaps/animal-space.png)\n",
    "\n",
    "The plot shows us that the closest animal to the capybara is the panda bear (again, in terms of its subjective size and cuteness). One way of calculating how \"far apart\" two points are is to find their *Euclidean distance*. (This is simply the length of the line that connects the two points.) For points in two dimensions, Euclidean distance can be calculated with the following Python function:"
   ]
  },
  {
   "cell_type": "code",
   "execution_count": 121,
   "metadata": {},
   "outputs": [],
   "source": [
    "import numpy as np\n",
    "def distance2d(x1, y1, x2, y2):\n",
    "    return np.linalg.norm(np.array([x1, y1])-np.array([x2, y2]))"
   ]
  },
  {
   "cell_type": "markdown",
   "metadata": {},
   "source": [
    "So, the distance between \"capybara\" (70, 30) and \"panda\" (74, 40):"
   ]
  },
  {
   "cell_type": "code",
   "execution_count": 122,
   "metadata": {},
   "outputs": [
    {
     "data": {
      "text/plain": [
       "11.180339887498949"
      ]
     },
     "execution_count": 122,
     "metadata": {},
     "output_type": "execute_result"
    }
   ],
   "source": [
    "distance2d(70, 30, 75, 40) # panda and capybara"
   ]
  },
  {
   "cell_type": "markdown",
   "metadata": {},
   "source": [
    "... is less than the distance between \"tarantula\" and \"elephant\":"
   ]
  },
  {
   "cell_type": "code",
   "execution_count": 123,
   "metadata": {},
   "outputs": [
    {
     "data": {
      "text/plain": [
       "104.0096149401583"
      ]
     },
     "execution_count": 123,
     "metadata": {},
     "output_type": "execute_result"
    }
   ],
   "source": [
    "distance2d(8, 3, 65, 90) # tarantula and elephant"
   ]
  },
  {
   "cell_type": "markdown",
   "metadata": {},
   "source": [
    "Modeling animals in this way has a few other interesting properties. For example, you can pick an arbitrary point in \"animal space\" and then find the animal closest to that point. If you imagine an animal of size 25 and cuteness 30, you can easily look at the space to find the animal that most closely fits that description: the chicken.\n",
    "\n",
    "Reasoning visually, you can also answer questions like: what's halfway between a chicken and an elephant? Simply draw a line from \"elephant\" to \"chicken,\" mark off the midpoint and find the closest animal. (According to our chart, halfway between an elephant and a chicken is a horse.)\n",
    "\n",
    "You can also ask: what's the *difference* between a hamster and a tarantula? According to our plot, it's about seventy five units of cute (and a few units of size).\n",
    "\n",
    "The relationship of \"difference\" is an interesting one, because it allows us to reason about *analogous* relationships. In the chart below, I've drawn an arrow from \"tarantula\" to \"hamster\" (in blue):\n",
    "\n",
    "![Animal analogy](http://static.decontextualize.com/snaps/animal-space-analogy.png)\n",
    "\n",
    "You can understand this arrow as being the *relationship* between a tarantula and a hamster, in terms of their size and cuteness (i.e., hamsters and tarantulas are about the same size, but hamsters are much cuter). In the same diagram, I've also transposed this same arrow (this time in red) so that its origin point is \"chicken.\" The arrow ends closest to \"kitten.\" What we've discovered is that the animal that is about the same size as a chicken but much cuter is... a kitten. To put it in terms of an analogy:\n",
    "\n",
    "    Tarantulas are to hamsters as chickens are to kittens.\n",
    "    \n",
    "A sequence of numbers used to identify a point is called a *vector*, and the kind of math we've been doing so far is called *linear algebra.* (Linear algebra is surprisingly useful across many domains: It's the same kind of math you might do to, e.g., simulate the velocity and acceleration of a sprite in a video game.)\n",
    "\n",
    "A set of vectors that are all part of the same data set is often called a *vector space*. The vector space of animals in this section has two *dimensions*, by which I mean that each vector in the space has two numbers associated with it (i.e., two columns in the spreadsheet). The fact that this space has two dimensions just happens to make it easy to *visualize* the space by drawing a 2D plot. But most vector spaces you'll work with will have more than two dimensions—sometimes many hundreds. In those cases, it's more difficult to visualize the \"space,\" but the math works pretty much the same."
   ]
  },
  {
   "cell_type": "markdown",
   "metadata": {},
   "source": [
    "## Language with vectors: colors\n",
    "\n",
    "So far, so good. We have a system in place—albeit highly subjective—for talking about animals and the words used to name them. I want to talk about another vector space that has to do with language: the vector space of colors.\n",
    "\n",
    "Colors are often represented in computers as vectors with three dimensions: red, green, and blue. Just as with the animals in the previous section, we can use these vectors to answer questions like: which colors are similar? What's the most likely color name for an arbitrarily chosen set of values for red, green and blue? Given the names of two colors, what's the name of those colors' \"average\"?\n",
    "\n",
    "We'll be working with this [color data](https://github.com/dariusk/corpora/blob/master/data/colors/xkcd.json) from the [xkcd color survey](https://blog.xkcd.com/2010/05/03/color-survey-results/). The data relates a color name to the RGB value associated with that color. [Here's a page that shows what the colors look like](https://xkcd.com/color/rgb/). Download the color data and put it in the same directory as this notebook.\n",
    "\n",
    "A few notes before we proceed:\n",
    "\n",
    "* The linear algebra functions implemented below (`addv`, `meanv`, etc.) are slow, potentially inaccurate, and shouldn't be used for \"real\" code—I wrote them so beginner programmers can understand how these kinds of functions work behind the scenes. Use [numpy](http://www.numpy.org/) for fast and accurate math in Python.\n",
    "* If you're interested in perceptually accurate color math in Python, consider using the [colormath library](http://python-colormath.readthedocs.io/en/latest/).\n",
    "\n",
    "Now, import the `json` library and load the color data:"
   ]
  },
  {
   "cell_type": "code",
   "execution_count": 124,
   "metadata": {},
   "outputs": [],
   "source": [
    "import requests"
   ]
  },
  {
   "cell_type": "code",
   "execution_count": 125,
   "metadata": {},
   "outputs": [],
   "source": [
    "resp = requests.get('https://raw.githubusercontent.com/dariusk/corpora/master/data/colors/xkcd.json')\n",
    "color_data = resp.json()"
   ]
  },
  {
   "cell_type": "markdown",
   "metadata": {},
   "source": [
    "The following function converts colors from hex format (`#1a2b3c`) to a tuple of integers:"
   ]
  },
  {
   "cell_type": "code",
   "execution_count": 133,
   "metadata": {},
   "outputs": [],
   "source": [
    "def hex_to_int(s):\n",
    "    return int(s[1:3], 16), int(s[3:5], 16), int(s[5:7], 16)"
   ]
  },
  {
   "cell_type": "markdown",
   "metadata": {},
   "source": [
    "And the following cell creates a dictionary and populates it with mappings from color names to RGB vectors for each color in the data:"
   ]
  },
  {
   "cell_type": "code",
   "execution_count": 134,
   "metadata": {},
   "outputs": [],
   "source": [
    "colors = dict()\n",
    "for item in color_data['colors']:\n",
    "    colors[item[\"color\"]] = hex_to_int(item[\"hex\"])"
   ]
  },
  {
   "cell_type": "markdown",
   "metadata": {},
   "source": [
    "Testing it out:"
   ]
  },
  {
   "cell_type": "code",
   "execution_count": 154,
   "metadata": {},
   "outputs": [
    {
     "data": {
      "text/plain": [
       "(255, 255, 20)"
      ]
     },
     "execution_count": 154,
     "metadata": {},
     "output_type": "execute_result"
    }
   ],
   "source": [
    "colors['yellow']"
   ]
  },
  {
   "cell_type": "code",
   "execution_count": 136,
   "metadata": {},
   "outputs": [
    {
     "data": {
      "text/plain": [
       "(229, 0, 0)"
      ]
     },
     "execution_count": 136,
     "metadata": {},
     "output_type": "execute_result"
    }
   ],
   "source": [
    "colors['red']"
   ]
  },
  {
   "cell_type": "code",
   "execution_count": 137,
   "metadata": {},
   "outputs": [
    {
     "data": {
      "text/plain": [
       "(0, 0, 0)"
      ]
     },
     "execution_count": 137,
     "metadata": {},
     "output_type": "execute_result"
    }
   ],
   "source": [
    "colors['black']"
   ]
  },
  {
   "cell_type": "code",
   "execution_count": 138,
   "metadata": {},
   "outputs": [
    {
     "data": {
      "text/plain": [
       "dict_keys(['cloudy blue', 'dark pastel green', 'dust', 'electric lime', 'fresh green', 'light eggplant', 'nasty green', 'really light blue', 'tea', 'warm purple', 'yellowish tan', 'cement', 'dark grass green', 'dusty teal', 'grey teal', 'macaroni and cheese', 'pinkish tan', 'spruce', 'strong blue', 'toxic green', 'windows blue', 'blue blue', 'blue with a hint of purple', 'booger', 'bright sea green', 'dark green blue', 'deep turquoise', 'green teal', 'strong pink', 'bland', 'deep aqua', 'lavender pink', 'light moss green', 'light seafoam green', 'olive yellow', 'pig pink', 'deep lilac', 'desert', 'dusty lavender', 'purpley grey', 'purply', 'candy pink', 'light pastel green', 'boring green', 'kiwi green', 'light grey green', 'orange pink', 'tea green', 'very light brown', 'egg shell', 'eggplant purple', 'powder pink', 'reddish grey', 'baby shit brown', 'liliac', 'stormy blue', 'ugly brown', 'custard', 'darkish pink', 'deep brown', 'greenish beige', 'manilla', 'off blue', 'battleship grey', 'browny green', 'bruise', 'kelley green', 'sickly yellow', 'sunny yellow', 'azul', 'darkgreen', 'green/yellow', 'lichen', 'light light green', 'pale gold', 'sun yellow', 'tan green', 'burple', 'butterscotch', 'toupe', 'dark cream', 'indian red', 'light lavendar', 'poison green', 'baby puke green', 'bright yellow green', 'charcoal grey', 'squash', 'cinnamon', 'light pea green', 'radioactive green', 'raw sienna', 'baby purple', 'cocoa', 'light royal blue', 'orangeish', 'rust brown', 'sand brown', 'swamp', 'tealish green', 'burnt siena', 'camo', 'dusk blue', 'fern', 'old rose', 'pale light green', 'peachy pink', 'rosy pink', 'light bluish green', 'light bright green', 'light neon green', 'light seafoam', 'tiffany blue', 'washed out green', 'browny orange', 'nice blue', 'sapphire', 'greyish teal', 'orangey yellow', 'parchment', 'straw', 'very dark brown', 'terracota', 'ugly blue', 'clear blue', 'creme', 'foam green', 'grey/green', 'light gold', 'seafoam blue', 'topaz', 'violet pink', 'wintergreen', 'yellow tan', 'dark fuchsia', 'indigo blue', 'light yellowish green', 'pale magenta', 'rich purple', 'sunflower yellow', 'green/blue', 'leather', 'racing green', 'vivid purple', 'dark royal blue', 'hazel', 'muted pink', 'booger green', 'canary', 'cool grey', 'dark taupe', 'darkish purple', 'true green', 'coral pink', 'dark sage', 'dark slate blue', 'flat blue', 'mushroom', 'rich blue', 'dirty purple', 'greenblue', 'icky green', 'light khaki', 'warm blue', 'dark hot pink', 'deep sea blue', 'carmine', 'dark yellow green', 'pale peach', 'plum purple', 'golden rod', 'neon red', 'old pink', 'very pale blue', 'blood orange', 'grapefruit', 'sand yellow', 'clay brown', 'dark blue grey', 'flat green', 'light green blue', 'warm pink', 'dodger blue', 'gross green', 'ice', 'metallic blue', 'pale salmon', 'sap green', 'algae', 'bluey grey', 'greeny grey', 'highlighter green', 'light light blue', 'light mint', 'raw umber', 'vivid blue', 'deep lavender', 'dull teal', 'light greenish blue', 'mud green', 'pinky', 'red wine', 'shit green', 'tan brown', 'darkblue', 'rosa', 'lipstick', 'pale mauve', 'claret', 'dandelion', 'orangered', 'poop green', 'ruby', 'dark', 'greenish turquoise', 'pastel red', 'piss yellow', 'bright cyan', 'dark coral', 'algae green', 'darkish red', 'reddy brown', 'blush pink', 'camouflage green', 'lawn green', 'putty', 'vibrant blue', 'dark sand', 'purple/blue', 'saffron', 'twilight', 'warm brown', 'bluegrey', 'bubble gum pink', 'duck egg blue', 'greenish cyan', 'petrol', 'royal', 'butter', 'dusty orange', 'off yellow', 'pale olive green', 'orangish', 'leaf', 'light blue grey', 'dried blood', 'lightish purple', 'rusty red', 'lavender blue', 'light grass green', 'light mint green', 'sunflower', 'velvet', 'brick orange', 'lightish red', 'pure blue', 'twilight blue', 'violet red', 'yellowy brown', 'carnation', 'muddy yellow', 'dark seafoam green', 'deep rose', 'dusty red', 'grey/blue', 'lemon lime', 'purple/pink', 'brown yellow', 'purple brown', 'wisteria', 'banana yellow', 'lipstick red', 'water blue', 'brown grey', 'vibrant purple', 'baby green', 'barf green', 'eggshell blue', 'sandy yellow', 'cool green', 'pale', 'blue/grey', 'hot magenta', 'greyblue', 'purpley', 'baby shit green', 'brownish pink', 'dark aquamarine', 'diarrhea', 'light mustard', 'pale sky blue', 'turtle green', 'bright olive', 'dark grey blue', 'greeny brown', 'lemon green', 'light periwinkle', 'seaweed green', 'sunshine yellow', 'ugly purple', 'medium pink', 'puke brown', 'very light pink', 'viridian', 'bile', 'faded yellow', 'very pale green', 'vibrant green', 'bright lime', 'spearmint', 'light aquamarine', 'light sage', 'yellowgreen', 'baby poo', 'dark seafoam', 'deep teal', 'heather', 'rust orange', 'dirty blue', 'fern green', 'bright lilac', 'weird green', 'peacock blue', 'avocado green', 'faded orange', 'grape purple', 'hot green', 'lime yellow', 'mango', 'shamrock', 'bubblegum', 'purplish brown', 'vomit yellow', 'pale cyan', 'key lime', 'tomato red', 'lightgreen', 'merlot', 'night blue', 'purpleish pink', 'apple', 'baby poop green', 'green apple', 'heliotrope', 'yellow/green', 'almost black', 'cool blue', 'leafy green', 'mustard brown', 'dusk', 'dull brown', 'frog green', 'vivid green', 'bright light green', 'fluro green', 'kiwi', 'seaweed', 'navy green', 'ultramarine blue', 'iris', 'pastel orange', 'yellowish orange', 'perrywinkle', 'tealish', 'dark plum', 'pear', 'pinkish orange', 'midnight purple', 'light urple', 'dark mint', 'greenish tan', 'light burgundy', 'turquoise blue', 'ugly pink', 'sandy', 'electric pink', 'muted purple', 'mid green', 'greyish', 'neon yellow', 'banana', 'carnation pink', 'tomato', 'sea', 'muddy brown', 'turquoise green', 'buff', 'fawn', 'muted blue', 'pale rose', 'dark mint green', 'amethyst', 'blue/green', 'chestnut', 'sick green', 'pea', 'rusty orange', 'stone', 'rose red', 'pale aqua', 'deep orange', 'earth', 'mossy green', 'grassy green', 'pale lime green', 'light grey blue', 'pale grey', 'asparagus', 'blueberry', 'purple red', 'pale lime', 'greenish teal', 'caramel', 'deep magenta', 'light peach', 'milk chocolate', 'ocher', 'off green', 'purply pink', 'lightblue', 'dusky blue', 'golden', 'light beige', 'butter yellow', 'dusky purple', 'french blue', 'ugly yellow', 'greeny yellow', 'orangish red', 'shamrock green', 'orangish brown', 'tree green', 'deep violet', 'gunmetal', 'blue/purple', 'cherry', 'sandy brown', 'warm grey', 'dark indigo', 'midnight', 'bluey green', 'grey pink', 'soft purple', 'blood', 'brown red', 'medium grey', 'berry', 'poo', 'purpley pink', 'light salmon', 'snot', 'easter purple', 'light yellow green', 'dark navy blue', 'drab', 'light rose', 'rouge', 'purplish red', 'slime green', 'baby poop', 'irish green', 'pink/purple', 'dark navy', 'greeny blue', 'light plum', 'pinkish grey', 'dirty orange', 'rust red', 'pale lilac', 'orangey red', 'primary blue', 'kermit green', 'brownish purple', 'murky green', 'wheat', 'very dark purple', 'bottle green', 'watermelon', 'deep sky blue', 'fire engine red', 'yellow ochre', 'pumpkin orange', 'pale olive', 'light lilac', 'lightish green', 'carolina blue', 'mulberry', 'shocking pink', 'auburn', 'bright lime green', 'celadon', 'pinkish brown', 'poo brown', 'bright sky blue', 'celery', 'dirt brown', 'strawberry', 'dark lime', 'copper', 'medium brown', 'muted green', \"robin's egg\", 'bright aqua', 'bright lavender', 'ivory', 'very light purple', 'light navy', 'pink red', 'olive brown', 'poop brown', 'mustard green', 'ocean green', 'very dark blue', 'dusty green', 'light navy blue', 'minty green', 'adobe', 'barney', 'jade green', 'bright light blue', 'light lime', 'dark khaki', 'orange yellow', 'ocre', 'maize', 'faded pink', 'british racing green', 'sandstone', 'mud brown', 'light sea green', 'robin egg blue', 'aqua marine', 'dark sea green', 'soft pink', 'orangey brown', 'cherry red', 'burnt yellow', 'brownish grey', 'camel', 'purplish grey', 'marine', 'greyish pink', 'pale turquoise', 'pastel yellow', 'bluey purple', 'canary yellow', 'faded red', 'sepia', 'coffee', 'bright magenta', 'mocha', 'ecru', 'purpleish', 'cranberry', 'darkish green', 'brown orange', 'dusky rose', 'melon', 'sickly green', 'silver', 'purply blue', 'purpleish blue', 'hospital green', 'shit brown', 'mid blue', 'amber', 'easter green', 'soft blue', 'cerulean blue', 'golden brown', 'bright turquoise', 'red pink', 'red purple', 'greyish brown', 'vermillion', 'russet', 'steel grey', 'lighter purple', 'bright violet', 'prussian blue', 'slate green', 'dirty pink', 'dark blue green', 'pine', 'yellowy green', 'dark gold', 'bluish', 'darkish blue', 'dull red', 'pinky red', 'bronze', 'pale teal', 'military green', 'barbie pink', 'bubblegum pink', 'pea soup green', 'dark mustard', 'shit', 'medium purple', 'very dark green', 'dirt', 'dusky pink', 'red violet', 'lemon yellow', 'pistachio', 'dull yellow', 'dark lime green', 'denim blue', 'teal blue', 'lightish blue', 'purpley blue', 'light indigo', 'swamp green', 'brown green', 'dark maroon', 'hot purple', 'dark forest green', 'faded blue', 'drab green', 'light lime green', 'snot green', 'yellowish', 'light blue green', 'bordeaux', 'light mauve', 'ocean', 'marigold', 'muddy green', 'dull orange', 'steel', 'electric purple', 'fluorescent green', 'yellowish brown', 'blush', 'soft green', 'bright orange', 'lemon', 'purple grey', 'acid green', 'pale lavender', 'violet blue', 'light forest green', 'burnt red', 'khaki green', 'cerise', 'faded purple', 'apricot', 'dark olive green', 'grey brown', 'green grey', 'true blue', 'pale violet', 'periwinkle blue', 'light sky blue', 'blurple', 'green brown', 'bluegreen', 'bright teal', 'brownish yellow', 'pea soup', 'forest', 'barney purple', 'ultramarine', 'purplish', 'puke yellow', 'bluish grey', 'dark periwinkle', 'dark lilac', 'reddish', 'light maroon', 'dusty purple', 'terra cotta', 'avocado', 'marine blue', 'teal green', 'slate grey', 'lighter green', 'electric green', 'dusty blue', 'golden yellow', 'bright yellow', 'light lavender', 'umber', 'poop', 'dark peach', 'jungle green', 'eggshell', 'denim', 'yellow brown', 'dull purple', 'chocolate brown', 'wine red', 'neon blue', 'dirty green', 'light tan', 'ice blue', 'cadet blue', 'dark mauve', 'very light blue', 'grey purple', 'pastel pink', 'very light green', 'dark sky blue', 'evergreen', 'dull pink', 'aubergine', 'mahogany', 'reddish orange', 'deep green', 'vomit green', 'purple pink', 'dusty pink', 'faded green', 'camo green', 'pinky purple', 'pink purple', 'brownish red', 'dark rose', 'mud', 'brownish', 'emerald green', 'pale brown', 'dull blue', 'burnt umber', 'medium green', 'clay', 'light aqua', 'light olive green', 'brownish orange', 'dark aqua', 'purplish pink', 'dark salmon', 'greenish grey', 'jade', 'ugly green', 'dark beige', 'emerald', 'pale red', 'light magenta', 'sky', 'light cyan', 'yellow orange', 'reddish purple', 'reddish pink', 'orchid', 'dirty yellow', 'orange red', 'deep red', 'orange brown', 'cobalt blue', 'neon pink', 'rose pink', 'greyish purple', 'raspberry', 'aqua green', 'salmon pink', 'tangerine', 'brownish green', 'red brown', 'greenish brown', 'pumpkin', 'pine green', 'charcoal', 'baby pink', 'cornflower', 'blue violet', 'chocolate', 'greyish green', 'scarlet', 'green yellow', 'dark olive', 'sienna', 'pastel purple', 'terracotta', 'aqua blue', 'sage green', 'blood red', 'deep pink', 'grass', 'moss', 'pastel blue', 'bluish green', 'green blue', 'dark tan', 'greenish blue', 'pale orange', 'vomit', 'forrest green', 'dark lavender', 'dark violet', 'purple blue', 'dark cyan', 'olive drab', 'pinkish', 'cobalt', 'neon purple', 'light turquoise', 'apple green', 'dull green', 'wine', 'powder blue', 'off white', 'electric blue', 'dark turquoise', 'blue purple', 'azure', 'bright red', 'pinkish red', 'cornflower blue', 'light olive', 'grape', 'greyish blue', 'purplish blue', 'yellowish green', 'greenish yellow', 'medium blue', 'dusty rose', 'light violet', 'midnight blue', 'bluish purple', 'red orange', 'dark magenta', 'greenish', 'ocean blue', 'coral', 'cream', 'reddish brown', 'burnt sienna', 'brick', 'sage', 'grey green', 'white', \"robin's egg blue\", 'moss green', 'steel blue', 'eggplant', 'light yellow', 'leaf green', 'light grey', 'puke', 'pinkish purple', 'sea blue', 'pale purple', 'slate blue', 'blue grey', 'hunter green', 'fuchsia', 'crimson', 'pale yellow', 'ochre', 'mustard yellow', 'light red', 'cerulean', 'pale pink', 'deep blue', 'rust', 'light teal', 'slate', 'goldenrod', 'dark yellow', 'dark grey', 'army green', 'grey blue', 'seafoam', 'puce', 'spring green', 'dark orange', 'sand', 'pastel green', 'mint', 'light orange', 'bright pink', 'chartreuse', 'deep purple', 'dark brown', 'taupe', 'pea green', 'puke green', 'kelly green', 'seafoam green', 'blue green', 'khaki', 'burgundy', 'dark teal', 'brick red', 'royal purple', 'plum', 'mint green', 'gold', 'baby blue', 'yellow green', 'bright purple', 'dark red', 'pale blue', 'grass green', 'navy', 'aquamarine', 'burnt orange', 'neon green', 'bright blue', 'rose', 'light pink', 'mustard', 'indigo', 'lime', 'sea green', 'periwinkle', 'dark pink', 'olive green', 'peach', 'pale green', 'light brown', 'hot pink', 'black', 'lilac', 'navy blue', 'royal blue', 'beige', 'salmon', 'olive', 'maroon', 'bright green', 'dark purple', 'mauve', 'forest green', 'aqua', 'cyan', 'tan', 'dark blue', 'lavender', 'turquoise', 'dark green', 'violet', 'light purple', 'lime green', 'grey', 'sky blue', 'yellow', 'magenta', 'light green', 'orange', 'teal', 'light blue', 'red', 'brown', 'pink', 'blue', 'green', 'purple'])"
      ]
     },
     "execution_count": 138,
     "metadata": {},
     "output_type": "execute_result"
    }
   ],
   "source": [
    "colors.keys()"
   ]
  },
  {
   "cell_type": "markdown",
   "metadata": {},
   "source": [
    "### Vector math\n",
    "\n",
    "Before we keep going, we'll need some functions for performing basic vector arithmetic. These functions will work with vectors in spaces of any number of dimensions.\n",
    "\n",
    "The first function returns the Euclidean distance between two points:"
   ]
  },
  {
   "cell_type": "code",
   "execution_count": 140,
   "metadata": {
    "scrolled": true
   },
   "outputs": [
    {
     "data": {
      "text/plain": [
       "5.0990195135927845"
      ]
     },
     "execution_count": 140,
     "metadata": {},
     "output_type": "execute_result"
    }
   ],
   "source": [
    "import math\n",
    "def distance(coord1, coord2):\n",
    "    return np.linalg.norm(np.array(coord1)-np.array(coord2))\n",
    "distance([10, 1, 100], [5, 2, 100])"
   ]
  },
  {
   "cell_type": "markdown",
   "metadata": {},
   "source": [
    "The `subtractv` function subtracts one vector from another:"
   ]
  },
  {
   "cell_type": "code",
   "execution_count": 141,
   "metadata": {},
   "outputs": [
    {
     "data": {
      "text/plain": [
       "[5, -1]"
      ]
     },
     "execution_count": 141,
     "metadata": {},
     "output_type": "execute_result"
    }
   ],
   "source": [
    "def subtractv(coord1, coord2):\n",
    "    return list(np.array(coord1) - np.array(coord2))\n",
    "subtractv([10, 1], [5, 2])"
   ]
  },
  {
   "cell_type": "markdown",
   "metadata": {},
   "source": [
    "The `addv` vector adds two vectors together:"
   ]
  },
  {
   "cell_type": "code",
   "execution_count": 142,
   "metadata": {},
   "outputs": [
    {
     "data": {
      "text/plain": [
       "[15, 3]"
      ]
     },
     "execution_count": 142,
     "metadata": {},
     "output_type": "execute_result"
    }
   ],
   "source": [
    "def addv(coord1, coord2):\n",
    "    return list(np.array(coord1) + np.array(coord2))\n",
    "addv([10, 1], [5, 2])"
   ]
  },
  {
   "cell_type": "markdown",
   "metadata": {},
   "source": [
    "And the `meanv` function takes a list of vectors and finds their mean or average:"
   ]
  },
  {
   "cell_type": "code",
   "execution_count": 143,
   "metadata": {},
   "outputs": [
    {
     "data": {
      "text/plain": [
       "[2.0, 2.0]"
      ]
     },
     "execution_count": 143,
     "metadata": {},
     "output_type": "execute_result"
    }
   ],
   "source": [
    "def meanv(coords):\n",
    "    return list(np.mean(coords, axis=0))\n",
    "meanv([[0, 1], [2, 2], [4, 3]])"
   ]
  },
  {
   "cell_type": "markdown",
   "metadata": {},
   "source": [
    "Just as a test, the following cell shows that the distance from \"red\" to \"green\" is greater than the distance from \"red\" to \"pink\":"
   ]
  },
  {
   "cell_type": "code",
   "execution_count": 145,
   "metadata": {},
   "outputs": [
    {
     "data": {
      "text/plain": [
       "False"
      ]
     },
     "execution_count": 145,
     "metadata": {},
     "output_type": "execute_result"
    }
   ],
   "source": [
    "distance(colors['red'], colors['baby shit brown']) > distance(colors['red'], colors['pink'])"
   ]
  },
  {
   "cell_type": "markdown",
   "metadata": {},
   "source": [
    "### Finding the closest item\n",
    "\n",
    "Just as we wanted to find the animal that most closely matched an arbitrary point in cuteness/size space, we'll want to find the closest color name to an arbitrary point in RGB space. The easiest way to find the closest item to an arbitrary vector is simply to find the distance between the target vector and each item in the space, in turn, then sort the list from closest to farthest. The `closest()` function below does just that. By default, it returns a list of the ten closest items to the given vector.\n",
    "\n",
    "> Note: Calculating \"closest neighbors\" like this is fine for the examples in this notebook, but unmanageably slow for vector spaces of any appreciable size. As your vector space grows, you'll want to move to a faster solution, like SciPy's [kdtree](https://docs.scipy.org/doc/scipy-0.14.0/reference/generated/scipy.spatial.KDTree.html) or [Annoy](https://pypi.python.org/pypi/annoy)."
   ]
  },
  {
   "cell_type": "code",
   "execution_count": 146,
   "metadata": {},
   "outputs": [],
   "source": [
    "def closest(space, coord, n=10):\n",
    "    return sorted(space.keys(), key=lambda x: distance(coord, space[x]))[:n]"
   ]
  },
  {
   "cell_type": "markdown",
   "metadata": {},
   "source": [
    "Testing it out, we can find the ten colors closest to \"red\":"
   ]
  },
  {
   "cell_type": "code",
   "execution_count": 148,
   "metadata": {},
   "outputs": [
    {
     "data": {
      "text/plain": [
       "['red',\n",
       " 'fire engine red',\n",
       " 'bright red',\n",
       " 'tomato red',\n",
       " 'cherry red',\n",
       " 'scarlet',\n",
       " 'vermillion',\n",
       " 'orangish red',\n",
       " 'cherry',\n",
       " 'lipstick red']"
      ]
     },
     "execution_count": 148,
     "metadata": {},
     "output_type": "execute_result"
    }
   ],
   "source": [
    "closest(colors, colors['red'])"
   ]
  },
  {
   "cell_type": "markdown",
   "metadata": {},
   "source": [
    "... or the ten colors closest to (150, 60, 150):"
   ]
  },
  {
   "cell_type": "code",
   "execution_count": 149,
   "metadata": {},
   "outputs": [
    {
     "data": {
      "text/plain": [
       "['warm purple',\n",
       " 'medium purple',\n",
       " 'ugly purple',\n",
       " 'light eggplant',\n",
       " 'purpleish',\n",
       " 'purplish',\n",
       " 'purply',\n",
       " 'light plum',\n",
       " 'purple',\n",
       " 'muted purple']"
      ]
     },
     "execution_count": 149,
     "metadata": {},
     "output_type": "execute_result"
    }
   ],
   "source": [
    "closest(colors, [150, 60, 150])"
   ]
  },
  {
   "cell_type": "markdown",
   "metadata": {},
   "source": [
    "### Color magic\n",
    "\n",
    "The magical part of representing words as vectors is that the vector operations we defined earlier appear to operate on language the same way they operate on numbers. For example, if we find the word closest to the vector resulting from subtracting \"red\" from \"purple,\" we get a series of \"blue\" colors:"
   ]
  },
  {
   "cell_type": "code",
   "execution_count": 153,
   "metadata": {},
   "outputs": [
    {
     "data": {
      "text/plain": [
       "['black',\n",
       " 'dark navy blue',\n",
       " 'very dark blue',\n",
       " 'dark navy',\n",
       " 'midnight',\n",
       " 'midnight blue',\n",
       " 'almost black',\n",
       " 'night blue',\n",
       " 'navy blue',\n",
       " 'navy']"
      ]
     },
     "execution_count": 153,
     "metadata": {},
     "output_type": "execute_result"
    }
   ],
   "source": [
    "closest(colors, subtractv(colors['green'], colors['yellow']))"
   ]
  },
  {
   "cell_type": "markdown",
   "metadata": {},
   "source": [
    "This matches our intuition about RGB colors, which is that purple is a combination of red and blue. Take away the red, and blue is all you have left.\n",
    "\n",
    "You can do something similar with addition. What's blue plus green?"
   ]
  },
  {
   "cell_type": "code",
   "execution_count": 155,
   "metadata": {},
   "outputs": [
    {
     "data": {
      "text/plain": [
       "['bright turquoise',\n",
       " 'bright light blue',\n",
       " 'bright aqua',\n",
       " 'cyan',\n",
       " 'neon blue',\n",
       " 'aqua blue',\n",
       " 'bright cyan',\n",
       " 'bright sky blue',\n",
       " 'aqua',\n",
       " 'bright teal']"
      ]
     },
     "execution_count": 155,
     "metadata": {},
     "output_type": "execute_result"
    }
   ],
   "source": [
    "closest(colors, addv(colors['blue'], colors['green']))"
   ]
  },
  {
   "cell_type": "markdown",
   "metadata": {},
   "source": [
    "That's right, it's something like turquoise or cyan! What if we find the average of black and white? Predictably, we get gray:"
   ]
  },
  {
   "cell_type": "code",
   "execution_count": 156,
   "metadata": {},
   "outputs": [
    {
     "data": {
      "text/plain": [
       "['medium grey',\n",
       " 'purple grey',\n",
       " 'steel grey',\n",
       " 'battleship grey',\n",
       " 'grey purple',\n",
       " 'purplish grey',\n",
       " 'greyish purple',\n",
       " 'steel',\n",
       " 'warm grey',\n",
       " 'green grey']"
      ]
     },
     "execution_count": 156,
     "metadata": {},
     "output_type": "execute_result"
    }
   ],
   "source": [
    "# the average of black and white: medium grey\n",
    "closest(colors, meanv([colors['black'], colors['white']]))"
   ]
  },
  {
   "cell_type": "markdown",
   "metadata": {},
   "source": [
    "Just as with the tarantula/hamster example from the previous section, we can use color vectors to reason about relationships between colors. In the cell below, finding the difference between \"pink\" and \"red\" then adding it to \"blue\" seems to give us a list of colors that are to blue what pink is to red (i.e., a slightly lighter, less saturated shade):"
   ]
  },
  {
   "cell_type": "code",
   "execution_count": 157,
   "metadata": {},
   "outputs": [
    {
     "data": {
      "text/plain": [
       "['azure',\n",
       " 'turquoise blue',\n",
       " 'bright sky blue',\n",
       " 'aqua blue',\n",
       " 'neon blue',\n",
       " 'water blue',\n",
       " 'topaz',\n",
       " 'cerulean',\n",
       " 'aqua',\n",
       " 'dark sky blue']"
      ]
     },
     "execution_count": 157,
     "metadata": {},
     "output_type": "execute_result"
    }
   ],
   "source": [
    "# an analogy: pink is to red as X is to blue\n",
    "pink_to_red = subtractv(colors['orange'], colors['red'])\n",
    "closest(colors, addv(pink_to_red, colors['blue']))"
   ]
  },
  {
   "cell_type": "markdown",
   "metadata": {},
   "source": [
    "Another example of color analogies: Navy is to blue as true green/dark grass green is to green:"
   ]
  },
  {
   "cell_type": "code",
   "execution_count": 158,
   "metadata": {},
   "outputs": [
    {
     "data": {
      "text/plain": [
       "['true green',\n",
       " 'dark grass green',\n",
       " 'grassy green',\n",
       " 'racing green',\n",
       " 'forest',\n",
       " 'bottle green',\n",
       " 'dark olive green',\n",
       " 'darkgreen',\n",
       " 'forrest green',\n",
       " 'grass green']"
      ]
     },
     "execution_count": 158,
     "metadata": {},
     "output_type": "execute_result"
    }
   ],
   "source": [
    "# another example: \n",
    "navy_to_blue = subtractv(colors['navy'], colors['blue'])\n",
    "closest(colors, addv(navy_to_blue, colors['green']))"
   ]
  },
  {
   "cell_type": "markdown",
   "metadata": {},
   "source": [
    "The examples above are fairly simple from a mathematical perspective but nevertheless *feel* magical: they're demonstrating that it's possible to use math to reason about how people use language."
   ]
  },
  {
   "cell_type": "markdown",
   "metadata": {},
   "source": [
    "### Interlude: A Love Poem That Loses Its Way"
   ]
  },
  {
   "cell_type": "code",
   "execution_count": 159,
   "metadata": {},
   "outputs": [
    {
     "name": "stdout",
     "output_type": "stream",
     "text": [
      "Roses are red, violets are blue\n",
      "Roses are fire engine red, violets are vibrant blue\n",
      "Roses are orangered, violets are electric blue\n",
      "Roses are red orange, violets are vibrant blue\n",
      "Roses are orange red, violets are strong blue\n",
      "Roses are tomato, violets are primary blue\n",
      "Roses are orangered, violets are ultramarine blue\n",
      "Roses are red orange, violets are vivid blue\n",
      "Roses are tomato red, violets are light royal blue\n",
      "Roses are red orange, violets are purplish blue\n",
      "Roses are bright orange, violets are blue/purple\n",
      "Roses are reddish orange, violets are purplish blue\n",
      "Roses are red orange, violets are purpley blue\n",
      "Roses are orangered, violets are blue purple\n"
     ]
    }
   ],
   "source": [
    "import random\n",
    "red = colors['red']\n",
    "blue = colors['blue']\n",
    "for i in range(14):\n",
    "    rednames = closest(colors, red)\n",
    "    bluenames = closest(colors, blue)\n",
    "    print(f\"Roses are {rednames[0]}, violets are {bluenames[0]}\")\n",
    "    red = colors[random.choice(rednames[1:])]\n",
    "    blue = colors[random.choice(bluenames[1:])]"
   ]
  },
  {
   "cell_type": "markdown",
   "metadata": {},
   "source": [
    "### Doing bad digital humanities with color vectors\n",
    "\n",
    "With the tools above in hand, we can start using our vectorized knowledge of language toward academic ends. In the following example, I'm going to calculate the average color of Bram Stoker's *Dracula*.\n",
    "\n",
    "First, we'll load [spaCy](https://spacy.io/):"
   ]
  },
  {
   "cell_type": "code",
   "execution_count": 160,
   "metadata": {},
   "outputs": [],
   "source": [
    "import spacy\n",
    "nlp = spacy.load('en_core_web_sm')"
   ]
  },
  {
   "cell_type": "markdown",
   "metadata": {},
   "source": [
    "To calculate the average color, we'll follow these steps:\n",
    "\n",
    "1. Parse the text into words\n",
    "2. Check every word to see if it names a color in our vector space. If it does, add it to a list of vectors.\n",
    "3. Find the average of that list of vectors.\n",
    "4. Find the color(s) closest to that average vector.\n",
    "\n",
    "The following cell performs steps 1-3:"
   ]
  },
  {
   "cell_type": "code",
   "execution_count": 161,
   "metadata": {},
   "outputs": [
    {
     "name": "stdout",
     "output_type": "stream",
     "text": [
      "[147.44839067702551, 113.65371809100999, 100.13540510543841]\n"
     ]
    }
   ],
   "source": [
    "resp = requests.get('http://www.gutenberg.org/cache/epub/345/pg345.txt')\n",
    "dracula = nlp(resp.text)\n",
    "# use word.lower_ to normalize case\n",
    "drac_colors = [colors[word.lower_] for word in dracula if word.lower_ in colors]\n",
    "avg_color = meanv(drac_colors)\n",
    "print(avg_color)"
   ]
  },
  {
   "cell_type": "markdown",
   "metadata": {},
   "source": [
    "Now, we'll pass the averaged color vector to the `closest()` function, yielding... well, it's just a brown mush, which is kinda what you'd expect from adding a bunch of colors together willy-nilly."
   ]
  },
  {
   "cell_type": "code",
   "execution_count": 162,
   "metadata": {},
   "outputs": [
    {
     "data": {
      "text/plain": [
       "['reddish grey',\n",
       " 'brownish grey',\n",
       " 'brownish',\n",
       " 'brown grey',\n",
       " 'mocha',\n",
       " 'grey brown',\n",
       " 'puce',\n",
       " 'dull brown',\n",
       " 'pinkish brown',\n",
       " 'dark taupe']"
      ]
     },
     "execution_count": 162,
     "metadata": {},
     "output_type": "execute_result"
    }
   ],
   "source": [
    "closest(colors, avg_color)"
   ]
  },
  {
   "cell_type": "markdown",
   "metadata": {},
   "source": [
    "On the other hand, here's what we get when we average the colors of Charlotte Perkins Gilman's classic *The Yellow Wallpaper*. The result definitely reflects the content of the story, so maybe we're on to something here."
   ]
  },
  {
   "cell_type": "code",
   "execution_count": 163,
   "metadata": {},
   "outputs": [
    {
     "data": {
      "text/plain": [
       "['sickly yellow',\n",
       " 'piss yellow',\n",
       " 'puke yellow',\n",
       " 'vomit yellow',\n",
       " 'dirty yellow',\n",
       " 'mustard yellow',\n",
       " 'dark yellow',\n",
       " 'olive yellow',\n",
       " 'macaroni and cheese',\n",
       " 'pea']"
      ]
     },
     "execution_count": 163,
     "metadata": {},
     "output_type": "execute_result"
    }
   ],
   "source": [
    "resp = requests.get('http://www.gutenberg.org/cache/epub/1952/pg1952.txt')\n",
    "yellow = nlp(resp.text)\n",
    "wallpaper_colors = [colors[word.lower_] for word in yellow if word.lower_ in colors]\n",
    "avg_color = meanv(wallpaper_colors)\n",
    "closest(colors, avg_color)"
   ]
  },
  {
   "cell_type": "markdown",
   "metadata": {},
   "source": [
    "Exercise for the reader: Use the vector arithmetic functions to rewrite a text, making it...\n",
    "\n",
    "* more blue (i.e., add `colors['blue']` to each occurrence of a color word); or\n",
    "* more light (i.e., add `colors['white']` to each occurrence of a color word); or\n",
    "* darker (i.e., attenuate each color. You might need to write a vector multiplication function to do this one right.)"
   ]
  },
  {
   "cell_type": "markdown",
   "metadata": {},
   "source": [
    "## Distributional semantics\n",
    "\n",
    "In the previous section, the examples are interesting because of a simple fact: colors that we think of as similar are \"closer\" to each other in RGB vector space. In our color vector space, or in our animal cuteness/size space, you can think of the words identified by vectors close to each other as being *synonyms*, in a sense: they sort of \"mean\" the same thing. They're also, for many purposes, *functionally identical*. Think of this in terms of writing, say, a search engine. If someone searches for \"mauve trousers,\" then it's probably also okay to show them results for, say,"
   ]
  },
  {
   "cell_type": "code",
   "execution_count": null,
   "metadata": {},
   "outputs": [],
   "source": [
    "for cname in closest(colors, colors['mauve']):\n",
    "    print(cname, \"trousers\")"
   ]
  },
  {
   "cell_type": "markdown",
   "metadata": {},
   "source": [
    "That's all well and good for color words, which intuitively seem to exist in a multidimensional continuum of perception, and for our animal space, where we've written out the vectors ahead of time. But what about... arbitrary words? Is it possible to create a vector space for all English words that has this same \"closer in space is closer in meaning\" property?\n",
    "\n",
    "To answer that, we have to back up a bit and ask the question: what does *meaning* mean? No one really knows, but one theory popular among computational linguists, computer scientists and other people who make search engines is the [Distributional Hypothesis](https://en.wikipedia.org/wiki/Distributional_semantics), which states that:\n",
    "\n",
    "    Linguistic items with similar distributions have similar meanings.\n",
    "    \n",
    "What's meant by \"similar distributions\" is *similar contexts*. Take for example the following sentences:\n",
    "\n",
    "    It was really cold yesterday.\n",
    "    It will be really warm today, though.\n",
    "    It'll be really hot tomorrow!\n",
    "    Will it be really cool Tuesday?\n",
    "    \n",
    "According to the Distributional Hypothesis, the words `cold`, `warm`, `hot` and `cool` must be related in some way (i.e., be close in meaning) because they occur in a similar context, i.e., between the word \"really\" and a word indicating a particular day. (Likewise, the words `yesterday`, `today`, `tomorrow` and `Tuesday` must be related, since they occur in the context of a word indicating a temperature.)\n",
    "\n",
    "In other words, according to the Distributional Hypothesis, a word's meaning is just a big list of all the contexts it occurs in. Two words are closer in meaning if they share contexts."
   ]
  },
  {
   "cell_type": "markdown",
   "metadata": {},
   "source": [
    "## Word vectors by counting contexts\n",
    "\n",
    "So how do we turn this insight from the Distributional Hypothesis into a system for creating general-purpose vectors that capture the meaning of words? Maybe you can see where I'm going with this. What if we made a *really big* spreadsheet that had one column for every context for every word in a given source text. Let's use a small source text to begin with, such as this excerpt from Dickens:\n",
    "\n",
    "    It was the best of times, it was the worst of times.\n",
    "\n",
    "Such a spreadsheet might look something like this:\n",
    "\n",
    "![dickens contexts](http://static.decontextualize.com/snaps/best-of-times.png)\n",
    "\n",
    "The spreadsheet has one column for every possible context, and one row for every word. The values in each cell correspond with how many times the word occurs in the given context. The numbers in the columns constitute that word's vector, i.e., the vector for the word `of` is\n",
    "\n",
    "    [0, 0, 0, 0, 1, 0, 0, 0, 1, 0]\n",
    "    \n",
    "Because there are ten possible contexts, this is a ten dimensional space! It might be strange to think of it, but you can do vector arithmetic on vectors with ten dimensions just as easily as you can on vectors with two or three dimensions, and you could use the same distance formula that we defined earlier to get useful information about which vectors in this space are similar to each other. In particular, the vectors for `best` and `worst` are actually the same (a distance of zero), since they occur only in the same context (`the ___ of`):\n",
    "\n",
    "    [0, 0, 0, 1, 0, 0, 0, 0, 0, 0]\n",
    "    \n",
    "Of course, the conventional way of thinking about \"best\" and \"worst\" is that they're *antonyms*, not *synonyms*. But they're also clearly two words of the same kind, with related meanings (through opposition), a fact that is captured by this distributional model.\n",
    "\n",
    "### Contexts and dimensionality\n",
    "\n",
    "Of course, in a corpus of any reasonable size, there will be many thousands if not many millions of possible contexts. It's difficult enough working with a vector space of ten dimensions, let alone a vector space of a million dimensions! It turns out, though, that many of the dimensions end up being superfluous and can either be eliminated or combined with other dimensions without significantly affecting the predictive power of the resulting vectors. The process of getting rid of superfluous dimensions in a vector space is called [dimensionality reduction](https://en.wikipedia.org/wiki/Dimensionality_reduction), and most implementations of count-based word vectors make use of dimensionality reduction so that the resulting vector space has a reasonable number of dimensions (say, 100—300, depending on the corpus and application).\n",
    "\n",
    "The question of how to identify a \"context\" is itself very difficult to answer. In the toy example above, we've said that a \"context\" is just the word that precedes and the word that follows. Depending on your implementation of this procedure, though, you might want a context with a bigger \"window\" (e.g., two words before and after), or a non-contiguous window (skip a word before and after the given word). You might exclude certain \"function\" words like \"the\" and \"of\" when determining a word's context, or you might [lemmatize](https://en.wikipedia.org/wiki/Lemmatisation) the words before you begin your analysis, so two occurrences with different \"forms\" of the same word count as the same context. These are all questions open to research and debate, and different implementations of procedures for creating count-based word vectors make different decisions on this issue.\n",
    "\n",
    "### GloVe vectors\n",
    "\n",
    "But you don't have to create your own word vectors from scratch! Many researchers have made downloadable databases of pre-trained vectors. One such project is Stanford's [Global Vectors for Word Representation (GloVe)](https://nlp.stanford.edu/projects/glove/). These 300-dimensional vectors are included with spaCy, and they're the vectors we'll be using for the rest of this tutorial."
   ]
  },
  {
   "cell_type": "markdown",
   "metadata": {},
   "source": [
    "## Word vectors in spaCy\n",
    "\n",
    "Okay, let's have some fun with real word vectors. We're going to use the GloVe vectors that come with spaCy to creatively analyze and manipulate the text of Bram Stoker's *Dracula*. First, make sure you've got `spacy` imported:"
   ]
  },
  {
   "cell_type": "code",
   "execution_count": 175,
   "metadata": {},
   "outputs": [
    {
     "data": {
      "text/plain": [
       "seems"
      ]
     },
     "execution_count": 175,
     "metadata": {},
     "output_type": "execute_result"
    }
   ],
   "source": [
    "dracula[566]"
   ]
  },
  {
   "cell_type": "code",
   "execution_count": 176,
   "metadata": {},
   "outputs": [
    {
     "data": {
      "text/plain": [
       "array([ 3.1053522 , -3.9924908 ,  1.7231    , -2.9991581 ,  1.3582926 ,\n",
       "        1.9504764 , -3.769898  , -1.8412848 , -5.426508  , -0.7949095 ,\n",
       "        1.3359009 , -2.4829035 ,  4.6697035 ,  1.8289636 ,  0.6450138 ,\n",
       "       -2.3445365 , -1.422522  ,  3.7582188 , -0.36370683,  0.28704146,\n",
       "        0.42762387,  0.6853549 ,  5.1715455 , -0.4891094 ,  0.50067395,\n",
       "       -2.6400118 , -0.03206313, -2.3086338 ,  1.2299111 , -0.1430639 ,\n",
       "       -2.742114  ,  0.04028332, -1.9261653 ,  3.103902  ,  4.660147  ,\n",
       "        1.6766165 ,  3.4759216 ,  4.6845655 , -2.11274   , -0.8327563 ,\n",
       "        0.39947295, -0.47227266, -3.437942  ,  0.9268136 ,  1.7516729 ,\n",
       "        1.2538236 , -1.7630681 , -1.2313899 , -4.2908125 , -0.6266174 ,\n",
       "       -3.5170164 ,  5.0556974 ,  3.0723155 , -2.9609756 , -0.62665784,\n",
       "       -0.5082997 , -0.41967416, -0.46261868, -1.1399795 ,  0.7362545 ,\n",
       "       -1.7602625 , -0.9472228 ,  4.825426  , -1.264292  , -2.2375488 ,\n",
       "        2.3394156 ,  5.3166494 , -2.6943674 , -0.8293718 ,  2.450562  ,\n",
       "       -3.4454136 , -2.0634775 ,  1.4971035 , -1.016489  ,  3.407576  ,\n",
       "       -1.369916  , -0.7667243 , -1.3129177 , -0.8272867 , -3.0004966 ,\n",
       "       -1.0977353 ,  2.4983864 ,  0.4758401 ,  1.8247553 , -0.7051724 ,\n",
       "        1.8320965 ,  2.5263054 , -1.009767  , -3.0451498 ,  3.9219182 ,\n",
       "        1.4917955 ,  2.5173442 ,  4.0922885 , -4.001462  , -0.502565  ,\n",
       "        1.6338952 ], dtype=float32)"
      ]
     },
     "execution_count": 176,
     "metadata": {},
     "output_type": "execute_result"
    }
   ],
   "source": [
    "dracula[566].vector"
   ]
  },
  {
   "cell_type": "code",
   "execution_count": 177,
   "metadata": {},
   "outputs": [],
   "source": [
    "# previously we've used the _sm model, which doesn't include all vectors.\n",
    "# !pip3 install https://github.com/explosion/spacy-models/releases/download/en_core_web_lg-2.2.0/en_core_web_lg-2.2.0.tar.gz\n",
    "import en_core_web_lg\n",
    "nlp = en_core_web_lg.load()"
   ]
  },
  {
   "cell_type": "code",
   "execution_count": 178,
   "metadata": {},
   "outputs": [],
   "source": [
    "resp = requests.get('http://www.gutenberg.org/cache/epub/345/pg345.txt')\n",
    "dracula = nlp(resp.text)\n"
   ]
  },
  {
   "cell_type": "markdown",
   "metadata": {},
   "source": [
    "And the cell below creates a list of unique words (or tokens) in the text, as a list of strings."
   ]
  },
  {
   "cell_type": "code",
   "execution_count": 179,
   "metadata": {},
   "outputs": [],
   "source": [
    "# all of the words in the text file\n",
    "tokens = list(set([w.text for w in dracula if w.is_alpha]))"
   ]
  },
  {
   "cell_type": "markdown",
   "metadata": {},
   "source": [
    "You can see the vector of any word in spaCy's vocabulary using the `vocab` attribute, like so:"
   ]
  },
  {
   "cell_type": "code",
   "execution_count": 183,
   "metadata": {
    "scrolled": true
   },
   "outputs": [
    {
     "data": {
      "text/plain": [
       "array([ 5.7953e-01,  3.0641e-02, -5.5527e-01, -3.3522e-01,  2.0271e-01,\n",
       "        1.7925e-01, -3.4121e-01, -2.6266e-01, -3.3045e-01,  1.3351e+00,\n",
       "       -1.8667e-01,  5.8385e-02, -6.9727e-01,  5.3980e-01, -4.2912e-01,\n",
       "       -4.4030e-02, -2.0955e-01,  1.0968e+00,  1.4558e-01,  7.2086e-01,\n",
       "       -2.1120e-02,  1.1126e-01,  5.9386e-01,  4.0511e-01,  4.7604e-01,\n",
       "        6.4190e-02, -2.6182e-01,  6.0443e-01,  1.6239e-01, -7.8519e-03,\n",
       "        5.9229e-01, -8.8481e-02, -4.1253e-01,  1.6937e-01, -4.4535e-01,\n",
       "        9.9473e-02,  9.9226e-02,  1.0245e-01,  6.7635e-01, -1.0198e-01,\n",
       "        2.9183e-01,  4.1507e-01,  1.1258e-02,  2.2715e-01, -1.8284e-01,\n",
       "       -3.1406e-01,  1.4397e-01, -2.0236e-01, -2.8882e-01,  1.3227e-01,\n",
       "        1.4972e-01,  2.3291e-01,  3.2087e-01,  7.0696e-01,  2.8489e-01,\n",
       "        2.5489e-01, -3.5192e-01, -1.8813e-01,  9.7779e-02,  3.5610e-01,\n",
       "       -3.8677e-01,  6.7187e-01,  9.6401e-02,  5.4824e-01,  3.9444e-01,\n",
       "       -3.3573e-01, -6.5211e-02, -3.0640e-01,  3.2048e-01,  1.6313e-01,\n",
       "       -3.9883e-01,  5.3656e-01, -1.6980e-01,  3.1737e-02, -5.1698e-01,\n",
       "       -9.5262e-02, -4.1125e-03, -4.3504e-02,  3.4258e-01, -3.7810e-01,\n",
       "        2.6387e-01,  3.4833e-01, -3.8940e-01, -5.5260e-01, -7.7544e-02,\n",
       "       -4.2119e-01,  1.1730e+00,  9.2329e-01, -1.0423e-01,  7.7968e-01,\n",
       "        1.4175e-01, -1.2383e-01, -2.6434e-01, -1.3892e-01, -1.0992e-01,\n",
       "       -1.3195e-01,  8.6773e-02,  5.3815e-02,  1.1370e-01, -1.5179e-01,\n",
       "        9.4909e-01,  4.1091e-01, -4.7672e-01, -4.3708e-01,  1.7283e-01,\n",
       "       -1.0975e+00, -1.2287e-01,  7.0249e-02,  1.0940e-01, -3.3682e-01,\n",
       "        1.7052e-01, -6.6164e-01,  4.5052e-01, -1.4448e-01, -2.1324e-01,\n",
       "        6.0909e-02,  1.3495e-01, -3.9089e-01,  2.7491e-01, -7.2410e-01,\n",
       "       -4.2081e-01, -1.3629e-01, -2.6025e-01, -7.3253e-01, -1.0615e-01,\n",
       "        1.5744e-01,  1.2116e-01,  6.9139e-02,  3.0478e-01, -6.7953e-01,\n",
       "       -2.5056e-01, -1.8734e-01,  1.1498e-01,  1.6700e-01, -2.0584e-01,\n",
       "        1.0971e-01, -1.3687e-01,  6.5999e-01,  4.3817e-01, -3.0729e-02,\n",
       "       -2.2771e+00,  3.9836e-01,  5.4779e-01,  3.1175e-01,  2.2191e-02,\n",
       "        1.9913e-02, -3.8576e-02,  8.1189e-02, -1.1394e-01,  2.9270e-01,\n",
       "        2.9000e-01, -5.0702e-01,  5.4723e-01,  8.7383e-02,  1.0981e-01,\n",
       "        7.5685e-02,  3.1790e-02,  2.3803e-01, -1.1979e-01, -1.1149e-03,\n",
       "        2.9756e-01, -3.2857e-01,  2.3247e-01,  5.0058e-01,  7.8673e-02,\n",
       "       -6.1120e-02, -3.1196e-01, -1.3752e-01,  1.6669e-02,  3.3888e-01,\n",
       "        2.8616e-01,  1.3723e-01, -3.5076e-01, -9.0560e-02, -2.1957e-01,\n",
       "        2.8308e-01, -2.2773e-01,  7.3843e-01, -8.9766e-02,  2.9595e-02,\n",
       "       -1.8522e-01,  1.5218e-01, -7.7522e-01,  1.3883e-01,  4.3317e-01,\n",
       "       -3.1901e-01,  2.7870e-01,  3.2884e-01,  1.6937e-01,  6.2799e-01,\n",
       "        3.3625e-01, -2.7476e-01,  1.4370e-01, -4.8976e-01, -1.9518e-01,\n",
       "        6.6716e-01,  4.8074e-02,  4.7055e-01, -3.9706e-01, -5.9369e-01,\n",
       "       -2.9898e-01, -2.2875e-01,  4.6080e-02, -2.5697e-01, -4.2225e-01,\n",
       "        2.1432e-01,  2.4983e-01, -4.0606e-01,  2.2023e-01, -3.8117e-01,\n",
       "        4.2063e-01,  2.0972e-01,  4.9473e-02, -1.2428e-01,  5.5304e-02,\n",
       "       -2.2251e-01, -1.0809e-01,  1.5262e-01, -6.2555e-01,  1.4194e-01,\n",
       "        1.7173e-01, -2.1840e-01,  3.3734e-02, -8.3858e-03,  2.3702e-01,\n",
       "       -2.6505e-01, -1.5566e-01,  2.6246e-01, -3.0050e-01,  6.4440e-01,\n",
       "        4.2157e-01,  2.5813e-01,  1.1361e-02, -4.9423e-02, -1.3598e-01,\n",
       "        3.9339e-01,  5.2114e-01,  6.1203e-02,  1.3147e-01,  2.0954e-01,\n",
       "        3.9778e-01,  1.0448e-01, -6.3139e-02, -3.4941e-01, -1.4461e-01,\n",
       "        7.1195e-02, -7.3932e-01, -2.4661e-01,  3.1234e-01,  3.6110e-01,\n",
       "       -1.5977e-02, -5.2772e-01,  7.1587e-03, -4.1887e-01, -1.4660e-01,\n",
       "        6.1837e-01,  5.6361e-02,  5.5594e-02, -5.2120e-01,  4.8565e-01,\n",
       "       -2.0738e-01, -1.3389e-01,  2.0602e-01, -1.0476e+00,  6.4678e-01,\n",
       "       -7.0392e-02, -8.0700e-02, -1.0946e-01, -2.2668e-01,  1.9179e-01,\n",
       "        2.5876e-01, -9.3971e-02, -3.3852e-01, -5.8609e-01, -7.5874e-02,\n",
       "       -1.4476e-01, -2.5097e-02, -6.2790e-02, -9.1989e-01, -7.5728e-02,\n",
       "       -2.7798e-01, -2.4581e-01,  2.9139e-01, -3.3733e-01,  4.6524e-01,\n",
       "       -6.9709e-02, -2.9916e-01, -3.1848e-01,  3.1723e-02, -5.8920e-01,\n",
       "       -6.8845e-01, -2.6993e-01,  2.7879e-01, -4.8021e-01, -6.4715e-01,\n",
       "       -1.1264e-01,  6.6999e-01, -7.8650e-02, -2.1547e-01, -2.1539e-01],\n",
       "      dtype=float32)"
      ]
     },
     "execution_count": 183,
     "metadata": {},
     "output_type": "execute_result"
    }
   ],
   "source": [
    "nlp.vocab['dirt'].vector"
   ]
  },
  {
   "cell_type": "markdown",
   "metadata": {},
   "source": [
    "For the sake of convenience, the following function gets the vector of a given string from spaCy's vocabulary:"
   ]
  },
  {
   "cell_type": "code",
   "execution_count": 184,
   "metadata": {},
   "outputs": [],
   "source": [
    "def vec(s):\n",
    "    return nlp.vocab[s].vector"
   ]
  },
  {
   "cell_type": "markdown",
   "metadata": {},
   "source": [
    "### Cosine similarity and finding closest neighbors"
   ]
  },
  {
   "cell_type": "code",
   "execution_count": 185,
   "metadata": {},
   "outputs": [],
   "source": [
    "from sklearn.metrics.pairwise import cosine_similarity"
   ]
  },
  {
   "cell_type": "markdown",
   "metadata": {},
   "source": [
    "The following cell shows that the cosine similarity between `dog` and `puppy` is larger than the similarity between `trousers` and `octopus`, thereby demonstrating that the vectors are working how we expect them to:"
   ]
  },
  {
   "cell_type": "code",
   "execution_count": 186,
   "metadata": {},
   "outputs": [
    {
     "data": {
      "text/plain": [
       "True"
      ]
     },
     "execution_count": 186,
     "metadata": {},
     "output_type": "execute_result"
    }
   ],
   "source": [
    "(cosine_similarity(vec('dog').reshape(1, -1), vec('puppy').reshape(1, -1))[0][0] > \n",
    "    cosine_similarity(vec('trousers').reshape(1, -1), vec('octopus').reshape(1, -1))[0][0])"
   ]
  },
  {
   "cell_type": "markdown",
   "metadata": {},
   "source": [
    "The following cell defines a function that iterates through a list of tokens and returns the token whose vector is most similar to a given vector."
   ]
  },
  {
   "cell_type": "code",
   "execution_count": 187,
   "metadata": {},
   "outputs": [],
   "source": [
    "def spacy_closest(token_list, vec_to_check, n=10):\n",
    "    return sorted(token_list,\n",
    "                  key=lambda x: cosine_similarity(vec_to_check.reshape(1, -1), \n",
    "                                                  vec(x).reshape(1, -1))[0][0],\n",
    "                  reverse=True)[:n]"
   ]
  },
  {
   "cell_type": "markdown",
   "metadata": {},
   "source": [
    "Using this function, we can get a list of synonyms, or words closest in meaning (or distribution, depending on how you look at it), to any arbitrary word in spaCy's vocabulary. In the following example, we're finding the words in *Dracula* closest to \"basketball\":"
   ]
  },
  {
   "cell_type": "code",
   "execution_count": 188,
   "metadata": {
    "scrolled": true
   },
   "outputs": [
    {
     "data": {
      "text/plain": [
       "['tennis',\n",
       " 'coach',\n",
       " 'game',\n",
       " 'teams',\n",
       " 'Junior',\n",
       " 'junior',\n",
       " 'Team',\n",
       " 'school',\n",
       " 'boys',\n",
       " 'leagues']"
      ]
     },
     "execution_count": 188,
     "metadata": {},
     "output_type": "execute_result"
    }
   ],
   "source": [
    "# what's the closest equivalent of basketball?\n",
    "spacy_closest(tokens, vec(\"basketball\"))"
   ]
  },
  {
   "cell_type": "markdown",
   "metadata": {},
   "source": [
    "### Fun with spaCy, Dracula, and vector arithmetic\n",
    "\n",
    "Now we can start doing vector arithmetic and finding the closest words to the resulting vectors. For example, what word is closest to the halfway point between day and night?"
   ]
  },
  {
   "cell_type": "code",
   "execution_count": 189,
   "metadata": {},
   "outputs": [
    {
     "data": {
      "text/plain": [
       "['night',\n",
       " 'Day',\n",
       " 'day',\n",
       " 'Evening',\n",
       " 'evening',\n",
       " 'morning',\n",
       " 'Morning',\n",
       " 'afternoon',\n",
       " 'nights',\n",
       " 'Nights']"
      ]
     },
     "execution_count": 189,
     "metadata": {},
     "output_type": "execute_result"
    }
   ],
   "source": [
    "# halfway between day and night\n",
    "spacy_closest(tokens, np.array(meanv([vec(\"day\"), vec(\"night\")])))"
   ]
  },
  {
   "cell_type": "markdown",
   "metadata": {},
   "source": [
    "Variations of `night` and `day` are still closest, but after that we get words like `evening` and `morning`, which are indeed halfway between day and night!"
   ]
  },
  {
   "cell_type": "markdown",
   "metadata": {},
   "source": [
    "Here are the closest words in _Dracula_ to \"wine\":"
   ]
  },
  {
   "cell_type": "code",
   "execution_count": null,
   "metadata": {},
   "outputs": [],
   "source": [
    "spacy_closest(tokens, vec(\"wine\"))"
   ]
  },
  {
   "cell_type": "markdown",
   "metadata": {},
   "source": [
    "If you subtract \"alcohol\" from \"wine\" and find the closest words to the resulting vector, you're left with simply a lovely dinner:"
   ]
  },
  {
   "cell_type": "code",
   "execution_count": null,
   "metadata": {},
   "outputs": [],
   "source": [
    "spacy_closest(tokens, np.array(subtractv(vec(\"wine\"), vec(\"alcohol\"))))"
   ]
  },
  {
   "cell_type": "markdown",
   "metadata": {},
   "source": [
    "The closest words to \"water\":"
   ]
  },
  {
   "cell_type": "code",
   "execution_count": null,
   "metadata": {},
   "outputs": [],
   "source": [
    "spacy_closest(tokens, vec(\"water\"))"
   ]
  },
  {
   "cell_type": "markdown",
   "metadata": {},
   "source": [
    "But if you add \"frozen\" to \"water,\" you get \"ice\":"
   ]
  },
  {
   "cell_type": "code",
   "execution_count": null,
   "metadata": {},
   "outputs": [],
   "source": [
    "spacy_closest(tokens, np.array(addv(vec(\"water\"), vec(\"frozen\"))))"
   ]
  },
  {
   "cell_type": "markdown",
   "metadata": {},
   "source": [
    "You can even do analogies! For example, the words most similar to \"grass\":"
   ]
  },
  {
   "cell_type": "code",
   "execution_count": null,
   "metadata": {
    "scrolled": true
   },
   "outputs": [],
   "source": [
    "spacy_closest(tokens, vec(\"grass\"))"
   ]
  },
  {
   "cell_type": "markdown",
   "metadata": {},
   "source": [
    "If you take the difference of \"blue\" and \"sky\" and add it to grass, you get the analogous word (\"green\"):"
   ]
  },
  {
   "cell_type": "code",
   "execution_count": null,
   "metadata": {
    "scrolled": true
   },
   "outputs": [],
   "source": [
    "# analogy: blue is to sky as X is to grass\n",
    "blue_to_sky = subtractv(vec(\"blue\"), vec(\"sky\"))\n",
    "spacy_closest(tokens, np.array(addv(blue_to_sky, vec(\"grass\"))))"
   ]
  },
  {
   "cell_type": "markdown",
   "metadata": {},
   "source": [
    "## Further resources\n",
    "\n",
    "* [Word2vec](https://en.wikipedia.org/wiki/Word2vec) is another procedure for producing word vectors which uses a predictive approach rather than a context-counting approach. [This paper](http://clic.cimec.unitn.it/marco/publications/acl2014/baroni-etal-countpredict-acl2014.pdf) compares and contrasts the two approaches. (Spoiler: it's kind of a wash.)\n",
    "* If you want to train your own word vectors on a particular corpus, the popular Python library [gensim](https://radimrehurek.com/gensim/) has an implementation of Word2Vec that is relatively easy to use. [There's a good tutorial here.](https://rare-technologies.com/word2vec-tutorial/)\n",
    "* When you're working with vector spaces with high dimensionality and millions of vectors, iterating through your entire space calculating cosine similarities can be a drag. I use [Annoy](https://pypi.python.org/pypi/annoy) to make these calculations faster, and you should consider using it too."
   ]
  }
 ],
 "metadata": {
  "kernelspec": {
   "display_name": "Python 3",
   "language": "python",
   "name": "python3"
  },
  "language_info": {
   "codemirror_mode": {
    "name": "ipython",
    "version": 3
   },
   "file_extension": ".py",
   "mimetype": "text/x-python",
   "name": "python",
   "nbconvert_exporter": "python",
   "pygments_lexer": "ipython3",
   "version": "3.7.4"
  }
 },
 "nbformat": 4,
 "nbformat_minor": 4
}
