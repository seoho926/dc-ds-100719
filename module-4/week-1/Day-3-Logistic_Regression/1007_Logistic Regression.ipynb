{
 "cells": [
  {
   "cell_type": "code",
   "execution_count": 1,
   "metadata": {},
   "outputs": [],
   "source": [
    "import numpy as np\n",
    "import pandas as pd\n",
    "import math\n",
    "import matplotlib.pyplot as plt\n",
    "%matplotlib inline"
   ]
  },
  {
   "cell_type": "markdown",
   "metadata": {},
   "source": [
    "# Logistic Regression"
   ]
  },
  {
   "cell_type": "markdown",
   "metadata": {},
   "source": [
    "__Agenda__\n",
    "\n",
    "1. Refresh your memory on how to do linear regression in scikit-learn\n",
    "2. Attempt to use linear regression for classification\n",
    "3. Show you why logistic regression is a better alternative for classification\n",
    "4. Brief overview of probability, odds, e, log, and log-odds\n",
    "5. Explain the form of logistic regression\n",
    "6. Explain how to interpret logistic regression coefficients\n",
    "7. Pros and cons of logistic regression"
   ]
  },
  {
   "cell_type": "markdown",
   "metadata": {},
   "source": [
    "**Classification techniques** are an essential part of machine learning and data mining applications. Approximately 70% of problems in Data Science are classification problems. There are lots of classification algorithms that are available, but the logistics regression is common and is a useful regression method for solving the binary classification problem. Another category of classification is Multinomial classification, which handles the issues where multiple classes are present in the target variable. For example, IRIS dataset a very famous example of multi-class classification. Other examples are classifying article/blog/document category."
   ]
  },
  {
   "cell_type": "markdown",
   "metadata": {},
   "source": [
    "**Logistic Regression** is one of the most simple and commonly used Machine Learning algorithms for two-class classification. It is easy to implement and can be used for comparison for any binary classification problem. Its basic fundamental concepts are also constructive in deep learning. Logistic regression describes and estimates the relationship between one dependent binary variable and independent variables."
   ]
  },
  {
   "cell_type": "markdown",
   "metadata": {},
   "source": [
    "## Predicting a Categorical Response"
   ]
  },
  {
   "cell_type": "markdown",
   "metadata": {},
   "source": [
    "[Data Source](https://archive.ics.uci.edu/ml/datasets/Breast+Cancer+Wisconsin+(Diagnostic))\n"
   ]
  },
  {
   "cell_type": "code",
   "execution_count": 8,
   "metadata": {},
   "outputs": [
    {
     "data": {
      "text/html": [
       "<div>\n",
       "<style scoped>\n",
       "    .dataframe tbody tr th:only-of-type {\n",
       "        vertical-align: middle;\n",
       "    }\n",
       "\n",
       "    .dataframe tbody tr th {\n",
       "        vertical-align: top;\n",
       "    }\n",
       "\n",
       "    .dataframe thead th {\n",
       "        text-align: right;\n",
       "    }\n",
       "</style>\n",
       "<table border=\"1\" class=\"dataframe\">\n",
       "  <thead>\n",
       "    <tr style=\"text-align: right;\">\n",
       "      <th></th>\n",
       "      <th>id</th>\n",
       "      <th>diagnosis</th>\n",
       "      <th>radius_mean</th>\n",
       "      <th>texture_mean</th>\n",
       "      <th>perimeter_mean</th>\n",
       "      <th>area_mean</th>\n",
       "      <th>smoothness_mean</th>\n",
       "      <th>compactness_mean</th>\n",
       "      <th>concavity_mean</th>\n",
       "      <th>concave points_mean</th>\n",
       "      <th>...</th>\n",
       "      <th>radius_worst</th>\n",
       "      <th>texture_worst</th>\n",
       "      <th>perimeter_worst</th>\n",
       "      <th>area_worst</th>\n",
       "      <th>smoothness_worst</th>\n",
       "      <th>compactness_worst</th>\n",
       "      <th>concavity_worst</th>\n",
       "      <th>concave points_worst</th>\n",
       "      <th>symmetry_worst</th>\n",
       "      <th>fractal_dimension_worst</th>\n",
       "    </tr>\n",
       "  </thead>\n",
       "  <tbody>\n",
       "    <tr>\n",
       "      <th>408</th>\n",
       "      <td>90524101</td>\n",
       "      <td>M</td>\n",
       "      <td>17.99</td>\n",
       "      <td>20.66</td>\n",
       "      <td>117.80</td>\n",
       "      <td>991.7</td>\n",
       "      <td>0.10360</td>\n",
       "      <td>0.13040</td>\n",
       "      <td>0.120100</td>\n",
       "      <td>0.088240</td>\n",
       "      <td>...</td>\n",
       "      <td>21.08</td>\n",
       "      <td>25.41</td>\n",
       "      <td>138.10</td>\n",
       "      <td>1349.0</td>\n",
       "      <td>0.1482</td>\n",
       "      <td>0.37350</td>\n",
       "      <td>0.330100</td>\n",
       "      <td>0.19740</td>\n",
       "      <td>0.3060</td>\n",
       "      <td>0.08503</td>\n",
       "    </tr>\n",
       "    <tr>\n",
       "      <th>392</th>\n",
       "      <td>903507</td>\n",
       "      <td>M</td>\n",
       "      <td>15.49</td>\n",
       "      <td>19.97</td>\n",
       "      <td>102.40</td>\n",
       "      <td>744.7</td>\n",
       "      <td>0.11600</td>\n",
       "      <td>0.15620</td>\n",
       "      <td>0.189100</td>\n",
       "      <td>0.091130</td>\n",
       "      <td>...</td>\n",
       "      <td>21.20</td>\n",
       "      <td>29.41</td>\n",
       "      <td>142.10</td>\n",
       "      <td>1359.0</td>\n",
       "      <td>0.1681</td>\n",
       "      <td>0.39130</td>\n",
       "      <td>0.555300</td>\n",
       "      <td>0.21210</td>\n",
       "      <td>0.3187</td>\n",
       "      <td>0.10190</td>\n",
       "    </tr>\n",
       "    <tr>\n",
       "      <th>554</th>\n",
       "      <td>924632</td>\n",
       "      <td>B</td>\n",
       "      <td>12.88</td>\n",
       "      <td>28.92</td>\n",
       "      <td>82.50</td>\n",
       "      <td>514.3</td>\n",
       "      <td>0.08123</td>\n",
       "      <td>0.05824</td>\n",
       "      <td>0.061950</td>\n",
       "      <td>0.023430</td>\n",
       "      <td>...</td>\n",
       "      <td>13.89</td>\n",
       "      <td>35.74</td>\n",
       "      <td>88.84</td>\n",
       "      <td>595.7</td>\n",
       "      <td>0.1227</td>\n",
       "      <td>0.16200</td>\n",
       "      <td>0.243900</td>\n",
       "      <td>0.06493</td>\n",
       "      <td>0.2372</td>\n",
       "      <td>0.07242</td>\n",
       "    </tr>\n",
       "    <tr>\n",
       "      <th>129</th>\n",
       "      <td>866674</td>\n",
       "      <td>M</td>\n",
       "      <td>19.79</td>\n",
       "      <td>25.12</td>\n",
       "      <td>130.40</td>\n",
       "      <td>1192.0</td>\n",
       "      <td>0.10150</td>\n",
       "      <td>0.15890</td>\n",
       "      <td>0.254500</td>\n",
       "      <td>0.114900</td>\n",
       "      <td>...</td>\n",
       "      <td>22.63</td>\n",
       "      <td>33.58</td>\n",
       "      <td>148.70</td>\n",
       "      <td>1589.0</td>\n",
       "      <td>0.1275</td>\n",
       "      <td>0.38610</td>\n",
       "      <td>0.567300</td>\n",
       "      <td>0.17320</td>\n",
       "      <td>0.3305</td>\n",
       "      <td>0.08465</td>\n",
       "    </tr>\n",
       "    <tr>\n",
       "      <th>537</th>\n",
       "      <td>919812</td>\n",
       "      <td>B</td>\n",
       "      <td>11.69</td>\n",
       "      <td>24.44</td>\n",
       "      <td>76.37</td>\n",
       "      <td>406.4</td>\n",
       "      <td>0.12360</td>\n",
       "      <td>0.15520</td>\n",
       "      <td>0.045150</td>\n",
       "      <td>0.045310</td>\n",
       "      <td>...</td>\n",
       "      <td>12.98</td>\n",
       "      <td>32.19</td>\n",
       "      <td>86.12</td>\n",
       "      <td>487.7</td>\n",
       "      <td>0.1768</td>\n",
       "      <td>0.32510</td>\n",
       "      <td>0.139500</td>\n",
       "      <td>0.13080</td>\n",
       "      <td>0.2803</td>\n",
       "      <td>0.09970</td>\n",
       "    </tr>\n",
       "    <tr>\n",
       "      <th>309</th>\n",
       "      <td>893548</td>\n",
       "      <td>B</td>\n",
       "      <td>13.05</td>\n",
       "      <td>13.84</td>\n",
       "      <td>82.71</td>\n",
       "      <td>530.6</td>\n",
       "      <td>0.08352</td>\n",
       "      <td>0.03735</td>\n",
       "      <td>0.004559</td>\n",
       "      <td>0.008829</td>\n",
       "      <td>...</td>\n",
       "      <td>14.73</td>\n",
       "      <td>17.40</td>\n",
       "      <td>93.96</td>\n",
       "      <td>672.4</td>\n",
       "      <td>0.1016</td>\n",
       "      <td>0.05847</td>\n",
       "      <td>0.018240</td>\n",
       "      <td>0.03532</td>\n",
       "      <td>0.2107</td>\n",
       "      <td>0.06580</td>\n",
       "    </tr>\n",
       "    <tr>\n",
       "      <th>194</th>\n",
       "      <td>87556202</td>\n",
       "      <td>M</td>\n",
       "      <td>14.86</td>\n",
       "      <td>23.21</td>\n",
       "      <td>100.40</td>\n",
       "      <td>671.4</td>\n",
       "      <td>0.10440</td>\n",
       "      <td>0.19800</td>\n",
       "      <td>0.169700</td>\n",
       "      <td>0.088780</td>\n",
       "      <td>...</td>\n",
       "      <td>16.08</td>\n",
       "      <td>27.78</td>\n",
       "      <td>118.60</td>\n",
       "      <td>784.7</td>\n",
       "      <td>0.1316</td>\n",
       "      <td>0.46480</td>\n",
       "      <td>0.458900</td>\n",
       "      <td>0.17270</td>\n",
       "      <td>0.3000</td>\n",
       "      <td>0.08701</td>\n",
       "    </tr>\n",
       "    <tr>\n",
       "      <th>478</th>\n",
       "      <td>911685</td>\n",
       "      <td>B</td>\n",
       "      <td>11.49</td>\n",
       "      <td>14.59</td>\n",
       "      <td>73.99</td>\n",
       "      <td>404.9</td>\n",
       "      <td>0.10460</td>\n",
       "      <td>0.08228</td>\n",
       "      <td>0.053080</td>\n",
       "      <td>0.019690</td>\n",
       "      <td>...</td>\n",
       "      <td>12.40</td>\n",
       "      <td>21.90</td>\n",
       "      <td>82.04</td>\n",
       "      <td>467.6</td>\n",
       "      <td>0.1352</td>\n",
       "      <td>0.20100</td>\n",
       "      <td>0.259600</td>\n",
       "      <td>0.07431</td>\n",
       "      <td>0.2941</td>\n",
       "      <td>0.09180</td>\n",
       "    </tr>\n",
       "    <tr>\n",
       "      <th>333</th>\n",
       "      <td>897137</td>\n",
       "      <td>B</td>\n",
       "      <td>11.25</td>\n",
       "      <td>14.78</td>\n",
       "      <td>71.38</td>\n",
       "      <td>390.0</td>\n",
       "      <td>0.08306</td>\n",
       "      <td>0.04458</td>\n",
       "      <td>0.000974</td>\n",
       "      <td>0.002941</td>\n",
       "      <td>...</td>\n",
       "      <td>12.76</td>\n",
       "      <td>22.06</td>\n",
       "      <td>82.08</td>\n",
       "      <td>492.7</td>\n",
       "      <td>0.1166</td>\n",
       "      <td>0.09794</td>\n",
       "      <td>0.005518</td>\n",
       "      <td>0.01667</td>\n",
       "      <td>0.2815</td>\n",
       "      <td>0.07418</td>\n",
       "    </tr>\n",
       "    <tr>\n",
       "      <th>432</th>\n",
       "      <td>908194</td>\n",
       "      <td>M</td>\n",
       "      <td>20.18</td>\n",
       "      <td>19.54</td>\n",
       "      <td>133.80</td>\n",
       "      <td>1250.0</td>\n",
       "      <td>0.11330</td>\n",
       "      <td>0.14890</td>\n",
       "      <td>0.213300</td>\n",
       "      <td>0.125900</td>\n",
       "      <td>...</td>\n",
       "      <td>22.03</td>\n",
       "      <td>25.07</td>\n",
       "      <td>146.00</td>\n",
       "      <td>1479.0</td>\n",
       "      <td>0.1665</td>\n",
       "      <td>0.29420</td>\n",
       "      <td>0.530800</td>\n",
       "      <td>0.21730</td>\n",
       "      <td>0.3032</td>\n",
       "      <td>0.08075</td>\n",
       "    </tr>\n",
       "  </tbody>\n",
       "</table>\n",
       "<p>10 rows × 32 columns</p>\n",
       "</div>"
      ],
      "text/plain": [
       "           id diagnosis  radius_mean  texture_mean  perimeter_mean  area_mean  \\\n",
       "408  90524101         M        17.99         20.66          117.80      991.7   \n",
       "392    903507         M        15.49         19.97          102.40      744.7   \n",
       "554    924632         B        12.88         28.92           82.50      514.3   \n",
       "129    866674         M        19.79         25.12          130.40     1192.0   \n",
       "537    919812         B        11.69         24.44           76.37      406.4   \n",
       "309    893548         B        13.05         13.84           82.71      530.6   \n",
       "194  87556202         M        14.86         23.21          100.40      671.4   \n",
       "478    911685         B        11.49         14.59           73.99      404.9   \n",
       "333    897137         B        11.25         14.78           71.38      390.0   \n",
       "432    908194         M        20.18         19.54          133.80     1250.0   \n",
       "\n",
       "     smoothness_mean  compactness_mean  concavity_mean  concave points_mean  \\\n",
       "408          0.10360           0.13040        0.120100             0.088240   \n",
       "392          0.11600           0.15620        0.189100             0.091130   \n",
       "554          0.08123           0.05824        0.061950             0.023430   \n",
       "129          0.10150           0.15890        0.254500             0.114900   \n",
       "537          0.12360           0.15520        0.045150             0.045310   \n",
       "309          0.08352           0.03735        0.004559             0.008829   \n",
       "194          0.10440           0.19800        0.169700             0.088780   \n",
       "478          0.10460           0.08228        0.053080             0.019690   \n",
       "333          0.08306           0.04458        0.000974             0.002941   \n",
       "432          0.11330           0.14890        0.213300             0.125900   \n",
       "\n",
       "     ...  radius_worst  texture_worst  perimeter_worst  area_worst  \\\n",
       "408  ...         21.08          25.41           138.10      1349.0   \n",
       "392  ...         21.20          29.41           142.10      1359.0   \n",
       "554  ...         13.89          35.74            88.84       595.7   \n",
       "129  ...         22.63          33.58           148.70      1589.0   \n",
       "537  ...         12.98          32.19            86.12       487.7   \n",
       "309  ...         14.73          17.40            93.96       672.4   \n",
       "194  ...         16.08          27.78           118.60       784.7   \n",
       "478  ...         12.40          21.90            82.04       467.6   \n",
       "333  ...         12.76          22.06            82.08       492.7   \n",
       "432  ...         22.03          25.07           146.00      1479.0   \n",
       "\n",
       "     smoothness_worst  compactness_worst  concavity_worst  \\\n",
       "408            0.1482            0.37350         0.330100   \n",
       "392            0.1681            0.39130         0.555300   \n",
       "554            0.1227            0.16200         0.243900   \n",
       "129            0.1275            0.38610         0.567300   \n",
       "537            0.1768            0.32510         0.139500   \n",
       "309            0.1016            0.05847         0.018240   \n",
       "194            0.1316            0.46480         0.458900   \n",
       "478            0.1352            0.20100         0.259600   \n",
       "333            0.1166            0.09794         0.005518   \n",
       "432            0.1665            0.29420         0.530800   \n",
       "\n",
       "     concave points_worst  symmetry_worst  fractal_dimension_worst  \n",
       "408               0.19740          0.3060                  0.08503  \n",
       "392               0.21210          0.3187                  0.10190  \n",
       "554               0.06493          0.2372                  0.07242  \n",
       "129               0.17320          0.3305                  0.08465  \n",
       "537               0.13080          0.2803                  0.09970  \n",
       "309               0.03532          0.2107                  0.06580  \n",
       "194               0.17270          0.3000                  0.08701  \n",
       "478               0.07431          0.2941                  0.09180  \n",
       "333               0.01667          0.2815                  0.07418  \n",
       "432               0.21730          0.3032                  0.08075  \n",
       "\n",
       "[10 rows x 32 columns]"
      ]
     },
     "execution_count": 8,
     "metadata": {},
     "output_type": "execute_result"
    }
   ],
   "source": [
    "# Breast Cancer identification dataset\n",
    "import pandas as pd\n",
    "\n",
    "df = pd.read_csv('resources/breast_cancer.csv')\n",
    "\n",
    "df.drop(columns= ['Unnamed: 32'], inplace = True)\n",
    "\n",
    "df.sample(10)"
   ]
  },
  {
   "cell_type": "code",
   "execution_count": 9,
   "metadata": {},
   "outputs": [],
   "source": [
    "df['Target'] = df.diagnosis.map(lambda x: 1 if x == 'M' else 0)"
   ]
  },
  {
   "cell_type": "markdown",
   "metadata": {},
   "source": [
    "__Your Turn__\n",
    "\n",
    "- Use 'area_mean' as the independent variable and 'Target' as dependent variable and apply a linear regression model to this dataset.\n",
    "- Plot the resulting regression line."
   ]
  },
  {
   "cell_type": "code",
   "execution_count": 11,
   "metadata": {},
   "outputs": [],
   "source": [
    "import seaborn as sns\n",
    "import matplotlib.pyplot as plt\n",
    "import numpy as np\n",
    "%matplotlib inline\n",
    "import sklearn as sk"
   ]
  },
  {
   "cell_type": "code",
   "execution_count": 16,
   "metadata": {},
   "outputs": [
    {
     "data": {
      "image/png": "[encoded data removed]",
      "text/plain": [
       "<Figure size 360x360 with 1 Axes>"
      ]
     },
     "metadata": {
      "needs_background": "light"
     },
     "output_type": "display_data"
    }
   ],
   "source": [
    "# %load -r 1-5 supplement.py\n",
    "x = 'area_mean'\n",
    "sns.lmplot(x=x, y='Target', data=df, ci=None)\n",
    "plt.ylim([-0.5, 1.5])\n",
    "plt.xlim([df[x].min()- df[x].std(), df[x].max() + df[x].std()])\n",
    "plt.show()"
   ]
  },
  {
   "cell_type": "markdown",
   "metadata": {},
   "source": [
    "## Interpreting linear regression coefficients\n",
    "\n",
    "\n",
    "__Your Turn__ \n",
    "\n",
    "- According to the linear regression model, that would be your prediction if area_mean = 350?\n",
    "\n",
    "- What about if 'area_mean' is 5?"
   ]
  },
  {
   "cell_type": "code",
   "execution_count": 18,
   "metadata": {},
   "outputs": [
    {
     "data": {
      "text/plain": [
       "array([-0.26100989,  0.07533936])"
      ]
     },
     "execution_count": 18,
     "metadata": {},
     "output_type": "execute_result"
    }
   ],
   "source": [
    "# %load -r 8-11 supplement.py\n",
    "from sklearn.linear_model import LinearRegression\n",
    "linreg = LinearRegression().fit(df.area_mean.values.reshape(-1, 1), df.Target)\n",
    "# compute prediction for area_mean=350 using the predict method\n",
    "linreg.predict(np.array([[5], [350]]))"
   ]
  },
  {
   "cell_type": "markdown",
   "metadata": {},
   "source": [
    "__Your Turn__\n",
    "\n",
    "Now let's make our prediction more suitable for categorical variables.\n",
    "\n",
    "- First find the predictions using predict method\n",
    "- Now find a way to map each prediction to either 0 or 1."
   ]
  },
  {
   "cell_type": "code",
   "execution_count": 19,
   "metadata": {},
   "outputs": [
    {
     "data": {
      "image/png": "[encoded data removed]",
      "text/plain": [
       "<Figure size 432x288 with 1 Axes>"
      ]
     },
     "metadata": {
      "needs_background": "light"
     },
     "output_type": "display_data"
    }
   ],
   "source": [
    "df['Prediction'] = linreg.predict(df.area_mean.values.reshape(-1,1))\n",
    "x = 'area_mean'\n",
    "sns.scatterplot(x=x, y='Prediction', hue= 'Target', data=df, ci=None)\n",
    "plt.ylim([-0.5, 1.5])\n",
    "plt.xlim([df[x].min()- df[x].std(), df[x].max() + df[x].std()])\n",
    "plt.show()"
   ]
  },
  {
   "cell_type": "markdown",
   "metadata": {},
   "source": [
    "Make a prediction depending on our observation above\n"
   ]
  },
  {
   "cell_type": "code",
   "execution_count": 20,
   "metadata": {},
   "outputs": [],
   "source": [
    "# %load -r 13 supplement.py\n",
    "df['Pred_class'] = df.Prediction.map(lambda x: 1 if x> 0.4 else 0 )"
   ]
  },
  {
   "cell_type": "code",
   "execution_count": 21,
   "metadata": {
    "scrolled": true
   },
   "outputs": [
    {
     "data": {
      "image/png": "[encoded data removed]",
      "text/plain": [
       "<Figure size 432x288 with 1 Axes>"
      ]
     },
     "metadata": {
      "needs_background": "light"
     },
     "output_type": "display_data"
    }
   ],
   "source": [
    "sns.distplot(df[df.Pred_class == 1].area_mean,norm_hist=True, label = 'Malign', hist_kws = {'alpha': 0.8}, kde = False)\n",
    "sns.distplot(df[df.Pred_class== 0].area_mean, norm_hist= True, label = 'Benign', hist_kws = {'alpha': 0.8}, kde = False)\n",
    "\n",
    "plt.legend()\n",
    "plt.tight_layout()"
   ]
  },
  {
   "cell_type": "markdown",
   "metadata": {},
   "source": [
    "If **area_mean= 750**, what class do we predict for household? \n",
    "\n",
    "If **area_mean=1500**, what class do we predict for household?\n",
    "\n",
    "We predict the 0 class for **lower** values of __area_mean__, and the 1 class for **higher** values of it. What's our cutoff value? Around **area_mean=750**, because that's where the linear regression line crosses the midpoint between predicting class 0 and class 1.\n",
    "\n",
    "Therefore, we'll say that if **Prediction >= 0.4**, we predict a class of **1**, else we predict a class of **0**."
   ]
  },
  {
   "cell_type": "code",
   "execution_count": 30,
   "metadata": {},
   "outputs": [
    {
     "data": {
      "text/plain": [
       "0.11599297012302284"
      ]
     },
     "execution_count": 30,
     "metadata": {},
     "output_type": "execute_result"
    }
   ],
   "source": [
    "# Take a look at our predictions\n",
    "df.sample(15)[['Prediction', 'Target', 'Pred_class']]\n",
    "\n",
    "(df.Target != df.Pred_class).sum()\n",
    "\n",
    "incorrect_percent = 66/569\n",
    "incorrect_percent"
   ]
  },
  {
   "cell_type": "code",
   "execution_count": 31,
   "metadata": {},
   "outputs": [
    {
     "data": {
      "image/png": "[encoded data removed]",
      "text/plain": [
       "<Figure size 432x288 with 1 Axes>"
      ]
     },
     "metadata": {
      "needs_background": "light"
     },
     "output_type": "display_data"
    }
   ],
   "source": [
    "# plot the class predictions\n",
    "plt.scatter(df.area_mean, df.Target, alpha = 0.7)\n",
    "plt.scatter(df.area_mean, df.Pred_class, color='red', alpha = 0.4)\n",
    "plt.xlabel('al')\n",
    "plt.ylabel('household')\n",
    "\n",
    "plt.show()"
   ]
  },
  {
   "cell_type": "markdown",
   "metadata": {},
   "source": [
    "## Using Logistic Regression Instead\n",
    "\n",
    "Let's use LogisticRegression from sklearn.linear_model to compare the classifications.\n",
    "\n",
    "[sklearn documentation](https://scikit-learn.org/stable/modules/generated/sklearn.linear_model.LogisticRegression.html)"
   ]
  },
  {
   "cell_type": "code",
   "execution_count": 49,
   "metadata": {},
   "outputs": [],
   "source": [
    "# %load -r 15-23 supplement.py\n",
    "# fit a logistic regression model and store the class predictions\n",
    "from sklearn.linear_model import LogisticRegression\n",
    "logreg = LogisticRegression(C=1e9, solver='lbfgs')\n",
    "feature_cols = ['area_mean']\n",
    "X = df[feature_cols]\n",
    "y = df.Target\n",
    "logreg.fit(X, y)\n",
    "df['Log_Prediction'] = logreg.predict(X)\n",
    "df['Log_probabilities'] = logreg.predict_proba(X)[:,1]"
   ]
  },
  {
   "cell_type": "code",
   "execution_count": 56,
   "metadata": {},
   "outputs": [
    {
     "data": {
      "text/plain": [
       "array([1, 1, 1, 0, 1, 0, 1, 0, 0, 0, 1, 1, 1, 1, 0, 0, 1, 1, 1, 0, 0, 0,\n",
       "       1, 1, 1, 1, 0, 1, 1, 1, 1, 0, 1, 1, 1, 1, 0, 0, 1, 0, 0, 0, 1, 0,\n",
       "       0, 1, 0, 0, 0, 0, 0, 0, 0, 1, 1, 0, 1, 0, 0, 0, 0, 0, 0, 0, 0, 0,\n",
       "       0, 0, 0, 0, 1, 0, 1, 0, 0, 1, 0, 1, 1, 0, 0, 0, 1, 1, 0, 1, 0, 1,\n",
       "       0, 0, 0, 1, 0, 0, 1, 1, 0, 0, 0, 0, 0, 0, 0, 0, 0, 0, 0, 0, 1, 0,\n",
       "       0, 0, 0, 0, 0, 0, 0, 1, 1, 1, 0, 1, 1, 0, 0, 0, 0, 1, 0, 1, 0, 1,\n",
       "       1, 1, 1, 0, 0, 0, 1, 0, 0, 1, 0, 0, 0, 0, 0, 1, 0, 0, 0, 0, 0, 0,\n",
       "       0, 0, 1, 1, 0, 0, 0, 1, 1, 0, 1, 1, 0, 1, 1, 1, 0, 0, 1, 0, 0, 0,\n",
       "       0, 1, 0, 0, 1, 1, 1, 0, 1, 0, 1, 0, 0, 0, 0, 0, 0, 0, 0, 0, 0, 1,\n",
       "       1, 0, 0, 1, 1, 0, 0, 1, 0, 1, 0, 1, 1, 0, 1, 1, 0, 0, 0, 0, 1, 1,\n",
       "       0, 0, 0, 1, 0, 0, 0, 1, 0, 0, 1, 0, 0, 1, 0, 0, 1, 1, 0, 1, 0, 0,\n",
       "       0, 0, 1, 0, 0, 0, 0, 0, 1, 0, 1, 1, 1, 0, 1, 1, 1, 1, 1, 1, 1, 1,\n",
       "       1, 1, 0, 0, 0, 0, 0, 0, 1, 0, 1, 0, 0, 1, 0, 0, 1, 0, 1, 1, 0, 0,\n",
       "       0, 0, 0, 0, 0, 1, 0, 0, 0, 0, 0, 0, 0, 0, 1, 0, 1, 0, 0, 0, 0, 0,\n",
       "       0, 0, 0, 0, 0, 0, 0, 0, 0, 1, 0, 0, 0, 1, 0, 1, 0, 0, 0, 0, 1, 1,\n",
       "       1, 0, 0, 0, 0, 1, 0, 1, 0, 1, 0, 0, 0, 1, 0, 0, 0, 0, 0, 0, 0, 1,\n",
       "       1, 1, 0, 0, 0, 0, 0, 0, 0, 0, 0, 1, 0, 1, 1, 0, 1, 1, 1, 1, 1, 1,\n",
       "       0, 1, 0, 0, 0, 0, 0, 0, 0, 0, 0, 0, 0, 0, 0, 1, 0, 0, 1, 1, 0, 0,\n",
       "       0, 0, 0, 0, 1, 0, 0, 0, 0, 0, 1, 0, 1, 0, 0, 0, 0, 1, 1, 0, 0, 1,\n",
       "       0, 0, 0, 0, 0, 0, 0, 0, 0, 0, 0, 0, 1, 0, 1, 1, 0, 0, 0, 0, 0, 0,\n",
       "       0, 1, 0, 0, 1, 0, 1, 0, 0, 1, 0, 1, 0, 0, 0, 0, 0, 0, 0, 0, 1, 1,\n",
       "       0, 0, 0, 0, 0, 0, 1, 0, 0, 0, 1, 0, 0, 0, 0, 0, 0, 1, 0, 0, 0, 0,\n",
       "       1, 0, 0, 1, 0, 1, 0, 1, 1, 0, 0, 1, 0, 0, 1, 1, 1, 0, 0, 1, 0, 0,\n",
       "       0, 0, 1, 1, 0, 1, 0, 0, 1, 0, 1, 1, 0, 0, 0, 1, 0, 0, 0, 0, 0, 0,\n",
       "       0, 0, 0, 0, 0, 1, 0, 1, 0, 0, 0, 0, 0, 0, 0, 0, 0, 0, 0, 0, 0, 0,\n",
       "       0, 0, 0, 0, 0, 0, 0, 0, 0, 0, 0, 0, 1, 1, 1, 1, 1, 1, 0])"
      ]
     },
     "execution_count": 56,
     "metadata": {},
     "output_type": "execute_result"
    }
   ],
   "source": [
    "np.array(df.Log_Prediction)"
   ]
  },
  {
   "cell_type": "code",
   "execution_count": 57,
   "metadata": {},
   "outputs": [
    {
     "data": {
      "text/plain": [
       "array([0.97823323, 0.99951444, 0.99793869, 0.03136105, 0.9993171 ,\n",
       "       0.08631327, 0.9861331 , 0.23624738, 0.13504816, 0.08520615,\n",
       "       0.8044364 , 0.77145871, 0.99473277, 0.77496652, 0.23709772,\n",
       "       0.44487671, 0.52024532, 0.80628098, 0.99894492, 0.21250949,\n",
       "       0.13532331, 0.00857228, 0.57815256, 0.99980602, 0.93529356,\n",
       "       0.94082815, 0.40464814, 0.9926064 , 0.65581002, 0.96321712,\n",
       "       0.9920698 , 0.05792098, 0.93141514, 0.99666484, 0.82125428,\n",
       "       0.9053357 , 0.37168653, 0.14064135, 0.56200356, 0.19886357,\n",
       "       0.20608353, 0.02642063, 0.99342178, 0.17391171, 0.15195292,\n",
       "       0.99087805, 0.00369212, 0.15671358, 0.06376666, 0.2022596 ,\n",
       "       0.05028507, 0.22354174, 0.0560245 , 0.98496042, 0.60205597,\n",
       "       0.04066569, 0.99624992, 0.43936222, 0.14554673, 0.00481154,\n",
       "       0.01334135, 0.00466178, 0.40720204, 0.00736528, 0.10892186,\n",
       "       0.47262638, 0.00813376, 0.03435041, 0.00652242, 0.11298408,\n",
       "       0.99514723, 0.00604504, 0.95086628, 0.24966356, 0.08073061,\n",
       "       0.83867804, 0.19886357, 0.9794514 , 0.9987415 , 0.11754357,\n",
       "       0.03735891, 0.13532331, 0.99999927, 0.99525957, 0.05967918,\n",
       "       0.99077108, 0.41432217, 0.99087805, 0.07663687, 0.42492516,\n",
       "       0.45623709, 0.64456995, 0.1851758 , 0.19128873, 0.58159264,\n",
       "       0.99899338, 0.06504293, 0.01089813, 0.04235086, 0.39814521,\n",
       "       0.24659017, 0.00186047, 0.07069764, 0.01139083, 0.01765908,\n",
       "       0.14999212, 0.04230316, 0.07713798, 0.99994361, 0.03529961,\n",
       "       0.01036598, 0.08942529, 0.36320812, 0.01727539, 0.00518594,\n",
       "       0.05665008, 0.00613048, 0.5143688 , 0.77476124, 0.97292736,\n",
       "       0.03812815, 0.9909838 , 0.99999709, 0.3930808 , 0.18839306,\n",
       "       0.25994046, 0.22517995, 0.99558129, 0.49083926, 0.99765451,\n",
       "       0.06848822, 0.69822026, 0.82570142, 0.72898088, 0.99077108,\n",
       "       0.11754357, 0.04792289, 0.03664611, 0.50142877, 0.03089967,\n",
       "       0.01016277, 0.83105442, 0.03590564, 0.12493839, 0.02203683,\n",
       "       0.05311119, 0.05263975, 0.53490858, 0.3913977 , 0.25165276,\n",
       "       0.13449929, 0.00377971, 0.01164537, 0.029894  , 0.16351722,\n",
       "       0.07194464, 0.96663924, 0.91558967, 0.06327667, 0.02514981,\n",
       "       0.04592343, 0.99646343, 0.99818851, 0.07531513, 0.99999297,\n",
       "       0.53695721, 0.02262772, 0.92097429, 0.97372166, 0.52435564,\n",
       "       0.07498799, 0.21074256, 0.66766212, 0.02690927, 0.02063673,\n",
       "       0.0049661 , 0.01194713, 0.86143823, 0.1443799 , 0.12062952,\n",
       "       0.99999999, 0.99942076, 0.74022104, 0.03757108, 0.59583753,\n",
       "       0.01423718, 0.9862931 , 0.04618191, 0.05085002, 0.07466215,\n",
       "       0.31070785, 0.11889287, 0.01011553, 0.08659208, 0.48172675,\n",
       "       0.1304426 , 0.26039345, 0.98330829, 0.99606989, 0.3987093 ,\n",
       "       0.07249657, 0.96172976, 0.99999289, 0.28106278, 0.09087303,\n",
       "       0.6127187 , 0.01101288, 0.93507959, 0.14879587, 0.63725812,\n",
       "       0.99925851, 0.0503413 , 1.        , 0.96013974, 0.31272758,\n",
       "       0.23837719, 0.05275724, 0.01486132, 0.99849892, 0.99837025,\n",
       "       0.21767454, 0.2028298 , 0.01352851, 0.72804995, 0.17594973,\n",
       "       0.39448533, 0.01638005, 0.52024532, 0.10598772, 0.11381223,\n",
       "       0.9281114 , 0.03498044, 0.03161224, 0.99947277, 0.00916153,\n",
       "       0.29456825, 0.99999152, 0.99938568, 0.34704122, 0.94579619,\n",
       "       0.23077162, 0.08575809, 0.03256238, 0.26289404, 0.99637952,\n",
       "       0.01798867, 0.1679095 , 0.12493839, 0.02002736, 0.03944415,\n",
       "       0.99968946, 0.03993751, 0.99801005, 0.95020235, 0.99692774,\n",
       "       0.29212896, 0.99803328, 0.60346475, 0.75552722, 0.68821086,\n",
       "       0.99924086, 0.95286093, 0.96004957, 0.72171401, 0.950258  ,\n",
       "       0.9998374 , 0.01988926, 0.2022596 , 0.12493839, 0.01954808,\n",
       "       0.37058796, 0.03204739, 0.99993031, 0.01032983, 0.97770079,\n",
       "       0.05479278, 0.0353397 , 0.99326619, 0.22456462, 0.25700849,\n",
       "       0.99558129, 0.04994896, 0.99592925, 0.81759793, 0.13070978,\n",
       "       0.0980153 , 0.05817836, 0.12977669, 0.03435041, 0.0350998 ,\n",
       "       0.42233929, 0.52846267, 0.12688095, 0.05305204, 0.10128793,\n",
       "       0.24659017, 0.02427078, 0.05211411, 0.37196137, 0.01727539,\n",
       "       0.99825123, 0.08108061, 0.99877074, 0.01729538, 0.03804194,\n",
       "       0.0446014 , 0.16095827, 0.00620986, 0.21231263, 0.15059322,\n",
       "       0.04535962, 0.46266643, 0.11488476, 0.04071162, 0.00462913,\n",
       "       0.0905818 , 0.0728137 , 0.98387793, 0.0060805 , 0.08649905,\n",
       "       0.01538711, 0.99910503, 0.11572502, 0.99899338, 0.07008165,\n",
       "       0.09895558, 0.32758059, 0.06148727, 0.83220778, 0.85264603,\n",
       "       0.79578031, 0.12727255, 0.03179286, 0.03278554, 0.07523323,\n",
       "       0.94457694, 0.12766518, 0.99243166, 0.01317203, 0.99999657,\n",
       "       0.39448533, 0.00925817, 0.0272815 , 0.99770894, 0.04618191,\n",
       "       0.01493039, 0.06101365, 0.47379973, 0.03787006, 0.04961498,\n",
       "       0.04654611, 0.72171401, 0.99999984, 0.6127187 , 0.03082928,\n",
       "       0.09473628, 0.12468132, 0.27141768, 0.00583659, 0.00905532,\n",
       "       0.1010739 , 0.17543847, 0.10621093, 0.86858177, 0.18642189,\n",
       "       0.99928421, 0.99856784, 0.07046606, 0.99996351, 0.99992252,\n",
       "       0.87164044, 0.59923336, 0.99976027, 0.99956321, 0.23880473,\n",
       "       0.78664519, 0.01811382, 0.20435618, 0.24202803, 0.02369241,\n",
       "       0.03143262, 0.02690927, 0.06272097, 0.07401437, 0.16823857,\n",
       "       0.4620814 , 0.0732918 , 0.2782183 , 0.03354009, 0.99710277,\n",
       "       0.01493039, 0.00539649, 0.68770564, 0.99981275, 0.06162322,\n",
       "       0.30869531, 0.19680941, 0.12000679, 0.02865687, 0.0525811 ,\n",
       "       0.97640846, 0.0592842 , 0.14264426, 0.11913963, 0.07917259,\n",
       "       0.02608971, 0.80847699, 0.1279275 , 0.97577692, 0.07663687,\n",
       "       0.03664611, 0.02706376, 0.008077  , 0.54718031, 0.62078458,\n",
       "       0.05370609, 0.00830644, 0.81406192, 0.10443683, 0.0293528 ,\n",
       "       0.04098825, 0.43704473, 0.04030002, 0.23077162, 0.0103058 ,\n",
       "       0.01264728, 0.01715593, 0.02323407, 0.0296222 , 0.11157664,\n",
       "       0.52171363, 0.0780645 , 0.99881332, 0.99386746, 0.48848682,\n",
       "       0.28512263, 0.12112972, 0.31399353, 0.26886559, 0.30220478,\n",
       "       0.02654198, 0.95053537, 0.25365245, 0.01866607, 0.97529957,\n",
       "       0.05837209, 0.9728031 , 0.49172154, 0.44749367, 0.99975456,\n",
       "       0.05263975, 0.99762681, 0.05915309, 0.40294839, 0.10214808,\n",
       "       0.19514068, 0.04356017, 0.16191406, 0.13559892, 0.01045083,\n",
       "       0.95168439, 1.        , 0.40833873, 0.04239861, 0.16095827,\n",
       "       0.17005767, 0.16032362, 0.00990562, 0.97245854, 0.04057398,\n",
       "       0.01023404, 0.06418947, 0.5272896 , 0.07605601, 0.02296851,\n",
       "       0.1182779 , 0.33252422, 0.28488285, 0.03882468, 0.83563014,\n",
       "       0.06811381, 0.29334712, 0.17577918, 0.22211527, 0.69398853,\n",
       "       0.08594279, 0.46588589, 0.9968548 , 0.04628569, 0.89263452,\n",
       "       0.07697061, 0.97588793, 0.97968691, 0.08649905, 0.16319557,\n",
       "       0.50966465, 0.09453464, 0.08913825, 0.98998663, 0.99947894,\n",
       "       0.53461582, 0.27656721, 0.08557375, 0.99999264, 0.0063866 ,\n",
       "       0.0084334 , 0.06648885, 0.02506341, 0.84199348, 0.6528824 ,\n",
       "       0.04922801, 0.5090765 , 0.19421825, 0.44487671, 0.57096169,\n",
       "       0.03323628, 0.98793721, 0.99818851, 0.10236412, 0.10312348,\n",
       "       0.00710332, 0.99999887, 0.03208391, 0.22191203, 0.01073446,\n",
       "       0.00463455, 0.18411286, 0.07865939, 0.27258273, 0.06094627,\n",
       "       0.04754845, 0.04410265, 0.23118966, 0.99933297, 0.02480592,\n",
       "       0.99939996, 0.362936  , 0.03948875, 0.00281583, 0.00255149,\n",
       "       0.03795591, 0.43791347, 0.47350637, 0.16271405, 0.2512098 ,\n",
       "       0.22641419, 0.0155124 , 0.01479257, 0.00983662, 0.02369241,\n",
       "       0.02339484, 0.02872245, 0.11951061, 0.00763682, 0.12766518,\n",
       "       0.01489582, 0.01331041, 0.00831614, 0.43994202, 0.03821456,\n",
       "       0.28728618, 0.03132533, 0.61355606, 0.99962071, 0.99991974,\n",
       "       0.99895725, 0.89319709, 0.99900515, 0.00288946])"
      ]
     },
     "execution_count": 57,
     "metadata": {},
     "output_type": "execute_result"
    }
   ],
   "source": [
    "np.array(df.Log_probabilities)"
   ]
  },
  {
   "cell_type": "code",
   "execution_count": 58,
   "metadata": {},
   "outputs": [
    {
     "name": "stdout",
     "output_type": "stream",
     "text": [
      "[1 1 1 0 1 0 1 0 0 0 1 1 1 1 0 0 1 1 1 0 0 0 1 1 1 1 0 1 1 1 1 0 1 1 1 1 0\n",
      " 0 1 0 0 0 1 0 0 1 0 0 0 0 0 0 0 1 1 0 1 0 0 0 0 0 0 0 0 0 0 0 0 0 1 0 1 0\n",
      " 0 1 0 1 1 0 0 0 1 1 0 1 0 1 0 0 0 1 0 0 1 1 0 0 0 0 0 0 0 0 0 0 0 0 1 0 0\n",
      " 0 0 0 0 0 0 1 1 1 0 1 1 0 0 0 0 1 0 1 0 1 1 1 1 0 0 0 1 0 0 1 0 0 0 0 0 1\n",
      " 0 0 0 0 0 0 0 0 1 1 0 0 0 1 1 0 1 1 0 1 1 1 0 0 1 0 0 0 0 1 0 0 1 1 1 0 1\n",
      " 0 1 0 0 0 0 0 0 0 0 0 0 1 1 0 0 1 1 0 0 1 0 1 0 1 1 0 1 1 0 0 0 0 1 1 0 0\n",
      " 0 1 0 0 0 1 0 0 1 0 0 1 0 0 1 1 0 1 0 0 0 0 1 0 0 0 0 0 1 0 1 1 1 0 1 1 1\n",
      " 1 1 1 1 1 1 1 0 0 0 0 0 0 1 0 1 0 0 1 0 0 1 0 1 1 0 0 0 0 0 0 0 1 0 0 0 0\n",
      " 0 0 0 0 1 0 1 0 0 0 0 0 0 0 0 0 0 0 0 0 0 1 0 0 0 1 0 1 0 0 0 0 1 1 1 0 0\n",
      " 0 0 1 0 1 0 1 0 0 0 1 0 0 0 0 0 0 0 1 1 1 0 0 0 0 0 0 0 0 0 1 0 1 1 0 1 1\n",
      " 1 1 1 1 0 1 0 0 0 0 0 0 0 0 0 0 0 0 0 1 0 0 1 1 0 0 0 0 0 0 1 0 0 0 0 0 1\n",
      " 0 1 0 0 0 0 1 1 0 0 1 0 0 0 0 0 0 0 0 0 0 0 0 1 0 1 1 0 0 0 0 0 0 0 1 0 0\n",
      " 1 0 1 0 0 1 0 1 0 0 0 0 0 0 0 0 1 1 0 0 0 0 0 0 1 0 0 0 1 0 0 0 0 0 0 1 0\n",
      " 0 0 0 1 0 0 1 0 1 0 1 1 0 0 1 0 0 1 1 1 0 0 1 0 0 0 0 1 1 0 1 0 0 1 0 1 1\n",
      " 0 0 0 1 0 0 0 0 0 0 0 0 0 0 0 1 0 1 0 0 0 0 0 0 0 0 0 0 0 0 0 0 0 0 0 0 0\n",
      " 0 0 0 0 0 0 0 1 1 1 1 1 1 0]\n"
     ]
    }
   ],
   "source": [
    "#my attempt (correct)\n",
    "from sklearn.datasets import load_iris\n",
    "from sklearn.linear_model import LogisticRegression\n",
    "X = np.array(df.area_mean).reshape(-1,1)\n",
    "y = df.Target\n",
    "clf = LogisticRegression(random_state=0, solver='lbfgs', multi_class='multinomial').fit(X, y)\n",
    "print(clf.predict(X))"
   ]
  },
  {
   "cell_type": "code",
   "execution_count": 59,
   "metadata": {
    "scrolled": true
   },
   "outputs": [
    {
     "data": {
      "image/png": "[encoded data removed]",
      "text/plain": [
       "<Figure size 432x288 with 1 Axes>"
      ]
     },
     "metadata": {
      "needs_background": "light"
     },
     "output_type": "display_data"
    }
   ],
   "source": [
    "# plot the class predictions\n",
    "plt.scatter(df.area_mean, df.Target)\n",
    "plt.scatter(df.area_mean, df.Log_probabilities, color='red')\n",
    "plt.xlabel('area_mean')\n",
    "plt.ylabel('Probabilities')\n",
    "plt.show()"
   ]
  },
  {
   "cell_type": "markdown",
   "metadata": {},
   "source": [
    "__Your Turn__\n",
    "\n",
    "Use the trained logistic regression and make predictions for \n",
    "\n",
    "- area_mean = 350\n",
    "\n",
    "- area_mean = 5"
   ]
  },
  {
   "cell_type": "code",
   "execution_count": 62,
   "metadata": {},
   "outputs": [
    {
     "data": {
      "text/plain": [
       "array([0])"
      ]
     },
     "execution_count": 62,
     "metadata": {},
     "output_type": "execute_result"
    }
   ],
   "source": [
    "clf.predict(np.array([[350]]))"
   ]
  },
  {
   "cell_type": "code",
   "execution_count": 63,
   "metadata": {},
   "outputs": [
    {
     "data": {
      "text/plain": [
       "array([[0.97927188, 0.02072812]])"
      ]
     },
     "execution_count": 63,
     "metadata": {},
     "output_type": "execute_result"
    }
   ],
   "source": [
    "clf.predict_proba(np.array([[350]]))"
   ]
  },
  {
   "cell_type": "code",
   "execution_count": 276,
   "metadata": {},
   "outputs": [
    {
     "data": {
      "text/html": [
       "<div>\n",
       "<style scoped>\n",
       "    .dataframe tbody tr th:only-of-type {\n",
       "        vertical-align: middle;\n",
       "    }\n",
       "\n",
       "    .dataframe tbody tr th {\n",
       "        vertical-align: top;\n",
       "    }\n",
       "\n",
       "    .dataframe thead th {\n",
       "        text-align: right;\n",
       "    }\n",
       "</style>\n",
       "<table border=\"1\" class=\"dataframe\">\n",
       "  <thead>\n",
       "    <tr style=\"text-align: right;\">\n",
       "      <th></th>\n",
       "      <th>Target</th>\n",
       "      <th>Pred_class</th>\n",
       "      <th>Log_Prediction</th>\n",
       "    </tr>\n",
       "  </thead>\n",
       "  <tbody>\n",
       "    <tr>\n",
       "      <th>204</th>\n",
       "      <td>0</td>\n",
       "      <td>0</td>\n",
       "      <td>0</td>\n",
       "    </tr>\n",
       "    <tr>\n",
       "      <th>197</th>\n",
       "      <td>1</td>\n",
       "      <td>1</td>\n",
       "      <td>1</td>\n",
       "    </tr>\n",
       "    <tr>\n",
       "      <th>497</th>\n",
       "      <td>0</td>\n",
       "      <td>0</td>\n",
       "      <td>0</td>\n",
       "    </tr>\n",
       "    <tr>\n",
       "      <th>373</th>\n",
       "      <td>1</td>\n",
       "      <td>1</td>\n",
       "      <td>1</td>\n",
       "    </tr>\n",
       "    <tr>\n",
       "      <th>287</th>\n",
       "      <td>0</td>\n",
       "      <td>0</td>\n",
       "      <td>0</td>\n",
       "    </tr>\n",
       "    <tr>\n",
       "      <th>191</th>\n",
       "      <td>0</td>\n",
       "      <td>0</td>\n",
       "      <td>0</td>\n",
       "    </tr>\n",
       "    <tr>\n",
       "      <th>275</th>\n",
       "      <td>0</td>\n",
       "      <td>0</td>\n",
       "      <td>0</td>\n",
       "    </tr>\n",
       "    <tr>\n",
       "      <th>421</th>\n",
       "      <td>0</td>\n",
       "      <td>0</td>\n",
       "      <td>0</td>\n",
       "    </tr>\n",
       "    <tr>\n",
       "      <th>136</th>\n",
       "      <td>0</td>\n",
       "      <td>0</td>\n",
       "      <td>0</td>\n",
       "    </tr>\n",
       "    <tr>\n",
       "      <th>137</th>\n",
       "      <td>0</td>\n",
       "      <td>0</td>\n",
       "      <td>0</td>\n",
       "    </tr>\n",
       "    <tr>\n",
       "      <th>0</th>\n",
       "      <td>1</td>\n",
       "      <td>1</td>\n",
       "      <td>1</td>\n",
       "    </tr>\n",
       "    <tr>\n",
       "      <th>322</th>\n",
       "      <td>0</td>\n",
       "      <td>0</td>\n",
       "      <td>0</td>\n",
       "    </tr>\n",
       "    <tr>\n",
       "      <th>330</th>\n",
       "      <td>1</td>\n",
       "      <td>1</td>\n",
       "      <td>1</td>\n",
       "    </tr>\n",
       "    <tr>\n",
       "      <th>233</th>\n",
       "      <td>1</td>\n",
       "      <td>1</td>\n",
       "      <td>1</td>\n",
       "    </tr>\n",
       "    <tr>\n",
       "      <th>366</th>\n",
       "      <td>1</td>\n",
       "      <td>1</td>\n",
       "      <td>1</td>\n",
       "    </tr>\n",
       "    <tr>\n",
       "      <th>267</th>\n",
       "      <td>0</td>\n",
       "      <td>0</td>\n",
       "      <td>0</td>\n",
       "    </tr>\n",
       "    <tr>\n",
       "      <th>169</th>\n",
       "      <td>0</td>\n",
       "      <td>1</td>\n",
       "      <td>1</td>\n",
       "    </tr>\n",
       "    <tr>\n",
       "      <th>4</th>\n",
       "      <td>1</td>\n",
       "      <td>1</td>\n",
       "      <td>1</td>\n",
       "    </tr>\n",
       "    <tr>\n",
       "      <th>151</th>\n",
       "      <td>0</td>\n",
       "      <td>0</td>\n",
       "      <td>0</td>\n",
       "    </tr>\n",
       "    <tr>\n",
       "      <th>231</th>\n",
       "      <td>0</td>\n",
       "      <td>0</td>\n",
       "      <td>0</td>\n",
       "    </tr>\n",
       "  </tbody>\n",
       "</table>\n",
       "</div>"
      ],
      "text/plain": [
       "     Target  Pred_class  Log_Prediction\n",
       "204       0           0               0\n",
       "197       1           1               1\n",
       "497       0           0               0\n",
       "373       1           1               1\n",
       "287       0           0               0\n",
       "191       0           0               0\n",
       "275       0           0               0\n",
       "421       0           0               0\n",
       "136       0           0               0\n",
       "137       0           0               0\n",
       "0         1           1               1\n",
       "322       0           0               0\n",
       "330       1           1               1\n",
       "233       1           1               1\n",
       "366       1           1               1\n",
       "267       0           0               0\n",
       "169       0           1               1\n",
       "4         1           1               1\n",
       "151       0           0               0\n",
       "231       0           0               0"
      ]
     },
     "execution_count": 276,
     "metadata": {},
     "output_type": "execute_result"
    }
   ],
   "source": [
    "df.sample(20)[['Target', 'Pred_class', 'Log_Prediction']]"
   ]
  },
  {
   "cell_type": "code",
   "execution_count": 66,
   "metadata": {},
   "outputs": [
    {
     "data": {
      "text/plain": [
       "66"
      ]
     },
     "execution_count": 66,
     "metadata": {},
     "output_type": "execute_result"
    }
   ],
   "source": [
    "(df.Target != df.Log_Prediction).sum()"
   ]
  },
  {
   "cell_type": "code",
   "execution_count": 67,
   "metadata": {},
   "outputs": [
    {
     "data": {
      "text/plain": [
       "4"
      ]
     },
     "execution_count": 67,
     "metadata": {},
     "output_type": "execute_result"
    }
   ],
   "source": [
    "(df.Pred_class != df.Log_Prediction).sum()"
   ]
  },
  {
   "cell_type": "markdown",
   "metadata": {},
   "source": [
    "__Your Turn__\n",
    "\n",
    "- How many of the predictions are different between two models?"
   ]
  },
  {
   "cell_type": "code",
   "execution_count": null,
   "metadata": {},
   "outputs": [],
   "source": [
    "# %load -r 25 supplement.py\n",
    "(df.Pred_class != df.Log_Prediction).sum()"
   ]
  },
  {
   "cell_type": "markdown",
   "metadata": {},
   "source": [
    "Note that when we call logreg_predict_proba we get an array of shape (n_samples, n_class). The first column indicates the predicted probability of **class 0**, and the second column indicates the predicted probability of **class 1**."
   ]
  },
  {
   "cell_type": "markdown",
   "metadata": {},
   "source": [
    "## Probability, odds, e, log, log-odds\n",
    "\n",
    "$$probability = \\frac {one\\ outcome} {all\\ outcomes}$$\n",
    "\n",
    "$$odds = \\frac {one\\ outcome} {all\\ other\\ outcomes}$$\n",
    "\n",
    "Examples:\n",
    "\n",
    "- Dice roll of 1: probability = 1/6, odds = 1/5\n",
    "- Even dice roll: probability = 3/6, odds = 3/3 = 1\n",
    "- Dice roll less than 5: probability = 4/6, odds = 4/2 = 2\n",
    "\n",
    "$$odds = \\frac {probability} {1 - probability}$$\n",
    "\n",
    "$$probability = \\frac {odds} {1 + odds}$$"
   ]
  },
  {
   "cell_type": "markdown",
   "metadata": {},
   "source": [
    "__Your Turn__\n",
    "\n",
    "- Write a function that converts probabilities to odds\n",
    "\n",
    "- Write a function that converts a given odd to its probability.\n"
   ]
  },
  {
   "cell_type": "code",
   "execution_count": 69,
   "metadata": {},
   "outputs": [],
   "source": [
    "def prob_to_odd(p):\n",
    "    return p/(1-p)"
   ]
  },
  {
   "cell_type": "code",
   "execution_count": 70,
   "metadata": {},
   "outputs": [],
   "source": [
    "def odd_to_prob(o):\n",
    "    return o/(1+o)"
   ]
  },
  {
   "cell_type": "markdown",
   "metadata": {},
   "source": [
    "## Properties of log and exponential functions"
   ]
  },
  {
   "cell_type": "markdown",
   "metadata": {},
   "source": [
    "What is **e**? \n"
   ]
  },
  {
   "cell_type": "code",
   "execution_count": 71,
   "metadata": {},
   "outputs": [
    {
     "data": {
      "text/plain": [
       "2.718281828459045"
      ]
     },
     "execution_count": 71,
     "metadata": {},
     "output_type": "execute_result"
    }
   ],
   "source": [
    "math.e"
   ]
  },
  {
   "cell_type": "code",
   "execution_count": 78,
   "metadata": {},
   "outputs": [
    {
     "name": "stdout",
     "output_type": "stream",
     "text": [
      "0.0\n",
      "0.010204081632653062\n",
      "0.02061855670103093\n",
      "0.03125\n",
      "0.04210526315789474\n",
      "0.053191489361702135\n",
      "0.06451612903225806\n",
      "0.07608695652173915\n",
      "0.08791208791208792\n",
      "0.1\n",
      "0.11235955056179776\n",
      "0.12500000000000003\n",
      "0.13793103448275862\n",
      "0.15116279069767444\n",
      "0.1647058823529412\n",
      "0.17857142857142858\n",
      "0.19277108433734944\n",
      "0.20731707317073172\n",
      "0.22222222222222224\n",
      "0.23750000000000002\n",
      "0.25316455696202533\n",
      "0.2692307692307693\n",
      "0.28571428571428575\n",
      "0.3026315789473685\n",
      "0.32\n",
      "0.3378378378378379\n",
      "0.35616438356164387\n",
      "0.37500000000000006\n",
      "0.3943661971830987\n",
      "0.41428571428571426\n",
      "0.43478260869565216\n",
      "0.4558823529411765\n",
      "0.47761194029850756\n",
      "0.5000000000000001\n",
      "0.5230769230769231\n",
      "0.5468750000000001\n",
      "0.5714285714285715\n",
      "0.5967741935483871\n",
      "0.6229508196721312\n",
      "0.6500000000000001\n",
      "0.6779661016949153\n",
      "0.706896551724138\n",
      "0.736842105263158\n",
      "0.7678571428571429\n",
      "0.8\n",
      "0.8333333333333335\n",
      "0.867924528301887\n",
      "0.9038461538461541\n",
      "0.9411764705882354\n",
      "0.9800000000000002\n",
      "1.0204081632653061\n",
      "1.0625000000000004\n",
      "1.1063829787234045\n",
      "1.1521739130434783\n",
      "1.2000000000000004\n",
      "1.2500000000000002\n",
      "1.3023255813953494\n",
      "1.3571428571428574\n",
      "1.4146341463414633\n",
      "1.4750000000000003\n",
      "1.5384615384615385\n",
      "1.6052631578947374\n",
      "1.6756756756756759\n",
      "1.7500000000000007\n",
      "1.828571428571429\n",
      "1.911764705882353\n",
      "2.000000000000001\n",
      "2.0937500000000004\n",
      "2.1935483870967754\n",
      "2.3000000000000007\n",
      "2.413793103448277\n",
      "2.5357142857142865\n",
      "2.666666666666667\n",
      "2.807692307692309\n",
      "2.9600000000000004\n",
      "3.1250000000000018\n",
      "3.3043478260869574\n",
      "3.5000000000000004\n",
      "3.714285714285716\n",
      "3.9500000000000006\n",
      "4.210526315789476\n",
      "4.500000000000002\n",
      "4.82352941176471\n",
      "5.187500000000003\n",
      "5.600000000000001\n",
      "6.071428571428576\n",
      "6.615384615384618\n",
      "7.250000000000007\n",
      "8.000000000000005\n",
      "8.900000000000013\n",
      "10.00000000000001\n",
      "11.375000000000005\n",
      "13.142857142857164\n",
      "15.500000000000014\n",
      "18.800000000000047\n",
      "23.750000000000046\n",
      "32.00000000000003\n",
      "48.50000000000023\n",
      "98.00000000000045\n",
      "inf\n"
     ]
    },
    {
     "name": "stderr",
     "output_type": "stream",
     "text": [
      "/Users/seohohahm/anaconda3/lib/python3.7/site-packages/ipykernel_launcher.py:2: RuntimeWarning: divide by zero encountered in double_scalars\n",
      "  \n"
     ]
    },
    {
     "data": {
      "text/plain": [
       "<matplotlib.collections.PathCollection at 0x1a18062470>"
      ]
     },
     "execution_count": 78,
     "metadata": {},
     "output_type": "execute_result"
    },
    {
     "data": {
      "image/png": "[encoded data removed]",
      "text/plain": [
       "<Figure size 432x288 with 1 Axes>"
      ]
     },
     "metadata": {
      "needs_background": "light"
     },
     "output_type": "display_data"
    }
   ],
   "source": [
    "for x in np.linspace(0,1,100):\n",
    "    y = prob_to_odd(x)\n",
    "    print(y)\n",
    "    \n",
    "plt.scatter(x, y)"
   ]
  },
  {
   "cell_type": "code",
   "execution_count": 290,
   "metadata": {},
   "outputs": [
    {
     "data": {
      "image/png": "[encoded data removed]",
      "text/plain": [
       "<Figure size 432x288 with 1 Axes>"
      ]
     },
     "metadata": {
      "needs_background": "light"
     },
     "output_type": "display_data"
    }
   ],
   "source": [
    "## exponential map with base e\n",
    "y = np.logspace(-1,4, 100, base = math.e)\n",
    "\n",
    "x = np.log(y)\n",
    "\n",
    "plt.plot(x,y)\n",
    "\n",
    "plt.tight_layout()"
   ]
  },
  {
   "cell_type": "markdown",
   "metadata": {},
   "source": [
    "__Your Turn__\n",
    "\n",
    "- Find $e^{-10}$, $e^{3}$"
   ]
  },
  {
   "cell_type": "code",
   "execution_count": null,
   "metadata": {},
   "outputs": [],
   "source": []
  },
  {
   "cell_type": "markdown",
   "metadata": {},
   "source": [
    "__Logarithm Function__\n",
    "\n",
    "[Logarithm Wikipedia](https://en.wikipedia.org/wiki/Logarithm)"
   ]
  },
  {
   "cell_type": "code",
   "execution_count": 303,
   "metadata": {},
   "outputs": [
    {
     "data": {
      "image/png": "[encoded data removed]",
      "text/plain": [
       "<Figure size 432x288 with 1 Axes>"
      ]
     },
     "metadata": {
      "needs_background": "light"
     },
     "output_type": "display_data"
    }
   ],
   "source": [
    "x = np.logspace(-3, 3, base = math.e, num=100)\n",
    "y = np.log(x)\n",
    "plt.plot(x,y)\n",
    "plt.tight_layout()"
   ]
  },
  {
   "cell_type": "markdown",
   "metadata": {},
   "source": [
    "What is a **(natural) log**? It gives you the time needed to reach a certain level of growth:"
   ]
  },
  {
   "cell_type": "code",
   "execution_count": 306,
   "metadata": {},
   "outputs": [
    {
     "data": {
      "text/plain": [
       "1.0"
      ]
     },
     "execution_count": 306,
     "metadata": {},
     "output_type": "execute_result"
    }
   ],
   "source": [
    "# time needed to grow 1 unit to e units\n",
    "np.log(math.e)"
   ]
  },
  {
   "cell_type": "markdown",
   "metadata": {},
   "source": [
    "## Logistic Regression: under the hood?"
   ]
  },
  {
   "cell_type": "markdown",
   "metadata": {},
   "source": [
    "**Linear regression:** continuous response is modeled as a linear combination of the features:\n",
    "\n",
    "$$y = \\beta_0 + \\beta_1x$$\n",
    "\n",
    "**Logistic regression:** log-odds of a categorical response being \"true\" (1) is modeled as a linear combination of the features:\n",
    "\n",
    "$$\\log \\left({p_{i}\\over 1-p_{i}}\\right) = \\beta_0 + \\beta_1x_{i}$$\n",
    "\n",
    "This is called the **logit function**.\n",
    "\n",
    "\n",
    "\n",
    "The equation can be rearranged into the **logistic function**:\n",
    "\n",
    "$$p(x_{i}) = \\frac{e^{\\beta_0 + \\beta_1x_{i}}} {1 + e^{\\beta_0 + \\beta_1x_{i}}}$$\n",
    "\n",
    "^this is the log of odds = this is our model => changes by what we put in beta 0 and beta 1"
   ]
  },
  {
   "cell_type": "markdown",
   "metadata": {},
   "source": [
    "In other words:\n",
    "\n",
    "- Logistic regression outputs the **probabilities of a specific class**\n",
    "- Those probabilities can be converted into **class predictions**\n",
    "\n",
    "The **logistic function** has some nice properties:\n",
    "\n",
    "- Takes on an \"s\" shape\n",
    "- Output is bounded by 0 and 1\n",
    "- We will maximize likelihood function $$ \\ell(\\beta_{0}, \\beta_{1}) = \\prod_{i: y_1 =1} p(x_i)\\prod_{i^{\\prime}: y_{i^{\\prime}}=0} (1- p(x_{i}))$$ \n",
    "\n",
    "to find $\\beta_{0}$ and $\\beta_{1}$\n",
    "\n",
    "\n",
    "[Least squares vs ML](https://stats.stackexchange.com/questions/143705/maximum-likelihood-method-vs-least-squares-method)\n",
    "\n",
    "We have covered how this works for **binary classification problems** (two response classes). But what about **multi-class classification problems** (more than two response classes)?\n",
    "\n",
    "- Most common solution for classification models is **\"one-vs-all\"** (also known as **\"one-vs-rest\"**): decompose the problem into multiple binary classification problems\n",
    "- **Multinomial logistic regression** can solve this as a single problem"
   ]
  },
  {
   "cell_type": "markdown",
   "metadata": {},
   "source": [
    "__Your Turn__\n",
    "\n",
    "- Use logistic regression to get probability predictions\n",
    "\n",
    "- Then use map method to find corresponding odds."
   ]
  },
  {
   "cell_type": "markdown",
   "metadata": {},
   "source": [
    "## Interpreting Logistic Regression Coefficients"
   ]
  },
  {
   "cell_type": "markdown",
   "metadata": {},
   "source": [
    "Positive coefficients increase the log-odds of the response (and thus increase the probability), and negative coefficients decrease the log-odds of the response (and thus decrease the probability)."
   ]
  },
  {
   "cell_type": "markdown",
   "metadata": {},
   "source": [
    "<img src='resources/logistic_betas.png' width=700/>"
   ]
  },
  {
   "cell_type": "markdown",
   "metadata": {},
   "source": [
    "Changing the $\\beta_0$ value shifts the curve **horizontally**, whereas changing the $\\beta_1$ value changes the **slope** of the curve."
   ]
  },
  {
   "cell_type": "markdown",
   "metadata": {},
   "source": [
    "## Part 8: Comparing Logistic Regression with Other Models\n",
    "\n",
    "Advantages of logistic regression:\n",
    "\n",
    "- Highly interpretable (if you remember how)\n",
    "- Model training and prediction are fast\n",
    "- No tuning is required (excluding regularization)\n",
    "- Features don't need scaling\n",
    "- Can perform well with a small number of observations\n",
    "- Outputs well-calibrated predicted probabilities\n",
    "\n",
    "Disadvantages of logistic regression:\n",
    "\n",
    "- Presumes a linear relationship between the features and the log-odds of the response\n",
    "- Performance is (generally) not competitive with the best supervised learning methods\n",
    "- Can't automatically learn feature interactions"
   ]
  },
  {
   "cell_type": "markdown",
   "metadata": {},
   "source": [
    "## Logistic regression on the whole dataset\n",
    "\n",
    "__Your Turn__\n",
    "\n",
    "Try to run logistic regression on the whole dataset. Return the prediction accuracy."
   ]
  },
  {
   "cell_type": "code",
   "execution_count": null,
   "metadata": {},
   "outputs": [],
   "source": []
  }
 ],
 "metadata": {
  "kernelspec": {
   "display_name": "Python 3",
   "language": "python",
   "name": "python3"
  },
  "language_info": {
   "codemirror_mode": {
    "name": "ipython",
    "version": 3
   },
   "file_extension": ".py",
   "mimetype": "text/x-python",
   "name": "python",
   "nbconvert_exporter": "python",
   "pygments_lexer": "ipython3",
   "version": "3.7.3"
  },
  "toc": {
   "base_numbering": 1,
   "nav_menu": {},
   "number_sections": true,
   "sideBar": true,
   "skip_h1_title": false,
   "title_cell": "Table of Contents",
   "title_sidebar": "Contents",
   "toc_cell": false,
   "toc_position": {},
   "toc_section_display": true,
   "toc_window_display": false
  }
 },
 "nbformat": 4,
 "nbformat_minor": 4
}
