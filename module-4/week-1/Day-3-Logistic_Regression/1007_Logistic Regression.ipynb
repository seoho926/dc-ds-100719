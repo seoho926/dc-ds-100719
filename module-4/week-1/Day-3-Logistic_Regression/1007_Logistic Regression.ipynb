{
 "cells": [
  {
   "cell_type": "code",
<<<<<<< HEAD
   "execution_count": 1,
=======
   "execution_count": 197,
>>>>>>> c055d20eba79aa4d239adb3201394aaaaac4188a
   "metadata": {},
   "outputs": [],
   "source": [
    "import numpy as np\n",
    "import pandas as pd\n",
    "import math\n",
    "import matplotlib.pyplot as plt\n",
    "%matplotlib inline"
   ]
  },
  {
   "cell_type": "markdown",
   "metadata": {},
   "source": [
    "# Logistic Regression"
   ]
  },
  {
   "cell_type": "markdown",
   "metadata": {},
   "source": [
    "__Agenda__\n",
    "\n",
    "1. Refresh your memory on how to do linear regression in scikit-learn\n",
    "2. Attempt to use linear regression for classification\n",
    "3. Show you why logistic regression is a better alternative for classification\n",
    "4. Brief overview of probability, odds, e, log, and log-odds\n",
    "5. Explain the form of logistic regression\n",
    "6. Explain how to interpret logistic regression coefficients\n",
    "7. Pros and cons of logistic regression"
   ]
  },
  {
   "cell_type": "markdown",
   "metadata": {},
   "source": [
    "**Classification techniques** are an essential part of machine learning and data mining applications. Approximately 70% of problems in Data Science are classification problems. There are lots of classification algorithms that are available, but the logistics regression is common and is a useful regression method for solving the binary classification problem. Another category of classification is Multinomial classification, which handles the issues where multiple classes are present in the target variable. For example, IRIS dataset a very famous example of multi-class classification. Other examples are classifying article/blog/document category."
   ]
  },
  {
   "cell_type": "markdown",
   "metadata": {},
   "source": [
    "**Logistic Regression** is one of the most simple and commonly used Machine Learning algorithms for two-class classification. It is easy to implement and can be used for comparison for any binary classification problem. Its basic fundamental concepts are also constructive in deep learning. Logistic regression describes and estimates the relationship between one dependent binary variable and independent variables."
   ]
  },
  {
   "cell_type": "markdown",
   "metadata": {},
   "source": [
    "## Predicting a Categorical Response"
   ]
  },
  {
   "cell_type": "markdown",
   "metadata": {},
   "source": [
    "[Data Source](https://archive.ics.uci.edu/ml/datasets/Breast+Cancer+Wisconsin+(Diagnostic))\n"
   ]
  },
  {
   "cell_type": "code",
<<<<<<< HEAD
   "execution_count": 8,
   "metadata": {},
   "outputs": [
    {
     "data": {
      "text/html": [
       "<div>\n",
       "<style scoped>\n",
       "    .dataframe tbody tr th:only-of-type {\n",
       "        vertical-align: middle;\n",
       "    }\n",
       "\n",
       "    .dataframe tbody tr th {\n",
       "        vertical-align: top;\n",
       "    }\n",
       "\n",
       "    .dataframe thead th {\n",
       "        text-align: right;\n",
       "    }\n",
       "</style>\n",
       "<table border=\"1\" class=\"dataframe\">\n",
       "  <thead>\n",
       "    <tr style=\"text-align: right;\">\n",
       "      <th></th>\n",
       "      <th>id</th>\n",
       "      <th>diagnosis</th>\n",
       "      <th>radius_mean</th>\n",
       "      <th>texture_mean</th>\n",
       "      <th>perimeter_mean</th>\n",
       "      <th>area_mean</th>\n",
       "      <th>smoothness_mean</th>\n",
       "      <th>compactness_mean</th>\n",
       "      <th>concavity_mean</th>\n",
       "      <th>concave points_mean</th>\n",
       "      <th>...</th>\n",
       "      <th>radius_worst</th>\n",
       "      <th>texture_worst</th>\n",
       "      <th>perimeter_worst</th>\n",
       "      <th>area_worst</th>\n",
       "      <th>smoothness_worst</th>\n",
       "      <th>compactness_worst</th>\n",
       "      <th>concavity_worst</th>\n",
       "      <th>concave points_worst</th>\n",
       "      <th>symmetry_worst</th>\n",
       "      <th>fractal_dimension_worst</th>\n",
       "    </tr>\n",
       "  </thead>\n",
       "  <tbody>\n",
       "    <tr>\n",
       "      <th>408</th>\n",
       "      <td>90524101</td>\n",
       "      <td>M</td>\n",
       "      <td>17.99</td>\n",
       "      <td>20.66</td>\n",
       "      <td>117.80</td>\n",
       "      <td>991.7</td>\n",
       "      <td>0.10360</td>\n",
       "      <td>0.13040</td>\n",
       "      <td>0.120100</td>\n",
       "      <td>0.088240</td>\n",
       "      <td>...</td>\n",
       "      <td>21.08</td>\n",
       "      <td>25.41</td>\n",
       "      <td>138.10</td>\n",
       "      <td>1349.0</td>\n",
       "      <td>0.1482</td>\n",
       "      <td>0.37350</td>\n",
       "      <td>0.330100</td>\n",
       "      <td>0.19740</td>\n",
       "      <td>0.3060</td>\n",
       "      <td>0.08503</td>\n",
       "    </tr>\n",
       "    <tr>\n",
       "      <th>392</th>\n",
       "      <td>903507</td>\n",
       "      <td>M</td>\n",
       "      <td>15.49</td>\n",
       "      <td>19.97</td>\n",
       "      <td>102.40</td>\n",
       "      <td>744.7</td>\n",
       "      <td>0.11600</td>\n",
       "      <td>0.15620</td>\n",
       "      <td>0.189100</td>\n",
       "      <td>0.091130</td>\n",
       "      <td>...</td>\n",
       "      <td>21.20</td>\n",
       "      <td>29.41</td>\n",
       "      <td>142.10</td>\n",
       "      <td>1359.0</td>\n",
       "      <td>0.1681</td>\n",
       "      <td>0.39130</td>\n",
       "      <td>0.555300</td>\n",
       "      <td>0.21210</td>\n",
       "      <td>0.3187</td>\n",
       "      <td>0.10190</td>\n",
       "    </tr>\n",
       "    <tr>\n",
       "      <th>554</th>\n",
       "      <td>924632</td>\n",
       "      <td>B</td>\n",
       "      <td>12.88</td>\n",
       "      <td>28.92</td>\n",
       "      <td>82.50</td>\n",
       "      <td>514.3</td>\n",
       "      <td>0.08123</td>\n",
       "      <td>0.05824</td>\n",
       "      <td>0.061950</td>\n",
       "      <td>0.023430</td>\n",
       "      <td>...</td>\n",
       "      <td>13.89</td>\n",
       "      <td>35.74</td>\n",
       "      <td>88.84</td>\n",
       "      <td>595.7</td>\n",
       "      <td>0.1227</td>\n",
       "      <td>0.16200</td>\n",
       "      <td>0.243900</td>\n",
       "      <td>0.06493</td>\n",
       "      <td>0.2372</td>\n",
       "      <td>0.07242</td>\n",
       "    </tr>\n",
       "    <tr>\n",
       "      <th>129</th>\n",
       "      <td>866674</td>\n",
       "      <td>M</td>\n",
       "      <td>19.79</td>\n",
       "      <td>25.12</td>\n",
       "      <td>130.40</td>\n",
       "      <td>1192.0</td>\n",
       "      <td>0.10150</td>\n",
       "      <td>0.15890</td>\n",
       "      <td>0.254500</td>\n",
       "      <td>0.114900</td>\n",
       "      <td>...</td>\n",
       "      <td>22.63</td>\n",
       "      <td>33.58</td>\n",
       "      <td>148.70</td>\n",
       "      <td>1589.0</td>\n",
       "      <td>0.1275</td>\n",
       "      <td>0.38610</td>\n",
       "      <td>0.567300</td>\n",
       "      <td>0.17320</td>\n",
       "      <td>0.3305</td>\n",
       "      <td>0.08465</td>\n",
       "    </tr>\n",
       "    <tr>\n",
       "      <th>537</th>\n",
       "      <td>919812</td>\n",
       "      <td>B</td>\n",
       "      <td>11.69</td>\n",
       "      <td>24.44</td>\n",
       "      <td>76.37</td>\n",
       "      <td>406.4</td>\n",
       "      <td>0.12360</td>\n",
       "      <td>0.15520</td>\n",
       "      <td>0.045150</td>\n",
       "      <td>0.045310</td>\n",
       "      <td>...</td>\n",
       "      <td>12.98</td>\n",
       "      <td>32.19</td>\n",
       "      <td>86.12</td>\n",
       "      <td>487.7</td>\n",
       "      <td>0.1768</td>\n",
       "      <td>0.32510</td>\n",
       "      <td>0.139500</td>\n",
       "      <td>0.13080</td>\n",
       "      <td>0.2803</td>\n",
       "      <td>0.09970</td>\n",
       "    </tr>\n",
       "    <tr>\n",
       "      <th>309</th>\n",
       "      <td>893548</td>\n",
       "      <td>B</td>\n",
       "      <td>13.05</td>\n",
       "      <td>13.84</td>\n",
       "      <td>82.71</td>\n",
       "      <td>530.6</td>\n",
       "      <td>0.08352</td>\n",
       "      <td>0.03735</td>\n",
       "      <td>0.004559</td>\n",
       "      <td>0.008829</td>\n",
       "      <td>...</td>\n",
       "      <td>14.73</td>\n",
       "      <td>17.40</td>\n",
       "      <td>93.96</td>\n",
       "      <td>672.4</td>\n",
       "      <td>0.1016</td>\n",
       "      <td>0.05847</td>\n",
       "      <td>0.018240</td>\n",
       "      <td>0.03532</td>\n",
       "      <td>0.2107</td>\n",
       "      <td>0.06580</td>\n",
       "    </tr>\n",
       "    <tr>\n",
       "      <th>194</th>\n",
       "      <td>87556202</td>\n",
       "      <td>M</td>\n",
       "      <td>14.86</td>\n",
       "      <td>23.21</td>\n",
       "      <td>100.40</td>\n",
       "      <td>671.4</td>\n",
       "      <td>0.10440</td>\n",
       "      <td>0.19800</td>\n",
       "      <td>0.169700</td>\n",
       "      <td>0.088780</td>\n",
       "      <td>...</td>\n",
       "      <td>16.08</td>\n",
       "      <td>27.78</td>\n",
       "      <td>118.60</td>\n",
       "      <td>784.7</td>\n",
       "      <td>0.1316</td>\n",
       "      <td>0.46480</td>\n",
       "      <td>0.458900</td>\n",
       "      <td>0.17270</td>\n",
       "      <td>0.3000</td>\n",
       "      <td>0.08701</td>\n",
       "    </tr>\n",
       "    <tr>\n",
       "      <th>478</th>\n",
       "      <td>911685</td>\n",
       "      <td>B</td>\n",
       "      <td>11.49</td>\n",
       "      <td>14.59</td>\n",
       "      <td>73.99</td>\n",
       "      <td>404.9</td>\n",
       "      <td>0.10460</td>\n",
       "      <td>0.08228</td>\n",
       "      <td>0.053080</td>\n",
       "      <td>0.019690</td>\n",
       "      <td>...</td>\n",
       "      <td>12.40</td>\n",
       "      <td>21.90</td>\n",
       "      <td>82.04</td>\n",
       "      <td>467.6</td>\n",
       "      <td>0.1352</td>\n",
       "      <td>0.20100</td>\n",
       "      <td>0.259600</td>\n",
       "      <td>0.07431</td>\n",
       "      <td>0.2941</td>\n",
       "      <td>0.09180</td>\n",
       "    </tr>\n",
       "    <tr>\n",
       "      <th>333</th>\n",
       "      <td>897137</td>\n",
       "      <td>B</td>\n",
       "      <td>11.25</td>\n",
       "      <td>14.78</td>\n",
       "      <td>71.38</td>\n",
       "      <td>390.0</td>\n",
       "      <td>0.08306</td>\n",
       "      <td>0.04458</td>\n",
       "      <td>0.000974</td>\n",
       "      <td>0.002941</td>\n",
       "      <td>...</td>\n",
       "      <td>12.76</td>\n",
       "      <td>22.06</td>\n",
       "      <td>82.08</td>\n",
       "      <td>492.7</td>\n",
       "      <td>0.1166</td>\n",
       "      <td>0.09794</td>\n",
       "      <td>0.005518</td>\n",
       "      <td>0.01667</td>\n",
       "      <td>0.2815</td>\n",
       "      <td>0.07418</td>\n",
       "    </tr>\n",
       "    <tr>\n",
       "      <th>432</th>\n",
       "      <td>908194</td>\n",
       "      <td>M</td>\n",
       "      <td>20.18</td>\n",
       "      <td>19.54</td>\n",
       "      <td>133.80</td>\n",
       "      <td>1250.0</td>\n",
       "      <td>0.11330</td>\n",
       "      <td>0.14890</td>\n",
       "      <td>0.213300</td>\n",
       "      <td>0.125900</td>\n",
       "      <td>...</td>\n",
       "      <td>22.03</td>\n",
       "      <td>25.07</td>\n",
       "      <td>146.00</td>\n",
       "      <td>1479.0</td>\n",
       "      <td>0.1665</td>\n",
       "      <td>0.29420</td>\n",
       "      <td>0.530800</td>\n",
       "      <td>0.21730</td>\n",
       "      <td>0.3032</td>\n",
       "      <td>0.08075</td>\n",
       "    </tr>\n",
       "  </tbody>\n",
       "</table>\n",
       "<p>10 rows × 32 columns</p>\n",
       "</div>"
      ],
      "text/plain": [
       "           id diagnosis  radius_mean  texture_mean  perimeter_mean  area_mean  \\\n",
       "408  90524101         M        17.99         20.66          117.80      991.7   \n",
       "392    903507         M        15.49         19.97          102.40      744.7   \n",
       "554    924632         B        12.88         28.92           82.50      514.3   \n",
       "129    866674         M        19.79         25.12          130.40     1192.0   \n",
       "537    919812         B        11.69         24.44           76.37      406.4   \n",
       "309    893548         B        13.05         13.84           82.71      530.6   \n",
       "194  87556202         M        14.86         23.21          100.40      671.4   \n",
       "478    911685         B        11.49         14.59           73.99      404.9   \n",
       "333    897137         B        11.25         14.78           71.38      390.0   \n",
       "432    908194         M        20.18         19.54          133.80     1250.0   \n",
       "\n",
       "     smoothness_mean  compactness_mean  concavity_mean  concave points_mean  \\\n",
       "408          0.10360           0.13040        0.120100             0.088240   \n",
       "392          0.11600           0.15620        0.189100             0.091130   \n",
       "554          0.08123           0.05824        0.061950             0.023430   \n",
       "129          0.10150           0.15890        0.254500             0.114900   \n",
       "537          0.12360           0.15520        0.045150             0.045310   \n",
       "309          0.08352           0.03735        0.004559             0.008829   \n",
       "194          0.10440           0.19800        0.169700             0.088780   \n",
       "478          0.10460           0.08228        0.053080             0.019690   \n",
       "333          0.08306           0.04458        0.000974             0.002941   \n",
       "432          0.11330           0.14890        0.213300             0.125900   \n",
       "\n",
       "     ...  radius_worst  texture_worst  perimeter_worst  area_worst  \\\n",
       "408  ...         21.08          25.41           138.10      1349.0   \n",
       "392  ...         21.20          29.41           142.10      1359.0   \n",
       "554  ...         13.89          35.74            88.84       595.7   \n",
       "129  ...         22.63          33.58           148.70      1589.0   \n",
       "537  ...         12.98          32.19            86.12       487.7   \n",
       "309  ...         14.73          17.40            93.96       672.4   \n",
       "194  ...         16.08          27.78           118.60       784.7   \n",
       "478  ...         12.40          21.90            82.04       467.6   \n",
       "333  ...         12.76          22.06            82.08       492.7   \n",
       "432  ...         22.03          25.07           146.00      1479.0   \n",
       "\n",
       "     smoothness_worst  compactness_worst  concavity_worst  \\\n",
       "408            0.1482            0.37350         0.330100   \n",
       "392            0.1681            0.39130         0.555300   \n",
       "554            0.1227            0.16200         0.243900   \n",
       "129            0.1275            0.38610         0.567300   \n",
       "537            0.1768            0.32510         0.139500   \n",
       "309            0.1016            0.05847         0.018240   \n",
       "194            0.1316            0.46480         0.458900   \n",
       "478            0.1352            0.20100         0.259600   \n",
       "333            0.1166            0.09794         0.005518   \n",
       "432            0.1665            0.29420         0.530800   \n",
       "\n",
       "     concave points_worst  symmetry_worst  fractal_dimension_worst  \n",
       "408               0.19740          0.3060                  0.08503  \n",
       "392               0.21210          0.3187                  0.10190  \n",
       "554               0.06493          0.2372                  0.07242  \n",
       "129               0.17320          0.3305                  0.08465  \n",
       "537               0.13080          0.2803                  0.09970  \n",
       "309               0.03532          0.2107                  0.06580  \n",
       "194               0.17270          0.3000                  0.08701  \n",
       "478               0.07431          0.2941                  0.09180  \n",
       "333               0.01667          0.2815                  0.07418  \n",
       "432               0.21730          0.3032                  0.08075  \n",
       "\n",
       "[10 rows x 32 columns]"
      ]
     },
     "execution_count": 8,
     "metadata": {},
     "output_type": "execute_result"
    }
   ],
=======
   "execution_count": 188,
   "metadata": {},
   "outputs": [],
>>>>>>> c055d20eba79aa4d239adb3201394aaaaac4188a
   "source": [
    "# Breast Cancer identification dataset\n",
    "import pandas as pd\n",
    "\n",
    "df = pd.read_csv('resources/breast_cancer.csv')\n",
    "\n",
<<<<<<< HEAD
    "df.drop(columns= ['Unnamed: 32'], inplace = True)\n",
    "\n",
    "df.sample(10)"
=======
    "df.drop(columns= ['Unnamed: 32'], inplace = True)\n"
>>>>>>> c055d20eba79aa4d239adb3201394aaaaac4188a
   ]
  },
  {
   "cell_type": "code",
<<<<<<< HEAD
   "execution_count": 9,
=======
   "execution_count": 189,
>>>>>>> c055d20eba79aa4d239adb3201394aaaaac4188a
   "metadata": {},
   "outputs": [],
   "source": [
    "df['Target'] = df.diagnosis.map(lambda x: 1 if x == 'M' else 0)"
   ]
  },
  {
   "cell_type": "markdown",
   "metadata": {},
   "source": [
    "__Your Turn__\n",
    "\n",
    "- Use 'area_mean' as the independent variable and 'Target' as dependent variable and apply a linear regression model to this dataset.\n",
    "- Plot the resulting regression line."
   ]
  },
  {
   "cell_type": "code",
<<<<<<< HEAD
   "execution_count": 11,
=======
   "execution_count": 191,
>>>>>>> c055d20eba79aa4d239adb3201394aaaaac4188a
   "metadata": {},
   "outputs": [],
   "source": [
    "import seaborn as sns\n",
    "import matplotlib.pyplot as plt\n",
    "import numpy as np\n",
<<<<<<< HEAD
    "%matplotlib inline\n",
    "import sklearn as sk"
=======
    "%matplotlib inline\n"
>>>>>>> c055d20eba79aa4d239adb3201394aaaaac4188a
   ]
  },
  {
   "cell_type": "code",
<<<<<<< HEAD
   "execution_count": 16,
   "metadata": {},
   "outputs": [
    {
     "data": {
      "image/png": "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\n",
      "text/plain": [
       "<Figure size 360x360 with 1 Axes>"
      ]
     },
     "metadata": {
      "needs_background": "light"
     },
     "output_type": "display_data"
    }
   ],
   "source": [
    "# %load -r 1-5 supplement.py\n",
    "x = 'area_mean'\n",
    "sns.lmplot(x=x, y='Target', data=df, ci=None)\n",
    "plt.ylim([-0.5, 1.5])\n",
    "plt.xlim([df[x].min()- df[x].std(), df[x].max() + df[x].std()])\n",
    "plt.show()"
=======
   "execution_count": 194,
   "metadata": {},
   "outputs": [],
   "source": [
    "#%load -r 1-5 supplement.py"
>>>>>>> c055d20eba79aa4d239adb3201394aaaaac4188a
   ]
  },
  {
   "cell_type": "markdown",
   "metadata": {},
   "source": [
    "## Interpreting linear regression coefficients\n",
    "\n",
    "\n",
    "__Your Turn__ \n",
    "\n",
    "- According to the linear regression model, that would be your prediction if area_mean = 350?\n",
    "\n",
    "- What about if 'area_mean' is 5?"
   ]
  },
  {
   "cell_type": "code",
<<<<<<< HEAD
   "execution_count": 18,
   "metadata": {},
   "outputs": [
    {
     "data": {
      "text/plain": [
       "array([-0.26100989,  0.07533936])"
      ]
     },
     "execution_count": 18,
     "metadata": {},
     "output_type": "execute_result"
    }
   ],
   "source": [
    "# %load -r 8-11 supplement.py\n",
    "from sklearn.linear_model import LinearRegression\n",
    "linreg = LinearRegression().fit(df.area_mean.values.reshape(-1, 1), df.Target)\n",
    "# compute prediction for area_mean=350 using the predict method\n",
    "linreg.predict(np.array([[5], [350]]))"
=======
   "execution_count": 210,
   "metadata": {},
   "outputs": [],
   "source": [
    "#%load -r 8-11 supplement.py"
>>>>>>> c055d20eba79aa4d239adb3201394aaaaac4188a
   ]
  },
  {
   "cell_type": "markdown",
   "metadata": {},
   "source": [
    "__Your Turn__\n",
    "\n",
    "Now let's make our prediction more suitable for categorical variables.\n",
    "\n",
    "- First find the predictions using predict method\n",
    "- Now find a way to map each prediction to either 0 or 1."
   ]
  },
  {
   "cell_type": "code",
<<<<<<< HEAD
   "execution_count": 19,
=======
   "execution_count": 235,
>>>>>>> c055d20eba79aa4d239adb3201394aaaaac4188a
   "metadata": {},
   "outputs": [
    {
     "data": {
<<<<<<< HEAD
      "image/png": "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\n",
=======
      "image/png": "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\n",
>>>>>>> c055d20eba79aa4d239adb3201394aaaaac4188a
      "text/plain": [
       "<Figure size 432x288 with 1 Axes>"
      ]
     },
     "metadata": {
      "needs_background": "light"
     },
     "output_type": "display_data"
    }
   ],
   "source": [
    "df['Prediction'] = linreg.predict(df.area_mean.values.reshape(-1,1))\n",
    "x = 'area_mean'\n",
    "sns.scatterplot(x=x, y='Prediction', hue= 'Target', data=df, ci=None)\n",
    "plt.ylim([-0.5, 1.5])\n",
    "plt.xlim([df[x].min()- df[x].std(), df[x].max() + df[x].std()])\n",
    "plt.show()"
   ]
  },
  {
   "cell_type": "markdown",
   "metadata": {},
   "source": [
    "Make a prediction depending on our observation above\n"
   ]
  },
  {
   "cell_type": "code",
<<<<<<< HEAD
   "execution_count": 20,
=======
   "execution_count": 249,
>>>>>>> c055d20eba79aa4d239adb3201394aaaaac4188a
   "metadata": {},
   "outputs": [],
   "source": [
    "# %load -r 13 supplement.py\n",
    "df['Pred_class'] = df.Prediction.map(lambda x: 1 if x> 0.4 else 0 )"
   ]
  },
  {
   "cell_type": "code",
<<<<<<< HEAD
   "execution_count": 21,
=======
   "execution_count": 250,
>>>>>>> c055d20eba79aa4d239adb3201394aaaaac4188a
   "metadata": {
    "scrolled": true
   },
   "outputs": [
    {
     "data": {
<<<<<<< HEAD
      "image/png": "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\n",
=======
      "image/png": "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\n",
>>>>>>> c055d20eba79aa4d239adb3201394aaaaac4188a
      "text/plain": [
       "<Figure size 432x288 with 1 Axes>"
      ]
     },
     "metadata": {
      "needs_background": "light"
     },
     "output_type": "display_data"
    }
   ],
   "source": [
    "sns.distplot(df[df.Pred_class == 1].area_mean,norm_hist=True, label = 'Malign', hist_kws = {'alpha': 0.8}, kde = False)\n",
    "sns.distplot(df[df.Pred_class== 0].area_mean, norm_hist= True, label = 'Benign', hist_kws = {'alpha': 0.8}, kde = False)\n",
    "\n",
    "plt.legend()\n",
    "plt.tight_layout()"
   ]
  },
  {
   "cell_type": "markdown",
   "metadata": {},
   "source": [
    "If **area_mean= 750**, what class do we predict for household? \n",
    "\n",
    "If **area_mean=1500**, what class do we predict for household?\n",
    "\n",
    "We predict the 0 class for **lower** values of __area_mean__, and the 1 class for **higher** values of it. What's our cutoff value? Around **area_mean=750**, because that's where the linear regression line crosses the midpoint between predicting class 0 and class 1.\n",
    "\n",
    "Therefore, we'll say that if **Prediction >= 0.4**, we predict a class of **1**, else we predict a class of **0**."
   ]
  },
  {
   "cell_type": "code",
<<<<<<< HEAD
   "execution_count": 30,
=======
   "execution_count": 251,
>>>>>>> c055d20eba79aa4d239adb3201394aaaaac4188a
   "metadata": {},
   "outputs": [
    {
     "data": {
<<<<<<< HEAD
      "text/plain": [
       "0.11599297012302284"
      ]
     },
     "execution_count": 30,
=======
      "text/html": [
       "<div>\n",
       "<style scoped>\n",
       "    .dataframe tbody tr th:only-of-type {\n",
       "        vertical-align: middle;\n",
       "    }\n",
       "\n",
       "    .dataframe tbody tr th {\n",
       "        vertical-align: top;\n",
       "    }\n",
       "\n",
       "    .dataframe thead th {\n",
       "        text-align: right;\n",
       "    }\n",
       "</style>\n",
       "<table border=\"1\" class=\"dataframe\">\n",
       "  <thead>\n",
       "    <tr style=\"text-align: right;\">\n",
       "      <th></th>\n",
       "      <th>Prediction</th>\n",
       "      <th>Target</th>\n",
       "      <th>Pred_class</th>\n",
       "    </tr>\n",
       "  </thead>\n",
       "  <tbody>\n",
       "    <tr>\n",
       "      <th>546</th>\n",
       "      <td>0.050869</td>\n",
       "      <td>0</td>\n",
       "      <td>0</td>\n",
       "    </tr>\n",
       "    <tr>\n",
       "      <th>300</th>\n",
       "      <td>0.920600</td>\n",
       "      <td>1</td>\n",
       "      <td>1</td>\n",
       "    </tr>\n",
       "    <tr>\n",
       "      <th>269</th>\n",
       "      <td>0.070367</td>\n",
       "      <td>0</td>\n",
       "      <td>0</td>\n",
       "    </tr>\n",
       "    <tr>\n",
       "      <th>176</th>\n",
       "      <td>0.028933</td>\n",
       "      <td>0</td>\n",
       "      <td>0</td>\n",
       "    </tr>\n",
       "    <tr>\n",
       "      <th>66</th>\n",
       "      <td>-0.003240</td>\n",
       "      <td>0</td>\n",
       "      <td>0</td>\n",
       "    </tr>\n",
       "    <tr>\n",
       "      <th>37</th>\n",
       "      <td>0.244781</td>\n",
       "      <td>0</td>\n",
       "      <td>0</td>\n",
       "    </tr>\n",
       "    <tr>\n",
       "      <th>392</th>\n",
       "      <td>0.460142</td>\n",
       "      <td>1</td>\n",
       "      <td>1</td>\n",
       "    </tr>\n",
       "    <tr>\n",
       "      <th>403</th>\n",
       "      <td>0.228988</td>\n",
       "      <td>0</td>\n",
       "      <td>0</td>\n",
       "    </tr>\n",
       "    <tr>\n",
       "      <th>215</th>\n",
       "      <td>0.298500</td>\n",
       "      <td>1</td>\n",
       "      <td>0</td>\n",
       "    </tr>\n",
       "    <tr>\n",
       "      <th>435</th>\n",
       "      <td>0.318583</td>\n",
       "      <td>1</td>\n",
       "      <td>0</td>\n",
       "    </tr>\n",
       "    <tr>\n",
       "      <th>440</th>\n",
       "      <td>0.096300</td>\n",
       "      <td>0</td>\n",
       "      <td>0</td>\n",
       "    </tr>\n",
       "    <tr>\n",
       "      <th>193</th>\n",
       "      <td>0.199545</td>\n",
       "      <td>1</td>\n",
       "      <td>0</td>\n",
       "    </tr>\n",
       "    <tr>\n",
       "      <th>535</th>\n",
       "      <td>1.009318</td>\n",
       "      <td>1</td>\n",
       "      <td>1</td>\n",
       "    </tr>\n",
       "    <tr>\n",
       "      <th>555</th>\n",
       "      <td>0.047456</td>\n",
       "      <td>0</td>\n",
       "      <td>0</td>\n",
       "    </tr>\n",
       "    <tr>\n",
       "      <th>196</th>\n",
       "      <td>0.308249</td>\n",
       "      <td>1</td>\n",
       "      <td>0</td>\n",
       "    </tr>\n",
       "  </tbody>\n",
       "</table>\n",
       "</div>"
      ],
      "text/plain": [
       "     Prediction  Target  Pred_class\n",
       "546    0.050869       0           0\n",
       "300    0.920600       1           1\n",
       "269    0.070367       0           0\n",
       "176    0.028933       0           0\n",
       "66    -0.003240       0           0\n",
       "37     0.244781       0           0\n",
       "392    0.460142       1           1\n",
       "403    0.228988       0           0\n",
       "215    0.298500       1           0\n",
       "435    0.318583       1           0\n",
       "440    0.096300       0           0\n",
       "193    0.199545       1           0\n",
       "535    1.009318       1           1\n",
       "555    0.047456       0           0\n",
       "196    0.308249       1           0"
      ]
     },
     "execution_count": 251,
>>>>>>> c055d20eba79aa4d239adb3201394aaaaac4188a
     "metadata": {},
     "output_type": "execute_result"
    }
   ],
   "source": [
    "# Take a look at our predictions\n",
<<<<<<< HEAD
    "df.sample(15)[['Prediction', 'Target', 'Pred_class']]\n",
    "\n",
    "(df.Target != df.Pred_class).sum()\n",
    "\n",
    "incorrect_percent = 66/569\n",
    "incorrect_percent"
=======
    "df.sample(15)[['Prediction', 'Target', 'Pred_class']]"
>>>>>>> c055d20eba79aa4d239adb3201394aaaaac4188a
   ]
  },
  {
   "cell_type": "code",
<<<<<<< HEAD
   "execution_count": 31,
=======
   "execution_count": 252,
>>>>>>> c055d20eba79aa4d239adb3201394aaaaac4188a
   "metadata": {},
   "outputs": [
    {
     "data": {
<<<<<<< HEAD
      "image/png": "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\n",
=======
      "image/png": "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\n",
>>>>>>> c055d20eba79aa4d239adb3201394aaaaac4188a
      "text/plain": [
       "<Figure size 432x288 with 1 Axes>"
      ]
     },
     "metadata": {
      "needs_background": "light"
     },
     "output_type": "display_data"
    }
   ],
   "source": [
    "# plot the class predictions\n",
    "plt.scatter(df.area_mean, df.Target, alpha = 0.7)\n",
    "plt.scatter(df.area_mean, df.Pred_class, color='red', alpha = 0.4)\n",
    "plt.xlabel('al')\n",
    "plt.ylabel('household')\n",
    "\n",
    "plt.show()"
   ]
  },
  {
   "cell_type": "markdown",
   "metadata": {},
   "source": [
    "## Using Logistic Regression Instead\n",
    "\n",
    "Let's use LogisticRegression from sklearn.linear_model to compare the classifications.\n",
    "\n",
    "[sklearn documentation](https://scikit-learn.org/stable/modules/generated/sklearn.linear_model.LogisticRegression.html)"
   ]
  },
  {
   "cell_type": "code",
<<<<<<< HEAD
   "execution_count": 49,
   "metadata": {},
   "outputs": [],
   "source": [
    "# %load -r 15-23 supplement.py\n",
    "# fit a logistic regression model and store the class predictions\n",
    "from sklearn.linear_model import LogisticRegression\n",
    "logreg = LogisticRegression(C=1e9, solver='lbfgs')\n",
    "feature_cols = ['area_mean']\n",
    "X = df[feature_cols]\n",
    "y = df.Target\n",
    "logreg.fit(X, y)\n",
    "df['Log_Prediction'] = logreg.predict(X)\n",
    "df['Log_probabilities'] = logreg.predict_proba(X)[:,1]"
   ]
  },
  {
   "cell_type": "code",
   "execution_count": 56,
   "metadata": {},
   "outputs": [
    {
     "data": {
      "text/plain": [
       "array([1, 1, 1, 0, 1, 0, 1, 0, 0, 0, 1, 1, 1, 1, 0, 0, 1, 1, 1, 0, 0, 0,\n",
       "       1, 1, 1, 1, 0, 1, 1, 1, 1, 0, 1, 1, 1, 1, 0, 0, 1, 0, 0, 0, 1, 0,\n",
       "       0, 1, 0, 0, 0, 0, 0, 0, 0, 1, 1, 0, 1, 0, 0, 0, 0, 0, 0, 0, 0, 0,\n",
       "       0, 0, 0, 0, 1, 0, 1, 0, 0, 1, 0, 1, 1, 0, 0, 0, 1, 1, 0, 1, 0, 1,\n",
       "       0, 0, 0, 1, 0, 0, 1, 1, 0, 0, 0, 0, 0, 0, 0, 0, 0, 0, 0, 0, 1, 0,\n",
       "       0, 0, 0, 0, 0, 0, 0, 1, 1, 1, 0, 1, 1, 0, 0, 0, 0, 1, 0, 1, 0, 1,\n",
       "       1, 1, 1, 0, 0, 0, 1, 0, 0, 1, 0, 0, 0, 0, 0, 1, 0, 0, 0, 0, 0, 0,\n",
       "       0, 0, 1, 1, 0, 0, 0, 1, 1, 0, 1, 1, 0, 1, 1, 1, 0, 0, 1, 0, 0, 0,\n",
       "       0, 1, 0, 0, 1, 1, 1, 0, 1, 0, 1, 0, 0, 0, 0, 0, 0, 0, 0, 0, 0, 1,\n",
       "       1, 0, 0, 1, 1, 0, 0, 1, 0, 1, 0, 1, 1, 0, 1, 1, 0, 0, 0, 0, 1, 1,\n",
       "       0, 0, 0, 1, 0, 0, 0, 1, 0, 0, 1, 0, 0, 1, 0, 0, 1, 1, 0, 1, 0, 0,\n",
       "       0, 0, 1, 0, 0, 0, 0, 0, 1, 0, 1, 1, 1, 0, 1, 1, 1, 1, 1, 1, 1, 1,\n",
       "       1, 1, 0, 0, 0, 0, 0, 0, 1, 0, 1, 0, 0, 1, 0, 0, 1, 0, 1, 1, 0, 0,\n",
       "       0, 0, 0, 0, 0, 1, 0, 0, 0, 0, 0, 0, 0, 0, 1, 0, 1, 0, 0, 0, 0, 0,\n",
       "       0, 0, 0, 0, 0, 0, 0, 0, 0, 1, 0, 0, 0, 1, 0, 1, 0, 0, 0, 0, 1, 1,\n",
       "       1, 0, 0, 0, 0, 1, 0, 1, 0, 1, 0, 0, 0, 1, 0, 0, 0, 0, 0, 0, 0, 1,\n",
       "       1, 1, 0, 0, 0, 0, 0, 0, 0, 0, 0, 1, 0, 1, 1, 0, 1, 1, 1, 1, 1, 1,\n",
       "       0, 1, 0, 0, 0, 0, 0, 0, 0, 0, 0, 0, 0, 0, 0, 1, 0, 0, 1, 1, 0, 0,\n",
       "       0, 0, 0, 0, 1, 0, 0, 0, 0, 0, 1, 0, 1, 0, 0, 0, 0, 1, 1, 0, 0, 1,\n",
       "       0, 0, 0, 0, 0, 0, 0, 0, 0, 0, 0, 0, 1, 0, 1, 1, 0, 0, 0, 0, 0, 0,\n",
       "       0, 1, 0, 0, 1, 0, 1, 0, 0, 1, 0, 1, 0, 0, 0, 0, 0, 0, 0, 0, 1, 1,\n",
       "       0, 0, 0, 0, 0, 0, 1, 0, 0, 0, 1, 0, 0, 0, 0, 0, 0, 1, 0, 0, 0, 0,\n",
       "       1, 0, 0, 1, 0, 1, 0, 1, 1, 0, 0, 1, 0, 0, 1, 1, 1, 0, 0, 1, 0, 0,\n",
       "       0, 0, 1, 1, 0, 1, 0, 0, 1, 0, 1, 1, 0, 0, 0, 1, 0, 0, 0, 0, 0, 0,\n",
       "       0, 0, 0, 0, 0, 1, 0, 1, 0, 0, 0, 0, 0, 0, 0, 0, 0, 0, 0, 0, 0, 0,\n",
       "       0, 0, 0, 0, 0, 0, 0, 0, 0, 0, 0, 0, 1, 1, 1, 1, 1, 1, 0])"
      ]
     },
     "execution_count": 56,
     "metadata": {},
     "output_type": "execute_result"
    }
   ],
   "source": [
    "np.array(df.Log_Prediction)"
   ]
  },
  {
   "cell_type": "code",
   "execution_count": 57,
   "metadata": {},
   "outputs": [
    {
     "data": {
      "text/plain": [
       "array([0.97823323, 0.99951444, 0.99793869, 0.03136105, 0.9993171 ,\n",
       "       0.08631327, 0.9861331 , 0.23624738, 0.13504816, 0.08520615,\n",
       "       0.8044364 , 0.77145871, 0.99473277, 0.77496652, 0.23709772,\n",
       "       0.44487671, 0.52024532, 0.80628098, 0.99894492, 0.21250949,\n",
       "       0.13532331, 0.00857228, 0.57815256, 0.99980602, 0.93529356,\n",
       "       0.94082815, 0.40464814, 0.9926064 , 0.65581002, 0.96321712,\n",
       "       0.9920698 , 0.05792098, 0.93141514, 0.99666484, 0.82125428,\n",
       "       0.9053357 , 0.37168653, 0.14064135, 0.56200356, 0.19886357,\n",
       "       0.20608353, 0.02642063, 0.99342178, 0.17391171, 0.15195292,\n",
       "       0.99087805, 0.00369212, 0.15671358, 0.06376666, 0.2022596 ,\n",
       "       0.05028507, 0.22354174, 0.0560245 , 0.98496042, 0.60205597,\n",
       "       0.04066569, 0.99624992, 0.43936222, 0.14554673, 0.00481154,\n",
       "       0.01334135, 0.00466178, 0.40720204, 0.00736528, 0.10892186,\n",
       "       0.47262638, 0.00813376, 0.03435041, 0.00652242, 0.11298408,\n",
       "       0.99514723, 0.00604504, 0.95086628, 0.24966356, 0.08073061,\n",
       "       0.83867804, 0.19886357, 0.9794514 , 0.9987415 , 0.11754357,\n",
       "       0.03735891, 0.13532331, 0.99999927, 0.99525957, 0.05967918,\n",
       "       0.99077108, 0.41432217, 0.99087805, 0.07663687, 0.42492516,\n",
       "       0.45623709, 0.64456995, 0.1851758 , 0.19128873, 0.58159264,\n",
       "       0.99899338, 0.06504293, 0.01089813, 0.04235086, 0.39814521,\n",
       "       0.24659017, 0.00186047, 0.07069764, 0.01139083, 0.01765908,\n",
       "       0.14999212, 0.04230316, 0.07713798, 0.99994361, 0.03529961,\n",
       "       0.01036598, 0.08942529, 0.36320812, 0.01727539, 0.00518594,\n",
       "       0.05665008, 0.00613048, 0.5143688 , 0.77476124, 0.97292736,\n",
       "       0.03812815, 0.9909838 , 0.99999709, 0.3930808 , 0.18839306,\n",
       "       0.25994046, 0.22517995, 0.99558129, 0.49083926, 0.99765451,\n",
       "       0.06848822, 0.69822026, 0.82570142, 0.72898088, 0.99077108,\n",
       "       0.11754357, 0.04792289, 0.03664611, 0.50142877, 0.03089967,\n",
       "       0.01016277, 0.83105442, 0.03590564, 0.12493839, 0.02203683,\n",
       "       0.05311119, 0.05263975, 0.53490858, 0.3913977 , 0.25165276,\n",
       "       0.13449929, 0.00377971, 0.01164537, 0.029894  , 0.16351722,\n",
       "       0.07194464, 0.96663924, 0.91558967, 0.06327667, 0.02514981,\n",
       "       0.04592343, 0.99646343, 0.99818851, 0.07531513, 0.99999297,\n",
       "       0.53695721, 0.02262772, 0.92097429, 0.97372166, 0.52435564,\n",
       "       0.07498799, 0.21074256, 0.66766212, 0.02690927, 0.02063673,\n",
       "       0.0049661 , 0.01194713, 0.86143823, 0.1443799 , 0.12062952,\n",
       "       0.99999999, 0.99942076, 0.74022104, 0.03757108, 0.59583753,\n",
       "       0.01423718, 0.9862931 , 0.04618191, 0.05085002, 0.07466215,\n",
       "       0.31070785, 0.11889287, 0.01011553, 0.08659208, 0.48172675,\n",
       "       0.1304426 , 0.26039345, 0.98330829, 0.99606989, 0.3987093 ,\n",
       "       0.07249657, 0.96172976, 0.99999289, 0.28106278, 0.09087303,\n",
       "       0.6127187 , 0.01101288, 0.93507959, 0.14879587, 0.63725812,\n",
       "       0.99925851, 0.0503413 , 1.        , 0.96013974, 0.31272758,\n",
       "       0.23837719, 0.05275724, 0.01486132, 0.99849892, 0.99837025,\n",
       "       0.21767454, 0.2028298 , 0.01352851, 0.72804995, 0.17594973,\n",
       "       0.39448533, 0.01638005, 0.52024532, 0.10598772, 0.11381223,\n",
       "       0.9281114 , 0.03498044, 0.03161224, 0.99947277, 0.00916153,\n",
       "       0.29456825, 0.99999152, 0.99938568, 0.34704122, 0.94579619,\n",
       "       0.23077162, 0.08575809, 0.03256238, 0.26289404, 0.99637952,\n",
       "       0.01798867, 0.1679095 , 0.12493839, 0.02002736, 0.03944415,\n",
       "       0.99968946, 0.03993751, 0.99801005, 0.95020235, 0.99692774,\n",
       "       0.29212896, 0.99803328, 0.60346475, 0.75552722, 0.68821086,\n",
       "       0.99924086, 0.95286093, 0.96004957, 0.72171401, 0.950258  ,\n",
       "       0.9998374 , 0.01988926, 0.2022596 , 0.12493839, 0.01954808,\n",
       "       0.37058796, 0.03204739, 0.99993031, 0.01032983, 0.97770079,\n",
       "       0.05479278, 0.0353397 , 0.99326619, 0.22456462, 0.25700849,\n",
       "       0.99558129, 0.04994896, 0.99592925, 0.81759793, 0.13070978,\n",
       "       0.0980153 , 0.05817836, 0.12977669, 0.03435041, 0.0350998 ,\n",
       "       0.42233929, 0.52846267, 0.12688095, 0.05305204, 0.10128793,\n",
       "       0.24659017, 0.02427078, 0.05211411, 0.37196137, 0.01727539,\n",
       "       0.99825123, 0.08108061, 0.99877074, 0.01729538, 0.03804194,\n",
       "       0.0446014 , 0.16095827, 0.00620986, 0.21231263, 0.15059322,\n",
       "       0.04535962, 0.46266643, 0.11488476, 0.04071162, 0.00462913,\n",
       "       0.0905818 , 0.0728137 , 0.98387793, 0.0060805 , 0.08649905,\n",
       "       0.01538711, 0.99910503, 0.11572502, 0.99899338, 0.07008165,\n",
       "       0.09895558, 0.32758059, 0.06148727, 0.83220778, 0.85264603,\n",
       "       0.79578031, 0.12727255, 0.03179286, 0.03278554, 0.07523323,\n",
       "       0.94457694, 0.12766518, 0.99243166, 0.01317203, 0.99999657,\n",
       "       0.39448533, 0.00925817, 0.0272815 , 0.99770894, 0.04618191,\n",
       "       0.01493039, 0.06101365, 0.47379973, 0.03787006, 0.04961498,\n",
       "       0.04654611, 0.72171401, 0.99999984, 0.6127187 , 0.03082928,\n",
       "       0.09473628, 0.12468132, 0.27141768, 0.00583659, 0.00905532,\n",
       "       0.1010739 , 0.17543847, 0.10621093, 0.86858177, 0.18642189,\n",
       "       0.99928421, 0.99856784, 0.07046606, 0.99996351, 0.99992252,\n",
       "       0.87164044, 0.59923336, 0.99976027, 0.99956321, 0.23880473,\n",
       "       0.78664519, 0.01811382, 0.20435618, 0.24202803, 0.02369241,\n",
       "       0.03143262, 0.02690927, 0.06272097, 0.07401437, 0.16823857,\n",
       "       0.4620814 , 0.0732918 , 0.2782183 , 0.03354009, 0.99710277,\n",
       "       0.01493039, 0.00539649, 0.68770564, 0.99981275, 0.06162322,\n",
       "       0.30869531, 0.19680941, 0.12000679, 0.02865687, 0.0525811 ,\n",
       "       0.97640846, 0.0592842 , 0.14264426, 0.11913963, 0.07917259,\n",
       "       0.02608971, 0.80847699, 0.1279275 , 0.97577692, 0.07663687,\n",
       "       0.03664611, 0.02706376, 0.008077  , 0.54718031, 0.62078458,\n",
       "       0.05370609, 0.00830644, 0.81406192, 0.10443683, 0.0293528 ,\n",
       "       0.04098825, 0.43704473, 0.04030002, 0.23077162, 0.0103058 ,\n",
       "       0.01264728, 0.01715593, 0.02323407, 0.0296222 , 0.11157664,\n",
       "       0.52171363, 0.0780645 , 0.99881332, 0.99386746, 0.48848682,\n",
       "       0.28512263, 0.12112972, 0.31399353, 0.26886559, 0.30220478,\n",
       "       0.02654198, 0.95053537, 0.25365245, 0.01866607, 0.97529957,\n",
       "       0.05837209, 0.9728031 , 0.49172154, 0.44749367, 0.99975456,\n",
       "       0.05263975, 0.99762681, 0.05915309, 0.40294839, 0.10214808,\n",
       "       0.19514068, 0.04356017, 0.16191406, 0.13559892, 0.01045083,\n",
       "       0.95168439, 1.        , 0.40833873, 0.04239861, 0.16095827,\n",
       "       0.17005767, 0.16032362, 0.00990562, 0.97245854, 0.04057398,\n",
       "       0.01023404, 0.06418947, 0.5272896 , 0.07605601, 0.02296851,\n",
       "       0.1182779 , 0.33252422, 0.28488285, 0.03882468, 0.83563014,\n",
       "       0.06811381, 0.29334712, 0.17577918, 0.22211527, 0.69398853,\n",
       "       0.08594279, 0.46588589, 0.9968548 , 0.04628569, 0.89263452,\n",
       "       0.07697061, 0.97588793, 0.97968691, 0.08649905, 0.16319557,\n",
       "       0.50966465, 0.09453464, 0.08913825, 0.98998663, 0.99947894,\n",
       "       0.53461582, 0.27656721, 0.08557375, 0.99999264, 0.0063866 ,\n",
       "       0.0084334 , 0.06648885, 0.02506341, 0.84199348, 0.6528824 ,\n",
       "       0.04922801, 0.5090765 , 0.19421825, 0.44487671, 0.57096169,\n",
       "       0.03323628, 0.98793721, 0.99818851, 0.10236412, 0.10312348,\n",
       "       0.00710332, 0.99999887, 0.03208391, 0.22191203, 0.01073446,\n",
       "       0.00463455, 0.18411286, 0.07865939, 0.27258273, 0.06094627,\n",
       "       0.04754845, 0.04410265, 0.23118966, 0.99933297, 0.02480592,\n",
       "       0.99939996, 0.362936  , 0.03948875, 0.00281583, 0.00255149,\n",
       "       0.03795591, 0.43791347, 0.47350637, 0.16271405, 0.2512098 ,\n",
       "       0.22641419, 0.0155124 , 0.01479257, 0.00983662, 0.02369241,\n",
       "       0.02339484, 0.02872245, 0.11951061, 0.00763682, 0.12766518,\n",
       "       0.01489582, 0.01331041, 0.00831614, 0.43994202, 0.03821456,\n",
       "       0.28728618, 0.03132533, 0.61355606, 0.99962071, 0.99991974,\n",
       "       0.99895725, 0.89319709, 0.99900515, 0.00288946])"
      ]
     },
     "execution_count": 57,
     "metadata": {},
     "output_type": "execute_result"
    }
   ],
   "source": [
    "np.array(df.Log_probabilities)"
=======
   "execution_count": 271,
   "metadata": {},
   "outputs": [],
   "source": [
    "# %load -r 15-23 supplement.py\n"
>>>>>>> c055d20eba79aa4d239adb3201394aaaaac4188a
   ]
  },
  {
   "cell_type": "code",
<<<<<<< HEAD
   "execution_count": 58,
   "metadata": {},
   "outputs": [
    {
     "name": "stdout",
     "output_type": "stream",
     "text": [
      "[1 1 1 0 1 0 1 0 0 0 1 1 1 1 0 0 1 1 1 0 0 0 1 1 1 1 0 1 1 1 1 0 1 1 1 1 0\n",
      " 0 1 0 0 0 1 0 0 1 0 0 0 0 0 0 0 1 1 0 1 0 0 0 0 0 0 0 0 0 0 0 0 0 1 0 1 0\n",
      " 0 1 0 1 1 0 0 0 1 1 0 1 0 1 0 0 0 1 0 0 1 1 0 0 0 0 0 0 0 0 0 0 0 0 1 0 0\n",
      " 0 0 0 0 0 0 1 1 1 0 1 1 0 0 0 0 1 0 1 0 1 1 1 1 0 0 0 1 0 0 1 0 0 0 0 0 1\n",
      " 0 0 0 0 0 0 0 0 1 1 0 0 0 1 1 0 1 1 0 1 1 1 0 0 1 0 0 0 0 1 0 0 1 1 1 0 1\n",
      " 0 1 0 0 0 0 0 0 0 0 0 0 1 1 0 0 1 1 0 0 1 0 1 0 1 1 0 1 1 0 0 0 0 1 1 0 0\n",
      " 0 1 0 0 0 1 0 0 1 0 0 1 0 0 1 1 0 1 0 0 0 0 1 0 0 0 0 0 1 0 1 1 1 0 1 1 1\n",
      " 1 1 1 1 1 1 1 0 0 0 0 0 0 1 0 1 0 0 1 0 0 1 0 1 1 0 0 0 0 0 0 0 1 0 0 0 0\n",
      " 0 0 0 0 1 0 1 0 0 0 0 0 0 0 0 0 0 0 0 0 0 1 0 0 0 1 0 1 0 0 0 0 1 1 1 0 0\n",
      " 0 0 1 0 1 0 1 0 0 0 1 0 0 0 0 0 0 0 1 1 1 0 0 0 0 0 0 0 0 0 1 0 1 1 0 1 1\n",
      " 1 1 1 1 0 1 0 0 0 0 0 0 0 0 0 0 0 0 0 1 0 0 1 1 0 0 0 0 0 0 1 0 0 0 0 0 1\n",
      " 0 1 0 0 0 0 1 1 0 0 1 0 0 0 0 0 0 0 0 0 0 0 0 1 0 1 1 0 0 0 0 0 0 0 1 0 0\n",
      " 1 0 1 0 0 1 0 1 0 0 0 0 0 0 0 0 1 1 0 0 0 0 0 0 1 0 0 0 1 0 0 0 0 0 0 1 0\n",
      " 0 0 0 1 0 0 1 0 1 0 1 1 0 0 1 0 0 1 1 1 0 0 1 0 0 0 0 1 1 0 1 0 0 1 0 1 1\n",
      " 0 0 0 1 0 0 0 0 0 0 0 0 0 0 0 1 0 1 0 0 0 0 0 0 0 0 0 0 0 0 0 0 0 0 0 0 0\n",
      " 0 0 0 0 0 0 0 1 1 1 1 1 1 0]\n"
     ]
    }
   ],
   "source": [
    "#my attempt (correct)\n",
    "from sklearn.datasets import load_iris\n",
    "from sklearn.linear_model import LogisticRegression\n",
    "X = np.array(df.area_mean).reshape(-1,1)\n",
    "y = df.Target\n",
    "clf = LogisticRegression(random_state=0, solver='lbfgs', multi_class='multinomial').fit(X, y)\n",
    "print(clf.predict(X))"
   ]
  },
  {
   "cell_type": "code",
   "execution_count": 59,
=======
   "execution_count": 272,
>>>>>>> c055d20eba79aa4d239adb3201394aaaaac4188a
   "metadata": {
    "scrolled": true
   },
   "outputs": [
    {
     "data": {
<<<<<<< HEAD
      "image/png": "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\n",
=======
      "image/png": "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\n",
>>>>>>> c055d20eba79aa4d239adb3201394aaaaac4188a
      "text/plain": [
       "<Figure size 432x288 with 1 Axes>"
      ]
     },
     "metadata": {
      "needs_background": "light"
     },
     "output_type": "display_data"
    }
   ],
   "source": [
    "# plot the class predictions\n",
    "plt.scatter(df.area_mean, df.Target)\n",
    "plt.scatter(df.area_mean, df.Log_probabilities, color='red')\n",
    "plt.xlabel('area_mean')\n",
    "plt.ylabel('Probabilities')\n",
    "plt.show()"
   ]
  },
  {
   "cell_type": "markdown",
   "metadata": {},
   "source": [
    "__Your Turn__\n",
    "\n",
    "Use the trained logistic regression and make predictions for \n",
    "\n",
    "- area_mean = 350\n",
    "\n",
    "- area_mean = 5"
   ]
  },
  {
   "cell_type": "code",
<<<<<<< HEAD
   "execution_count": 62,
   "metadata": {},
   "outputs": [
    {
     "data": {
      "text/plain": [
       "array([0])"
      ]
     },
     "execution_count": 62,
     "metadata": {},
     "output_type": "execute_result"
    }
   ],
   "source": [
    "clf.predict(np.array([[350]]))"
   ]
  },
  {
   "cell_type": "code",
   "execution_count": 63,
   "metadata": {},
   "outputs": [
    {
     "data": {
      "text/plain": [
       "array([[0.97927188, 0.02072812]])"
      ]
     },
     "execution_count": 63,
     "metadata": {},
     "output_type": "execute_result"
    }
   ],
   "source": [
    "clf.predict_proba(np.array([[350]]))"
   ]
=======
   "execution_count": null,
   "metadata": {},
   "outputs": [],
   "source": []
>>>>>>> c055d20eba79aa4d239adb3201394aaaaac4188a
  },
  {
   "cell_type": "code",
   "execution_count": 276,
   "metadata": {},
   "outputs": [
    {
     "data": {
      "text/html": [
       "<div>\n",
       "<style scoped>\n",
       "    .dataframe tbody tr th:only-of-type {\n",
       "        vertical-align: middle;\n",
       "    }\n",
       "\n",
       "    .dataframe tbody tr th {\n",
       "        vertical-align: top;\n",
       "    }\n",
       "\n",
       "    .dataframe thead th {\n",
       "        text-align: right;\n",
       "    }\n",
       "</style>\n",
       "<table border=\"1\" class=\"dataframe\">\n",
       "  <thead>\n",
       "    <tr style=\"text-align: right;\">\n",
       "      <th></th>\n",
       "      <th>Target</th>\n",
       "      <th>Pred_class</th>\n",
       "      <th>Log_Prediction</th>\n",
       "    </tr>\n",
       "  </thead>\n",
       "  <tbody>\n",
       "    <tr>\n",
       "      <th>204</th>\n",
       "      <td>0</td>\n",
       "      <td>0</td>\n",
       "      <td>0</td>\n",
       "    </tr>\n",
       "    <tr>\n",
       "      <th>197</th>\n",
       "      <td>1</td>\n",
       "      <td>1</td>\n",
       "      <td>1</td>\n",
       "    </tr>\n",
       "    <tr>\n",
       "      <th>497</th>\n",
       "      <td>0</td>\n",
       "      <td>0</td>\n",
       "      <td>0</td>\n",
       "    </tr>\n",
       "    <tr>\n",
       "      <th>373</th>\n",
       "      <td>1</td>\n",
       "      <td>1</td>\n",
       "      <td>1</td>\n",
       "    </tr>\n",
       "    <tr>\n",
       "      <th>287</th>\n",
       "      <td>0</td>\n",
       "      <td>0</td>\n",
       "      <td>0</td>\n",
       "    </tr>\n",
       "    <tr>\n",
       "      <th>191</th>\n",
       "      <td>0</td>\n",
       "      <td>0</td>\n",
       "      <td>0</td>\n",
       "    </tr>\n",
       "    <tr>\n",
       "      <th>275</th>\n",
       "      <td>0</td>\n",
       "      <td>0</td>\n",
       "      <td>0</td>\n",
       "    </tr>\n",
       "    <tr>\n",
       "      <th>421</th>\n",
       "      <td>0</td>\n",
       "      <td>0</td>\n",
       "      <td>0</td>\n",
       "    </tr>\n",
       "    <tr>\n",
       "      <th>136</th>\n",
       "      <td>0</td>\n",
       "      <td>0</td>\n",
       "      <td>0</td>\n",
       "    </tr>\n",
       "    <tr>\n",
       "      <th>137</th>\n",
       "      <td>0</td>\n",
       "      <td>0</td>\n",
       "      <td>0</td>\n",
       "    </tr>\n",
       "    <tr>\n",
       "      <th>0</th>\n",
       "      <td>1</td>\n",
       "      <td>1</td>\n",
       "      <td>1</td>\n",
       "    </tr>\n",
       "    <tr>\n",
       "      <th>322</th>\n",
       "      <td>0</td>\n",
       "      <td>0</td>\n",
       "      <td>0</td>\n",
       "    </tr>\n",
       "    <tr>\n",
       "      <th>330</th>\n",
       "      <td>1</td>\n",
       "      <td>1</td>\n",
       "      <td>1</td>\n",
       "    </tr>\n",
       "    <tr>\n",
       "      <th>233</th>\n",
       "      <td>1</td>\n",
       "      <td>1</td>\n",
       "      <td>1</td>\n",
       "    </tr>\n",
       "    <tr>\n",
       "      <th>366</th>\n",
       "      <td>1</td>\n",
       "      <td>1</td>\n",
       "      <td>1</td>\n",
       "    </tr>\n",
       "    <tr>\n",
       "      <th>267</th>\n",
       "      <td>0</td>\n",
       "      <td>0</td>\n",
       "      <td>0</td>\n",
       "    </tr>\n",
       "    <tr>\n",
       "      <th>169</th>\n",
       "      <td>0</td>\n",
       "      <td>1</td>\n",
       "      <td>1</td>\n",
       "    </tr>\n",
       "    <tr>\n",
       "      <th>4</th>\n",
       "      <td>1</td>\n",
       "      <td>1</td>\n",
       "      <td>1</td>\n",
       "    </tr>\n",
       "    <tr>\n",
       "      <th>151</th>\n",
       "      <td>0</td>\n",
       "      <td>0</td>\n",
       "      <td>0</td>\n",
       "    </tr>\n",
       "    <tr>\n",
       "      <th>231</th>\n",
       "      <td>0</td>\n",
       "      <td>0</td>\n",
       "      <td>0</td>\n",
       "    </tr>\n",
       "  </tbody>\n",
       "</table>\n",
       "</div>"
      ],
      "text/plain": [
       "     Target  Pred_class  Log_Prediction\n",
       "204       0           0               0\n",
       "197       1           1               1\n",
       "497       0           0               0\n",
       "373       1           1               1\n",
       "287       0           0               0\n",
       "191       0           0               0\n",
       "275       0           0               0\n",
       "421       0           0               0\n",
       "136       0           0               0\n",
       "137       0           0               0\n",
       "0         1           1               1\n",
       "322       0           0               0\n",
       "330       1           1               1\n",
       "233       1           1               1\n",
       "366       1           1               1\n",
       "267       0           0               0\n",
       "169       0           1               1\n",
       "4         1           1               1\n",
       "151       0           0               0\n",
       "231       0           0               0"
      ]
     },
     "execution_count": 276,
     "metadata": {},
     "output_type": "execute_result"
    }
   ],
   "source": [
    "df.sample(20)[['Target', 'Pred_class', 'Log_Prediction']]"
   ]
  },
  {
<<<<<<< HEAD
   "cell_type": "code",
   "execution_count": 66,
   "metadata": {},
   "outputs": [
    {
     "data": {
      "text/plain": [
       "66"
      ]
     },
     "execution_count": 66,
     "metadata": {},
     "output_type": "execute_result"
    }
   ],
   "source": [
    "(df.Target != df.Log_Prediction).sum()"
   ]
  },
  {
   "cell_type": "code",
   "execution_count": 67,
   "metadata": {},
   "outputs": [
    {
     "data": {
      "text/plain": [
       "4"
      ]
     },
     "execution_count": 67,
     "metadata": {},
     "output_type": "execute_result"
    }
   ],
   "source": [
    "(df.Pred_class != df.Log_Prediction).sum()"
   ]
  },
  {
=======
>>>>>>> c055d20eba79aa4d239adb3201394aaaaac4188a
   "cell_type": "markdown",
   "metadata": {},
   "source": [
    "__Your Turn__\n",
    "\n",
    "- How many of the predictions are different between two models?"
   ]
  },
  {
   "cell_type": "code",
   "execution_count": null,
   "metadata": {},
   "outputs": [],
   "source": [
    "# %load -r 25 supplement.py\n",
    "(df.Pred_class != df.Log_Prediction).sum()"
   ]
  },
  {
   "cell_type": "markdown",
   "metadata": {},
   "source": [
    "Note that when we call logreg_predict_proba we get an array of shape (n_samples, n_class). The first column indicates the predicted probability of **class 0**, and the second column indicates the predicted probability of **class 1**."
   ]
  },
  {
   "cell_type": "markdown",
   "metadata": {},
   "source": [
    "## Probability, odds, e, log, log-odds\n",
    "\n",
    "$$probability = \\frac {one\\ outcome} {all\\ outcomes}$$\n",
    "\n",
    "$$odds = \\frac {one\\ outcome} {all\\ other\\ outcomes}$$\n",
    "\n",
    "Examples:\n",
    "\n",
    "- Dice roll of 1: probability = 1/6, odds = 1/5\n",
    "- Even dice roll: probability = 3/6, odds = 3/3 = 1\n",
    "- Dice roll less than 5: probability = 4/6, odds = 4/2 = 2\n",
    "\n",
    "$$odds = \\frac {probability} {1 - probability}$$\n",
    "\n",
    "$$probability = \\frac {odds} {1 + odds}$$"
   ]
  },
  {
   "cell_type": "markdown",
   "metadata": {},
   "source": [
    "__Your Turn__\n",
    "\n",
    "- Write a function that converts probabilities to odds\n",
    "\n",
    "- Write a function that converts a given odd to its probability.\n"
   ]
  },
  {
   "cell_type": "code",
<<<<<<< HEAD
   "execution_count": 69,
   "metadata": {},
   "outputs": [],
   "source": [
    "def prob_to_odd(p):\n",
    "    return p/(1-p)"
   ]
  },
  {
   "cell_type": "code",
   "execution_count": 70,
   "metadata": {},
   "outputs": [],
   "source": [
    "def odd_to_prob(o):\n",
    "    return o/(1+o)"
   ]
=======
   "execution_count": null,
   "metadata": {},
   "outputs": [],
   "source": []
>>>>>>> c055d20eba79aa4d239adb3201394aaaaac4188a
  },
  {
   "cell_type": "markdown",
   "metadata": {},
   "source": [
    "## Properties of log and exponential functions"
   ]
  },
  {
   "cell_type": "markdown",
   "metadata": {},
   "source": [
    "What is **e**? \n"
   ]
  },
  {
   "cell_type": "code",
<<<<<<< HEAD
   "execution_count": 71,
=======
   "execution_count": 288,
>>>>>>> c055d20eba79aa4d239adb3201394aaaaac4188a
   "metadata": {},
   "outputs": [
    {
     "data": {
      "text/plain": [
       "2.718281828459045"
      ]
     },
<<<<<<< HEAD
     "execution_count": 71,
=======
     "execution_count": 288,
>>>>>>> c055d20eba79aa4d239adb3201394aaaaac4188a
     "metadata": {},
     "output_type": "execute_result"
    }
   ],
   "source": [
    "math.e"
   ]
  },
  {
   "cell_type": "code",
<<<<<<< HEAD
   "execution_count": 78,
   "metadata": {},
   "outputs": [
    {
     "name": "stdout",
     "output_type": "stream",
     "text": [
      "0.0\n",
      "0.010204081632653062\n",
      "0.02061855670103093\n",
      "0.03125\n",
      "0.04210526315789474\n",
      "0.053191489361702135\n",
      "0.06451612903225806\n",
      "0.07608695652173915\n",
      "0.08791208791208792\n",
      "0.1\n",
      "0.11235955056179776\n",
      "0.12500000000000003\n",
      "0.13793103448275862\n",
      "0.15116279069767444\n",
      "0.1647058823529412\n",
      "0.17857142857142858\n",
      "0.19277108433734944\n",
      "0.20731707317073172\n",
      "0.22222222222222224\n",
      "0.23750000000000002\n",
      "0.25316455696202533\n",
      "0.2692307692307693\n",
      "0.28571428571428575\n",
      "0.3026315789473685\n",
      "0.32\n",
      "0.3378378378378379\n",
      "0.35616438356164387\n",
      "0.37500000000000006\n",
      "0.3943661971830987\n",
      "0.41428571428571426\n",
      "0.43478260869565216\n",
      "0.4558823529411765\n",
      "0.47761194029850756\n",
      "0.5000000000000001\n",
      "0.5230769230769231\n",
      "0.5468750000000001\n",
      "0.5714285714285715\n",
      "0.5967741935483871\n",
      "0.6229508196721312\n",
      "0.6500000000000001\n",
      "0.6779661016949153\n",
      "0.706896551724138\n",
      "0.736842105263158\n",
      "0.7678571428571429\n",
      "0.8\n",
      "0.8333333333333335\n",
      "0.867924528301887\n",
      "0.9038461538461541\n",
      "0.9411764705882354\n",
      "0.9800000000000002\n",
      "1.0204081632653061\n",
      "1.0625000000000004\n",
      "1.1063829787234045\n",
      "1.1521739130434783\n",
      "1.2000000000000004\n",
      "1.2500000000000002\n",
      "1.3023255813953494\n",
      "1.3571428571428574\n",
      "1.4146341463414633\n",
      "1.4750000000000003\n",
      "1.5384615384615385\n",
      "1.6052631578947374\n",
      "1.6756756756756759\n",
      "1.7500000000000007\n",
      "1.828571428571429\n",
      "1.911764705882353\n",
      "2.000000000000001\n",
      "2.0937500000000004\n",
      "2.1935483870967754\n",
      "2.3000000000000007\n",
      "2.413793103448277\n",
      "2.5357142857142865\n",
      "2.666666666666667\n",
      "2.807692307692309\n",
      "2.9600000000000004\n",
      "3.1250000000000018\n",
      "3.3043478260869574\n",
      "3.5000000000000004\n",
      "3.714285714285716\n",
      "3.9500000000000006\n",
      "4.210526315789476\n",
      "4.500000000000002\n",
      "4.82352941176471\n",
      "5.187500000000003\n",
      "5.600000000000001\n",
      "6.071428571428576\n",
      "6.615384615384618\n",
      "7.250000000000007\n",
      "8.000000000000005\n",
      "8.900000000000013\n",
      "10.00000000000001\n",
      "11.375000000000005\n",
      "13.142857142857164\n",
      "15.500000000000014\n",
      "18.800000000000047\n",
      "23.750000000000046\n",
      "32.00000000000003\n",
      "48.50000000000023\n",
      "98.00000000000045\n",
      "inf\n"
     ]
    },
    {
     "name": "stderr",
     "output_type": "stream",
     "text": [
      "/Users/seohohahm/anaconda3/lib/python3.7/site-packages/ipykernel_launcher.py:2: RuntimeWarning: divide by zero encountered in double_scalars\n",
      "  \n"
     ]
    },
    {
     "data": {
      "text/plain": [
       "<matplotlib.collections.PathCollection at 0x1a18062470>"
      ]
     },
     "execution_count": 78,
     "metadata": {},
     "output_type": "execute_result"
    },
    {
     "data": {
      "image/png": "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\n",
      "text/plain": [
       "<Figure size 432x288 with 1 Axes>"
      ]
     },
     "metadata": {
      "needs_background": "light"
     },
     "output_type": "display_data"
    }
   ],
   "source": [
    "for x in np.linspace(0,1,100):\n",
    "    y = prob_to_odd(x)\n",
    "    print(y)\n",
    "    \n",
    "plt.scatter(x, y)"
   ]
  },
  {
   "cell_type": "code",
=======
>>>>>>> c055d20eba79aa4d239adb3201394aaaaac4188a
   "execution_count": 290,
   "metadata": {},
   "outputs": [
    {
     "data": {
      "image/png": "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\n",
      "text/plain": [
       "<Figure size 432x288 with 1 Axes>"
      ]
     },
     "metadata": {
      "needs_background": "light"
     },
     "output_type": "display_data"
    }
   ],
   "source": [
    "## exponential map with base e\n",
    "y = np.logspace(-1,4, 100, base = math.e)\n",
    "\n",
    "x = np.log(y)\n",
    "\n",
    "plt.plot(x,y)\n",
    "\n",
    "plt.tight_layout()"
   ]
  },
  {
   "cell_type": "markdown",
   "metadata": {},
   "source": [
    "__Your Turn__\n",
    "\n",
    "- Find $e^{-10}$, $e^{3}$"
   ]
  },
  {
   "cell_type": "code",
   "execution_count": null,
   "metadata": {},
   "outputs": [],
   "source": []
  },
  {
   "cell_type": "markdown",
   "metadata": {},
   "source": [
    "__Logarithm Function__\n",
    "\n",
    "[Logarithm Wikipedia](https://en.wikipedia.org/wiki/Logarithm)"
   ]
  },
  {
   "cell_type": "code",
   "execution_count": 303,
   "metadata": {},
   "outputs": [
    {
     "data": {
      "image/png": "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\n",
      "text/plain": [
       "<Figure size 432x288 with 1 Axes>"
      ]
     },
     "metadata": {
      "needs_background": "light"
     },
     "output_type": "display_data"
    }
   ],
   "source": [
    "x = np.logspace(-3, 3, base = math.e, num=100)\n",
    "y = np.log(x)\n",
    "plt.plot(x,y)\n",
    "plt.tight_layout()"
   ]
  },
  {
   "cell_type": "markdown",
   "metadata": {},
   "source": [
    "What is a **(natural) log**? It gives you the time needed to reach a certain level of growth:"
   ]
  },
  {
   "cell_type": "code",
   "execution_count": 306,
   "metadata": {},
   "outputs": [
    {
     "data": {
      "text/plain": [
       "1.0"
      ]
     },
     "execution_count": 306,
     "metadata": {},
     "output_type": "execute_result"
    }
   ],
   "source": [
    "# time needed to grow 1 unit to e units\n",
    "np.log(math.e)"
   ]
  },
  {
   "cell_type": "markdown",
   "metadata": {},
   "source": [
    "## Logistic Regression: under the hood?"
   ]
  },
  {
   "cell_type": "markdown",
   "metadata": {},
   "source": [
    "**Linear regression:** continuous response is modeled as a linear combination of the features:\n",
    "\n",
    "$$y = \\beta_0 + \\beta_1x$$\n",
    "\n",
    "**Logistic regression:** log-odds of a categorical response being \"true\" (1) is modeled as a linear combination of the features:\n",
    "\n",
    "$$\\log \\left({p_{i}\\over 1-p_{i}}\\right) = \\beta_0 + \\beta_1x_{i}$$\n",
    "\n",
    "This is called the **logit function**.\n",
    "\n",
    "\n",
    "\n",
    "The equation can be rearranged into the **logistic function**:\n",
    "\n",
    "$$p(x_{i}) = \\frac{e^{\\beta_0 + \\beta_1x_{i}}} {1 + e^{\\beta_0 + \\beta_1x_{i}}}$$\n",
<<<<<<< HEAD
    "\n",
    "^this is the log of odds = this is our model => changes by what we put in beta 0 and beta 1"
=======
    "\n"
>>>>>>> c055d20eba79aa4d239adb3201394aaaaac4188a
   ]
  },
  {
   "cell_type": "markdown",
   "metadata": {},
   "source": [
    "In other words:\n",
    "\n",
    "- Logistic regression outputs the **probabilities of a specific class**\n",
    "- Those probabilities can be converted into **class predictions**\n",
    "\n",
    "The **logistic function** has some nice properties:\n",
    "\n",
    "- Takes on an \"s\" shape\n",
    "- Output is bounded by 0 and 1\n",
    "- We will maximize likelihood function $$ \\ell(\\beta_{0}, \\beta_{1}) = \\prod_{i: y_1 =1} p(x_i)\\prod_{i^{\\prime}: y_{i^{\\prime}}=0} (1- p(x_{i}))$$ \n",
    "\n",
    "to find $\\beta_{0}$ and $\\beta_{1}$\n",
    "\n",
    "\n",
    "[Least squares vs ML](https://stats.stackexchange.com/questions/143705/maximum-likelihood-method-vs-least-squares-method)\n",
    "\n",
    "We have covered how this works for **binary classification problems** (two response classes). But what about **multi-class classification problems** (more than two response classes)?\n",
    "\n",
    "- Most common solution for classification models is **\"one-vs-all\"** (also known as **\"one-vs-rest\"**): decompose the problem into multiple binary classification problems\n",
    "- **Multinomial logistic regression** can solve this as a single problem"
   ]
  },
  {
   "cell_type": "markdown",
   "metadata": {},
   "source": [
    "__Your Turn__\n",
    "\n",
    "- Use logistic regression to get probability predictions\n",
    "\n",
    "- Then use map method to find corresponding odds."
   ]
  },
  {
   "cell_type": "markdown",
   "metadata": {},
   "source": [
    "## Interpreting Logistic Regression Coefficients"
   ]
  },
  {
   "cell_type": "markdown",
   "metadata": {},
   "source": [
    "Positive coefficients increase the log-odds of the response (and thus increase the probability), and negative coefficients decrease the log-odds of the response (and thus decrease the probability)."
   ]
  },
  {
   "cell_type": "markdown",
   "metadata": {},
   "source": [
    "<img src='resources/logistic_betas.png' width=700/>"
   ]
  },
  {
   "cell_type": "markdown",
   "metadata": {},
   "source": [
    "Changing the $\\beta_0$ value shifts the curve **horizontally**, whereas changing the $\\beta_1$ value changes the **slope** of the curve."
   ]
  },
  {
   "cell_type": "markdown",
   "metadata": {},
   "source": [
    "## Part 8: Comparing Logistic Regression with Other Models\n",
    "\n",
    "Advantages of logistic regression:\n",
    "\n",
    "- Highly interpretable (if you remember how)\n",
    "- Model training and prediction are fast\n",
    "- No tuning is required (excluding regularization)\n",
    "- Features don't need scaling\n",
    "- Can perform well with a small number of observations\n",
    "- Outputs well-calibrated predicted probabilities\n",
    "\n",
    "Disadvantages of logistic regression:\n",
    "\n",
    "- Presumes a linear relationship between the features and the log-odds of the response\n",
    "- Performance is (generally) not competitive with the best supervised learning methods\n",
    "- Can't automatically learn feature interactions"
   ]
  },
  {
   "cell_type": "markdown",
   "metadata": {},
   "source": [
    "## Logistic regression on the whole dataset\n",
    "\n",
    "__Your Turn__\n",
    "\n",
    "Try to run logistic regression on the whole dataset. Return the prediction accuracy."
   ]
  },
  {
   "cell_type": "code",
   "execution_count": null,
   "metadata": {},
   "outputs": [],
   "source": []
  }
 ],
 "metadata": {
  "kernelspec": {
   "display_name": "Python 3",
   "language": "python",
   "name": "python3"
  },
  "language_info": {
   "codemirror_mode": {
    "name": "ipython",
    "version": 3
   },
   "file_extension": ".py",
   "mimetype": "text/x-python",
   "name": "python",
   "nbconvert_exporter": "python",
   "pygments_lexer": "ipython3",
   "version": "3.7.3"
  },
  "toc": {
   "base_numbering": 1,
   "nav_menu": {},
   "number_sections": true,
   "sideBar": true,
   "skip_h1_title": false,
   "title_cell": "Table of Contents",
   "title_sidebar": "Contents",
   "toc_cell": false,
   "toc_position": {},
   "toc_section_display": true,
   "toc_window_display": false
  }
 },
 "nbformat": 4,
 "nbformat_minor": 4
}
