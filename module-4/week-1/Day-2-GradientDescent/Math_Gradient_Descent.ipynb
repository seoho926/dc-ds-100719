{
 "cells": [
  {
   "cell_type": "markdown",
   "metadata": {},
   "source": [
    "# Linear Algebra, Calculus, and Gradient Descent\n",
    "\n",
    "__Objectives__\n",
    "* Use operations with vectors and matrices to solve systems of linear equations\n",
    "* Identify and describe of scalars, vectors,  matrices, using appropriate mathematical jargon\n",
    "* Set up and solve systems of linear equations with real life examples\n",
    "* Describe gradient descent in relation to slope, derivatives, and step size\n",
    "\n",
    "\n",
    "## Why Linear Algebra?\n",
    "\n",
    "Linear Algebra is the basis of many machine learning models.\n",
    "\n",
    "Data is usually already set up into a matrix by default!\n",
    "\n",
    "<img src= \"./resources/dataset.jpeg\">\n"
   ]
  },
  {
   "cell_type": "markdown",
   "metadata": {},
   "source": [
    "\n",
    "It can be used to model complicated things like language\n",
    "\n",
    "<img src = \"./resources/Word-Vectors.png\">"
   ]
  },
  {
   "cell_type": "markdown",
   "metadata": {},
   "source": [
    "Important for image compression and recognition\n",
    "\n",
    "<img src = \"./resources/images.gif\">"
   ]
  },
  {
   "cell_type": "markdown",
   "metadata": {},
   "source": [
    "Also matrices are the common notation used in the popular libraries like numpy, scipy and sklearn.\n",
    "\n",
    "<img src = \"./resources/matrix_multiplication.png\">\n"
   ]
  },
  {
   "cell_type": "markdown",
   "metadata": {},
   "source": [
    "This is an image from Andrew Ng's Neural Networks and Deep Learning course.\n",
    "\n",
    "<img src = \"./resources/gradient_descent.png\" width  = 500>"
   ]
  },
  {
   "cell_type": "markdown",
   "metadata": {},
   "source": [
    "This is an image from Andrew Ng's Sequence Model's Course. \n",
    "\n",
    "<img src = \"./resources/lstm.png\" width  = 500>"
   ]
  },
  {
   "cell_type": "markdown",
   "metadata": {},
   "source": [
    "## Linear algebra and Linear Regression\n",
    "\n",
    "- Let's move to the notebook matrix algebra with numpy :)"
   ]
  },
  {
   "cell_type": "markdown",
   "metadata": {},
   "source": [
    "## Gradient Descent"
   ]
  },
  {
   "cell_type": "markdown",
   "metadata": {},
   "source": [
    "[Gradient slide](https://www.youtube.com/watch?v=vWFjqgb-ylQ)"
   ]
  },
  {
   "cell_type": "markdown",
   "metadata": {},
   "source": [
    "## Gradient in Action"
   ]
  },
  {
   "cell_type": "code",
   "execution_count": 3,
   "metadata": {},
   "outputs": [],
   "source": [
    "import pandas as pd\n",
    "import numpy as np\n",
    "from matplotlib import pyplot as plt\n",
    "import random\n",
    "import seaborn as sns"
   ]
  },
  {
   "cell_type": "code",
   "execution_count": 4,
   "metadata": {},
   "outputs": [
    {
     "data": {
      "text/plain": [
       "array([0., 0., 0., 0., 0., 0., 0., 0., 0., 0.])"
      ]
     },
     "execution_count": 4,
     "metadata": {},
     "output_type": "execute_result"
    }
   ],
   "source": [
    "numPoints=10\n",
    "np.zeros(shape=numPoints)"
   ]
  },
  {
   "cell_type": "code",
   "execution_count": 5,
   "metadata": {},
   "outputs": [],
   "source": [
    "def genData(numPoints, bias, variance):\n",
    "    x = np.zeros(shape=(numPoints, 2))\n",
    "    y = np.zeros(shape=numPoints)\n",
    "    # basically a straight line\n",
    "    for i in range(0, numPoints):\n",
    "        # bias feature\n",
    "        x[i][0] = 1\n",
    "        x[i][1] = i\n",
    "        # our target variable\n",
    "        y[i] = (i + bias) + np.random.uniform(0, 1) * variance\n",
    "    return x, y"
   ]
  },
  {
   "cell_type": "code",
   "execution_count": null,
   "metadata": {},
   "outputs": [],
   "source": []
  },
  {
   "cell_type": "code",
   "execution_count": 7,
   "metadata": {},
   "outputs": [],
   "source": [
    "# gen 100 points with a bias of 25 and 10 variance as a bit of noise\n",
    "x, y = genData(100, 25, 25)\n",
    "m, n = np.shape(x)"
   ]
  },
  {
   "cell_type": "code",
   "execution_count": null,
   "metadata": {},
   "outputs": [],
   "source": []
  },
  {
   "cell_type": "code",
   "execution_count": 21,
   "metadata": {},
   "outputs": [
    {
     "data": {
      "image/png": "[encoded data removed]",
      "text/plain": [
       "<Figure size 432x288 with 1 Axes>"
      ]
     },
     "metadata": {
      "needs_background": "light"
     },
     "output_type": "display_data"
    }
   ],
   "source": [
    "sns.scatterplot(x=x[:, 1], y=y)\n",
    "\n",
    "plt.show()"
   ]
  },
  {
   "cell_type": "code",
   "execution_count": 14,
   "metadata": {},
   "outputs": [
    {
     "data": {
      "text/plain": [
       "(100,)"
      ]
     },
     "execution_count": 14,
     "metadata": {},
     "output_type": "execute_result"
    }
   ],
   "source": [
    "x\n",
    "theta = np.array([1.90595185,1.5342646])\n",
    "np.dot(x, theta).shape"
   ]
  },
  {
   "cell_type": "markdown",
   "metadata": {},
   "source": [
    "__Your Turn__\n",
    "\n",
    "Write a gradient descent function for this linear problem\n",
    "\n",
    "- Inputs:\n",
    "x, y, theta: initialized with some random values, alpha: learning rate, m: length of data, numiterations: number of iterations\n",
    "\n",
    "- return: plot the errors for each iterations\n",
    "- return the final theta values"
   ]
  },
  {
   "cell_type": "code",
   "execution_count": 21,
   "metadata": {},
   "outputs": [],
   "source": [
    "# %load -r 1-20 supplement.py\n",
    "def gradientDescent(x, y, theta, alpha, m, numIterations):\n",
    "    xTrans = x.transpose()\n",
    "    costs = []\n",
    "    for i in range(0, numIterations):\n",
    "        hypothesis = np.dot(x, theta)\n",
    "        loss = hypothesis - y\n",
    "        # avg cost per example (the 2 in 2*m doesn't really matter here.\n",
    "        # But to be consistent with the gradient, I include it)\n",
    "        cost = np.sum(loss ** 2) / (2 * m)\n",
    "        if i % (numIterations // 40) == 0:\n",
    "            print(\"Iteration %d | Cost: %f\" % (i, cost))\n",
    "            print(theta)\n",
    "        costs.append(cost)\n",
    "        # avg gradient per example\n",
    "        gradient = np.dot(xTrans, loss) / m\n",
    "        # update\n",
    "        theta = theta - alpha * gradient\n",
    "    sns.scatterplot(y=costs, x=[i for i in range(len(costs))], color ='r')\n",
    "\n",
    "    return theta"
   ]
  },
  {
   "cell_type": "code",
   "execution_count": 23,
   "metadata": {},
   "outputs": [
    {
     "name": "stdout",
     "output_type": "stream",
     "text": [
      "Iteration 0 | Cost: 198.965538\n",
      "[1.90595185 1.5342646 ]\n",
      "Iteration 3750 | Cost: 168.429209\n",
      "[5.28759582 1.48065123]\n",
      "Iteration 7500 | Cost: 143.193516\n",
      "[8.36236796 1.4342943 ]\n",
      "Iteration 11250 | Cost: 122.330592\n",
      "[11.15808299  1.39214459]\n",
      "Iteration 15000 | Cost: 105.082737\n",
      "[13.70006729  1.35382026]\n",
      "Iteration 18750 | Cost: 90.823542\n",
      "[16.01134871  1.31897413]\n",
      "Iteration 22500 | Cost: 79.035139\n",
      "[18.11286516  1.28729053]\n",
      "Iteration 26250 | Cost: 69.289398\n",
      "[20.02365426  1.25848243]\n",
      "Iteration 30000 | Cost: 61.232371\n",
      "[21.76102587  1.23228888]\n",
      "Iteration 33750 | Cost: 54.571444\n",
      "[23.34071883  1.20847257]\n",
      "Iteration 37500 | Cost: 49.064702\n",
      "[24.77704359  1.18681776]\n",
      "Iteration 41250 | Cost: 44.512154\n",
      "[26.08301182  1.16712828]\n",
      "Iteration 45000 | Cost: 40.748458\n",
      "[27.27045429  1.14922575]\n",
      "Iteration 48750 | Cost: 37.636925\n",
      "[28.35012803  1.132948  ]\n",
      "Iteration 52500 | Cost: 35.064549\n",
      "[29.33181382  1.11814758]\n",
      "Iteration 56250 | Cost: 32.937908\n",
      "[30.22440474  1.10469039]\n",
      "Iteration 60000 | Cost: 31.179765\n",
      "[31.03598679  1.09245454]\n",
      "Iteration 63750 | Cost: 29.726268\n",
      "[31.77391208  1.08132918]\n",
      "Iteration 67500 | Cost: 28.524628\n",
      "[32.44486548  1.07121352]\n",
      "Iteration 71250 | Cost: 27.531206\n",
      "[33.05492516  1.06201593]\n",
      "Iteration 75000 | Cost: 26.709921\n",
      "[33.60961765  1.05365309]\n",
      "Iteration 78750 | Cost: 26.030946\n",
      "[34.11396791  1.04604923]\n",
      "Iteration 82500 | Cost: 25.469621\n",
      "[34.57254485  1.03913548]\n",
      "Iteration 86250 | Cost: 25.005562\n",
      "[34.98950272  1.03284919]\n",
      "Iteration 90000 | Cost: 24.621913\n",
      "[35.36861875  1.02713343]\n",
      "Iteration 93750 | Cost: 24.304742\n",
      "[35.71332734  1.02193642]\n",
      "Iteration 97500 | Cost: 24.042530\n",
      "[36.02675121  1.01721107]\n",
      "Iteration 101250 | Cost: 23.825752\n",
      "[36.31172966  1.01291458]\n",
      "Iteration 105000 | Cost: 23.646538\n",
      "[36.57084433  1.00900803]\n",
      "Iteration 108750 | Cost: 23.498377\n",
      "[36.80644253  1.00545602]\n",
      "Iteration 112500 | Cost: 23.375889\n",
      "[37.02065854  1.00222639]\n",
      "Iteration 116250 | Cost: 23.274626\n",
      "[37.21543294  0.99928986]\n",
      "Iteration 120000 | Cost: 23.190909\n",
      "[37.39253021  0.99661985]\n",
      "Iteration 123750 | Cost: 23.121698\n",
      "[37.55355465  0.99419216]\n",
      "Iteration 127500 | Cost: 23.064480\n",
      "[37.699965    0.99198479]\n",
      "Iteration 131250 | Cost: 23.017177\n",
      "[37.83308759  0.98997777]\n",
      "Iteration 135000 | Cost: 22.978070\n",
      "[37.95412837  0.98815289]\n",
      "Iteration 138750 | Cost: 22.945739\n",
      "[38.06418385  0.98649363]\n",
      "Iteration 142500 | Cost: 22.919011\n",
      "[38.16425102  0.98498497]\n",
      "Iteration 146250 | Cost: 22.896914\n",
      "[38.2552364   0.98361322]\n"
     ]
    },
    {
     "data": {
      "image/png": "[encoded data removed]",
      "text/plain": [
       "<Figure size 432x288 with 1 Axes>"
      ]
     },
     "metadata": {
      "needs_background": "light"
     },
     "output_type": "display_data"
    }
   ],
   "source": [
    "numIterations = 150000\n",
    "alpha = 0.0001\n",
    "theta = np.array([1.90595185,1.5342646])\n",
    "a = gradientDescent(x, y, theta, alpha, m, numIterations)"
   ]
  },
  {
   "cell_type": "code",
   "execution_count": 24,
   "metadata": {},
   "outputs": [
    {
     "data": {
      "text/plain": [
       "array([38.33796422,  0.98236597])"
      ]
     },
     "execution_count": 24,
     "metadata": {},
     "output_type": "execute_result"
    }
   ],
   "source": [
    "a"
   ]
  },
  {
   "cell_type": "code",
   "execution_count": 25,
   "metadata": {},
   "outputs": [],
   "source": [
    "from sklearn.linear_model import LinearRegression"
   ]
  },
  {
   "cell_type": "code",
   "execution_count": 26,
   "metadata": {},
   "outputs": [
    {
     "data": {
      "text/plain": [
       "LinearRegression(copy_X=True, fit_intercept=False, n_jobs=None, normalize=False)"
      ]
     },
     "execution_count": 26,
     "metadata": {},
     "output_type": "execute_result"
    }
   ],
   "source": [
    "lr = LinearRegression(fit_intercept= False)\n",
    "\n",
    "\n",
    "lr.fit(x,y)\n"
   ]
  },
  {
   "cell_type": "code",
   "execution_count": 27,
   "metadata": {},
   "outputs": [
    {
     "data": {
      "text/plain": [
       "array([39.16676732,  0.96987049])"
      ]
     },
     "execution_count": 27,
     "metadata": {},
     "output_type": "execute_result"
    }
   ],
   "source": [
    "lr.coef_"
   ]
  },
  {
   "cell_type": "code",
   "execution_count": null,
   "metadata": {},
   "outputs": [],
   "source": []
  }
 ],
 "metadata": {
  "kernelspec": {
   "display_name": "Python 3",
   "language": "python",
   "name": "python3"
  },
  "language_info": {
   "codemirror_mode": {
    "name": "ipython",
    "version": 3
   },
   "file_extension": ".py",
   "mimetype": "text/x-python",
   "name": "python",
   "nbconvert_exporter": "python",
   "pygments_lexer": "ipython3",
   "version": "3.7.3"
  },
  "toc": {
   "base_numbering": 1,
   "nav_menu": {},
   "number_sections": true,
   "sideBar": true,
   "skip_h1_title": false,
   "title_cell": "Table of Contents",
   "title_sidebar": "Contents",
   "toc_cell": false,
   "toc_position": {},
   "toc_section_display": true,
   "toc_window_display": false
  }
 },
 "nbformat": 4,
 "nbformat_minor": 2
}
