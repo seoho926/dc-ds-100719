{
 "cells": [
  {
   "cell_type": "markdown",
   "metadata": {},
   "source": [
    "__Agenda__\n",
    "\n",
    "- Difference between population and sample\n",
    "- How can we get a good sample?\n",
    "- Point estimators from sample\n",
    "- Sampling distribution, especially sampling distribution of the mean\n",
    "- Central Limit Theorem - statement and use of it.\n",
    "- Creating confidence intervals around sample mean using CLT\n",
    "- Recap\n",
    "\n",
    "\n",
    "# Sampling Distributions\n",
    "\n",
    "## Population vs Sample\n",
    "\n",
    "__population__ A population is the set of all elements of interest in a study. (Finite population and infinite population)\n",
    "\n",
    "__sample__ A sample is a subset of the population.\n",
    "\n",
    "### Scenario\n",
    "\n",
    "The mayor's office has hired Flatiron Data Science Immersive students to determine a way to fix traffic congestion. A good starting point is to determine out what proportion of the population of DC owns a car.\n",
    "\n",
    "In order for us to make any determinations about a population, we must first get information about it.\n",
    "\n",
    "Because it's impractical to ever usually get data about *everyone* in a population, we must take a sample.\n",
    "\n",
    "Our sample should be:\n",
    "\n",
    "* Randomly selected- every item should have an *equal* chance of being selected\n",
    "* Representative of our population\n",
    "\n",
    "![pop](./img/sample_pop.png)\n",
    "\n",
    "\n",
    "**Random sampling is not easy to do, let's look at an example:**\n",
    "\n",
    "Imagine you are trying to determine what proportion of DC metro area people own a car\n",
    "\n",
    "* Stand outside of Flatiron at 12 pm and ask random people until *n* responses\n",
    "\n",
    "\n",
    "* Go to a randomly assigned street corner and at a random time and ask *n* people if they own a car\n",
    "\n",
    "\n",
    "__Objective of Sampling__\n",
    "\n",
    "When we gather a sample, we are trying to minimize the bias of our sample while also minimizing our cost.\n",
    "\n",
    "\n",
    "## Point Estimates\n",
    "\n",
    "!! Very important observation!!: We can consider random sampling as an 'random experiment' and then when we calculate mean, variance, standard deviation, median etc. these are functions on the outcomes of this experiment. We have a name for such functions can you remember it?\n",
    "\n",
    "![imgsample](./img/sample_stats.png)\n",
    "\n",
    "### It's your turn :)\n",
    "\n",
    "[Download data](https://www.kaggle.com/ishaanv/ISLR-Auto)\n",
    "\n",
    "[UCI-repo](https://archive.ics.uci.edu/ml/datasets/auto+mpg)"
   ]
  },
  {
   "cell_type": "code",
   "execution_count": 33,
   "metadata": {},
   "outputs": [
    {
     "data": {
      "text/html": [
       "<div>\n",
       "<style scoped>\n",
       "    .dataframe tbody tr th:only-of-type {\n",
       "        vertical-align: middle;\n",
       "    }\n",
       "\n",
       "    .dataframe tbody tr th {\n",
       "        vertical-align: top;\n",
       "    }\n",
       "\n",
       "    .dataframe thead th {\n",
       "        text-align: right;\n",
       "    }\n",
       "</style>\n",
       "<table border=\"1\" class=\"dataframe\">\n",
       "  <thead>\n",
       "    <tr style=\"text-align: right;\">\n",
       "      <th></th>\n",
       "      <th>mpg</th>\n",
       "      <th>cylinders</th>\n",
       "      <th>displacement</th>\n",
       "      <th>horsepower</th>\n",
       "      <th>weight</th>\n",
       "      <th>acceleration</th>\n",
       "      <th>model year</th>\n",
       "      <th>origin</th>\n",
       "      <th>car name</th>\n",
       "    </tr>\n",
       "  </thead>\n",
       "  <tbody>\n",
       "    <tr>\n",
       "      <th>0</th>\n",
       "      <td>18.0</td>\n",
       "      <td>8</td>\n",
       "      <td>307.0</td>\n",
       "      <td>130</td>\n",
       "      <td>3504</td>\n",
       "      <td>12.0</td>\n",
       "      <td>70</td>\n",
       "      <td>1</td>\n",
       "      <td>chevrolet chevelle malibu</td>\n",
       "    </tr>\n",
       "    <tr>\n",
       "      <th>1</th>\n",
       "      <td>15.0</td>\n",
       "      <td>8</td>\n",
       "      <td>350.0</td>\n",
       "      <td>165</td>\n",
       "      <td>3693</td>\n",
       "      <td>11.5</td>\n",
       "      <td>70</td>\n",
       "      <td>1</td>\n",
       "      <td>buick skylark 320</td>\n",
       "    </tr>\n",
       "    <tr>\n",
       "      <th>2</th>\n",
       "      <td>18.0</td>\n",
       "      <td>8</td>\n",
       "      <td>318.0</td>\n",
       "      <td>150</td>\n",
       "      <td>3436</td>\n",
       "      <td>11.0</td>\n",
       "      <td>70</td>\n",
       "      <td>1</td>\n",
       "      <td>plymouth satellite</td>\n",
       "    </tr>\n",
       "    <tr>\n",
       "      <th>3</th>\n",
       "      <td>16.0</td>\n",
       "      <td>8</td>\n",
       "      <td>304.0</td>\n",
       "      <td>150</td>\n",
       "      <td>3433</td>\n",
       "      <td>12.0</td>\n",
       "      <td>70</td>\n",
       "      <td>1</td>\n",
       "      <td>amc rebel sst</td>\n",
       "    </tr>\n",
       "    <tr>\n",
       "      <th>4</th>\n",
       "      <td>17.0</td>\n",
       "      <td>8</td>\n",
       "      <td>302.0</td>\n",
       "      <td>140</td>\n",
       "      <td>3449</td>\n",
       "      <td>10.5</td>\n",
       "      <td>70</td>\n",
       "      <td>1</td>\n",
       "      <td>ford torino</td>\n",
       "    </tr>\n",
       "  </tbody>\n",
       "</table>\n",
       "</div>"
      ],
      "text/plain": [
       "    mpg  cylinders  displacement  horsepower  weight  acceleration  \\\n",
       "0  18.0          8         307.0         130    3504          12.0   \n",
       "1  15.0          8         350.0         165    3693          11.5   \n",
       "2  18.0          8         318.0         150    3436          11.0   \n",
       "3  16.0          8         304.0         150    3433          12.0   \n",
       "4  17.0          8         302.0         140    3449          10.5   \n",
       "\n",
       "   model year  origin                   car name  \n",
       "0          70       1  chevrolet chevelle malibu  \n",
       "1          70       1          buick skylark 320  \n",
       "2          70       1         plymouth satellite  \n",
       "3          70       1              amc rebel sst  \n",
       "4          70       1                ford torino  "
      ]
     },
     "execution_count": 2,
     "metadata": {},
     "output_type": "execute_result"
    }
   ],
   "source": [
    "import pandas as pd \n",
    "\n",
    "import numpy as np\n",
    "\n",
    "auto  = pd.read_csv('data/auto-mpg.csv')\n",
    "auto.head()"
   ]
  },
  {
   "cell_type": "markdown",
   "metadata": {},
   "source": [
    "Take a random sample of 30 cars from auto dataset and find both sampling and population mean and standard deviation. \n",
    "\n"
   ]
  },
  {
   "cell_type": "code",
<<<<<<< HEAD
   "execution_count": 3,
=======
   "execution_count": 34,
   "metadata": {},
   "outputs": [
    {
     "data": {
      "text/plain": [
       "(392, 9)"
      ]
     },
     "execution_count": 34,
     "metadata": {},
     "output_type": "execute_result"
    }
   ],
   "source": [
    "auto.shape"
   ]
  },
  {
   "cell_type": "code",
   "execution_count": 35,
>>>>>>> eb3b224c4fc36c736d55b66221e464caf3e2173d
   "metadata": {},
   "outputs": [],
   "source": [
    "# %load -r 1-5 supplement.py\n",
    "sampled_data = auto.sample(n = 20, random_state=110719)\n",
    "x_bar = sampled_data.mpg.mean()\n",
    "mu = auto.mpg.mean()\n",
    "\n",
    "s_hat = sampled_data.mpg.std()\n",
    "sigma = auto.mpg.std(ddof = 0 )"
   ]
  },
  {
   "cell_type": "code",
<<<<<<< HEAD
   "execution_count": 4,
=======
   "execution_count": 36,
>>>>>>> eb3b224c4fc36c736d55b66221e464caf3e2173d
   "metadata": {},
   "outputs": [
    {
     "name": "stdout",
     "output_type": "stream",
     "text": [
      "Sampling mean is 22.869999999999997 \n",
      "        \n",
      "Population mean is 23.44591836734694\n",
      "\n",
      "Sampling std is 10.543149434585475 \n",
      "        \n",
      "Population std is 7.795045762682584\n"
     ]
    }
   ],
   "source": [
    "print(\"\"\"Sampling mean is {} \n",
    "        \\nPopulation mean is {}\\n\"\"\".format(x_bar, mu))\n",
    "\n",
    "print(\"\"\"Sampling std is {} \n",
    "        \\nPopulation std is {}\"\"\".format(s_hat, sigma))"
   ]
  },
  {
   "cell_type": "markdown",
   "metadata": {},
   "source": [
    "The difference between the sample mean and the population mean is known as the **Sampling Error**.  \n",
    "\n",
    ">When using the sample mean to estimate the population mean, some possible error will be involved since random sample means are also random.\n",
    "\n",
    "### It's your turn again :)\n",
    "\n",
    "Repeat the sampling process you did above 1000 times and plot the result."
   ]
  },
  {
   "cell_type": "code",
<<<<<<< HEAD
   "execution_count": 5,
=======
   "execution_count": 37,
>>>>>>> eb3b224c4fc36c736d55b66221e464caf3e2173d
   "metadata": {},
   "outputs": [],
   "source": [
    "import matplotlib.pyplot as plt\n",
    "plt.style.use('fivethirtyeight')\n",
    "\n",
    "%matplotlib inline"
   ]
  },
  {
   "cell_type": "code",
<<<<<<< HEAD
   "execution_count": 7,
=======
   "execution_count": 38,
>>>>>>> eb3b224c4fc36c736d55b66221e464caf3e2173d
   "metadata": {},
   "outputs": [
    {
     "data": {
<<<<<<< HEAD
      "image/png": "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\n",
=======
      "image/png": "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\n",
>>>>>>> eb3b224c4fc36c736d55b66221e464caf3e2173d
      "text/plain": [
       "<Figure size 432x288 with 1 Axes>"
      ]
     },
     "metadata": {
      "needs_background": "light"
     },
     "output_type": "display_data"
    }
   ],
   "source": [
    "# %load -r 9-22 supplement.py\n",
    "# taking repeating samples from auto dataset\n",
<<<<<<< HEAD
=======
    "thousand_rand_samp = [auto.sample(n = 20).mpg.mean() for i in range(1000)]\n",
    "\n",
    "bars = plt.hist(thousand_rand_samp)\n",
    "\n",
    "plt.vlines(x = mu, ymin= 0,\n",
    "           ymax = bars[0].max() +1,\n",
    "           color = 'r', label = 'pop mean')\n",
    "plt.xticks(range(17,29))\n",
    "plt.xlabel('sample_means')\n",
    "plt.ylabel('frequencies of sample means')\n",
    "\n",
    "plt.legend()\n",
    "plt.show()"
   ]
  },
  {
   "cell_type": "code",
   "execution_count": 39,
   "metadata": {},
   "outputs": [
    {
     "data": {
      "image/png": "iVBORw0KGgoAAAANSUhEUgAAAbQAAAEHCAYAAADGarOdAAAABHNCSVQICAgIfAhkiAAAAAlwSFlzAAALEgAACxIB0t1+/AAAADh0RVh0U29mdHdhcmUAbWF0cGxvdGxpYiB2ZXJzaW9uMy4xLjAsIGh0dHA6Ly9tYXRwbG90bGliLm9yZy+17YcXAAAgAElEQVR4nO3de5xVdb3/8dd7lEsIgmYKCkrmoGKal/RQ6snCTC1FO2palinHzMvP9GcpUsdM5aRFWr+f97zhBZGOmlbeL6mEd3+kItYQooAEajKIym34/P5Ya2Azzgxr79lr7z0z7+fjsR+z9rrs9d6b7f641vqu71cRgZmZWWdXV+0AZmZm5eCCZmZmXYILmpmZdQkuaGZm1iW4oJmZWZfggmZmZl3C+pXYiaQhwI3AQGAVcHVE/EbSucDxwFvpqmMj4p50m7OB0UATcGpE3F/4mo2Njb7fwMysi+vfv7+yrluRggasBM6IiBck9QOel/RguuySiBhfuLKk4cCRwA7A5sBDkoZFRFOF8pqZWSdTkVOOETE/Il5Ip98DZgBbtLPJKGBSRCyLiNeAmcAe+Sc1M7POqlJHaKtJGgrsAjwN7AmcIuk7wHMkR3HvkhS7pwo2m0s7BbChoSGvuGZmVmH19fUlbVfRgiapL3A7cFpELJZ0BXA+EOnfXwHHAa2dM23zmlmpb75cGhoaqp7BOWo3B9ROFudwjs6Qo1QVa+UoqQdJMbslIu4AiIgFEdEUEauA37LmtOJcYEjB5oOBNyuV1czMOp9KtXIUcC0wIyIuLpg/KCLmp08PBV5Op+8GJkq6mKRRSD3wTCWympm1JSJYsmQJq1atKuvr9u7dm8bGxrK+ZmfJUVdXR9++fUnKRMdU6pTjnsC3gZckTUvnjQWOkrQzyenE2cAJABExXdJk4BWSFpInu4WjmVXbkiVL6NWrFz179izr6/bq1YvevXuX9TU7S47ly5ezZMkS+vXr1+HXqkhBi4gptH5d7J52thkHjMstlJlZkVatWlX2Ytbd9ezZkw8//LAsr+WeQszMrEtwQTMzsy6h4vehmVnn0n/AgLWeNy5aVKUkZu1zQTPr5gZcP6/d5S1vAF3X+gCLjm2vI6Cuo2WxL/l10r/+n4WOcUEzM+skXn/9dQ477DB22203XnzxRbbZZhuuvPJK+vTpw2OPPcZPfvITmpqa2GWXXbj44ovp1asXO+64I1//+td54oknALjmmmvYeuut13rdn//857z++uvMnz+fWbNmMW7cOJ577jkeeughBg0axKRJk+jRowfTpk1j7NixvP/++3z84x/n8ssvZ+DAgUyYMIEbbriB5cuXs/XWW3PVVVfRp08fTjzxRPr168e0adNYsGAB5513HqNGjcrt8/E1NDOzTqShoYHvfve7TJ06lX79+nHttdeydOlSTjrpJK6//nqmTp3KypUrufbaa1dv069fPx555BGOP/54zj777FZfd/bs2dx8881MnDiRE044gb333pupU6fSu3dv7r//flasWMGZZ57JjTfeyGOPPcbRRx/N+eefD8BBBx3Eo48+yl/+8he23XZbbrrpptWvu2DBAu677z5uu+02zj333Fw/Gxc0M7NOZPDgwYwYMQKAI444gieffJKGhga23HJLttlmGwC++c1vMnXq1NXbHHbYYav/PvNM631U7LvvvvTo0YMddtiBpqYm9t13XwCGDx/OG2+8QUNDAzNmzOCQQw5hr732Yvz48bz5ZtKB0yuvvMIBBxzA5z//eSZPnsyrr766+nW/+tWvUldXx3bbbcdbb73V6r7LxacczcxKVK5rXkuXLi35hmZJRGQfHrKtHjl69eoFJD139OjRY/V6dXV1NDU1ERFst912PPjggx/Z9qSTTuKWW25hxx135JZbbmHKlCkfeV2gqJyl8BGamVknMnfu3NVHWbfffjsjRoxg2LBhzJkzh1mzZgEwadIk9txzz9Xb3HnnnQDccccd7L777iXtt76+nrfffnv1vlesWMGMGTOApAeVgQMHsmLFCn73u9+V/N46ykdoZmadyLbbbsutt97Kaaedxqc+9SlGjx5N7969ueyyyzjmmGNWNwo57rjjVm+zbNkyRo4cyapVq9a6tlaMnj17MmHCBM466ywWL15MU1MTJ554Ittvvz0//vGPGTlyJEOGDGH48OEsWbKkXG+3KC5oZmadSF1dHZdccslH5n/hC19Y3ZKxpeOPP54xY8a0+ZrNDUWWLl0KwLx58z6yDGCnnXbi3nvv/cj2o0ePZvTo0R+Zf8UVV6z1vPB18+BTjmZm1iX4CM3MrJPYaqutePLJJ4va5qWXXsopTe3JVNAkDQfeiYgF6ajTPwKagPER8UGeAc3MzLLIespxItDcx8t44N+BzwFX5RHKzKwW1dXVsXz58mrH6FKWL19OXV15rn5lPeU4NCL+lo48fSiwA/Ah8FpZUpiZdQJ9+/ZlyZIlZRu/q9nixYvZcMMNy/qanSVH84jV5ZC1oC2T1A8YDsyJiLclrQ9Uf4hVM7MKkVSWkZVbWrhwIUOGDCn763bWHKXKWtAmAo8A/YBL03m74iM0MzOrEZkKWkScLmk/YEVEPJrOXgWcnlsyMzOzImRuth8RD7R4/lz545iZmZUma7P9TwLjgJ2Bta7eRcSWOeQyMzMrSjHX0P4BnAH4vjMzM6s5WQvaDsCeEbEqzzBmZmalyno32+PALnkGMTMz64isR2izgfsl3QH8s3BBRJxT7lBmZmbFylrQNgD+APQAOu9dd2ad2IDryzH0Rh+Yku8QHmbVkvU+tGPzDmJmZtYRRQ0fk3Z/tQmg5nkRMavcoczMzIpVzPAxtwCfAYKkoEW6eL18opmZmWWXtZXj5cCjwMbAYmAjkqFjjskpl5mZWVGynnL8DPDliFghSRHRKOlHwMvAzfnFMzMzyybrEdpSkhaOAG9L2jLd9uO5pDIzMytS1iO0J4AjgBuA/wHuBZaRDCljZraWdd9iUNrtA4uO3aK0QNYtZG22f0TB07Ekpxr7ATfmEcrMzKxYWU85AiCpDtgsIm6OiCsi4v2M2w2R9KikGZKmS/pBOn9jSQ9Kakj/bpTOl6T/I2mmpBcl7Vr0OzMzs24lU0GTtJGkiSTX0mam8w6WdEHG/awEzoiI7YERwMnprQBjgIcjoh54OH0OcABQnz6+B1yRcT9mZtZNZT1CuwJoBLYClqfzngS+kWXjiJgfES+k0+8BM4AtgFHAhHS1CcAh6fQo4MZIPAUMkDQoY1YzM+uGFBHrXkl6C9g8bbb/r4jYOJ3fGBH9i9qhNJSk9/5PA29ExICCZe9GxEaS/ghcGBFT0vkPA2cVjpLd2Ni4OnhDQ0MxEcw6pd2n9KnKfuP0HdZ6rkumVyUHwLN7eTjG7qC+vn71dP/+/dXOqmvJ2sqxkaTLq/nNM9Km+/Pb3KIVkvoCtwOnRcRiqc2crS1os/IWvvlqaGhoqHoG56jdHFCmLO5UuOz/nrXyHXGO8sh6yvEa4HZJXwTqJH2O5BThlVl3JKkHSTG7JSLuSGcvaD6VmP5dmM6fy9q9+g8G3sy6LzMz636yFrSLgMnAZSQ3WF8H3AX8JsvGSg7FrgVmRMTFBYvuZk33Wcekr9k8/ztpa8cRQGNEFHU0aGZm3UvW+9AC+HX6KMWewLeBlyRNS+eNBS4EJksaDbwBHJ4uuwc4kKRF5QeAh68xM7N2ZR4+Jm3MsRPQt3B+RExc17Zp4462LpiNbGX9AE7Oms3MzCzr8DFnA+cA04EPCxYFsM6CZmZmlresR2hnALtFxCt5hjEzMytV1kYh7wCzc8xhZmbWIVmP0E4Drpb0a9Y0rQcgIt4oeyozM7MiZS1oPYH9gG+2mB/AemVNZGZmVoKspxwvJ2lmvyHJfWjNj5455TIzMytK1iO09YHrI6IpzzBmZmalynqENh4Yo3Y6XzQzM6umrEdopwIDgbGS3ilcEBFblj2VmZlZkbIWtKNzTWFmZtZBWftyfCzvIGZmZh2R9RqamZlZTXNBMzOzLsEFzczMuoSiCpqkuuYRps3MzGpJpoImaYCkicBSkkE3kXSwpAvyDGdmZpZV1iO0K4FGYCtgeTrvSeAbeYQyMzMrVtb70EYCm0fECkkBEBFvSdo0v2hmZmbZZT1CawQ2KZwhaUtgftkTmZmZlSBrQbsGuF3SF4E6SZ8DJpCcijQzM6u6rKccLyJpEHIZybAx1wFXAb/JKZeZmVlRsnZ9FcCv04eZmVnNabOgSfpSlheIiEfKF8fMzKw07R2hXZth+wC2LlMWMzOzkrVZ0CLik5UMYmZm1hFZG4UgaT1gBLA5MA94OiKa8gpmZmZWjEwFTdJOwO+B3sBcYDCwVNLXI2JajvnMzMwyyXof2nUkTfa3iIg9gC2AS8l2nc3MzCx3WQvaMODXafP95mb8vwHq8wpmZmZWjKwF7R7g4BbzDgL+VN44ZmZmpcnaKGQ9YJKk54E5wBBgN+AuSTc2rxQR3yl/RDMzs3XLWtBeTh/NXgHuL38cMzOz0mTt+upneQcxMzPriGLuQxsK7AT0LZwfERPLG8nMzKx4We9DOxs4B5gOfFiwKIB1FjRJ1wFfAxZGxKfTeecCxwNvpauNjYh7CvY3GmgCTo0In940M7N2ZT1COwPYLSJeKXE/N5Dct3Zji/mXRMT4whmShgNHAjuQ9ErykKRh7pXEzMzak7XZ/jvA7FJ3EhGPA//KuPooYFJELIuI14CZwB6l7tvMzLqHrEdopwFXS/o1sLBwQUS80YH9nyLpO8BzwBkR8S5JLyRPFawzN53XpoaGhg5EKI9ayADO0VKt5IByZOlTlhydWR7/nrXyHXGONerrS+uzI2tB6wnsB3yzxfwguUetFFcA56evcT7wK+A4QK2sG+29UKlvvlwaGhqqnsE5ajcHlCnLlHnlCdOJlfvfs1a+I85RHllPOV4OjAU2BHoUPHqWuuOIWBARTRGxCvgta04rziW5cbvZYODNUvdjZmbdQ9aCtj5wfUQsSYvQ6kepO5Y0qODpoay5cftu4EhJvSR9kqS/yGdK3Y+ZmXUPWU85jgfGSPrv5g6KiyHpVmAfYBNJc4GfAvtI2pnkdOJs4ASAiJguaTJJbyQrgZPdwtHMzNYla0E7FRgIjJX0TuGCiNhyXRtHxFGtzG5z6JmIGAeMy5jNzMwsc0E7OtcUZmZmHZS1L8fH8g5iZmbWEcX05bgzsDewCQVN6yPinBxymZmZFSVTK0dJ3wP+AnwJOAvYkaQ7rG3yi2ZmZpZd1mb7ZwL7R8ShwIfp38OAFbklMzMzK0LWgrZpRDyRTq+SVBcR9wIH5ZTLzMysKFmvoc2VNDQiZgN/B0ZJehtYnlsyMzOzImQtaL8Atie5Afo84H9Iur06NZ9YZmZmxcnabP+Ggul7JW0E9IyIJXkFMzMzK0bWVo6fkNQ3nV4P+BZwqKSs1+DMzMxylbUg/ZGkk2BIuqT6IUmz/V/lEcrMzKxYWa+hDQOmpdNHA58HlgDTgdNzyGVmZlaUrAWtCegpaRjQGBFvpKcb++YXzczMLLusBe1eYDLwcWBSOm844CF0zcysJmQtaP8JHEPSM8iN6bxNgHNzyGRmZla0rM32lwFXt5j35zwCmZmZlcLN7s3MrEtwQTMzsy6hzYKW9gZiZmbWKbR3De11YEMASQ9FxL6ViWTW+Q24vmUD4D4wxY2CzfLU3inHDyR9Ou3qag8l6lo+KhXUzMysPe0dof0MeAbolT5f2WK5gADWyyGXmZlZUdosaBFxhaTfAgOBV4EdWFPEzMzMakq796FFxEqSwT13iYjXK5TJzMysaFmvgc2W9DNJr0laKmlW+rxnrunMzMwyKmbE6j2AE0haP24F/BdJK0j3tm9mZlWXtaAdDnwmIt5Jn/9N0gvAX3FBMzOzGpD1lKOKnG9mZlZRWQva74A/SPqKpO0l7Q/8nmRIGTMzs6rLesrxTOAnwGXA5iTjoE0CLsgpl5mZWVGyDh+zHDgnfZiZmdUcd11lZmZdgguamZl1CS5oZmbWJWRtFNIhkq4DvgYsjIhPp/M2Bm4DhgKzgSMi4l1JAn4DHAh8AHw3Il6oRE4zq20fHZano/qwqL7ML2lVk+kITdJRkrZPp7eV9LikRyRtl3E/NwD7t5g3Bng4IuqBh9PnAAcA9enje8AVGfdhZmbdWNZTjhcA/0qnx5MMK/M4cHmWjSPi8YLtm40CJqTTE4BDCubfGImngAGSBmXMaWZm3VTWU46fiIgFknoDewGHASuAtzuw780iYj5ARMyXtGk6fwtgTsF6c9N589t6oYaGhg7EKI9ayADO0VL1cvSp0n6tWP6urq0WctTXl3YeOGtBe0vSNsCOwLMRsUxSH/Lp+qq112x3DLZS33y5NDQ0VD2Dc9RYjinlvtZjeen239UazFGqrAXtfOB5oAn4RjpvJEnnxKVaIGlQenQ2CFiYzp8LDClYbzDwZgf2Y2Zm3UCma2gRcQMwCBgcEQ+ms58GjuzAvu8GjkmnjwHuKpj/HSVGAI3NpybNzMzaUkyz/Y8BB6ZHVb9It83aSvJWYB9gE0lzgZ8CFwKTJY0G3iAZogbgHpIm+zNJmu0fW0RGMzPrpjIVNElfAG4HngP2JBnwsx74IXDQuraPiKPaWDSylXUDODlLLjMzs2ZZm+3/GvhGROwPrEznPU0yirWZmVnVZS1oQyPi4XS6ucXhcirU04iZmdm6ZC1or0j6Sot5+wIvlTmPmZlZSbIeYZ0B/FHSn4CPSbqK5NrZqNySmZmZFSFrs/2ngM8A04HrgNeAPSLi2RyzmZmZZZb5GlhEzCNp3WhmZlZz2ixokq6OiO+l0zfRRvdTEfGdnLKZmZll1t4R2msF0zPzDmJmZtYRbRa0iPh5wfTPKhPHzMysNFm7rhojafcW8/aQdGY+sczMzIqT9T60HwCvtJj3CnBaeeOYmZmVJmtB60kyoGeh5UDv8sYxMzMrTdaC9jxwUot53wdeKG8cMzOz0mS9D+104EFJ3wb+AWwDbAZ8Oa9gZmZmxchU0CJiuqRhJN1dDQbuAP4YEUvyDGdmZpZVMT2FLAFuzTGLmZlZybIO8PlJYBywM9C3cFlEbJlDLjMzs6JkPUKbSHLt7Azgg/zimJmZlSZrQdsB2DMiVuUZxszMrFRZm+0/DuySZxAzM7OOyHqENhu4X9IdwD8LF0TEOeUOZWZmVqysBW0D4A9AD2BIfnHMzMxKk/U+tGPzDmJmZtYRme9Dk7Q9cBiwWUScImlboFdEvJhbOjMzs4yyDh9zOEnDkC2A5hGq+wEX55TLzMysKFlbOZ4HfDkivg80pfP+Cnwml1RmZmZFylrQNiUpYABR8DdaX93MzKyyihk+5tst5h0JPFPeOGZmZqXJ2ijkVOABSaOBDSTdDwwD9sstmZmZWRGyNtt/VdJ2wNeAPwJz8PAxZmZWQ4oZPuYDYHKOWczMzEqWdfiYJ2ijAUhE/HtZE5mZmZUg6xHaNS2eDwRGAzeXN46ZmVlpsl5Dm9BynqTbgetJ7lEzMzOrqszX0FoxD9ipowEkzQbeI7lhe2VEfFbSxsBtwFCSnv6PiIh3O7ovMzPrurJeQzuuxaw+wNeBp8qU44sR8XbB8zHAwxFxoaQx6fOzyrQvMzPrgrIeobW8qfp9YCpwSXnjrDYK2CedngD8GRc0MzNrhyKq23uVpNeAd0laUV4VEVdLWhQRAwrWeTciNircrrGxcXXwhoaGiuU1y2L3KX2qHaFs4vQd1nquS6ZXKUk+nt3rg2pHsBbq6+tXT/fv319Zt8t6ynHrLOtFxKysOy6wZ0S8KWlT4EFJrxb7AoVvvhoaGhqqnsE5aizHlHnV2a8Vrdt/V2swR6mynnKcyZr70MTa96Q1V88A1is2QES8mf5dKOlOYA9ggaRBETFf0iBgYbGva2Zm3UvWzolHA5OA7YDe6d+JwOiIqEsfRRczSRtI6tc8TdI35MvA3cAx6WrHAHcV+9pmZta9ZD1COx+oj4gP0+cNkk4A/g7c0IH9bwbcKak5y8SIuE/Ss8DktDPkN4DDO7APMzPrBrIWtDqSe8JmFMzbihJOMRZKr7l9ZJDQiHgHGNmR1zYzy2LA9eW/3rno2C3K/pq2blkL2iXAI5KuJ+lpfwjwXfJrtm9mZlaUrF1f/VLSSySn/nYB5gPHRcR9eYYzMzPLqpjhY+4DXMDMzKwmZWrlKKmXpHGSZklqTOftJ+mUfOOZmZllk7XZ/iXAp4FvseYetOnAiXmEMjMzK1bWU46HAttExPuSVgFExDxJbspjnV4erdzMrPKyHqEtp0Xxk/QJ4J2yJzIzMytB1oL2O2CCpE8CpN1RXUrSe4iZmVnVZS1oY0kG2nwJGAA0AG8CP8snlpmZWXHWeQ1NUh2wF3BWRJyWnmp8O6o97oyZmVmBdR6hRcQq4K6IWJY+f8vFzMzMak3WU46PSxqRaxIzM7MOyNps/3XgXkl3kfTluPoILSLOySOYmZlZMbIWtI8Bv0+nBxfM96lHMzOrCW0WNEmnRMSl6dNxETGzQpnMzMyK1t41tHEF0y/kHcTMzKwj2jvl+A9JvyLps7GHpONaWykirsslmZmZWRHaK2hHAmcCRwE9gG+3sk4ALmhmZlZ1bRa0iPg78J8Akh6OiJEVS2VmZlakTPehuZiZmVmty3pjtZmZWU1zQTMzsy7BBc3MzLoEFzQzM+sSXNDMzKxLyNqXo1nVDbh+XpFb9IEpxW5j1nF5fVcXHbtFaYG6CR+hmZlZl+CCZmZmXYILmpmZdQkuaGZm1iW4oJmZWZfggmZmZl2CC5qZmXUJvg/NclH8fThmZh1T00dokvaX9DdJMyWNqXYeMzOrXTVb0CStB1wGHAAMB46SNLy6qczMrFYpIqqdoVWSPgecGxFfSZ+fDRARPwdobGyszeBmZlY2/fv3V9Z1a/YIDdgCmFPwfG46z8zM7CNquaC1VpV9VGZmZq2q5VaOc4EhBc8HA282PynmMNTMzLq+Wj5Cexaol/RJST2BI4G7q5zJzMxqVM0eoUXESkmnAPcD6wHXRcT0KscyM7MaVctHaETEPRExDHgM+IGkl5uXSbpN0rT0MVvStEpkknSdpIUtsuws6ak0y3OS9qhSjs9IelLSS5L+IGnDCuQYIulRSTMkTZf0g3T+xpIelNSQ/t2oSjkOT5+vkvTZPDOsI8cvJb0q6UVJd0oaUKUc56cZpkl6QNLm1chRsPyHkkLSJtXIIelcSfMKfksOzDNHe1nSZf8rvfd2uqRfVCNHpX9b28lR/O9qRNT8A/h3YFfg5TaW/wo4p1pZgAeAA9LpA4E/VynHs8AX0unjgPMrkGMQsGs63Q/4O8l9g78AxqTzxwAXVSnH9sC2wJ+Bz1bx89gPWD+df1EVP48NC9Y5FbiyGjnS50NIzsC8DmxSpc/jXOCHeX8vMmb5IvAQ0Ctdtmm1/m0K1sn9t7Wdz6Po39WaPkJrFhGPA/9qbZkkAUcAt1YxSwDNR0P9KWi8UuEc2wKPp9MPAv9RgRzzI+KFdPo9YAbJ7RWjgAnpahOAQ6qRIyJmRMTf8tx3xhwPRMTKdLWnSBo5VSPH4oLVNiDnlsPtfD8ALgHOzDtDhhwV1U6WE4ELI2JZumxhlXIAlfttbSdH0b+rnaKgrcPewIKIaKhihtOAX0qaA4wHzq5SjpeBg9Ppw1m7lWjuJA0FdgGeBjaLiPmQfGGBTauUo2rayXEccG+1ckgal35XvwWcU40ckg4G5kXEXyu1/9ZypLNOSU/DXpf3qfF1ZBkG7C3paUmPSdq9SjmaVfy3tUWOon9Xu0JBO4oKHZ2140Tg9IgYApwOXFulHMcBJ0t6nuTQfXmldiypL3A7cFqLo4CKqvUckn4MrARuqVaOiPhx+l29BTil0jlI3v+PqWAxbS1H+nlcAXwK2BmYT3KKrVpZ1gc2AkYAPwImp0dJlc7RrKK/ra3kKP53Nc9zo2U+zzqUFtfQSL4AC4DB1cwCNLKmGzEBi6v1mRQsGwY8U6EcPUiuhfzvgnl/Awal04OAv1UjR8GyP1OBa2jt5QCOAZ4E+lQzR8Hyrdr6/uSZA9gRWAjMTh8rgTeAgVX+PNr876kSWYD7gH0Knv8D+EQ1PpNK/7a28XkU/bva2Y/Q9gVejYi5Vc7xJvCFdPpLQFVOf0raNP1bB/wEuLIC+xTJ/znNiIiLCxbdTfIDTvr3rirlqKi2ckjaHzgLODgiPqhijvqC1Q4GXq10joh4KSI2jYihETGUpBOFXSPin5XMkc4fVLDaoSSn7XPVznf19yS/H0gaBvQE3q5CDqjgb2s7OYr/Xa1E9S1D9b6V5HTACpIv/+h0/g3A96udBdgLeB74K8m5392qlOMHJC2E/g5cSPp/Nznn2Ivk4u2LwLT0cSDwceDh9Ev4MLBxlXIcmn4+y0j+j/P+KuWYSdI3afO8vFsXtpXjdpIf7ReBP5A0FKl4jhbrzCb/Vo5tfR43AS+l8+8mPatQpSw9gZvTf58XgC9V69+mkr+t7XweRf+u1mxv+2ZmZsXo7KcczczMABc0MzPrIlzQzMysS3BBMzOzLsEFzczMugQXNLMqkXSDpAuqncOsq3BBMzOzLsEFzczMugQXNOu2JJ2VDu74Xjqo4khJeygZJHWRpPmSLpXUs2CbkHSSkoFL31MyYOan0m0WS5rcvL6kfSTNlTRW0tvpYInfaifP19LBDBdJmipppwzvYbakH6W9xb8v6VpJm0m6N833UGEP8pJGpK+9SNJfJe1TsOzYdJDF9yTNknRCwbLm93KGkoFl50s6tmD5gZJeSbedJ+mHRf1jmJVDJbo28cOPWnuQjB03B9g8fT6UpNf13Uh6O18/nTeDpPfv5u2CpIukDYEdSLrUehjYmmTMpleAY9J19yHpePdioBdJv3TvA9umy28ALkindyXpsPffgPVI+r+cTTrYYzvvYzbJ+GqbkYwhtZCk26Rd0n0+Avw0XXcL4B2SboXqgC+nzz+RLv9q+hkozfoBawZebH4v55F0JHtgunyjdPl8YO90eqPm7fzwo5IPH6FZd9VE8oM/XFKPiJgdEf+IiOcj4qmIWBkRs4GrWNNBauiYq0gAAAKPSURBVLOLImJxREwn6XfvgYiYFRGNJOOc7dJi/f+KiGUR8RjwJ5JBE1s6HrgqIp6OiKaImEBSLEdkeC//NyIWRMQ84Ang6Yj4f5EMFHlnQZ6jgXsi4p6IWBURDwLPkRQnIuJP6WcQadYHSMbEarYCOC8iVkTEPcASkv8xaF42XNKGEfFupAM2mlWSC5p1SxExk2RsrnOBhZImSdpc0jBJf5T0T0mLgf8GNmmx+YKC6Q9bed634Pm7EfF+wfPXgc1bibQVcEZ6KnCRpEUkA7S2tm5LWfNsBRzeYh97kQzvg6QDJD0l6V/psgNZ+72/E2tG3YbkCK35tf8jXf/1dHDKz2XIbVZWLmjWbUXExIjYi+SHPoCLSAZ8fBWoj4gNgbEkp+BKtZGkDQqeb0nrQ8nPAcZFxICCR5+IKOcAi3OAm1rsY4OIuFBSL5Ke+MeTjDY+ALiHjO89Ip6NiFEkI5P/HphcxtxmmbigWbckaVtJX0p/yJeSHMk0kYz0vRhYImk7klFzO+pnknpK2hv4GvC7Vtb5LfB9Sf+mxAaSviqpXxn23+xm4CBJX5G0nqTeaWOPwSRDl/QC3gJWSjoA2C/Li6bv7VuS+kfECpLPr6mMuc0ycUGz7qoXyZhxbwP/JDmyGAv8EPgm8B5Jkbmtg/v5J/AuyVHZLSRjTH1kUM2IeI7kOtql6fozge92cN8t9zEHGEXyPt8iOWL7EVAXEe8Bp5IcWb1L8hncXcTLfxuYnZ6m/T7J9TqzivJ4aGY5SZvE3xwRg6udxaw78BGamZl1CetXO4CZtU3SliT3trVmeES8Uck8ZrXMpxzNzKxL8ClHMzPrElzQzMysS3BBMzOzLsEFzczMugQXNDMz6xL+P5B4sF39ZATqAAAAAElFTkSuQmCC\n",
      "text/plain": [
       "<Figure size 432x288 with 1 Axes>"
      ]
     },
     "metadata": {
      "needs_background": "light"
     },
     "output_type": "display_data"
    }
   ],
   "source": [
>>>>>>> eb3b224c4fc36c736d55b66221e464caf3e2173d
    "thousand_rand_samp = [auto.sample(n = 50).mpg.mean() for i in range(1000)]\n",
    "\n",
    "bars = plt.hist(thousand_rand_samp)\n",
    "\n",
    "plt.vlines(x = mu, ymin= 0,\n",
    "           ymax = bars[0].max() +1,\n",
    "           color = 'r', label = 'pop mean')\n",
    "plt.xticks(range(17,29))\n",
    "plt.xlabel('sample_means')\n",
    "plt.ylabel('frequencies of sample means')\n",
    "\n",
    "plt.legend()\n",
    "plt.show()"
   ]
  },
  {
   "cell_type": "markdown",
   "metadata": {},
   "source": [
    "# Central Limit Theorem\n",
    "\n",
    "The Central Limit Theorem states: \n",
    ">When you add **a large number** of independent random variables, irrespective of the original distribution of these variables, **their sampling mean distribution tends towards a normal distribution** with mean equals to the mean of the original population and the standard deviation equals to $\\frac{\\sigma}{\\sqrt{n}}$.\n",
    "\n",
    "\n",
    "\n",
    "\n",
    "\n",
    "The standard error of the mean is the standard deviation of the sampling distribution.\n",
    "The issue is that a sample is not an exact replica of the population. We need to account for the fact that in order to make our estimate of the $\\mu$ value possible. Let's break it down:\n",
    "\n",
    "## Standard Error\n",
    "\n",
    "$$\\sigma _{\\bar{X}} = \\frac{\\sigma }{\\sqrt{n}}$$\n",
    "\n",
    "* $ \\sigma _{x}$ = standard error of $\\bar{x} $\n",
    "* $ \\sigma $ = standard deviation of population\n",
    "\n",
    "\n",
    "**What if we do not know the population sigma?**<br>\n",
    "If we do not know the population standard deviation, we can approximate for it by used the sample standard deviation.\n",
    "\n",
    "$\\sigma _{x} ≈ \\frac{s}{\\sqrt{n}}$\n",
    "\n",
    "* s = sample standard deviation\n",
    "\n",
    "But in this case, distribution shape is not 'normal' anymore. In this case the shape will be call 'T-distribution'. We will study this later in more details.\n",
    "\n",
    "\n",
    "**Sample size impact on standard error of mean**<br>\n",
    "\n",
    "Q: How should sample size influence standard error of the mean?\n",
    "\n",
    "\n",
    "![error](./img/diminishing_error.png)\n",
    "Important implication: The Standard Error of the mean remains the same as long as the population standard deviation is known and sample size remains the same.\n",
    "\n",
    "\n",
    "__Note-1__ In the case of finite sampling, we need to adjust the formula for standard error:\n",
    "\n",
    "<img src=\"img/standard_deviation_of_x_bar.png\" width=\"650\">\n",
    "\n",
    "\n",
    "__Note-2__ Note that in CLT the shape of initial distribution is not important! With enough sample size we can always achieve a distribution very close to normal one.\n",
    "\n",
    "<img src=\"img/clt_with_different.png\" width=\"650\">\n",
    "\n",
    "\n",
    "## Interval Estimation - Confidence Intervals\n",
    "\n",
    "Q: Let's assume that we have a sample of size=49 and we know the standard deviation of the population is $\\sigma = 5$. If we know that sampling mean is $\\bar{x} = 20$. What might be a good estimate for the population mean if we also know that the population mean is bigger than 20?\n",
    "\n",
    "Hint: What do we mean by 'a good estimate'?"
   ]
  },
  {
   "cell_type": "code",
<<<<<<< HEAD
   "execution_count": 8,
=======
   "execution_count": 48,
>>>>>>> eb3b224c4fc36c736d55b66221e464caf3e2173d
   "metadata": {},
   "outputs": [
    {
     "name": "stdout",
     "output_type": "stream",
     "text": [
<<<<<<< HEAD
      "0.06270677794321385\n"
=======
      "1.959963984540054\n"
>>>>>>> eb3b224c4fc36c736d55b66221e464caf3e2173d
     ]
    },
    {
     "data": {
<<<<<<< HEAD
      "image/png": "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\n",
=======
      "image/png": "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\n",
>>>>>>> eb3b224c4fc36c736d55b66221e464caf3e2173d
      "text/plain": [
       "<Figure size 432x288 with 1 Axes>"
      ]
     },
     "metadata": {
      "needs_background": "light"
     },
     "output_type": "display_data"
    }
   ],
   "source": [
    "import matplotlib.pyplot as plt\n",
    "import numpy as np\n",
    "import scipy.stats as stats\n",
    "import math\n",
    "%matplotlib inline\n",
    "\n",
    "\n",
    "#suppose population mu is 21\n",
    "mu = 21\n",
    "# sample mean gives us a point estimator\n",
    "point_estimator = 20\n",
    "\n",
    "# we know population variance is 49\n",
    "std_error = 5/(np.sqrt(49))\n",
    "\n",
    "\n",
    "# how much confidence do we require\n",
<<<<<<< HEAD
    "confidence = 0.05\n",
=======
    "confidence = 0.95\n",
>>>>>>> eb3b224c4fc36c736d55b66221e464caf3e2173d
    "\n",
    "# alpha \n",
    "alpha = 1- confidence\n",
    "\n",
    "# due to symmetry we divided alpha by 2\n",
    "# note that to find z_alpha_over_2 we used \n",
    "# standard normal distribution\n",
    "\n",
    "z_alpha_over_2 = np.abs(stats.norm.ppf(alpha/2))\n",
    "\n",
    "print(z_alpha_over_2)\n",
    "\n",
    "\n",
    "# upper bound gives us a value so that\n",
    "# 2*(the area between point_estimator - upper_bound) = confidence\n",
    "\n",
    "upper_bound = point_estimator + z_alpha_over_2* std_error\n",
    "\n",
    "# now let's plot these\n",
    "\n",
    "# a normal distribution with mean=mu and std=sigma\n",
    "x = np.linspace(mu - 4*std_error, mu + 4*std_error, 100)\n",
    "plt.plot(x, stats.norm.pdf(x, mu, std_error))\n",
    "\n",
    "# a vertical line to mark point estimator\n",
    "plt.vlines(point_estimator, ymin=0,\n",
    "           ymax = stats.norm.pdf(point_estimator, mu, std_error))\n",
    "\n",
    "# a vertical line for population mu\n",
    "plt.vlines(mu, ymin=0,\n",
    "           ymax = stats.norm.pdf(mu, mu, std_error),\n",
    "          color = 'g')\n",
    "\n",
    "# a vertical line for upper bound\n",
    "plt.vlines(upper_bound, ymin=0,\n",
    "           ymax = stats.norm.pdf(upper_bound, \n",
    "                                 mu, std_error))\n",
    "\n",
    "\n",
    "# fill the area between upper_bound and point_estimator\n",
    "plt.fill_between(x= np.linspace(point_estimator, upper_bound, 100), \n",
    "                 y1= stats.norm.pdf(np.linspace(point_estimator,\n",
    "                                                upper_bound, 100), mu, std_error) ,\n",
    "                 facecolor='blue',\n",
    "                 alpha=0.35, \n",
    "                 label= 'btwn point estimator and\\n upper bound')\n",
    "\n",
    "# fill the area between point estimator and the left of it\n",
    "plt.fill_between(x= np.linspace(mu - 4*std_error, point_estimator, 100), \n",
    "                 y1= stats.norm.pdf(np.linspace(mu - 4*std_error, point_estimator,100), mu, std_error) ,\n",
    "                 facecolor='red',\n",
    "                 alpha=0.35, \n",
    "                 label= 'red area %.3f'%(stats.norm.cdf(point_estimator, mu, std_error)))\n",
    "\n",
    "plt.legend(loc = 'upper right')\n",
    "plt.show()"
   ]
  },
  {
   "cell_type": "markdown",
   "metadata": {},
   "source": [
    "\n",
    "[Z-scores](https://www.mathsisfun.com/data/standard-normal-distribution-table.html)\n",
    "\n",
    "<img src=\"img/interval_estimation.png\" width=\"650\">"
   ]
  },
  {
   "cell_type": "markdown",
   "metadata": {},
   "source": [
    "# Hypothesis Testing \n",
    "\n",
    "## The Analytical Question \n",
    "\n",
    "A data scientist wants to examine if there is an effect on IQ scores when using tutors. To analyze this, she conducts IQ tests on a sample of 40 students, and wants to compare her students' IQ to the general population IQ. The way an IQ score is structured, we know that a standardized IQ test has a mean of 100, and a standard deviation of 16. When she tests her group of students, however, she gets an average IQ of 103. Based on this finding, does tutoring make a difference?\n",
    "\n",
    "## Step 1: State Your Hypotheses\n",
    "\n",
    "### The Alternative Hypothesis ($H_a$)\n",
    "\n",
    "The alternative hypothesis always reflects the idea or theory that needs to be tested. For this problem, you want to test if the tutoring has resulted in a significant increase in student IQ. So, you would write it down as:\n",
    "\n",
    "> The sample mean is **significantly** bigger than the population mean\n",
    "\n",
    "Again, significance is key here. If we denote sample mean as $\\bar{x}$, and population mean as mu ($\\mu$), you can write the alternative hypothesis as:\n",
    "\n",
    "$$\\large H_a\\text{:   }\\mu < \\bar{x}$$\n",
    "\n",
    "The alternative hypothesis here is that $\\mu$ is less than $M$. In other situations, you could check for both possibilities of $\\mu$ being smaller OR bigger than by checking  $\\mu \\neq M$. \n",
    "\n",
    "Maybe the tutoring results as a lower IQ... Who knows!\n",
    "\n",
    "For now, you'll just check for the **significant increase**, for now, to keep the process simple.\n",
    "\n",
    "### The Null Hypothesis ($H_0$)\n",
    "\n",
    "For a one-sample z-test, you define your null hypothesis as there being **no significant difference** between specified sample and population. This means that under the null hypothesis, you assume that any observed (generally small) difference may be present due to sampling or experimental error. Considering this, for this problem, you can define a null hypothesis ($H_0$) as:\n",
    "\n",
    "> There is **no significant difference** between the sample mean and population mean \n",
    "\n",
    "Remember the emphasis is on a _significant_ difference, rather than just any difference as a natural result of taking samples.\n",
    "\n",
    "Denoting the sample mean as $M$, and the population mean as mu ($\\mu$), you can write the null hypothesis as:\n",
    "\n",
    "$$\\large H_0\\text{:   }\\mu \\geq \\bar{x}$$\n",
    "\n",
    "\n",
    "## Step 2: Specify a Significance Level (alpha)\n",
    "\n",
    "Now that your hypotheses are in place, you have to decide on your significance level alpha ($\\alpha$) as a cut-off value to define whether you can reject your null hypothesis or not.\n",
    "\n",
    "As discussed previously, often, $\\alpha$ is set to 0.05, which also has as a side-effect that there is a 5 percent chance that you will reject the null hypothesis when it is true.\n",
    "Later, you'll see that using alpha, you'll formulate your test result as: \"with a confidence level of 95%, we can state that...\". For a z-distribution, this can be shown as below:\n",
    "\n",
    "<img src=\"img/hypothesis_test.png\" width=670>\n",
    "\n",
    "\n",
    "If you test both sides of the distribution ($\\mu \\neq \\bar{x}$, when $\\mu$ can either be smaller OR bigger), you need to perform a 2-tail test to see if tutoring lowers OR highers the IQ of students.\n",
    "\n",
    "Each red region would be calculated as $\\dfrac{\\alpha}{2}$. When testing of a single side (as in the example) i.e. just higher OR just lower, you can use a one-tail test as shown in the first and second images. The $\\alpha$ value we use is 0.05 or $5\\%$.\n",
    "\n",
    "## Step 3: Calculate the test statistic\n",
    "\n",
    "For z-tests, a z-statistic is used as our test statistic. You'll see other statistics suitable for other tests later. A one-sample z-statistic is calculated as:\n",
    "\n",
    "$$ \\large \\text{z-statistic} = \\dfrac{\\bar x - \\mu_0}{{\\sigma}/{\\sqrt{n}}} $$\n",
    "\n",
    "This formula slightly differs from the standard score formula. It includes the square square root of n to reflect that we are dealing with the sample variance here. \n",
    "\n",
    "Now, all you need to do is use this formula given your sample mean $\\bar x$, the population standard deviation $\\sigma$, and the number of items in the sample ($n$). $\\mu_0$ is the mean you're testing the hypothesis for, or the \"hypothesized mean\". \n",
    "\n",
    "Let's use Python to calculate this. "
   ]
  },
  {
   "cell_type": "code",
   "execution_count": null,
   "metadata": {},
   "outputs": [],
   "source": []
  }
 ],
 "metadata": {
  "kernelspec": {
   "display_name": "Python 3",
   "language": "python",
   "name": "python3"
  },
  "language_info": {
   "codemirror_mode": {
    "name": "ipython",
    "version": 3
   },
   "file_extension": ".py",
   "mimetype": "text/x-python",
   "name": "python",
   "nbconvert_exporter": "python",
   "pygments_lexer": "ipython3",
   "version": "3.7.3"
  },
  "toc": {
   "base_numbering": 1,
   "nav_menu": {},
   "number_sections": true,
   "sideBar": true,
   "skip_h1_title": false,
   "title_cell": "Table of Contents",
   "title_sidebar": "Contents",
   "toc_cell": false,
   "toc_position": {},
   "toc_section_display": true,
   "toc_window_display": false
  }
 },
 "nbformat": 4,
 "nbformat_minor": 2
}
