{
 "cells": [
  {
   "cell_type": "markdown",
   "metadata": {},
   "source": [
    "# Agenda\n",
    "\n",
    "- Random Variables Definition\n",
    "    \n",
    "- Discrete Random Variables\n",
    "\n",
    "- Probability Mass Functions and Cumulative Mass Functions for Discrete Random Variables\n",
    "\n",
    "- Continuous Random Variables\n",
    "\n",
    "- Probability Density Functions and Cumulative Density Functions for Continuous Random Variables.\n",
    "\n",
    "\n",
    "## Random Variables\n",
    "\n",
    "Informally: \"A variable whouse values depend on outcomes of a random phenomenon\"\n",
    "\n",
    "More informally: :) \"A map from a random process's outcomes to numbers\"\"\n",
    "\n",
    "What about formally? Let's see!\n",
    "\n",
    "[Note you really don't want to do this but it's your choice: Read definition part from Wikipedia](https://en.wikipedia.org/wiki/Random_variable)\n",
    "\n",
    "### Examples\n",
    "\n",
    "Let's start with a traditional one:\n",
    "\n",
    "__Example:__\n",
    "Experiment: rolling two dice: \n",
    "\n",
    "X -- (This is usually how we denote a random variable.) {Sum of numbers on the dice}\n",
    "\n",
    "Q: what are the possible values of X:\n",
    "\n",
    "__Example:__ \n",
    "\n",
    "Experiment: Tossing a coin \n",
    "\n",
    "X = 15 if it is Head and X =-10 if it is Tail.\n",
    "\n",
    "\n",
    "__Example:__ \n",
    "\n",
    "Experiment: Choosing a random person from Lafayatte Square\n",
    "\n",
    "Y: This person's exact height in meters. \n",
    "\n",
    "Q: What are the possible values that Y can take?\n",
    "\n",
    "__Example:__ \n",
    "\n",
    "Experiment: Pick a random point from the unit square.\n",
    "\n",
    "Z: The x-coordinate of the point\n",
    "\n",
    "Q: What is the possible values that Z-can take?\n",
    "\n",
    "\n"
   ]
  },
  {
   "cell_type": "code",
   "execution_count": null,
   "metadata": {},
   "outputs": [],
   "source": [
    "import itertools\n",
    "import numpy as np\n",
    "\n",
    "## let's create a deck of cards\n",
    "suits = ['diamonds', 'clubs', 'hearts', 'spades']\n",
    "\n",
    "runs = ['A', '2', '3', '4', '5', '6', '7', '8', '9', '10', 'J', 'Q', 'K']\n",
    "\n",
    "cards = list(itertools.product(suits, runs))\n",
    "\n",
    "## Find all possible 2 cards \n",
    "## Combinations\n",
    "\n",
    "\n",
    "sample_space = list(itertools.combinations(cards,2))"
   ]
  },
  {
   "cell_type": "markdown",
   "metadata": {},
   "source": [
    "Let's us define a function $X: S \\to \\mathbb{N}$ on this sample space such that when X(card1, card2) = card1 + card2. \n",
    "\n",
    "(J = 10, Q = 10, K=10, A = 1)\n",
    "\n",
    "Let's write this function in code:"
   ]
  },
  {
   "cell_type": "code",
   "execution_count": 51,
   "metadata": {},
   "outputs": [],
   "source": [
    "## Write a function that gives\n",
    "## us this random variable\n",
    "\n",
    "#%load -r 1-18 supplement.py"
   ]
  },
  {
   "cell_type": "markdown",
   "metadata": {},
   "source": [
    "### Discrete and Continuous Random Variables\n",
    "\n",
    "- Note that in the examples above we can count possible values for some random variables. These random variables are called __discrete random variables__.\n",
    "\n",
    "- In other cases, it is not possible to be able to count exact possible values of a random variables. These are called __continuous random variables__. We can also say that continuous random variables can take any value in a range.\n",
    "\n",
    "\n",
    "Q: Let's go back and decide which random variables are continuous and which ones are discrete.\n",
    "\n",
    "## Distributions\n",
    "\n",
    "Why do we study random variables?\n",
    "\n",
    "- Random variables most of the time more relevant to the problem we would like to solve. \n",
    "\n",
    "Q: What is the probability distribution of a random variable?\n",
    "\n",
    "A: It is a function from a random variables possible values to numbers again. \n",
    "\n",
    "- Exact definition of a distribution changes slightly depending on whether we are working with a discrete random variable or a continuous one. \n",
    "\n",
    "### Probability Mass Function\n",
    "\n",
    "[For formal discussion](https://www.itl.nist.gov/div898/handbook/eda/section3/eda361.htm)\n",
    "\n",
    "The probability mass function is the function which describes the probability associated with the random variable x. This function is named p(x) or P(X=x) to avoid confusion. P(X=x) corresponds to the probability that the random variable x take the value X \n",
    "\n",
    "### Simulation"
   ]
  },
  {
   "cell_type": "code",
   "execution_count": 54,
   "metadata": {},
   "outputs": [],
   "source": [
    "## Let's find the probability mass function \n",
    "## for the previous random variable.\n",
    "\n",
    "## first create a list that contains the value\n",
    "## of random variable for each value in the\n",
    "##  sample space\n",
    "#%load -r 21 supplement.py"
   ]
  },
  {
   "cell_type": "code",
   "execution_count": 55,
   "metadata": {},
   "outputs": [
    {
     "data": {
      "image/png": "[encoded data removed]",
      "text/plain": [
       "<Figure size 432x288 with 1 Axes>"
      ]
     },
     "metadata": {
      "needs_background": "light"
     },
     "output_type": "display_data"
    }
   ],
   "source": [
    "## plotting the frequencies\n",
    "\n",
    "import matplotlib.pyplot as plt\n",
    "%matplotlib inline\n",
    "n, bins, patches = plt.hist(x=all_values, bins=range(2,28), color='#0504aa',\n",
    "                            alpha=0.5, rwidth= 0.8,align = 'left' )\n",
    "plt.grid(axis='y', alpha=0.2)\n",
    "plt.xlabel('Value')\n",
    "plt.ylabel('Frequency')\n",
    "plt.xticks(range(2,28,2))\n",
    "plt.title('Frequencies of the values of random variables')\n",
    "maxfreq = n.max()\n",
    "# Set a clean upper y-axis limit.\n",
    "plt.ylim(ymax=np.ceil(maxfreq / 10) * 10 if maxfreq % 10 else maxfreq + 10)\n",
    "\n",
    "plt.show()"
   ]
  },
  {
   "cell_type": "code",
   "execution_count": 60,
   "metadata": {},
   "outputs": [],
   "source": [
    "## Try to convert frequencies to probabilities\n",
    "## Hint: Use counter\n",
    "\n",
    "#%load -r 24-25 supplement.py\n"
   ]
  },
  {
   "cell_type": "code",
   "execution_count": 61,
   "metadata": {},
   "outputs": [],
   "source": [
    "#%load -r 27-32 supplement.py"
   ]
  },
  {
   "cell_type": "code",
   "execution_count": 62,
   "metadata": {
    "scrolled": true
   },
   "outputs": [
    {
     "data": {
      "image/png": "[encoded data removed]",
      "text/plain": [
       "<Figure size 432x288 with 1 Axes>"
      ]
     },
     "metadata": {
      "needs_background": "light"
     },
     "output_type": "display_data"
    }
   ],
   "source": [
    "## we can plot the probability mass function\n",
    "plt.bar(counter.keys(),pmf)\n",
    "\n",
    "plt.xticks(range(1,21,2))\n",
    "\n",
    "plt.show()"
   ]
  },
  {
   "cell_type": "markdown",
   "metadata": {},
   "source": [
    "### Cumulative Mass Function\n",
    "\n",
    "\n",
    "The CDF is a function of $x$ just like a PMF or a PDF, where $x$ is any value that can possibly appear in a given distribution. To calculate the $CDF(x)$ for any value of $x$, we compute the proportion of values in the distribution less than or equal to $x$ as follows:\n",
    "\n",
    "$$\\large F(x) = P(X \\leq x)$$\n",
    "\n",
    "> The Cumulative Distribution Function, CDF, gives the probability that the variable $X$ is less than or equal to a certain possible value $x$. \n",
    "\n"
   ]
  },
  {
   "cell_type": "code",
   "execution_count": 64,
   "metadata": {},
   "outputs": [],
   "source": [
    "## plot cumulative mass function\n",
    "## hint: use np.cumsum\n",
    "\n",
    "#%load -r 35-38 supplement.py"
   ]
  },
  {
   "cell_type": "markdown",
   "metadata": {},
   "source": [
    "### Further Discussions\n",
    "\n",
    "\n",
    "- Please read the corresponding material form learn.co. Especially the definitions of expected values and variance.\n",
    "\n",
    "- Note that one of the most important discrete distribution is Bernoulli and Binomial distributions. We will discuss these in more details but make sure that you read the corresponding material in learn.co."
   ]
  },
  {
   "cell_type": "markdown",
   "metadata": {},
   "source": [
    "## Probability Density Functions\n",
    "\n",
    "- First observation: For a cont. random variable the probability of getting an exact value is always zero. (Bummer!!)\n",
    "\n",
    "- In that sense, instead of exact probabilities we will talk about density of the random variables. \n",
    "\n",
    "\n",
    "- A Probability Density Function (PDF) helps identify the regions in the distribution where observations are more likely to occur, in other words, where the observation occurrence is more dense.\n",
    "\n",
    "\n",
    "<img src=\"img/probability_for_continuous_rv.png\" width=\"650\">\n",
    "\n",
    "- In this case, probability is found by the following formula: \n",
    "\n",
    "$$\\large P(82 \\leq X \\leq 85) = \\int_{82}^{85} f_x(x) dx \\geq 0 $$\n",
    "\n",
    "- Let's consider the example where the random variable is the exact measure of height of a randomly chosen person from Lafayatte Park.\n",
    "\n",
    "[Let's use a function to simulate this situation](https://learn.co/tracks/data-science-career-v2/module-3-probability-sampling-and-ab-testing/section-18-statistical-distributions/the-probability-density-function)\n",
    "\n",
    "\n",
    "## Some Important Discrete and Continuous Distributions.\n",
    "\n",
    "### Normal Distribution\n",
    "\n"
   ]
  }
 ],
 "metadata": {
  "kernelspec": {
   "display_name": "Python 3",
   "language": "python",
   "name": "python3"
  },
  "language_info": {
   "codemirror_mode": {
    "name": "ipython",
    "version": 3
   },
   "file_extension": ".py",
   "mimetype": "text/x-python",
   "name": "python",
   "nbconvert_exporter": "python",
   "pygments_lexer": "ipython3",
   "version": "3.7.3"
  },
  "toc": {
   "base_numbering": 1,
   "nav_menu": {},
   "number_sections": true,
   "sideBar": true,
   "skip_h1_title": false,
   "title_cell": "Table of Contents",
   "title_sidebar": "Contents",
   "toc_cell": false,
   "toc_position": {
    "height": "calc(100% - 180px)",
    "left": "10px",
    "top": "150px",
    "width": "165px"
   },
   "toc_section_display": true,
   "toc_window_display": false
  }
 },
 "nbformat": 4,
 "nbformat_minor": 2
}
