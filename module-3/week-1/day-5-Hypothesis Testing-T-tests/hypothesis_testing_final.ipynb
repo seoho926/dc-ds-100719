{
 "cells": [
  {
   "cell_type": "markdown",
   "metadata": {},
   "source": [
    "For this notebook I am following the material from -- Understanding Statistics in the Behavioral Sciences -- Robert R. Pagano 9E.\n",
    "\n",
    "\n",
    "__Agenda__\n",
    "\n",
    "- Hypothesis Testing - Why do we need them?\n",
    "\n",
    "- One or two tailed hypothesis testing? Which one we should use, when?\n",
    "\n",
    "- Discussion of significance level. It's effect on our study.\n",
    "\n",
    "- Diagnosis and understanding of possible mistakes of the study.\n",
    "\n",
    "- Seeing hypothesis testing in action\n",
    "\n",
    "- Discussion of T-distribution. Why do we start talking about T-dist?\n",
    "\n",
    "- One sample and two sample T-tests.\n",
    "\n",
    "# Hypothesis Testing\n",
    "\n",
    "<img src=\"img/sweet.jpg\" width=\"350\">\n",
    "\n",
    "## Scenario\n",
    "\n",
    "__Herbal Tea and the Treatment of Flu__\n",
    "\n",
    "It is claimed that the use of Herbal Tea:\n",
    "\n",
    "- decreases the nausea \n",
    "- increases the appetite\n",
    "- serves more comfortable sleeping\n",
    "\n",
    "As a first step we would like to understand the effects of Herbal Tea on the appetite of patients.\n",
    "\n",
    "Now we choose a random sample of 30 people having cold.\n",
    "\n",
    "Here is the experiment we will conduct:\n",
    "\n",
    "1. The first 2 days no treatment\n",
    "\n",
    "2.  \n",
    "\n",
    "    - : On the third day half of the patients received Herbal Tea before each meal. This group received water as normal on the fourth day.\n",
    "    \n",
    "    - : The other half first received just water before each meal on the third day and Herbal Tea on the fourth.\n",
    "    \n",
    "    \n",
    "__Q:__ What are the independent variables in this experiment.\n",
    "\n",
    "__"
   ]
  },
  {
   "cell_type": "code",
<<<<<<< HEAD
   "execution_count": 1,
   "metadata": {},
   "outputs": [
    {
     "data": {
      "text/html": [
       "<div>\n",
       "<style scoped>\n",
       "    .dataframe tbody tr th:only-of-type {\n",
       "        vertical-align: middle;\n",
       "    }\n",
       "\n",
       "    .dataframe tbody tr th {\n",
       "        vertical-align: top;\n",
       "    }\n",
       "\n",
       "    .dataframe thead th {\n",
       "        text-align: right;\n",
       "    }\n",
       "</style>\n",
       "<table border=\"1\" class=\"dataframe\">\n",
       "  <thead>\n",
       "    <tr style=\"text-align: right;\">\n",
       "      <th></th>\n",
       "      <th>herbal</th>\n",
       "      <th>water</th>\n",
       "    </tr>\n",
       "  </thead>\n",
       "  <tbody>\n",
       "    <tr>\n",
       "      <th>0</th>\n",
       "      <td>1269.662979</td>\n",
       "      <td>1170.779345</td>\n",
       "    </tr>\n",
       "    <tr>\n",
       "      <th>1</th>\n",
       "      <td>1356.814350</td>\n",
       "      <td>1198.603944</td>\n",
       "    </tr>\n",
       "    <tr>\n",
       "      <th>2</th>\n",
       "      <td>1344.467187</td>\n",
       "      <td>1247.802445</td>\n",
       "    </tr>\n",
       "    <tr>\n",
       "      <th>3</th>\n",
       "      <td>1223.650222</td>\n",
       "      <td>1242.827971</td>\n",
       "    </tr>\n",
       "    <tr>\n",
       "      <th>4</th>\n",
       "      <td>1369.917381</td>\n",
       "      <td>1140.689795</td>\n",
       "    </tr>\n",
       "  </tbody>\n",
       "</table>\n",
       "</div>"
      ],
      "text/plain": [
       "        herbal        water\n",
       "0  1269.662979  1170.779345\n",
       "1  1356.814350  1198.603944\n",
       "2  1344.467187  1247.802445\n",
       "3  1223.650222  1242.827971\n",
       "4  1369.917381  1140.689795"
      ]
     },
     "execution_count": 1,
     "metadata": {},
     "output_type": "execute_result"
    }
   ],
   "source": [
    "import numpy as np\n",
    "import pandas as pd\n",
    "df = pd.read_csv('data/herbal_tea.csv', index_col = 0)\n",
    "df.head()"
=======
   "execution_count": 2,
   "metadata": {},
   "outputs": [],
   "source": [
    "import numpy as np\n",
    "import pandas as pd\n",
    "df = pd.read_csv('data/herbal_tea.csv', index_col = 0)\n"
>>>>>>> c055d20eba79aa4d239adb3201394aaaaac4188a
   ]
  },
  {
   "cell_type": "code",
<<<<<<< HEAD
   "execution_count": 6,
   "metadata": {},
   "outputs": [
    {
     "data": {
      "text/plain": [
       "28"
      ]
     },
     "execution_count": 6,
     "metadata": {},
     "output_type": "execute_result"
    }
   ],
   "source": [
    "## create a new column with differences\n",
    "df['difference'] = df.herbal-df.water\n",
    "df.head()\n",
    "## create another column that records whether the\n",
    "## diff is positive or negative\n",
    "df['diff_pos'] = (df.difference > 0).astype(int)\n",
    "df.head()\n",
    "## find for how many patient do we have increase in their appetite\n",
    "df.diff_pos.sum()"
=======
   "execution_count": null,
   "metadata": {},
   "outputs": [],
   "source": [
    "## create a new column with differences\n",
    "\n",
    "## create another column that records whether the\n",
    "## diff is positive or negative\n",
    "\n",
    "\n",
    "## find for how many patient do we have increase in their appetite"
>>>>>>> c055d20eba79aa4d239adb3201394aaaaac4188a
   ]
  },
  {
   "cell_type": "markdown",
   "metadata": {},
   "source": [
    "__Q:__ Is this enough for us to say the difference is significant enough? Could these difference might be just due to chance?\n",
    "\n",
    "__What if:__ What if we know that the probability of getting such results are 1/10 or 1/100? "
   ]
  },
  {
   "cell_type": "markdown",
   "metadata": {},
   "source": [
    "In any experiment we have two statements:\n",
    "\n",
    "## Alternative Hypothesis ($H_{a}$)\n",
    "\n",
    "- claims the difference in the results due to the independent variable (Herbal Tea in this case).\n",
    "\n",
    "- Alternative can be directional or non-directional.\n",
    "\n",
    "## Null Hypothesis ($H_{0}$)\n",
    "\n",
    "- $H_0$ should be logical complement of $H_{a}$.\n",
    "\n",
    "- That is to say: If Alternative is bidirectional than null-hypothesis claims no relation between independent and dependent variables\n",
    "\n",
    "- Alternative is directional (say claims a positive relation) then null claims there is no positive relation which means no effect or an effect in the opposite direction of the Alternative hypothesis.\n",
    "\n",
    "\n",
    "## Decision Rule - Significance Level ($\\alpha$)\n",
    "\n",
    "- if $H_{0}$ would be true what is the probability (p_value) of getting such experiment results by just chance. \n",
    "\n",
    "- If this probability is less than a critical pre-determined level $\\alpha$ (significance level - $\\alpha$ - value) then we reject the null hypothesis.\n",
    "\n",
    "- If the obtained probability $p_{value} \\leq \\alpha$: reject $H_{0}$\n",
    "\n",
    "- If the obtained probability $p_{value} \\geq \\alpha$: fail to reject $H_{0}$, retain $H_{0}$\n",
    "\n",
    "- Usually $\\alpha = 0.05$ - Let's talk what it means in action?\n",
    "\n",
    "\n",
    "## What might go wrong?\n",
    "What are the possible mistakes we can do just due to the construction of the algorithm?\n",
    "\n",
    "### Type-I Errors (False Positives)\n",
    "\n",
    "\n",
    "### Type-II Errors (False Negatives)\n",
    "\n",
    "\n",
    "<img src=\"img/confusion.png\" width=\"350\">\n",
    "\n",
    "\n",
    "## Case-1\n",
    "\n",
    "Assume you are superintendent of public schools for the city in which you live. Recently, local citizens have been concerned that the reading program in the public schools may be an inferior one. Since this is a serious issue, you decide to conduct an experiment to investigate the matter. You set $\\alpha = 0.05$ one-tail test for making your decision. You begin by comparing the reading level of current high school seniors with established norms. The norms are based on scores from a reading proficiency test administered nationally to a large number of high school seniors. Using the data blow write null and alternative hypotheses to understand whether there is any significant difference between the school district and national kids."
   ]
  },
  {
   "cell_type": "code",
<<<<<<< HEAD
   "execution_count": 21,
   "metadata": {},
   "outputs": [],
   "source": [
    "import pickle\n",
    "import math"
=======
   "execution_count": 3,
   "metadata": {},
   "outputs": [],
   "source": [
    "import pickle"
>>>>>>> c055d20eba79aa4d239adb3201394aaaaac4188a
   ]
  },
  {
   "cell_type": "code",
<<<<<<< HEAD
   "execution_count": 23,
   "metadata": {},
   "outputs": [
    {
     "data": {
      "text/plain": [
       "100"
      ]
     },
     "execution_count": 23,
     "metadata": {},
     "output_type": "execute_result"
    }
   ],
=======
   "execution_count": 4,
   "metadata": {},
   "outputs": [],
>>>>>>> c055d20eba79aa4d239adb3201394aaaaac4188a
   "source": [
    "with open(r\"data/sample_reading.pickle\", \"rb\") as input_file:\n",
    "    sample = pickle.load(input_file)\n",
    "\n",
    "with open(r\"data/population_reading.pickle\", \"rb\") as input_file:\n",
<<<<<<< HEAD
    "    pop = pickle.load(input_file)\n",
    "len(sample)"
   ]
  },
  {
   "cell_type": "code",
   "execution_count": 14,
   "metadata": {},
   "outputs": [
    {
     "name": "stdout",
     "output_type": "stream",
     "text": [
      "71.99675462251618\n"
     ]
    }
   ],
   "source": [
    "x_bar = sample.mean()\n",
    "print(x_bar)"
   ]
  },
  {
   "cell_type": "code",
   "execution_count": 15,
   "metadata": {},
   "outputs": [
    {
     "name": "stdout",
     "output_type": "stream",
     "text": [
      "74.83102029253564\n"
     ]
    }
   ],
   "source": [
    "mu = pop.mean()\n",
    "print(mu)"
   ]
  },
  {
   "cell_type": "code",
   "execution_count": 26,
   "metadata": {},
   "outputs": [],
   "source": [
    "sample_std = pop.std()/math.sqrt(len(sample))"
   ]
  },
  {
   "cell_type": "code",
   "execution_count": 27,
   "metadata": {},
   "outputs": [
    {
     "name": "stdout",
     "output_type": "stream",
     "text": [
      "4.725169067126608\n"
     ]
    }
   ],
   "source": [
    "z_score = (mu-x_bar)/sample_std\n",
    "print(z_score)"
=======
    "    pop = pickle.load(input_file)"
>>>>>>> c055d20eba79aa4d239adb3201394aaaaac4188a
   ]
  },
  {
   "cell_type": "code",
<<<<<<< HEAD
   "execution_count": 32,
   "metadata": {},
   "outputs": [
    {
     "data": {
      "text/plain": [
       "1.1496199226247578e-06"
      ]
     },
     "execution_count": 32,
     "metadata": {},
     "output_type": "execute_result"
    }
   ],
   "source": [
    "from scipy import stats\n",
    "\n",
    "stats.norm.cdf(-z_score)"
   ]
  },
  {
   "cell_type": "code",
   "execution_count": 5,
   "metadata": {},
   "outputs": [],
   "source": [
    "## Write your Alternative and null hypotheses:\n",
    "\n",
    "# alternative - The city is actually doing worse in reading program than the rest of the country.\n",
    "## null - it is not doing worse\n",
    "\n",
    "## Determine the significance level\n",
    "a = 0.05\n",
    "## Find the probability of getting such sample\n"
=======
   "execution_count": 7,
   "metadata": {},
   "outputs": [],
   "source": [
    "## Write your Alternative and null hypotheses.\n",
    "\n",
    "## Determine the significance level\n",
    "\n",
    "## Find the probability of getting such sample"
>>>>>>> c055d20eba79aa4d239adb3201394aaaaac4188a
   ]
  },
  {
   "cell_type": "markdown",
   "metadata": {},
   "source": [
    "# T-Distribution\n",
    "\n",
    "Student's t-distribution (or simply the t-distribution) is any member of a family of continuous probability distributions that arises when estimating the mean of a normally distributed population in situations where the sample size is small and the population standard deviation is unknown.\n",
    "\n",
    "\n",
    "<img src=\"img/t_dist.png\" width=\"450\">\n",
    "\n",
    "- What is the density function and parameters of the density function? Check Wikipedia.\n",
    "\n",
    "[For more details - Wiki](https://en.wikipedia.org/wiki/Student%27s_t-distribution)\n",
    "\n",
    "<img src=\"img/df.png\" width=\"550\">\n",
    "\n",
    "\n",
    "- Consider the case: We have a sample of 4 elements [2, 8, 5, A]. We don't know A but we know the $\\bar{x} = 6$. Can we find A? \n",
    "\n",
    "\n",
    "\n",
    "## One Sample t-test\n",
    "\n",
    "<img src=\"img/z_to_t.png\" width=\"450\">\n",
    "\n",
    "\n",
    "### T-test success recipe\n",
    "\n",
    "Regardless of the type of t-test you are performing, there are 5 main steps to executing them:\n",
    "\n",
    "- Set up null and alternative hypotheses\n",
    "\n",
    "- Choose a significance level\n",
    "\n",
    "- Calculate the test statistic\n",
    "\n",
    "- Determine p-value (find the rejection region)\n",
    "\n",
    "- Compare p_value with $\\alpha$ to accept or reject the Null hypothesis.\n",
    "\n",
    "\n",
    "### It's your turn\n",
    "\n",
    "Q1: Is this any different from population?\n",
    "- Population mean = 85\n",
    "- Sample = [90,100,110,80,95]\n",
    "\n",
    "[Unbiased Sample Variance](https://en.wikipedia.org/wiki/Bias_of_an_estimator)\n",
    "\n",
    "## Two sample T-test\n",
    "\n",
    "### Why do we need two-sample tests?\n",
    "\n",
    "we have seen that hypothesis testing basically involves two steps: \n",
    "\n",
    "1. Calculating the appropriate statistic (t_scores or z_scores) \n",
    "\n",
    "2. Evaluating the statistic using its sampling distribution. \n",
    "\n",
    "Now we would like to understand how we can extend these ideas when we have two condition or two samples in our experiment.\n",
    "\n",
    "__WHY!!__\n",
    "\n",
    "A major limitation of the single sample experiment is the requirement that at least one population parameter ($\\mu$) must be specified. In the great majority of cases, this information is not available. \n",
    "\n",
    "### Let's see Two sample T-test in action\n",
    "\n",
    "I'm buying jeans from store A and store B.  I know nothing about their inventory other than prices. Should I go just one store for a less expensive pair of jeans?\n",
    "I'm pretty apprehensive about this big decision so alpha = 0.05\n",
    "\n",
    "- [20,30,30,50,75,25,30,30,40,80]\n",
    "- [60,30,70,90,60,40,70,40]\n",
    "\n",
    "\n",
    "__Hint__ Use scipy.stats.ttest_ind. [Let's check the documentation](https://docs.scipy.org/doc/scipy-0.14.0/reference/generated/scipy.stats.ttest_ind.html)\n",
    "\n",
    "[T-test for independent groups](https://en.wikipedia.org/wiki/Student%27s_t-test#Independent_two-sample_t-test)\n",
    "\n",
    "[Pooled sample variance](https://en.wikipedia.org/wiki/Pooled_variance)\n",
    "\n",
    "[Welch Test](https://en.wikipedia.org/wiki/Welch%27s_t-test)\n",
    "\n",
    "[Use Welch Test always](http://daniellakens.blogspot.com/2015/01/always-use-welchs-t-test-instead-of.html)\n",
    "\n"
   ]
<<<<<<< HEAD
  },
  {
   "cell_type": "code",
   "execution_count": 37,
   "metadata": {},
   "outputs": [
    {
     "name": "stdout",
     "output_type": "stream",
     "text": [
      "2.0\n"
     ]
    }
   ],
   "source": [
    "# ONE SAMPLE T-TEST\n",
    "#It's your turn\n",
    "# Q1: Is this any different from population?\n",
    "\n",
    "Population_mean = 85\n",
    "Sample = [90,100,110,80,95]\n",
    "\n",
    "sample_mean = sum(Sample)/5\n",
    "t = (sample_mean - Population_mean)/np.std(Sample, ddof=1)*math.sqrt(5)\n",
    "print(t)"
   ]
  },
  {
   "cell_type": "code",
   "execution_count": 41,
   "metadata": {},
   "outputs": [
    {
     "name": "stdout",
     "output_type": "stream",
     "text": [
      "0.05805826175840775\n"
     ]
    }
   ],
   "source": [
    "p_value = stats.t.cdf(-t, df=4)\n",
    "print(p_value)"
   ]
  },
  {
   "cell_type": "code",
   "execution_count": null,
   "metadata": {},
   "outputs": [],
   "source": [
    "# TWO SAMPLE T-TEST\n",
    "\n"
   ]
=======
>>>>>>> c055d20eba79aa4d239adb3201394aaaaac4188a
  }
 ],
 "metadata": {
  "kernelspec": {
   "display_name": "Python 3",
   "language": "python",
   "name": "python3"
  },
  "language_info": {
   "codemirror_mode": {
    "name": "ipython",
    "version": 3
   },
   "file_extension": ".py",
   "mimetype": "text/x-python",
   "name": "python",
   "nbconvert_exporter": "python",
   "pygments_lexer": "ipython3",
   "version": "3.7.3"
  },
  "toc": {
   "base_numbering": 1,
   "nav_menu": {},
   "number_sections": true,
   "sideBar": true,
   "skip_h1_title": false,
   "title_cell": "Table of Contents",
   "title_sidebar": "Contents",
   "toc_cell": false,
   "toc_position": {},
   "toc_section_display": true,
   "toc_window_display": false
  }
 },
 "nbformat": 4,
 "nbformat_minor": 2
}
