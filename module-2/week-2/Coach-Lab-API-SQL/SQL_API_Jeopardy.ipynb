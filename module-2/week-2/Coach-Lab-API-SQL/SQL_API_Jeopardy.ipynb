{
 "cells": [
  {
   "cell_type": "markdown",
   "metadata": {},
   "source": [
    "# Welcome to SQL and API JEOPARDY\n",
    "\n",
    "<img width=500, src=\"jeopardy.gif\">"
   ]
  },
  {
   "cell_type": "markdown",
   "metadata": {},
   "source": [
    "# SQL Setup\n",
    "\n",
    "For the SQL questions you will be using the **Pets** database.  You may answer these questions using sqlite in this notebook or in a GUI of your choice.  The below cells will set up your connection to the database."
   ]
  },
  {
   "cell_type": "code",
   "execution_count": 15,
   "metadata": {
    "slideshow": {
     "slide_type": "fragment"
    }
   },
   "outputs": [],
   "source": [
    "import sqlite3\n",
    "\n",
    "#connecting to the sql server\n",
    "con = sqlite3.connect('pets.db')\n",
    "cur = con.cursor()"
   ]
  },
  {
   "cell_type": "code",
   "execution_count": 16,
   "metadata": {},
   "outputs": [
    {
     "name": "stdout",
     "output_type": "stream",
     "text": [
      "[('ProceduresHistory',), ('ProceduresDetails',), ('Pets',), ('Owners',)]\n"
     ]
    }
   ],
   "source": [
    "#examine all tables in the database\n",
    "cursor.execute(\"\"\"SELECT name FROM sqlite_master WHERE type='table';\"\"\")\n",
    "print(cursor.fetchall())"
   ]
  },
  {
   "cell_type": "code",
   "execution_count": 17,
   "metadata": {},
   "outputs": [
    {
     "data": {
      "text/plain": [
       "[(1447,)]"
      ]
     },
     "execution_count": 17,
     "metadata": {},
     "output_type": "execute_result"
    }
   ],
   "source": [
    "cur.execute(\"\"\"SELECT COUNT(*) FROM PROCEDURESHISTORY WHERE ProcedureType = 'VACCINATIONS'`;\"\"\").fetchall()"
   ]
  },
  {
   "cell_type": "code",
   "execution_count": 20,
   "metadata": {},
   "outputs": [
    {
     "data": {
      "text/plain": [
       "[(775, 'GENERAL SURGERIES')]"
      ]
     },
     "execution_count": 20,
     "metadata": {},
     "output_type": "execute_result"
    }
   ],
   "source": [
    "cur.execute(\"\"\"SELECT MAX(Price), ProcedureType FROM ProceduresDetails;\"\"\").fetchall()"
   ]
  },
  {
   "cell_type": "code",
   "execution_count": 23,
   "metadata": {},
   "outputs": [
    {
     "data": {
      "text/plain": [
       "[(20, 'Leukemia')]"
      ]
     },
     "execution_count": 23,
     "metadata": {},
     "output_type": "execute_result"
    }
   ],
   "source": [
    "cur.execute(\"\"\"SELECT MAX(Price), Description FROM ProceduresDetails WHERE ProcedureType = 'VACCINATIONS'\"\"\").fetchall()"
   ]
  },
  {
   "cell_type": "code",
   "execution_count": 28,
   "metadata": {},
   "outputs": [
    {
     "data": {
      "text/plain": [
       "[(6,)]"
      ]
     },
     "execution_count": 28,
     "metadata": {},
     "output_type": "execute_result"
    }
   ],
   "source": [
    "cur.execute(\"\"\"SELECT COUNT(*) FROM Pets JOIN ProceduresHistory USING(PetID) WHERE Kind = 'Parrot';\"\"\").fetchall()"
   ]
  },
  {
   "cell_type": "code",
   "execution_count": 33,
   "metadata": {},
   "outputs": [
    {
     "data": {
      "text/plain": [
       "[(15,)]"
      ]
     },
     "execution_count": 33,
     "metadata": {},
     "output_type": "execute_result"
    }
   ],
   "source": [
    "cur.execute(\"\"\"SELECT COUNT(*) fROM OWNERS WHERE CITY = 'Southfield';\"\"\").fetchall()"
   ]
  },
  {
   "cell_type": "code",
   "execution_count": 35,
   "metadata": {},
   "outputs": [
    {
     "data": {
      "text/plain": [
       "[('2016-01-30',)]"
      ]
     },
     "execution_count": 35,
     "metadata": {},
     "output_type": "execute_result"
    }
   ],
   "source": [
    "cur.execute(\"\"\"select Date from ProceduresHistory JOIN Pets USING(PetID) WHERE ProcedureType = 'ORTHOPEDIC' AND Name = 'Cuddles';\"\"\").fetchall()"
   ]
  },
  {
   "cell_type": "code",
   "execution_count": 38,
   "metadata": {},
   "outputs": [
    {
     "data": {
      "text/plain": [
       "[('Cookie', '2016-12-21'),\n",
       " ('Bright', '2016-12-16'),\n",
       " ('Antigone', '2016-12-13'),\n",
       " ('Scout', '2016-12-10'),\n",
       " ('Cookie', '2016-12-05'),\n",
       " ('Rumba', '2016-12-01'),\n",
       " ('Dexter', '2016-11-26'),\n",
       " ('Bruce', '2016-11-07'),\n",
       " ('Danger', '2016-11-06'),\n",
       " ('Biscuit', '2016-11-04'),\n",
       " ('Bruce', '2016-10-22'),\n",
       " ('Blackie', '2016-10-19'),\n",
       " ('Kashi', '2016-10-11'),\n",
       " ('Cuddles', '2016-10-05'),\n",
       " ('Vuitton', '2016-10-03'),\n",
       " ('Thatcher', '2016-09-29'),\n",
       " ('Cookie', '2016-09-19'),\n",
       " ('Swiffer', '2016-09-19'),\n",
       " ('Bruce', '2016-09-17'),\n",
       " ('Biscuit', '2016-09-11'),\n",
       " ('Blackie', '2016-08-21'),\n",
       " ('Biscuit', '2016-08-19'),\n",
       " ('Cookie', '2016-08-02'),\n",
       " ('Daisy', '2016-07-30'),\n",
       " ('Jake', '2016-07-30'),\n",
       " ('Simba', '2016-07-22'),\n",
       " ('Biscuit', '2016-07-10'),\n",
       " ('Lily', '2016-07-06'),\n",
       " ('Bonaparte', '2016-06-04'),\n",
       " ('Dior', '2016-05-28'),\n",
       " ('Bonaparte', '2016-05-08'),\n",
       " ('Scout', '2016-05-08'),\n",
       " ('Bonaparte', '2016-05-04'),\n",
       " ('Vuitton', '2016-03-18'),\n",
       " ('Rumba', '2016-02-05'),\n",
       " ('Bright', '2016-02-05'),\n",
       " ('Cuddles', '2016-02-04'),\n",
       " ('Bandit', '2016-02-02'),\n",
       " ('Cuddles', '2016-01-30'),\n",
       " ('Jake', '2016-01-29'),\n",
       " ('Humbert', '2016-01-22')]"
      ]
     },
     "execution_count": 38,
     "metadata": {},
     "output_type": "execute_result"
    }
   ],
   "source": [
    "cur.execute(\"\"\"SELECT Name, Date FROM Pets JOIN ProceduresHistory USING(PetID) ORDER BY Date DESC\"\"\").fetchall()"
   ]
  },
  {
   "cell_type": "code",
   "execution_count": 40,
   "metadata": {},
   "outputs": [
    {
     "data": {
      "text/plain": [
       "[('Vuitton',), ('Tiger',)]"
      ]
     },
     "execution_count": 40,
     "metadata": {},
     "output_type": "execute_result"
    }
   ],
   "source": [
    "cur.execute(\"\"\"select distinct Name from Pets ORDER BY Name DESC LIMIT 2;\"\"\").fetchall()"
   ]
  },
  {
   "cell_type": "code",
   "execution_count": 42,
   "metadata": {},
   "outputs": [
    {
     "data": {
      "text/plain": [
       "[(6.93,)]"
      ]
     },
     "execution_count": 42,
     "metadata": {},
     "output_type": "execute_result"
    }
   ],
   "source": [
    "cur.execute(\"\"\"select avg(Age) FROM Pets;\"\"\").fetchall()"
   ]
  },
  {
   "cell_type": "code",
   "execution_count": 56,
   "metadata": {},
   "outputs": [
    {
     "ename": "OperationalError",
     "evalue": "no such column: owners.Name",
     "output_type": "error",
     "traceback": [
      "\u001b[0;31m---------------------------------------------------------------------------\u001b[0m",
      "\u001b[0;31mOperationalError\u001b[0m                          Traceback (most recent call last)",
      "\u001b[0;32m<ipython-input-56-63c2f105ce5f>\u001b[0m in \u001b[0;36m<module>\u001b[0;34m\u001b[0m\n\u001b[0;32m----> 1\u001b[0;31m \u001b[0mcur\u001b[0m\u001b[0;34m.\u001b[0m\u001b[0mexecute\u001b[0m\u001b[0;34m(\u001b[0m\u001b[0;34m\"\"\"select owners.Name, count(PetID) from (SELECT count(PetID) from Pets JOIN Owners ORDER BY count(PetID) DESC);\"\"\"\u001b[0m\u001b[0;34m)\u001b[0m\u001b[0;34m.\u001b[0m\u001b[0mfetchall\u001b[0m\u001b[0;34m(\u001b[0m\u001b[0;34m)\u001b[0m\u001b[0;34m\u001b[0m\u001b[0;34m\u001b[0m\u001b[0m\n\u001b[0m",
      "\u001b[0;31mOperationalError\u001b[0m: no such column: owners.Name"
     ]
    }
   ],
   "source": [
    "cur.execute(\"\"\"select owners.Name, count(PetID) from (SELECT count(PetID) from Pets JOIN Owners ORDER BY count(PetID) DESC);\"\"\").fetchall()"
   ]
  },
  {
   "cell_type": "markdown",
   "metadata": {},
   "source": [
    "# API Setup\n",
    "\n",
    "For the API questions we will be using the **SPACEX API**.  You can find additional information about this API [here](https://github.com/r-spacex/SpaceX-API).  The below code will set you up with the response from the API."
   ]
  },
  {
   "cell_type": "code",
   "execution_count": 3,
   "metadata": {},
   "outputs": [],
   "source": [
    "import requests\n",
    "\n",
    "#saving the response from the API\n",
    "response = requests.get(\"https://api.spacexdata.com/v3/launches\")\n"
   ]
  },
  {
   "cell_type": "code",
   "execution_count": 4,
   "metadata": {},
   "outputs": [
    {
     "data": {
      "text/plain": [
       "200"
      ]
     },
     "execution_count": 4,
     "metadata": {},
     "output_type": "execute_result"
    }
   ],
   "source": [
    "response.status_code"
   ]
  },
  {
   "cell_type": "code",
   "execution_count": 44,
   "metadata": {},
   "outputs": [
    {
     "data": {
      "text/plain": [
       "'cloudflare'"
      ]
     },
     "execution_count": 44,
     "metadata": {},
     "output_type": "execute_result"
    }
   ],
   "source": [
    "response.headers['Server']"
   ]
  },
  {
   "cell_type": "code",
   "execution_count": null,
   "metadata": {},
   "outputs": [],
   "source": []
  }
 ],
 "metadata": {
  "kernelspec": {
   "display_name": "Python 3",
   "language": "python",
   "name": "python3"
  },
  "language_info": {
   "codemirror_mode": {
    "name": "ipython",
    "version": 3
   },
   "file_extension": ".py",
   "mimetype": "text/x-python",
   "name": "python",
   "nbconvert_exporter": "python",
   "pygments_lexer": "ipython3",
   "version": "3.7.3"
  }
 },
 "nbformat": 4,
 "nbformat_minor": 4
}
