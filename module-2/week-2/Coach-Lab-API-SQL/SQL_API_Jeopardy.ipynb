{
 "cells": [
  {
   "cell_type": "markdown",
   "metadata": {},
   "source": [
    "# Welcome to SQL and API JEOPARDY\n",
    "\n",
    "<img width=500, src=\"jeopardy.gif\">"
   ]
  },
  {
   "cell_type": "markdown",
   "metadata": {},
   "source": [
    "# SQL Setup\n",
    "\n",
    "For the SQL questions you will be using the **Pets** database.  You may answer these questions using sqlite in this notebook or in a GUI of your choice.  The below cells will set up your connection to the database."
   ]
  },
  {
   "cell_type": "code",
   "execution_count": null,
   "metadata": {
    "slideshow": {
     "slide_type": "fragment"
    }
   },
   "outputs": [],
   "source": [
    "import sqlite3\n",
    "\n",
    "#connecting to the sql server\n",
    "con = sqlite3.connect('pets.db')\n",
    "cursor = con.cursor()"
   ]
  },
  {
   "cell_type": "code",
   "execution_count": null,
   "metadata": {},
   "outputs": [],
   "source": [
    "#examine all tables in the database\n",
    "cursor.execute(\"\"\"SELECT name FROM sqlite_master WHERE type='table';\"\"\")\n",
    "print(cursor.fetchall())"
   ]
  },
  {
   "cell_type": "code",
   "execution_count": null,
   "metadata": {},
   "outputs": [],
   "source": []
  },
  {
   "cell_type": "markdown",
   "metadata": {},
   "source": [
    "# API Setup\n",
    "\n",
    "For the API questions we will be using the **SPACEX API**.  You can find additional information about this API [here](https://github.com/r-spacex/SpaceX-API).  The below code will set you up with the response from the API."
   ]
  },
  {
   "cell_type": "code",
   "execution_count": null,
   "metadata": {},
   "outputs": [],
   "source": [
    "import requests\n",
    "\n",
    "#saving the response from the API\n",
    "response = requests.get(\"https://api.spacexdata.com/v3/launches\")\n"
   ]
  },
  {
   "cell_type": "code",
   "execution_count": null,
   "metadata": {},
   "outputs": [],
   "source": []
  }
 ],
 "metadata": {
  "kernelspec": {
   "display_name": "Python 3",
   "language": "python",
   "name": "python3"
  },
  "language_info": {
   "codemirror_mode": {
    "name": "ipython",
    "version": 3
   },
   "file_extension": ".py",
   "mimetype": "text/x-python",
   "name": "python",
   "nbconvert_exporter": "python",
   "pygments_lexer": "ipython3",
   "version": "3.7.3"
  }
 },
 "nbformat": 4,
 "nbformat_minor": 4
}
