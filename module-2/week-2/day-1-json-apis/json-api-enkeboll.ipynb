{
 "cells": [
  {
   "cell_type": "markdown",
   "metadata": {},
   "source": [
    "# Using APIs and JSON Data"
   ]
  },
  {
   "cell_type": "markdown",
   "metadata": {},
   "source": [
    "## Objectives\n",
    "You will be able to:\n",
    "* Access and manipulate data inside a JSON file\n",
    "* Pull data from an API and parse/transform the data"
   ]
  },
  {
   "cell_type": "markdown",
   "metadata": {},
   "source": [
    "## Agenda\n",
    "\n",
    "* Review JSON Schemas\n",
    "* Introduce APIs.\n",
    "* Walk through how to make an API request. \n",
    "* Practice making API requests and Parsing the data.\n"
   ]
  },
  {
   "cell_type": "markdown",
   "metadata": {},
   "source": [
    "### What is the difference between a JSON and a python dictionary?"
   ]
  },
  {
   "cell_type": "markdown",
   "metadata": {},
   "source": [
    "## Loading the JSON file\n",
    "\n",
    "As before, we begin by importing the json package, opening a file with python's built in function, and then loading that data in."
   ]
  },
  {
   "cell_type": "code",
   "execution_count": 1,
   "metadata": {},
   "outputs": [
    {
     "name": "stdout",
     "output_type": "stream",
     "text": [
      "{\"albums\": {\"href\": \"https://api.spotify.com/v1/browse/new-releases?country=SE&offset=0&limit=20\", \"items\": [{\"album_type\": \"single\", \"artists\": [{\"external_urls\": {\"spotify\": \"https://open.spotify.com/artist/2RdwBSPQiwcmiDo9kixcl8\"}, \"href\": \"https://api.spotify.com/v1/artists/2RdwBSPQiwcmiDo9kixcl8\", \"id\": \"2RdwBSPQiwcmiDo9kixcl8\", \"name\": \"Pharrell Williams\", \"type\": \"artist\", \"uri\": \"spotify:artist:2RdwBSPQiwcmiDo9kixcl8\"}], \"available_markets\": [\"AD\", \"AR\", \"AT\", \"AU\", \"BE\", \"BG\", \"BO\", \"BR\", \"CA\", \"CH\", \"CL\", \"CO\", \"CR\", \"CY\", \"CZ\", \"DE\", \"DK\", \"DO\", \"EC\", \"EE\", \"ES\", \"FI\", \"FR\", \"GB\", \"GR\", \"GT\", \"HK\", \"HN\", \"HU\", \"ID\", \"IE\", \"IS\", \"IT\", \"JP\", \"LI\", \"LT\", \"LU\", \"LV\", \"MC\", \"MT\", \"MX\", \"MY\", \"NI\", \"NL\", \"NO\", \"NZ\", \"PA\", \"PE\", \"PH\", \"PL\", \"PT\", \"PY\", \"SE\", \"SG\", \"SK\", \"SV\", \"TR\", \"TW\", \"US\", \"UY\"], \"external_urls\": {\"spotify\": \"https://open.spotify.com/album/5ZX4m5aVSmWQ5iHAPQpT71\"}, \"href\": \"https://api.spotify.com/v1/albums/5ZX4m5aVSmWQ5iHAPQpT71\", \"id\": \"5ZX4m5aVSmWQ5iHAPQpT71\", \"images\": [{\"height\": 640, \"url\": \"https://i.scdn.co/image/e6b635ebe3ef4ba22492f5698a7b5d417f78b88a\", \"width\": 640}, {\"height\": 300, \"url\": \"https://i.scdn.co/image/92ae5b0fe64870c09004dd2e745a4fb1bf7de39d\", \"width\": 300}, {\"height\": 64, \"url\": \"https://i.scdn.co/image/8a7ab6fc2c9f678308ba0f694ecd5718dc6bc930\", \"width\": 64}], \"name\": \"Runnin'\", \"type\": \"album\", \"uri\": \"spotify:album:5ZX4m5aVSmWQ5iHAPQpT71\"}, {\"album_type\": \"single\", \"artists\": [{\"external_urls\": {\"spotify\": \"https://open.spotify.com/artist/3TVXtAsR1Inumwj472S9r4\"}, \"href\": \"https://api.spotify.com/v1/artists/3TVXtAsR1Inumwj472S9r4\", \"id\": \"3TVXtAsR1Inumwj472S9r4\", \"name\": \"Drake\", \"type\": \"artist\", \"uri\": \"spotify:artist:3TVXtAsR1Inumwj472S9r4\"}], \"available_markets\": [\"AD\", \"AR\", \"AT\", \"AU\", \"BE\", \"BG\", \"BO\", \"BR\", \"CH\", \"CL\", \"CO\", \"CR\", \"CY\", \"CZ\", \"DE\", \"DK\", \"DO\", \"EC\", \"EE\", \"ES\", \"FI\", \"FR\", \"GB\", \"GR\", \"GT\", \"HK\", \"HN\", \"HU\", \"ID\", \"IE\", \"IS\", \"IT\", \"JP\", \"LI\", \"LT\", \"LU\", \"LV\", \"MC\", \"MT\", \"MY\", \"NI\", \"NL\", \"NO\", \"NZ\", \"PA\", \"PE\", \"PH\", \"PL\", \"PT\", \"PY\", \"SE\", \"SG\", \"SK\", \"SV\", \"TR\", \"TW\", \"UY\"], \"external_urls\": {\"spotify\": \"https://open.spotify.com/album/0geTzdk2InlqIoB16fW9Nd\"}, \"href\": \"https://api.spotify.com/v1/albums/0geTzdk2InlqIoB16fW9Nd\", \"id\": \"0geTzdk2InlqIoB16fW9Nd\", \"images\": [{\"height\": 640, \"url\": \"https://i.scdn.co/image/d40e9c3d22bde2fbdb2ecc03cccd7a0e77f42e4c\", \"width\": 640}, {\"height\": 300, \"url\": \"https://i.scdn.co/image/dff06a3375f6d9b32ecb081eb9a60bbafecb5731\", \"width\": 300}, {\"height\": 64, \"url\": \"https://i.scdn.co/image/808a02bd7fc59b0652c9df9f68675edbffe07a79\", \"width\": 64}], \"name\": \"Sneakin\\u2019\", \"type\": \"album\", \"uri\": \"spotify:album:0geTzdk2InlqIoB16fW9Nd\"}], \"limit\": 20, \"next\": \"https://api.spotify.com/v1/browse/new-releases?country=SE&offset=20&limit=20\", \"offset\": 0, \"previous\": null, \"total\": 500}}"
     ]
    }
   ],
   "source": [
    "!cat data/output.json"
   ]
  },
  {
   "cell_type": "code",
   "execution_count": 2,
   "metadata": {},
   "outputs": [],
   "source": [
    "import json\n",
    "f = open('data/output.json')\n",
    "data = json.load(f)"
   ]
  },
  {
   "cell_type": "code",
   "execution_count": 19,
   "metadata": {},
   "outputs": [
    {
     "data": {
      "text/plain": [
       "[{'album_type': 'single',\n",
       "  'artists': [{'external_urls': {'spotify': 'https://open.spotify.com/artist/2RdwBSPQiwcmiDo9kixcl8'},\n",
       "    'href': 'https://api.spotify.com/v1/artists/2RdwBSPQiwcmiDo9kixcl8',\n",
       "    'id': '2RdwBSPQiwcmiDo9kixcl8',\n",
       "    'name': 'Pharrell Williams',\n",
       "    'type': 'artist',\n",
       "    'uri': 'spotify:artist:2RdwBSPQiwcmiDo9kixcl8'}],\n",
       "  'available_markets': ['AD',\n",
       "   'AR',\n",
       "   'AT',\n",
       "   'AU',\n",
       "   'BE',\n",
       "   'BG',\n",
       "   'BO',\n",
       "   'BR',\n",
       "   'CA',\n",
       "   'CH',\n",
       "   'CL',\n",
       "   'CO',\n",
       "   'CR',\n",
       "   'CY',\n",
       "   'CZ',\n",
       "   'DE',\n",
       "   'DK',\n",
       "   'DO',\n",
       "   'EC',\n",
       "   'EE',\n",
       "   'ES',\n",
       "   'FI',\n",
       "   'FR',\n",
       "   'GB',\n",
       "   'GR',\n",
       "   'GT',\n",
       "   'HK',\n",
       "   'HN',\n",
       "   'HU',\n",
       "   'ID',\n",
       "   'IE',\n",
       "   'IS',\n",
       "   'IT',\n",
       "   'JP',\n",
       "   'LI',\n",
       "   'LT',\n",
       "   'LU',\n",
       "   'LV',\n",
       "   'MC',\n",
       "   'MT',\n",
       "   'MX',\n",
       "   'MY',\n",
       "   'NI',\n",
       "   'NL',\n",
       "   'NO',\n",
       "   'NZ',\n",
       "   'PA',\n",
       "   'PE',\n",
       "   'PH',\n",
       "   'PL',\n",
       "   'PT',\n",
       "   'PY',\n",
       "   'SE',\n",
       "   'SG',\n",
       "   'SK',\n",
       "   'SV',\n",
       "   'TR',\n",
       "   'TW',\n",
       "   'US',\n",
       "   'UY'],\n",
       "  'external_urls': {'spotify': 'https://open.spotify.com/album/5ZX4m5aVSmWQ5iHAPQpT71'},\n",
       "  'href': 'https://api.spotify.com/v1/albums/5ZX4m5aVSmWQ5iHAPQpT71',\n",
       "  'id': '5ZX4m5aVSmWQ5iHAPQpT71',\n",
       "  'images': [{'height': 640,\n",
       "    'url': 'https://i.scdn.co/image/e6b635ebe3ef4ba22492f5698a7b5d417f78b88a',\n",
       "    'width': 640},\n",
       "   {'height': 300,\n",
       "    'url': 'https://i.scdn.co/image/92ae5b0fe64870c09004dd2e745a4fb1bf7de39d',\n",
       "    'width': 300},\n",
       "   {'height': 64,\n",
       "    'url': 'https://i.scdn.co/image/8a7ab6fc2c9f678308ba0f694ecd5718dc6bc930',\n",
       "    'width': 64}],\n",
       "  'name': \"Runnin'\",\n",
       "  'type': 'album',\n",
       "  'uri': 'spotify:album:5ZX4m5aVSmWQ5iHAPQpT71'},\n",
       " {'album_type': 'single',\n",
       "  'artists': [{'external_urls': {'spotify': 'https://open.spotify.com/artist/3TVXtAsR1Inumwj472S9r4'},\n",
       "    'href': 'https://api.spotify.com/v1/artists/3TVXtAsR1Inumwj472S9r4',\n",
       "    'id': '3TVXtAsR1Inumwj472S9r4',\n",
       "    'name': 'Drake',\n",
       "    'type': 'artist',\n",
       "    'uri': 'spotify:artist:3TVXtAsR1Inumwj472S9r4'}],\n",
       "  'available_markets': ['AD',\n",
       "   'AR',\n",
       "   'AT',\n",
       "   'AU',\n",
       "   'BE',\n",
       "   'BG',\n",
       "   'BO',\n",
       "   'BR',\n",
       "   'CH',\n",
       "   'CL',\n",
       "   'CO',\n",
       "   'CR',\n",
       "   'CY',\n",
       "   'CZ',\n",
       "   'DE',\n",
       "   'DK',\n",
       "   'DO',\n",
       "   'EC',\n",
       "   'EE',\n",
       "   'ES',\n",
       "   'FI',\n",
       "   'FR',\n",
       "   'GB',\n",
       "   'GR',\n",
       "   'GT',\n",
       "   'HK',\n",
       "   'HN',\n",
       "   'HU',\n",
       "   'ID',\n",
       "   'IE',\n",
       "   'IS',\n",
       "   'IT',\n",
       "   'JP',\n",
       "   'LI',\n",
       "   'LT',\n",
       "   'LU',\n",
       "   'LV',\n",
       "   'MC',\n",
       "   'MT',\n",
       "   'MY',\n",
       "   'NI',\n",
       "   'NL',\n",
       "   'NO',\n",
       "   'NZ',\n",
       "   'PA',\n",
       "   'PE',\n",
       "   'PH',\n",
       "   'PL',\n",
       "   'PT',\n",
       "   'PY',\n",
       "   'SE',\n",
       "   'SG',\n",
       "   'SK',\n",
       "   'SV',\n",
       "   'TR',\n",
       "   'TW',\n",
       "   'UY'],\n",
       "  'external_urls': {'spotify': 'https://open.spotify.com/album/0geTzdk2InlqIoB16fW9Nd'},\n",
       "  'href': 'https://api.spotify.com/v1/albums/0geTzdk2InlqIoB16fW9Nd',\n",
       "  'id': '0geTzdk2InlqIoB16fW9Nd',\n",
       "  'images': [{'height': 640,\n",
       "    'url': 'https://i.scdn.co/image/d40e9c3d22bde2fbdb2ecc03cccd7a0e77f42e4c',\n",
       "    'width': 640},\n",
       "   {'height': 300,\n",
       "    'url': 'https://i.scdn.co/image/dff06a3375f6d9b32ecb081eb9a60bbafecb5731',\n",
       "    'width': 300},\n",
       "   {'height': 64,\n",
       "    'url': 'https://i.scdn.co/image/808a02bd7fc59b0652c9df9f68675edbffe07a79',\n",
       "    'width': 64}],\n",
       "  'name': 'Sneakin’',\n",
       "  'type': 'album',\n",
       "  'uri': 'spotify:album:0geTzdk2InlqIoB16fW9Nd'}]"
      ]
     },
     "execution_count": 19,
     "metadata": {},
     "output_type": "execute_result"
    }
   ],
   "source": [
    "data['albums'].get('items', \"miss\")"
   ]
  },
  {
   "cell_type": "code",
   "execution_count": 21,
   "metadata": {},
   "outputs": [
    {
     "name": "stdout",
     "output_type": "stream",
     "text": [
      "Runnin'\n",
      "Sneakin’\n"
     ]
    }
   ],
   "source": [
    "items = data['albums']['items']\n",
    "for item in items:\n",
    "    print(item.get('name'))"
   ]
  },
  {
   "cell_type": "markdown",
   "metadata": {},
   "source": [
    "## Exploring JSON Schemas  \n",
    "\n",
    "Recall that JSON files have a nested structure. The most granular level of raw data will be individual numbers (float/int) and strings. These in turn will be stored in the equivalent of python lists and dictionaries. Because these can be combined, we'll start exploring by checking the type of our root object, and start mapping out the hierarchy of the json file."
   ]
  },
  {
   "cell_type": "code",
   "execution_count": 22,
   "metadata": {},
   "outputs": [
    {
     "data": {
      "text/plain": [
       "dict"
      ]
     },
     "execution_count": 22,
     "metadata": {},
     "output_type": "execute_result"
    }
   ],
   "source": [
    "type(data)"
   ]
  },
  {
   "cell_type": "code",
   "execution_count": 23,
   "metadata": {},
   "outputs": [
    {
     "data": {
      "text/plain": [
       "{'albums': {'href': 'https://api.spotify.com/v1/browse/new-releases?country=SE&offset=0&limit=20',\n",
       "  'items': [{'album_type': 'single',\n",
       "    'artists': [{'external_urls': {'spotify': 'https://open.spotify.com/artist/2RdwBSPQiwcmiDo9kixcl8'},\n",
       "      'href': 'https://api.spotify.com/v1/artists/2RdwBSPQiwcmiDo9kixcl8',\n",
       "      'id': '2RdwBSPQiwcmiDo9kixcl8',\n",
       "      'name': 'Pharrell Williams',\n",
       "      'type': 'artist',\n",
       "      'uri': 'spotify:artist:2RdwBSPQiwcmiDo9kixcl8'}],\n",
       "    'available_markets': ['AD',\n",
       "     'AR',\n",
       "     'AT',\n",
       "     'AU',\n",
       "     'BE',\n",
       "     'BG',\n",
       "     'BO',\n",
       "     'BR',\n",
       "     'CA',\n",
       "     'CH',\n",
       "     'CL',\n",
       "     'CO',\n",
       "     'CR',\n",
       "     'CY',\n",
       "     'CZ',\n",
       "     'DE',\n",
       "     'DK',\n",
       "     'DO',\n",
       "     'EC',\n",
       "     'EE',\n",
       "     'ES',\n",
       "     'FI',\n",
       "     'FR',\n",
       "     'GB',\n",
       "     'GR',\n",
       "     'GT',\n",
       "     'HK',\n",
       "     'HN',\n",
       "     'HU',\n",
       "     'ID',\n",
       "     'IE',\n",
       "     'IS',\n",
       "     'IT',\n",
       "     'JP',\n",
       "     'LI',\n",
       "     'LT',\n",
       "     'LU',\n",
       "     'LV',\n",
       "     'MC',\n",
       "     'MT',\n",
       "     'MX',\n",
       "     'MY',\n",
       "     'NI',\n",
       "     'NL',\n",
       "     'NO',\n",
       "     'NZ',\n",
       "     'PA',\n",
       "     'PE',\n",
       "     'PH',\n",
       "     'PL',\n",
       "     'PT',\n",
       "     'PY',\n",
       "     'SE',\n",
       "     'SG',\n",
       "     'SK',\n",
       "     'SV',\n",
       "     'TR',\n",
       "     'TW',\n",
       "     'US',\n",
       "     'UY'],\n",
       "    'external_urls': {'spotify': 'https://open.spotify.com/album/5ZX4m5aVSmWQ5iHAPQpT71'},\n",
       "    'href': 'https://api.spotify.com/v1/albums/5ZX4m5aVSmWQ5iHAPQpT71',\n",
       "    'id': '5ZX4m5aVSmWQ5iHAPQpT71',\n",
       "    'images': [{'height': 640,\n",
       "      'url': 'https://i.scdn.co/image/e6b635ebe3ef4ba22492f5698a7b5d417f78b88a',\n",
       "      'width': 640},\n",
       "     {'height': 300,\n",
       "      'url': 'https://i.scdn.co/image/92ae5b0fe64870c09004dd2e745a4fb1bf7de39d',\n",
       "      'width': 300},\n",
       "     {'height': 64,\n",
       "      'url': 'https://i.scdn.co/image/8a7ab6fc2c9f678308ba0f694ecd5718dc6bc930',\n",
       "      'width': 64}],\n",
       "    'name': \"Runnin'\",\n",
       "    'type': 'album',\n",
       "    'uri': 'spotify:album:5ZX4m5aVSmWQ5iHAPQpT71'},\n",
       "   {'album_type': 'single',\n",
       "    'artists': [{'external_urls': {'spotify': 'https://open.spotify.com/artist/3TVXtAsR1Inumwj472S9r4'},\n",
       "      'href': 'https://api.spotify.com/v1/artists/3TVXtAsR1Inumwj472S9r4',\n",
       "      'id': '3TVXtAsR1Inumwj472S9r4',\n",
       "      'name': 'Drake',\n",
       "      'type': 'artist',\n",
       "      'uri': 'spotify:artist:3TVXtAsR1Inumwj472S9r4'}],\n",
       "    'available_markets': ['AD',\n",
       "     'AR',\n",
       "     'AT',\n",
       "     'AU',\n",
       "     'BE',\n",
       "     'BG',\n",
       "     'BO',\n",
       "     'BR',\n",
       "     'CH',\n",
       "     'CL',\n",
       "     'CO',\n",
       "     'CR',\n",
       "     'CY',\n",
       "     'CZ',\n",
       "     'DE',\n",
       "     'DK',\n",
       "     'DO',\n",
       "     'EC',\n",
       "     'EE',\n",
       "     'ES',\n",
       "     'FI',\n",
       "     'FR',\n",
       "     'GB',\n",
       "     'GR',\n",
       "     'GT',\n",
       "     'HK',\n",
       "     'HN',\n",
       "     'HU',\n",
       "     'ID',\n",
       "     'IE',\n",
       "     'IS',\n",
       "     'IT',\n",
       "     'JP',\n",
       "     'LI',\n",
       "     'LT',\n",
       "     'LU',\n",
       "     'LV',\n",
       "     'MC',\n",
       "     'MT',\n",
       "     'MY',\n",
       "     'NI',\n",
       "     'NL',\n",
       "     'NO',\n",
       "     'NZ',\n",
       "     'PA',\n",
       "     'PE',\n",
       "     'PH',\n",
       "     'PL',\n",
       "     'PT',\n",
       "     'PY',\n",
       "     'SE',\n",
       "     'SG',\n",
       "     'SK',\n",
       "     'SV',\n",
       "     'TR',\n",
       "     'TW',\n",
       "     'UY'],\n",
       "    'external_urls': {'spotify': 'https://open.spotify.com/album/0geTzdk2InlqIoB16fW9Nd'},\n",
       "    'href': 'https://api.spotify.com/v1/albums/0geTzdk2InlqIoB16fW9Nd',\n",
       "    'id': '0geTzdk2InlqIoB16fW9Nd',\n",
       "    'images': [{'height': 640,\n",
       "      'url': 'https://i.scdn.co/image/d40e9c3d22bde2fbdb2ecc03cccd7a0e77f42e4c',\n",
       "      'width': 640},\n",
       "     {'height': 300,\n",
       "      'url': 'https://i.scdn.co/image/dff06a3375f6d9b32ecb081eb9a60bbafecb5731',\n",
       "      'width': 300},\n",
       "     {'height': 64,\n",
       "      'url': 'https://i.scdn.co/image/808a02bd7fc59b0652c9df9f68675edbffe07a79',\n",
       "      'width': 64}],\n",
       "    'name': 'Sneakin’',\n",
       "    'type': 'album',\n",
       "    'uri': 'spotify:album:0geTzdk2InlqIoB16fW9Nd'}],\n",
       "  'limit': 20,\n",
       "  'next': 'https://api.spotify.com/v1/browse/new-releases?country=SE&offset=20&limit=20',\n",
       "  'offset': 0,\n",
       "  'previous': None,\n",
       "  'total': 500}}"
      ]
     },
     "execution_count": 23,
     "metadata": {},
     "output_type": "execute_result"
    }
   ],
   "source": [
    "data"
   ]
  },
  {
   "cell_type": "markdown",
   "metadata": {},
   "source": [
    "As you can see, in this case, the first level of the hierarchy is a dictionary. Let's explore what keys are within this:"
   ]
  },
  {
   "cell_type": "code",
   "execution_count": 24,
   "metadata": {},
   "outputs": [
    {
     "data": {
      "text/plain": [
       "dict_keys(['albums'])"
      ]
     },
     "execution_count": 24,
     "metadata": {},
     "output_type": "execute_result"
    }
   ],
   "source": [
    "data.keys()"
   ]
  },
  {
   "cell_type": "markdown",
   "metadata": {},
   "source": [
    "In this case, there is only a single key, 'albums', so we'll continue on down the pathway exploring and mapping out the hierarchy. Once again, let's start by checking the type of this nested data structure."
   ]
  },
  {
   "cell_type": "code",
   "execution_count": 25,
   "metadata": {},
   "outputs": [
    {
     "data": {
      "text/plain": [
       "dict"
      ]
     },
     "execution_count": 25,
     "metadata": {},
     "output_type": "execute_result"
    }
   ],
   "source": [
    "type(data['albums'])"
   ]
  },
  {
   "cell_type": "markdown",
   "metadata": {},
   "source": [
    "Another dictionary! So thus far, we have a dictionary within a dictionary. Once again, let's investigate what's within this dictionary (JSON calls the equivalent of Python dictionaries Objects.)"
   ]
  },
  {
   "cell_type": "code",
   "execution_count": 26,
   "metadata": {},
   "outputs": [
    {
     "data": {
      "text/plain": [
       "dict_keys(['href', 'items', 'limit', 'next', 'offset', 'previous', 'total'])"
      ]
     },
     "execution_count": 26,
     "metadata": {},
     "output_type": "execute_result"
    }
   ],
   "source": [
    "data['albums'].keys()"
   ]
  },
  {
   "cell_type": "markdown",
   "metadata": {},
   "source": [
    "At this point, things are starting to look something like this: \n",
    "<img src=\"images\\json_diagram1.JPG\" width=550>"
   ]
  },
  {
   "cell_type": "markdown",
   "metadata": {},
   "source": [
    "At this point, if we were to continue checking individual data types, we have a lot to go through. To simplify this, let's use a for loop:"
   ]
  },
  {
   "cell_type": "code",
   "execution_count": null,
   "metadata": {},
   "outputs": [],
   "source": [
    "for key in data['albums'].keys():\n",
    "    print(key, type(data['albums'][key]))"
   ]
  },
  {
   "cell_type": "markdown",
   "metadata": {},
   "source": [
    "Adding this to our diagram we now have something like this:\n",
    "<img src=\"images\\json_diagram2.JPG\" width=550>"
   ]
  },
  {
   "cell_type": "markdown",
   "metadata": {},
   "source": [
    "Normally, you may not draw out the full diagram as done here, but its a useful picture to have in mind, and in complex schemas, can be useful to map out. At this point, you also probably have a good idea of the general structure of the json file. However, there is still the list of items, which we could investigate further:"
   ]
  },
  {
   "cell_type": "markdown",
   "metadata": {},
   "source": [
    "## What is an API?"
   ]
  },
  {
   "cell_type": "markdown",
   "metadata": {},
   "source": [
    "**Application Program Interfaces**, or APIs, are commonly used to retrieve data from remote websites. Sites like Reddit, Twitter, and Facebook all offer certain data through their APIs. \n",
    "\n",
    "To use an API, you make a request to a remote web server, and retrieve the data you need."
   ]
  },
  {
   "cell_type": "markdown",
   "metadata": {},
   "source": [
    "Python with two built-in modules, `urllib` and `urllib2` to handle these requests but these could be very confusing  and the documentation is not clear.\n",
    "\n",
    "To make these things simpler, one easy-to-use third-party library, known as` Requests`, is what most developers prefer to use it instead or urllib/urllib2. With this library, you can access content like web page headers, form data, files, and parameters via simple Python commands. It also allows you to access the response data in a simple way."
   ]
  },
  {
   "cell_type": "markdown",
   "metadata": {},
   "source": [
    "![](images\\logo.png)"
   ]
  },
  {
   "cell_type": "markdown",
   "metadata": {},
   "source": [
    "Below is how you would install and import the requests library before making any requests. \n",
    "```python\n",
    "# Uncomment and install requests if you dont have it already\n",
    "# !pip install requests\n",
    "\n",
    "# Import requests to working environment\n",
    "import requests\n",
    "```"
   ]
  },
  {
   "cell_type": "code",
   "execution_count": 27,
   "metadata": {},
   "outputs": [],
   "source": [
    "import requests\n"
   ]
  },
  {
   "cell_type": "markdown",
   "metadata": {},
   "source": [
    "\n",
    "## The `.get()` Method\n",
    "\n",
    "Now we have requests library ready in our working environment, we can start making some requests using the `.get()` method as shown below:\n",
    "\n",
    "\n",
    "We can use a simple GET request to retrieve information from the OpenNotify API.\n",
    "\n",
    "\n",
    "\n",
    "\n",
    "OpenNotify has several API endpoints. An endpoint is a server route that is used to retrieve different data from the API. For example, the /comments endpoint on the Reddit API might retrieve information about comments, whereas the /users endpoint might retrieve data about users. To access them, you would add the endpoint to the base url of the API.\n",
    "\n"
   ]
  },
  {
   "cell_type": "code",
   "execution_count": 28,
   "metadata": {},
   "outputs": [
    {
     "name": "stdout",
     "output_type": "stream",
     "text": [
      "200\n"
     ]
    }
   ],
   "source": [
    "# Make a get request to get the latest position of the international space station from the opennotify api.\n",
    "response = requests.get(\"http://api.open-notify.org/iss-now.json\")\n",
    "# Print the status code of the response.\n",
    "print(response.status_code)"
   ]
  },
  {
   "cell_type": "code",
   "execution_count": 34,
   "metadata": {},
   "outputs": [
    {
     "data": {
      "text/plain": [
       "{'iss_position': {'latitude': '50.6428', 'longitude': '-138.0896'},\n",
       " 'message': 'success',\n",
       " 'timestamp': 1572277395}"
      ]
     },
     "execution_count": 34,
     "metadata": {},
     "output_type": "execute_result"
    }
   ],
   "source": [
    "response.json()"
   ]
  },
  {
   "cell_type": "markdown",
   "metadata": {},
   "source": [
    "\n",
    "GET is by far the most used HTTP method. We can use GET request to retrieve data from any destination. \n",
    "GET is by far the most used HTTP method. We can use GET request to retrieve data from any destination. \n",
    "\n",
    "## Status Codes\n",
    "The request we make may not be always successful. The best way is to check the status code which gets returned with the response. Here is how you would do this. \n"
   ]
  },
  {
   "cell_type": "code",
   "execution_count": 35,
   "metadata": {},
   "outputs": [
    {
     "data": {
      "text/plain": [
       "True"
      ]
     },
     "execution_count": 35,
     "metadata": {},
     "output_type": "execute_result"
    }
   ],
   "source": [
    "# Code here \n",
    "response.status_code == requests.codes.ok"
   ]
  },
  {
   "cell_type": "code",
   "execution_count": 37,
   "metadata": {},
   "outputs": [
    {
     "data": {
      "text/plain": [
       "{'User-Agent': 'python-requests/2.22.0', 'Accept-Encoding': 'gzip, deflate', 'Accept': '*/*', 'Connection': 'keep-alive'}"
      ]
     },
     "execution_count": 37,
     "metadata": {},
     "output_type": "execute_result"
    }
   ],
   "source": [
    "response.request.headers"
   ]
  },
  {
   "cell_type": "code",
   "execution_count": 36,
   "metadata": {},
   "outputs": [
    {
     "data": {
      "text/plain": [
       "{'Server': 'nginx/1.10.3', 'Date': 'Mon, 28 Oct 2019 15:43:15 GMT', 'Content-Type': 'application/json', 'Content-Length': '114', 'Connection': 'keep-alive', 'access-control-allow-origin': '*'}"
      ]
     },
     "execution_count": 36,
     "metadata": {},
     "output_type": "execute_result"
    }
   ],
   "source": [
    "response.headers"
   ]
  },
  {
   "cell_type": "markdown",
   "metadata": {},
   "source": [
    "So this is a good check to see if our request was successful. Depending on the status of the web server, the access rights of the clients and availibility of requested information. A web server may return a number of status codes within the response. Wikipedia has an exhaustive details on all these codes. [Check them out here](https://en.wikipedia.org/wiki/List_of_HTTP_status_codes)"
   ]
  },
  {
   "cell_type": "markdown",
   "metadata": {},
   "source": [
    "### Common status codes\n",
    "\n",
    "* 200 — everything went okay, and the result has been returned (if any)\n",
    "* 301 — the server is redirecting you to a different endpoint. This can happen when a company switches domain names, or an endpoint name is changed.\n",
    "* 401 — the server thinks you’re not authenticated. This happens when you don’t send the right credentials to access an API (we’ll talk about authentication in a later post).\n",
    "* 400 — the server thinks you made a bad request. This can happen when you don’t send along the right data, among other things.\n",
    "* 403 — the resource you’re trying to access is forbidden — you don’t have the right permissions to see it.\n",
    "* 404 — the resource you tried to access wasn’t found on the server."
   ]
  },
  {
   "cell_type": "markdown",
   "metadata": {},
   "source": [
    "### Hitting the right endpoint\n",
    "iss-pass wasn’t a valid endpoint, so we got a 404 status code in response. We forgot to add `.json` at the end, as the API documentation states.\n",
    "\n",
    "We’ll now make a GET request to http://api.open-notify.org/iss-pass.json."
   ]
  },
  {
   "cell_type": "markdown",
   "metadata": {},
   "source": [
    "\n",
    "## Response Contents\n",
    "Once we know that our request was successful and we have a valid response, we can check the returned information using `.text` property of the response object. \n",
    "```python\n",
    "print (resp.text)\n",
    "```"
   ]
  },
  {
   "cell_type": "code",
   "execution_count": 38,
   "metadata": {},
   "outputs": [
    {
     "data": {
      "text/plain": [
       "<Response [200]>"
      ]
     },
     "execution_count": 38,
     "metadata": {},
     "output_type": "execute_result"
    }
   ],
   "source": [
    "response"
   ]
  },
  {
   "cell_type": "code",
   "execution_count": 39,
   "metadata": {},
   "outputs": [
    {
     "name": "stdout",
     "output_type": "stream",
     "text": [
      "400\n"
     ]
    }
   ],
   "source": [
    "response = requests.get(\"http://api.open-notify.org/iss-pass.json\")\n",
    "print(response.status_code)\n"
   ]
  },
  {
   "cell_type": "code",
   "execution_count": 40,
   "metadata": {},
   "outputs": [
    {
     "name": "stdout",
     "output_type": "stream",
     "text": [
      "{\n",
      "  \"message\": \"failure\", \n",
      "  \"reason\": \"Latitude must be specified\"\n",
      "}\n",
      "\n"
     ]
    }
   ],
   "source": [
    "# Code here \n",
    "print(response.text)"
   ]
  },
  {
   "cell_type": "markdown",
   "metadata": {},
   "source": [
    "### Query parameters\n",
    "\n",
    "If you look at the documentation for the OpenNotify API, we see that the ISS Pass endpoint requires two parameters.\n",
    "\n",
    "We can do this by adding an optional keyword argument, params, to our request. In this case, there are two parameters we need to pass:\n",
    "\n",
    "* lat — The latitude of the location we want.\n",
    "* lon — The longitude of the location we want.\n",
    "We can make a dictionary with these parameters, and then pass them into the requests.get function.\n",
    "\n",
    "We can also do the same thing directly by adding the query parameters to the url, like this: http://api.open-notify.org/iss-pass.json?lat=40.71&lon=-74.\n",
    "\n",
    "It’s almost always preferable to setup the parameters as a dictionary, because requests takes care of some things that come up, like properly formatting the query parameters.\n",
    "\n",
    "We’ll make a request using the coordinates of New York City, and see what response we get."
   ]
  },
  {
   "cell_type": "code",
   "execution_count": 54,
   "metadata": {},
   "outputs": [
    {
     "data": {
      "text/plain": [
       "{'message': 'failure',\n",
       " 'reason': 'Latitude must be number between -90.0 and 90.0'}"
      ]
     },
     "execution_count": 54,
     "metadata": {},
     "output_type": "execute_result"
    }
   ],
   "source": [
    "# Set up the parameters we want to pass to the API.\n",
    "# This is the latitude and longitude of New York City.\n",
    "parameters = {\"lat\": \"a and b\", \"lon\": -77.0369}\n",
    "\n",
    "\n",
    "# Make a get request with the parameters.\n",
    "response = requests.get(\"http://api.open-notify.org/iss-pass.json\", params=parameters)\n",
    "\n",
    "\n",
    "# Print the content of the response (the data the server returned)\n",
    "response.json()"
   ]
  },
  {
   "cell_type": "code",
   "execution_count": 55,
   "metadata": {},
   "outputs": [
    {
     "data": {
      "text/plain": [
       "'http://api.open-notify.org/iss-pass.json?lat=a+and+b&lon=-77.0369'"
      ]
     },
     "execution_count": 55,
     "metadata": {},
     "output_type": "execute_result"
    }
   ],
   "source": [
    "response.url"
   ]
  },
  {
   "cell_type": "code",
   "execution_count": 45,
   "metadata": {},
   "outputs": [
    {
     "data": {
      "text/plain": [
       "datetime.datetime(2019, 10, 29, 2, 57, 21)"
      ]
     },
     "execution_count": 45,
     "metadata": {},
     "output_type": "execute_result"
    }
   ],
   "source": [
    "import datetime\n",
    "datetime.datetime.fromtimestamp(1572332241)"
   ]
  },
  {
   "cell_type": "code",
   "execution_count": 50,
   "metadata": {},
   "outputs": [
    {
     "data": {
      "text/plain": [
       "datetime.datetime(2019, 10, 28, 12, 6, 58, 574249)"
      ]
     },
     "execution_count": 50,
     "metadata": {},
     "output_type": "execute_result"
    }
   ],
   "source": [
    "datetime.datetime.now()"
   ]
  },
  {
   "cell_type": "code",
   "execution_count": 52,
   "metadata": {},
   "outputs": [
    {
     "data": {
      "text/plain": [
       "datetime.date(2019, 10, 28)"
      ]
     },
     "execution_count": 52,
     "metadata": {},
     "output_type": "execute_result"
    }
   ],
   "source": [
    "datetime.date.today()"
   ]
  },
  {
   "cell_type": "code",
   "execution_count": 53,
   "metadata": {},
   "outputs": [
    {
     "data": {
      "text/plain": [
       "'2019-10-28'"
      ]
     },
     "execution_count": 53,
     "metadata": {},
     "output_type": "execute_result"
    }
   ],
   "source": [
    "_.isoformat()"
   ]
  },
  {
   "cell_type": "code",
   "execution_count": null,
   "metadata": {},
   "outputs": [],
   "source": [
    "json.load(response)"
   ]
  },
  {
   "cell_type": "markdown",
   "metadata": {},
   "source": [
    "So this returns a lot of information which by default is not really human understandable due to data encoding, HTML tags and other styling information that only a web browser can truly translate. In later lessons we shall look at how we can use ** Regular Exprerssions**  to clean this information and extract the required bits and pieces for analysis. \n",
    "\n",
    "## Response Headers\n",
    "The response of an HTTP request can contain many headers that holds different bits of information. We can use `.header` property of the response object to access the header information as shown below:\n"
   ]
  },
  {
   "cell_type": "code",
   "execution_count": null,
   "metadata": {},
   "outputs": [],
   "source": [
    "# Code here \n",
    "dict(response.headers)"
   ]
  },
  {
   "cell_type": "markdown",
   "metadata": {},
   "source": [
    "The content of the headers is our required element. You can see the key-value pairs holding various pieces of  information about the resource and request. Let's try to parse some of these values using the requests library:\n",
    "\n",
    "```python\n",
    "print(resp.headers['Content-Length'])  # length of the response\n",
    "print(resp.headers['Date'])  # Date the response was sent\n",
    "print(resp.headers['server'])   # Server type (google web service - GWS)\n",
    "```"
   ]
  },
  {
   "cell_type": "markdown",
   "metadata": {},
   "source": [
    "\n",
    "## HTTP POST method \n",
    "\n",
    "Sometimes we need to send one or more files simultaneously to the server. For example, if a user is submitting a form and the form includes different fields for uploading files, like user profile picture, user resume, etc. Requests can handle multiple files on a single request. This can be achieved by putting the files to a list of tuples in the form (`field_name, file_info)`.\n",
    "\n",
    "\n",
    "```python\n",
    "import requests\n",
    "\n",
    "url = 'http://httpbin.org/post'  \n",
    "file_list = [  \n",
    "    ('image', ('fi.png', open('fi.png', 'rb'), 'image/png')),\n",
    "    ('image', ('fi2.jpeg', open('fi2.jpeg', 'rb'), 'image/png'))\n",
    "]\n",
    "\n",
    "r = requests.post(url, files=file_list)  \n",
    "print(r.text)  \n",
    "```"
   ]
  },
  {
   "cell_type": "code",
   "execution_count": 76,
   "metadata": {},
   "outputs": [],
   "source": [
    "import requests\n",
    "\n",
    "url = 'http://httpbin.org/post'  \n",
    "file_list = [  \n",
    "    ('image', ('fi.png', open('images/json_diagram1.JPG', 'rb'), 'image/jpg')),\n",
    "    ('image', ('fi2.jpg', open('images/json_diagram2.JPG', 'rb'), 'image/jpg'))\n",
    "]\n",
    "\n",
    "r = requests.post(url, files=file_list)  "
   ]
  },
  {
   "cell_type": "code",
   "execution_count": 85,
   "metadata": {},
   "outputs": [
    {
     "data": {
      "image/jpeg": "[encoded data removed]",
      "text/plain": [
       "<IPython.core.display.Image object>"
      ]
     },
     "execution_count": 85,
     "metadata": {},
     "output_type": "execute_result"
    }
   ],
   "source": [
    "from IPython.display import Image\n",
    "from io import BytesIO\n",
    "import base64\n",
    "img = r.json()['files']['image']\n",
    "Image(base64.b64decode(img.split(',')[1]))"
   ]
  },
  {
   "cell_type": "markdown",
   "metadata": {},
   "source": [
    "![](quota.png)"
   ]
  },
  {
   "cell_type": "markdown",
   "metadata": {},
   "source": [
    "\n",
    "## Generating Access Tokens\n",
    "\n",
    "As discussed, in order to use many APIs, one needs to use OAuth which requires an access token. As such, our first step will be to generate this login information so that we can start making some requests.  \n",
    "\n",
    "With that, lets go grab an access token from an API site and make some API calls!\n",
    "Point your browser over to this [yelp page](https://www.yelp.com/developers/v3/manage_app) and start creating an app in order to obtain and api access token:"
   ]
  },
  {
   "cell_type": "markdown",
   "metadata": {},
   "source": [
    "\n",
    "![](./images/yelp_app.png)"
   ]
  },
  {
   "cell_type": "markdown",
   "metadata": {},
   "source": [
    "You can either sign in to an existing Yelp account, or create a new one, if needed.\n",
    "\n",
    "On the page you see above, simply fill out some sample information such as \"Flatiron Edu API Example\" for the app name, or whatever floats your boat. Afterwards, you should be presented with an API key that you can use to make requests!\n",
    "\n",
    "With that, it's time to start making some api calls!"
   ]
  },
  {
   "cell_type": "code",
   "execution_count": 67,
   "metadata": {},
   "outputs": [],
   "source": [
    "#As a general rule of thumb, don't store passwords in a main file like this!\n",
    "#Instead, you would normally store those passwords under a sub file like passwords.py which you would then import.\n",
    "#Or even better, as an environment variable that could then be imported!\n",
    "#For now, we'll simply hardcode them into our notebook for simplicity.\n",
    "client_id = 'bVX1Jsfp4dkIOqw5HOVplg' #Your client ID goes here (as a string)\n",
    "api_key = 'RTzp-q-TgkJW_NFQogubFvZNRDziXyoR38VbtZMWibDI-FlvB25OE7GmafFEqhTL8_Bk2HlcX24-hRWLMP7Nc6WHO_VXMXldpPBjP0LoPv5EFFELMSI2oll8njhbXHYx' #Your api key goes here (as a string)"
   ]
  },
  {
   "cell_type": "markdown",
   "metadata": {},
   "source": [
    "## An Example Request with OAuth <a id=\"oauth_request\"></a>\n",
    "https://www.yelp.com/developers/documentation/v3/get_started\n",
    "\n",
    "In the next lesson, we'll further dissect how to read and translate online documentation like the link here. For now, let's simply look at an example request and dissect it into its consituent parts:"
   ]
  },
  {
   "cell_type": "code",
   "execution_count": 68,
   "metadata": {},
   "outputs": [
    {
     "name": "stdout",
     "output_type": "stream",
     "text": [
      "<Response [200]>\n",
      "<class 'str'>\n",
      "{\"businesses\": [{\"id\": \"jeWIYbgBho9vBDhc5S1xvg\", \"alias\": \"chanos-cantina-astoria\", \"name\": \"Chano's Cantina\", \"image_url\": \"https://s3-media1.fl.yelpcdn.com/bphoto/B34FXjfQrAxMkWUpb3Pv5A/o.jpg\", \"is_closed\": false, \"url\": \"https://www.yelp.com/biz/chanos-cantina-astoria?adjust_creative=bVX1Jsfp4dkIOqw5HOVplg&utm_campaign=yelp_api_v3&utm_medium=api_v3_business_search&utm_source=bVX1Jsfp4dkIOqw5HOVplg\", \"review_count\": 162, \"categories\": [{\"alias\": \"cocktailbars\", \"title\": \"Cocktail Bars\"}, {\"alias\": \"newmexican\", \"title\": \"New Mexican Cuisine\"}, {\"alias\": \"beerbar\", \"title\": \"Beer Bar\"}], \"rating\": 4.0, \"coordinates\": {\"latitude\": 40.756621, \"longitude\": -73.929336}, \"transactions\": [\"restaurant_reservation\", \"delivery\", \"pickup\"], \"price\": \"$$\", \"location\": {\"address1\": \"35-55 31st\", \"address2\": \"\", \"address3\": \"\", \"city\": \"Astoria\", \"zip_code\": \"11106\", \"country\": \"US\", \"state\": \"NY\", \"display_address\": [\"35-55 31st\", \"Astoria, NY 11106\"]}, \"phone\": \"+19178327261\", \"display_phone\": \"\n"
     ]
    }
   ],
   "source": [
    "term = 'Mexican'\n",
    "location = 'Astoria NY'\n",
    "SEARCH_LIMIT = 10\n",
    "\n",
    "url = 'https://api.yelp.com/v3/businesses/search'\n",
    "\n",
    "headers = {\n",
    "    'Authorization': 'Bearer {}'.format(api_key),\n",
    "}\n",
    "\n",
    "url_params = {\n",
    "    'term': term.replace(' ', '+'),\n",
    "    'location': location.replace(' ', '+'),\n",
    "    'limit': SEARCH_LIMIT\n",
    "}\n",
    "response = requests.get(url, headers=headers, params=url_params)\n",
    "print(response)\n",
    "print(type(response.text))\n",
    "print(response.text[:1000])"
   ]
  },
  {
   "cell_type": "code",
   "execution_count": 69,
   "metadata": {},
   "outputs": [
    {
     "data": {
      "text/plain": [
       "'https://api.yelp.com/v3/businesses/search?term=Mexican&location=Astoria%2BNY&limit=10'"
      ]
     },
     "execution_count": 69,
     "metadata": {},
     "output_type": "execute_result"
    }
   ],
   "source": [
    "response.url"
   ]
  },
  {
   "cell_type": "markdown",
   "metadata": {},
   "source": [
    "## Breaking Down the Request\n",
    "\n",
    "As you can see, there are three main parts to our request.  \n",
    "  \n",
    "They are:\n",
    "* The url\n",
    "* The header\n",
    "* The parameters\n",
    "  \n",
    "The url is fairly straightforward and is simply the base url as described in the documentation (again more details in the upcoming lesson).\n",
    "\n",
    "The header is a dictionary of key-value pairs. In this case, we are using a fairly standard header used by many APIs. It has a strict form where 'Authorization' is the key and 'Bearer YourApiKey' is the value.\n",
    "\n",
    "The parameters are the filters which we wish to pass into the query. These will be embedded into the url when the request is made to the api. Similar to the header, they form key-value pairs. Valid key parameters by which to structure your queries, are described in the API documentation which we'll look at further shortly. A final important note however, is the need to replace spaces with \"+\". This is standard to many requests as URLs cannot contain spaces. (Note that the header itself isn't directly embedded into the url itself and as such, the space between 'Bearer' and YourApiKey is valid.)"
   ]
  },
  {
   "cell_type": "markdown",
   "metadata": {},
   "source": [
    "\n",
    "## The Response\n",
    "\n",
    "As before, our response object has both a status code, as well as the data itself. With that, let's start with a little data exploration!"
   ]
  },
  {
   "cell_type": "code",
   "execution_count": 70,
   "metadata": {},
   "outputs": [
    {
     "data": {
      "text/plain": [
       "dict_keys(['businesses', 'total', 'region'])"
      ]
     },
     "execution_count": 70,
     "metadata": {},
     "output_type": "execute_result"
    }
   ],
   "source": [
    "response.json().keys()\n"
   ]
  },
  {
   "cell_type": "markdown",
   "metadata": {},
   "source": [
    "Now let's go a bit further and start to preview what's stored in each of the values for these keys.\n"
   ]
  },
  {
   "cell_type": "code",
   "execution_count": 71,
   "metadata": {},
   "outputs": [
    {
     "name": "stdout",
     "output_type": "stream",
     "text": [
      "businesses\n",
      "<class 'list'>\n",
      "total\n",
      "<class 'int'>\n",
      "region\n",
      "<class 'dict'>\n"
     ]
    }
   ],
   "source": [
    "for key in response.json().keys():\n",
    "    print(key)\n",
    "    value = response.json()[key] \n",
    "    print(type(value), sep=\"\\n\\n\")"
   ]
  },
  {
   "cell_type": "markdown",
   "metadata": {},
   "source": [
    "Let's continue to preview these further to get a little better acquainted.\n"
   ]
  },
  {
   "cell_type": "code",
   "execution_count": 72,
   "metadata": {
    "scrolled": true
   },
   "outputs": [
    {
     "data": {
      "text/plain": [
       "[{'alias': 'chanos-cantina-astoria',\n",
       "  'categories': [{'alias': 'cocktailbars', 'title': 'Cocktail Bars'},\n",
       "   {'alias': 'newmexican', 'title': 'New Mexican Cuisine'},\n",
       "   {'alias': 'beerbar', 'title': 'Beer Bar'}],\n",
       "  'coordinates': {'latitude': 40.756621, 'longitude': -73.929336},\n",
       "  'display_phone': '(917) 832-7261',\n",
       "  'distance': 1290.4274875130448,\n",
       "  'id': 'jeWIYbgBho9vBDhc5S1xvg',\n",
       "  'image_url': 'https://s3-media1.fl.yelpcdn.com/bphoto/B34FXjfQrAxMkWUpb3Pv5A/o.jpg',\n",
       "  'is_closed': False,\n",
       "  'location': {'address1': '35-55 31st',\n",
       "   'address2': '',\n",
       "   'address3': '',\n",
       "   'city': 'Astoria',\n",
       "   'country': 'US',\n",
       "   'display_address': ['35-55 31st', 'Astoria, NY 11106'],\n",
       "   'state': 'NY',\n",
       "   'zip_code': '11106'},\n",
       "  'name': \"Chano's Cantina\",\n",
       "  'phone': '+19178327261',\n",
       "  'price': '$$',\n",
       "  'rating': 4.0,\n",
       "  'review_count': 162,\n",
       "  'transactions': ['restaurant_reservation', 'delivery', 'pickup'],\n",
       "  'url': 'https://www.yelp.com/biz/chanos-cantina-astoria?adjust_creative=bVX1Jsfp4dkIOqw5HOVplg&utm_campaign=yelp_api_v3&utm_medium=api_v3_business_search&utm_source=bVX1Jsfp4dkIOqw5HOVplg'},\n",
       " {'alias': 'de-mole-astoria-astoria',\n",
       "  'categories': [{'alias': 'mexican', 'title': 'Mexican'}],\n",
       "  'coordinates': {'latitude': 40.7625999, 'longitude': -73.9129028},\n",
       "  'display_phone': '(718) 777-1655',\n",
       "  'distance': 918.0927716406379,\n",
       "  'id': 'jzVv_21473lAMYXIhVbuTA',\n",
       "  'image_url': 'https://s3-media1.fl.yelpcdn.com/bphoto/zZTTfdIGbQkQQptgQmin1A/o.jpg',\n",
       "  'is_closed': False,\n",
       "  'location': {'address1': '4220 30th Ave',\n",
       "   'address2': '',\n",
       "   'address3': '',\n",
       "   'city': 'Astoria',\n",
       "   'country': 'US',\n",
       "   'display_address': ['4220 30th Ave', 'Astoria, NY 11103'],\n",
       "   'state': 'NY',\n",
       "   'zip_code': '11103'},\n",
       "  'name': 'De Mole Astoria',\n",
       "  'phone': '+17187771655',\n",
       "  'price': '$$',\n",
       "  'rating': 4.0,\n",
       "  'review_count': 360,\n",
       "  'transactions': ['delivery', 'pickup'],\n",
       "  'url': 'https://www.yelp.com/biz/de-mole-astoria-astoria?adjust_creative=bVX1Jsfp4dkIOqw5HOVplg&utm_campaign=yelp_api_v3&utm_medium=api_v3_business_search&utm_source=bVX1Jsfp4dkIOqw5HOVplg'}]"
      ]
     },
     "execution_count": 72,
     "metadata": {},
     "output_type": "execute_result"
    }
   ],
   "source": [
    "yelp_data =response.json()\n",
    "yelp_data['businesses'][:2]\n"
   ]
  },
  {
   "cell_type": "markdown",
   "metadata": {},
   "source": [
    "As you can see, we're primarily interested in the 'bussinesses' entry. \n"
   ]
  },
  {
   "cell_type": "code",
   "execution_count": 74,
   "metadata": {},
   "outputs": [
    {
     "data": {
      "text/html": [
       "<div>\n",
       "<style scoped>\n",
       "    .dataframe tbody tr th:only-of-type {\n",
       "        vertical-align: middle;\n",
       "    }\n",
       "\n",
       "    .dataframe tbody tr th {\n",
       "        vertical-align: top;\n",
       "    }\n",
       "\n",
       "    .dataframe thead th {\n",
       "        text-align: right;\n",
       "    }\n",
       "</style>\n",
       "<table border=\"1\" class=\"dataframe\">\n",
       "  <thead>\n",
       "    <tr style=\"text-align: right;\">\n",
       "      <th></th>\n",
       "      <th>alias</th>\n",
       "      <th>categories</th>\n",
       "      <th>coordinates</th>\n",
       "      <th>display_phone</th>\n",
       "      <th>distance</th>\n",
       "      <th>id</th>\n",
       "      <th>image_url</th>\n",
       "      <th>is_closed</th>\n",
       "      <th>location</th>\n",
       "      <th>name</th>\n",
       "      <th>phone</th>\n",
       "      <th>price</th>\n",
       "      <th>rating</th>\n",
       "      <th>review_count</th>\n",
       "      <th>transactions</th>\n",
       "      <th>url</th>\n",
       "    </tr>\n",
       "  </thead>\n",
       "  <tbody>\n",
       "    <tr>\n",
       "      <th>0</th>\n",
       "      <td>chanos-cantina-astoria</td>\n",
       "      <td>[{'alias': 'cocktailbars', 'title': 'Cocktail ...</td>\n",
       "      <td>{'latitude': 40.756621, 'longitude': -73.929336}</td>\n",
       "      <td>(917) 832-7261</td>\n",
       "      <td>1290.427488</td>\n",
       "      <td>jeWIYbgBho9vBDhc5S1xvg</td>\n",
       "      <td>https://s3-media1.fl.yelpcdn.com/bphoto/B34FXj...</td>\n",
       "      <td>False</td>\n",
       "      <td>{'address1': '35-55 31st', 'address2': '', 'ad...</td>\n",
       "      <td>Chano's Cantina</td>\n",
       "      <td>+19178327261</td>\n",
       "      <td>$$</td>\n",
       "      <td>4.0</td>\n",
       "      <td>162</td>\n",
       "      <td>[restaurant_reservation, delivery, pickup]</td>\n",
       "      <td>https://www.yelp.com/biz/chanos-cantina-astori...</td>\n",
       "    </tr>\n",
       "    <tr>\n",
       "      <th>1</th>\n",
       "      <td>de-mole-astoria-astoria</td>\n",
       "      <td>[{'alias': 'mexican', 'title': 'Mexican'}]</td>\n",
       "      <td>{'latitude': 40.7625999, 'longitude': -73.9129...</td>\n",
       "      <td>(718) 777-1655</td>\n",
       "      <td>918.092772</td>\n",
       "      <td>jzVv_21473lAMYXIhVbuTA</td>\n",
       "      <td>https://s3-media1.fl.yelpcdn.com/bphoto/zZTTfd...</td>\n",
       "      <td>False</td>\n",
       "      <td>{'address1': '4220 30th Ave', 'address2': '', ...</td>\n",
       "      <td>De Mole Astoria</td>\n",
       "      <td>+17187771655</td>\n",
       "      <td>$$</td>\n",
       "      <td>4.0</td>\n",
       "      <td>360</td>\n",
       "      <td>[delivery, pickup]</td>\n",
       "      <td>https://www.yelp.com/biz/de-mole-astoria-astor...</td>\n",
       "    </tr>\n",
       "    <tr>\n",
       "      <th>2</th>\n",
       "      <td>mi-espiguita-taqueria-astoria</td>\n",
       "      <td>[{'alias': 'mexican', 'title': 'Mexican'}]</td>\n",
       "      <td>{'latitude': 40.7612033639422, 'longitude': -7...</td>\n",
       "      <td>(718) 777-5648</td>\n",
       "      <td>714.301080</td>\n",
       "      <td>yvva7IYpD6J7OfKlCdQrkw</td>\n",
       "      <td>https://s3-media2.fl.yelpcdn.com/bphoto/TEho39...</td>\n",
       "      <td>False</td>\n",
       "      <td>{'address1': '32-44 31st St', 'address2': '', ...</td>\n",
       "      <td>Mi Espiguita Taqueria</td>\n",
       "      <td>+17187775648</td>\n",
       "      <td>$</td>\n",
       "      <td>4.5</td>\n",
       "      <td>112</td>\n",
       "      <td>[delivery, pickup]</td>\n",
       "      <td>https://www.yelp.com/biz/mi-espiguita-taqueria...</td>\n",
       "    </tr>\n",
       "    <tr>\n",
       "      <th>3</th>\n",
       "      <td>chela-and-garnacha-astoria</td>\n",
       "      <td>[{'alias': 'mexican', 'title': 'Mexican'}, {'a...</td>\n",
       "      <td>{'latitude': 40.7557171543477, 'longitude': -7...</td>\n",
       "      <td>(917) 832-6876</td>\n",
       "      <td>1318.326547</td>\n",
       "      <td>AUyKmFjpaVLwc3awfUnqgQ</td>\n",
       "      <td>https://s3-media1.fl.yelpcdn.com/bphoto/ChVbA1...</td>\n",
       "      <td>False</td>\n",
       "      <td>{'address1': '33-09 36th Ave', 'address2': '',...</td>\n",
       "      <td>Chela &amp; Garnacha</td>\n",
       "      <td>+19178326876</td>\n",
       "      <td>$$</td>\n",
       "      <td>4.5</td>\n",
       "      <td>363</td>\n",
       "      <td>[delivery, pickup]</td>\n",
       "      <td>https://www.yelp.com/biz/chela-and-garnacha-as...</td>\n",
       "    </tr>\n",
       "    <tr>\n",
       "      <th>4</th>\n",
       "      <td>el-mero-mero-long-island-city</td>\n",
       "      <td>[{'alias': 'mexican', 'title': 'Mexican'}]</td>\n",
       "      <td>{'latitude': 40.753834323302, 'longitude': -73...</td>\n",
       "      <td>(718) 392-2444</td>\n",
       "      <td>1457.114073</td>\n",
       "      <td>anBWvFPOce4nl3qLX-H6Rg</td>\n",
       "      <td>https://s3-media2.fl.yelpcdn.com/bphoto/7tp30k...</td>\n",
       "      <td>False</td>\n",
       "      <td>{'address1': '35-57 38th St', 'address2': '', ...</td>\n",
       "      <td>El Mero Mero</td>\n",
       "      <td>+17183922444</td>\n",
       "      <td>$$</td>\n",
       "      <td>4.5</td>\n",
       "      <td>82</td>\n",
       "      <td>[delivery, pickup]</td>\n",
       "      <td>https://www.yelp.com/biz/el-mero-mero-long-isl...</td>\n",
       "    </tr>\n",
       "    <tr>\n",
       "      <th>5</th>\n",
       "      <td>las-catrinas-mexican-bar-and-eatery-astoria</td>\n",
       "      <td>[{'alias': 'mexican', 'title': 'Mexican'}, {'a...</td>\n",
       "      <td>{'latitude': 40.7614214682633, 'longitude': -7...</td>\n",
       "      <td>(917) 745-0969</td>\n",
       "      <td>642.525771</td>\n",
       "      <td>6AJwsgXr7YwsqneGVAdgzw</td>\n",
       "      <td>https://s3-media3.fl.yelpcdn.com/bphoto/3uevye...</td>\n",
       "      <td>False</td>\n",
       "      <td>{'address1': '32-02 Broadway', 'address2': '',...</td>\n",
       "      <td>Las Catrinas Mexican Bar &amp; Eatery</td>\n",
       "      <td>+19177450969</td>\n",
       "      <td>$$</td>\n",
       "      <td>4.0</td>\n",
       "      <td>302</td>\n",
       "      <td>[delivery, pickup]</td>\n",
       "      <td>https://www.yelp.com/biz/las-catrinas-mexican-...</td>\n",
       "    </tr>\n",
       "    <tr>\n",
       "      <th>6</th>\n",
       "      <td>tacuba-astoria</td>\n",
       "      <td>[{'alias': 'mexican', 'title': 'Mexican'}, {'a...</td>\n",
       "      <td>{'latitude': 40.75585, 'longitude': -73.92447}</td>\n",
       "      <td>(718) 786-2727</td>\n",
       "      <td>1229.351705</td>\n",
       "      <td>EHUNrnIgnhwTnpOm3gEESg</td>\n",
       "      <td>https://s3-media4.fl.yelpcdn.com/bphoto/Q6jPz4...</td>\n",
       "      <td>False</td>\n",
       "      <td>{'address1': '35-01 36th St', 'address2': '', ...</td>\n",
       "      <td>Tacuba</td>\n",
       "      <td>+17187862727</td>\n",
       "      <td>$$</td>\n",
       "      <td>3.5</td>\n",
       "      <td>643</td>\n",
       "      <td>[delivery, pickup]</td>\n",
       "      <td>https://www.yelp.com/biz/tacuba-astoria?adjust...</td>\n",
       "    </tr>\n",
       "    <tr>\n",
       "      <th>7</th>\n",
       "      <td>maizal-restaurant-and-tequila-bar-astoria-2</td>\n",
       "      <td>[{'alias': 'mexican', 'title': 'Mexican'}, {'a...</td>\n",
       "      <td>{'latitude': 40.759331, 'longitude': -73.926035}</td>\n",
       "      <td>(718) 406-9431</td>\n",
       "      <td>900.451091</td>\n",
       "      <td>QIsFsiOP3H_NkgeWST7GPA</td>\n",
       "      <td>https://s3-media3.fl.yelpcdn.com/bphoto/B2n1tz...</td>\n",
       "      <td>False</td>\n",
       "      <td>{'address1': '3207 34th Ave', 'address2': None...</td>\n",
       "      <td>Maizal Restaurant &amp; Tequila Bar</td>\n",
       "      <td>+17184069431</td>\n",
       "      <td>$$</td>\n",
       "      <td>4.0</td>\n",
       "      <td>293</td>\n",
       "      <td>[delivery, pickup]</td>\n",
       "      <td>https://www.yelp.com/biz/maizal-restaurant-and...</td>\n",
       "    </tr>\n",
       "    <tr>\n",
       "      <th>8</th>\n",
       "      <td>frescos-cantina-long-island-city</td>\n",
       "      <td>[{'alias': 'mexican', 'title': 'Mexican'}, {'a...</td>\n",
       "      <td>{'latitude': 40.76837, 'longitude': -73.93303}</td>\n",
       "      <td>(347) 808-7338</td>\n",
       "      <td>927.218713</td>\n",
       "      <td>zNcDCPiUsE5aT6jyaCVtmA</td>\n",
       "      <td>https://s3-media2.fl.yelpcdn.com/bphoto/3IdlTT...</td>\n",
       "      <td>False</td>\n",
       "      <td>{'address1': '12-14 31st Ave', 'address2': Non...</td>\n",
       "      <td>Fresco's Cantina</td>\n",
       "      <td>+13478087338</td>\n",
       "      <td>$$</td>\n",
       "      <td>4.5</td>\n",
       "      <td>204</td>\n",
       "      <td>[delivery, restaurant_reservation, pickup]</td>\n",
       "      <td>https://www.yelp.com/biz/frescos-cantina-long-...</td>\n",
       "    </tr>\n",
       "    <tr>\n",
       "      <th>9</th>\n",
       "      <td>orale-mex-food-astoria</td>\n",
       "      <td>[{'alias': 'mexican', 'title': 'Mexican'}]</td>\n",
       "      <td>{'latitude': 40.770261, 'longitude': -73.918361}</td>\n",
       "      <td>(917) 396-1753</td>\n",
       "      <td>494.852946</td>\n",
       "      <td>4cVajR3KnJh7cK9u_TiBAQ</td>\n",
       "      <td>https://s3-media2.fl.yelpcdn.com/bphoto/qqQwbj...</td>\n",
       "      <td>False</td>\n",
       "      <td>{'address1': '30-19 Astoria Blvd', 'address2':...</td>\n",
       "      <td>Orale Mex Food</td>\n",
       "      <td>+19173961753</td>\n",
       "      <td>NaN</td>\n",
       "      <td>4.0</td>\n",
       "      <td>1</td>\n",
       "      <td>[delivery, pickup]</td>\n",
       "      <td>https://www.yelp.com/biz/orale-mex-food-astori...</td>\n",
       "    </tr>\n",
       "  </tbody>\n",
       "</table>\n",
       "</div>"
      ],
      "text/plain": [
       "                                         alias  \\\n",
       "0                       chanos-cantina-astoria   \n",
       "1                      de-mole-astoria-astoria   \n",
       "2                mi-espiguita-taqueria-astoria   \n",
       "3                   chela-and-garnacha-astoria   \n",
       "4                el-mero-mero-long-island-city   \n",
       "5  las-catrinas-mexican-bar-and-eatery-astoria   \n",
       "6                               tacuba-astoria   \n",
       "7  maizal-restaurant-and-tequila-bar-astoria-2   \n",
       "8             frescos-cantina-long-island-city   \n",
       "9                       orale-mex-food-astoria   \n",
       "\n",
       "                                          categories  \\\n",
       "0  [{'alias': 'cocktailbars', 'title': 'Cocktail ...   \n",
       "1         [{'alias': 'mexican', 'title': 'Mexican'}]   \n",
       "2         [{'alias': 'mexican', 'title': 'Mexican'}]   \n",
       "3  [{'alias': 'mexican', 'title': 'Mexican'}, {'a...   \n",
       "4         [{'alias': 'mexican', 'title': 'Mexican'}]   \n",
       "5  [{'alias': 'mexican', 'title': 'Mexican'}, {'a...   \n",
       "6  [{'alias': 'mexican', 'title': 'Mexican'}, {'a...   \n",
       "7  [{'alias': 'mexican', 'title': 'Mexican'}, {'a...   \n",
       "8  [{'alias': 'mexican', 'title': 'Mexican'}, {'a...   \n",
       "9         [{'alias': 'mexican', 'title': 'Mexican'}]   \n",
       "\n",
       "                                         coordinates   display_phone  \\\n",
       "0   {'latitude': 40.756621, 'longitude': -73.929336}  (917) 832-7261   \n",
       "1  {'latitude': 40.7625999, 'longitude': -73.9129...  (718) 777-1655   \n",
       "2  {'latitude': 40.7612033639422, 'longitude': -7...  (718) 777-5648   \n",
       "3  {'latitude': 40.7557171543477, 'longitude': -7...  (917) 832-6876   \n",
       "4  {'latitude': 40.753834323302, 'longitude': -73...  (718) 392-2444   \n",
       "5  {'latitude': 40.7614214682633, 'longitude': -7...  (917) 745-0969   \n",
       "6     {'latitude': 40.75585, 'longitude': -73.92447}  (718) 786-2727   \n",
       "7   {'latitude': 40.759331, 'longitude': -73.926035}  (718) 406-9431   \n",
       "8     {'latitude': 40.76837, 'longitude': -73.93303}  (347) 808-7338   \n",
       "9   {'latitude': 40.770261, 'longitude': -73.918361}  (917) 396-1753   \n",
       "\n",
       "      distance                      id  \\\n",
       "0  1290.427488  jeWIYbgBho9vBDhc5S1xvg   \n",
       "1   918.092772  jzVv_21473lAMYXIhVbuTA   \n",
       "2   714.301080  yvva7IYpD6J7OfKlCdQrkw   \n",
       "3  1318.326547  AUyKmFjpaVLwc3awfUnqgQ   \n",
       "4  1457.114073  anBWvFPOce4nl3qLX-H6Rg   \n",
       "5   642.525771  6AJwsgXr7YwsqneGVAdgzw   \n",
       "6  1229.351705  EHUNrnIgnhwTnpOm3gEESg   \n",
       "7   900.451091  QIsFsiOP3H_NkgeWST7GPA   \n",
       "8   927.218713  zNcDCPiUsE5aT6jyaCVtmA   \n",
       "9   494.852946  4cVajR3KnJh7cK9u_TiBAQ   \n",
       "\n",
       "                                           image_url  is_closed  \\\n",
       "0  https://s3-media1.fl.yelpcdn.com/bphoto/B34FXj...      False   \n",
       "1  https://s3-media1.fl.yelpcdn.com/bphoto/zZTTfd...      False   \n",
       "2  https://s3-media2.fl.yelpcdn.com/bphoto/TEho39...      False   \n",
       "3  https://s3-media1.fl.yelpcdn.com/bphoto/ChVbA1...      False   \n",
       "4  https://s3-media2.fl.yelpcdn.com/bphoto/7tp30k...      False   \n",
       "5  https://s3-media3.fl.yelpcdn.com/bphoto/3uevye...      False   \n",
       "6  https://s3-media4.fl.yelpcdn.com/bphoto/Q6jPz4...      False   \n",
       "7  https://s3-media3.fl.yelpcdn.com/bphoto/B2n1tz...      False   \n",
       "8  https://s3-media2.fl.yelpcdn.com/bphoto/3IdlTT...      False   \n",
       "9  https://s3-media2.fl.yelpcdn.com/bphoto/qqQwbj...      False   \n",
       "\n",
       "                                            location  \\\n",
       "0  {'address1': '35-55 31st', 'address2': '', 'ad...   \n",
       "1  {'address1': '4220 30th Ave', 'address2': '', ...   \n",
       "2  {'address1': '32-44 31st St', 'address2': '', ...   \n",
       "3  {'address1': '33-09 36th Ave', 'address2': '',...   \n",
       "4  {'address1': '35-57 38th St', 'address2': '', ...   \n",
       "5  {'address1': '32-02 Broadway', 'address2': '',...   \n",
       "6  {'address1': '35-01 36th St', 'address2': '', ...   \n",
       "7  {'address1': '3207 34th Ave', 'address2': None...   \n",
       "8  {'address1': '12-14 31st Ave', 'address2': Non...   \n",
       "9  {'address1': '30-19 Astoria Blvd', 'address2':...   \n",
       "\n",
       "                                name         phone price  rating  \\\n",
       "0                    Chano's Cantina  +19178327261    $$     4.0   \n",
       "1                    De Mole Astoria  +17187771655    $$     4.0   \n",
       "2              Mi Espiguita Taqueria  +17187775648     $     4.5   \n",
       "3                   Chela & Garnacha  +19178326876    $$     4.5   \n",
       "4                       El Mero Mero  +17183922444    $$     4.5   \n",
       "5  Las Catrinas Mexican Bar & Eatery  +19177450969    $$     4.0   \n",
       "6                             Tacuba  +17187862727    $$     3.5   \n",
       "7    Maizal Restaurant & Tequila Bar  +17184069431    $$     4.0   \n",
       "8                   Fresco's Cantina  +13478087338    $$     4.5   \n",
       "9                     Orale Mex Food  +19173961753   NaN     4.0   \n",
       "\n",
       "   review_count                                transactions  \\\n",
       "0           162  [restaurant_reservation, delivery, pickup]   \n",
       "1           360                          [delivery, pickup]   \n",
       "2           112                          [delivery, pickup]   \n",
       "3           363                          [delivery, pickup]   \n",
       "4            82                          [delivery, pickup]   \n",
       "5           302                          [delivery, pickup]   \n",
       "6           643                          [delivery, pickup]   \n",
       "7           293                          [delivery, pickup]   \n",
       "8           204  [delivery, restaurant_reservation, pickup]   \n",
       "9             1                          [delivery, pickup]   \n",
       "\n",
       "                                                 url  \n",
       "0  https://www.yelp.com/biz/chanos-cantina-astori...  \n",
       "1  https://www.yelp.com/biz/de-mole-astoria-astor...  \n",
       "2  https://www.yelp.com/biz/mi-espiguita-taqueria...  \n",
       "3  https://www.yelp.com/biz/chela-and-garnacha-as...  \n",
       "4  https://www.yelp.com/biz/el-mero-mero-long-isl...  \n",
       "5  https://www.yelp.com/biz/las-catrinas-mexican-...  \n",
       "6  https://www.yelp.com/biz/tacuba-astoria?adjust...  \n",
       "7  https://www.yelp.com/biz/maizal-restaurant-and...  \n",
       "8  https://www.yelp.com/biz/frescos-cantina-long-...  \n",
       "9  https://www.yelp.com/biz/orale-mex-food-astori...  "
      ]
     },
     "execution_count": 74,
     "metadata": {},
     "output_type": "execute_result"
    }
   ],
   "source": [
    "import pandas\n",
    "pandas.DataFrame(yelp_data['businesses'])"
   ]
  },
  {
   "cell_type": "markdown",
   "metadata": {},
   "source": [
    "## Summary <a id=\"sum\"></a>\n",
    "\n",
    "Congratulations! We've covered a lot here! We took some of your previous knowledge with HTTP requests and OAuth in order to leverage an enterprise API! Then we made some requests to retrieve information that came back as a json format. We then transformed this data into a dataframe using the Pandas package. In the next lab, we'll break down how to read API documentation and then put it all together to make a nifty map!"
   ]
  }
 ],
 "metadata": {
  "kernelspec": {
   "display_name": "Python 3",
   "language": "python",
   "name": "python3"
  },
  "language_info": {
   "codemirror_mode": {
    "name": "ipython",
    "version": 3
   },
   "file_extension": ".py",
   "mimetype": "text/x-python",
   "name": "python",
   "nbconvert_exporter": "python",
   "pygments_lexer": "ipython3",
   "version": "3.7.4"
  }
 },
 "nbformat": 4,
 "nbformat_minor": 2
}
